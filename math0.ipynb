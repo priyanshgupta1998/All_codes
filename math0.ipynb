{
  "nbformat": 4,
  "nbformat_minor": 0,
  "metadata": {
    "colab": {
      "name": "TensorFlow with GPU",
      "version": "0.3.2",
      "provenance": [],
      "collapsed_sections": [],
      "include_colab_link": true
    },
    "kernelspec": {
      "display_name": "Python 3",
      "name": "python3"
    }
  },
  "cells": [
    {
      "cell_type": "markdown",
      "metadata": {
        "id": "view-in-github",
        "colab_type": "text"
      },
      "source": [
        "<a href=\"https://colab.research.google.com/github/priyanshgupta1998/All_codes/blob/master/math0.ipynb\" target=\"_parent\"><img src=\"https://colab.research.google.com/assets/colab-badge.svg\" alt=\"Open In Colab\"/></a>"
      ]
    },
    {
      "metadata": {
        "id": "X413Rhfp2J7V",
        "colab_type": "code",
        "colab": {
          "base_uri": "https://localhost:8080/",
          "height": 51
        },
        "outputId": "69f1ac2c-eca8-4a1e-9c2a-2a4109f52c0c"
      },
      "cell_type": "code",
      "source": [
        "import string\n",
        "a=string.ascii_lowercase\n",
        "A=string.ascii_uppercase\n",
        "i=input()\n",
        "k=int(input())"
      ],
      "execution_count": 15,
      "outputs": [
        {
          "output_type": "stream",
          "text": [
            "All-convoYs-9-be:Alert1.\n",
            "4\n"
          ],
          "name": "stdout"
        }
      ]
    },
    {
      "metadata": {
        "id": "LcFJjro42lys",
        "colab_type": "code",
        "colab": {
          "base_uri": "https://localhost:8080/",
          "height": 51
        },
        "outputId": "52b875ed-cb68-417d-f12a-fc2dbc110143"
      },
      "cell_type": "code",
      "source": [
        "print(a)\n",
        "print(A)"
      ],
      "execution_count": 16,
      "outputs": [
        {
          "output_type": "stream",
          "text": [
            "abcdefghijklmnopqrstuvwxyz\n",
            "ABCDEFGHIJKLMNOPQRSTUVWXYZ\n"
          ],
          "name": "stdout"
        }
      ]
    },
    {
      "metadata": {
        "id": "mea28ZRX2J9s",
        "colab_type": "code",
        "colab": {
          "base_uri": "https://localhost:8080/",
          "height": 34
        },
        "outputId": "15d56e49-ac98-46ad-9008-9aa30943edb1"
      },
      "cell_type": "code",
      "source": [
        "for t in i:\n",
        "    b=a.find(t)\n",
        "    print(b , end = ' ')"
      ],
      "execution_count": 17,
      "outputs": [
        {
          "output_type": "stream",
          "text": [
            "-1 11 11 -1 2 14 13 21 14 -1 18 -1 -1 -1 1 4 -1 -1 11 4 17 19 -1 -1 "
          ],
          "name": "stdout"
        }
      ]
    },
    {
      "metadata": {
        "id": "bm36ko8z2KAh",
        "colab_type": "code",
        "colab": {
          "base_uri": "https://localhost:8080/",
          "height": 34
        },
        "outputId": "ac94af87-6a6f-4e18-8c08-e6d1899288c4"
      },
      "cell_type": "code",
      "source": [
        "for t in i:\n",
        "    B=A.find(t)\n",
        "    print(B , end=' ')"
      ],
      "execution_count": 19,
      "outputs": [
        {
          "output_type": "stream",
          "text": [
            "0 -1 -1 -1 -1 -1 -1 -1 -1 24 -1 -1 -1 -1 -1 -1 -1 0 -1 -1 -1 -1 -1 -1 "
          ],
          "name": "stdout"
        }
      ]
    },
    {
      "metadata": {
        "id": "JYTiHtOc2KC7",
        "colab_type": "code",
        "colab": {
          "base_uri": "https://localhost:8080/",
          "height": 34
        },
        "outputId": "ac5ca115-18e8-44dc-d846-e927e52ed02c"
      },
      "cell_type": "code",
      "source": [
        "for t in i:\n",
        "    if t.isdigit() :\n",
        "        print(str((int(t)+k)%10),end=\" \")"
      ],
      "execution_count": 21,
      "outputs": [
        {
          "output_type": "stream",
          "text": [
            "3 5 "
          ],
          "name": "stdout"
        }
      ]
    },
    {
      "metadata": {
        "id": "r0y70HJh2KFw",
        "colab_type": "code",
        "colab": {
          "base_uri": "https://localhost:8080/",
          "height": 34
        },
        "outputId": "d6edb52e-3ae1-43b1-abd2-c00c19550e21"
      },
      "cell_type": "code",
      "source": [
        "for t in i:\n",
        "    b=a.find(t)\n",
        "    B=A.find(t)\n",
        "    if b!=-1:\n",
        "        print(a[(b+k)%26],end=\" \")"
      ],
      "execution_count": 22,
      "outputs": [
        {
          "output_type": "stream",
          "text": [
            "p p g s r z s w f i p i v x "
          ],
          "name": "stdout"
        }
      ]
    },
    {
      "metadata": {
        "id": "PRc8KcZy5rWU",
        "colab_type": "code",
        "colab": {
          "base_uri": "https://localhost:8080/",
          "height": 34
        },
        "outputId": "dfa7346a-3b28-4c5d-b111-b3b3b3643eff"
      },
      "cell_type": "code",
      "source": [
        "for t in i:\n",
        "    b=a.find(t)\n",
        "    B=A.find(t)\n",
        "    if B!=-1:\n",
        "        print(A[(B+k)%26],end=\" \")"
      ],
      "execution_count": 23,
      "outputs": [
        {
          "output_type": "stream",
          "text": [
            "E C E "
          ],
          "name": "stdout"
        }
      ]
    },
    {
      "metadata": {
        "id": "caSgLej72KI2",
        "colab_type": "code",
        "colab": {
          "base_uri": "https://localhost:8080/",
          "height": 34
        },
        "outputId": "b7ea1af3-531d-4b5f-dae8-f0c0fc74a354"
      },
      "cell_type": "code",
      "source": [
        "\n",
        "for t in i:\n",
        "    b=a.find(t)\n",
        "    B=A.find(t)\n",
        "    if t.isdigit()==0 and B==-1 and b==-1:\n",
        "        print(t,end=\" \")"
      ],
      "execution_count": 28,
      "outputs": [
        {
          "output_type": "stream",
          "text": [
            "- - - : . "
          ],
          "name": "stdout"
        }
      ]
    },
    {
      "metadata": {
        "id": "01uWHKL02KK7",
        "colab_type": "code",
        "colab": {}
      },
      "cell_type": "code",
      "source": [
        ""
      ],
      "execution_count": 0,
      "outputs": []
    }
  ]
}