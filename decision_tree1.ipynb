{
  "nbformat": 4,
  "nbformat_minor": 0,
  "metadata": {
    "colab": {
      "name": "TensorFlow with GPU",
      "version": "0.3.2",
      "provenance": [],
      "collapsed_sections": [],
      "include_colab_link": true
    },
    "kernelspec": {
      "name": "python3",
      "display_name": "Python 3"
    },
    "accelerator": "GPU"
  },
  "cells": [
    {
      "cell_type": "markdown",
      "metadata": {
        "id": "view-in-github",
        "colab_type": "text"
      },
      "source": [
        "<a href=\"https://colab.research.google.com/github/priyanshgupta1998/All_codes/blob/master/decision_tree1.ipynb\" target=\"_parent\"><img src=\"https://colab.research.google.com/assets/colab-badge.svg\" alt=\"Open In Colab\"/></a>"
      ]
    },
    {
      "metadata": {
        "id": "gqdakoeZTes6",
        "colab_type": "code",
        "colab": {}
      },
      "cell_type": "code",
      "source": [
        "import numpy as np\n",
        "import pandas as pd\n",
        "from sklearn.model_selection import train_test_split\n",
        "from sklearn.tree import DecisionTreeClassifier\n",
        "from sklearn.metrics import accuracy_score\n",
        "from sklearn import tree"
      ],
      "execution_count": 0,
      "outputs": []
    },
    {
      "metadata": {
        "id": "uTss2pEiTevL",
        "colab_type": "code",
        "colab": {
          "base_uri": "https://localhost:8080/",
          "height": 306
        },
        "outputId": "1bb6ab2e-e354-49e5-9bec-00655fdf154a"
      },
      "cell_type": "code",
      "source": [
        "#loding data file\n",
        "data_load = pd.read_csv('/home/loans.csv')\n",
        "print(data_load[0:4])"
      ],
      "execution_count": 11,
      "outputs": [
        {
          "output_type": "stream",
          "text": [
            "   credit.policy             purpose  int.rate  installment  log.annual.inc  \\\n",
            "0              1  debt_consolidation    0.1189       829.10       11.350407   \n",
            "1              1         credit_card    0.1071       228.22       11.082143   \n",
            "2              1  debt_consolidation    0.1357       366.86       10.373491   \n",
            "3              1  debt_consolidation    0.1008       162.34       11.350407   \n",
            "\n",
            "     dti  fico  days.with.cr.line  revol.bal  revol.util  inq.last.6mths  \\\n",
            "0  19.48   737        5639.958333      28854        52.1             0.0   \n",
            "1  14.29   707        2760.000000      33623        76.7             0.0   \n",
            "2  11.63   682        4710.000000       3511        25.6             1.0   \n",
            "3   8.10   712        2699.958333      33667        73.2             1.0   \n",
            "\n",
            "   delinq.2yrs  pub.rec  not.fully.paid  \n",
            "0          0.0      0.0               0  \n",
            "1          0.0      0.0               0  \n",
            "2          0.0      0.0               0  \n",
            "3          0.0      0.0               0  \n"
          ],
          "name": "stdout"
        }
      ]
    },
    {
      "metadata": {
        "id": "CexwpnzSTexd",
        "colab_type": "code",
        "colab": {
          "base_uri": "https://localhost:8080/",
          "height": 306
        },
        "outputId": "dfbdb0a9-403d-475f-842b-bdb8d272a5fb"
      },
      "cell_type": "code",
      "source": [
        "balanced_data =  pd.read_csv('/home/loans.csv' , sep=',' , header = 0 )\n",
        "print(balanced_data[0:4])"
      ],
      "execution_count": 7,
      "outputs": [
        {
          "output_type": "stream",
          "text": [
            "   credit.policy             purpose  int.rate  installment  log.annual.inc  \\\n",
            "0              1  debt_consolidation    0.1189       829.10       11.350407   \n",
            "1              1         credit_card    0.1071       228.22       11.082143   \n",
            "2              1  debt_consolidation    0.1357       366.86       10.373491   \n",
            "3              1  debt_consolidation    0.1008       162.34       11.350407   \n",
            "\n",
            "     dti  fico  days.with.cr.line  revol.bal  revol.util  inq.last.6mths  \\\n",
            "0  19.48   737        5639.958333      28854        52.1             0.0   \n",
            "1  14.29   707        2760.000000      33623        76.7             0.0   \n",
            "2  11.63   682        4710.000000       3511        25.6             1.0   \n",
            "3   8.10   712        2699.958333      33667        73.2             1.0   \n",
            "\n",
            "   delinq.2yrs  pub.rec  not.fully.paid  \n",
            "0          0.0      0.0               0  \n",
            "1          0.0      0.0               0  \n",
            "2          0.0      0.0               0  \n",
            "3          0.0      0.0               0  \n"
          ],
          "name": "stdout"
        }
      ]
    },
    {
      "metadata": {
        "id": "vD5IrR2RViGE",
        "colab_type": "code",
        "colab": {
          "base_uri": "https://localhost:8080/",
          "height": 34
        },
        "outputId": "37af05a8-a37a-4944-81fe-0a7d32b263ac"
      },
      "cell_type": "code",
      "source": [
        "print(\"dataset_length : \",len(balanced_data))"
      ],
      "execution_count": 8,
      "outputs": [
        {
          "output_type": "stream",
          "text": [
            "dataset_length :  9578\n"
          ],
          "name": "stdout"
        }
      ]
    },
    {
      "metadata": {
        "id": "TMaczI7XViJc",
        "colab_type": "code",
        "colab": {
          "base_uri": "https://localhost:8080/",
          "height": 34
        },
        "outputId": "a4f988ca-ced1-4d81-9246-e3261dacbacf"
      },
      "cell_type": "code",
      "source": [
        "print(\"shape of dataset: \",balanced_data.shape)"
      ],
      "execution_count": 9,
      "outputs": [
        {
          "output_type": "stream",
          "text": [
            "shape of dataset:  (9578, 14)\n"
          ],
          "name": "stdout"
        }
      ]
    },
    {
      "metadata": {
        "id": "Oa-QD2UuViMd",
        "colab_type": "code",
        "colab": {
          "base_uri": "https://localhost:8080/",
          "height": 85
        },
        "outputId": "0f1ad4d4-7811-45e9-ec37-3615c4caf75a"
      },
      "cell_type": "code",
      "source": [
        "x=balanced_data.values[0:4,0:4]\n",
        "print(x)"
      ],
      "execution_count": 19,
      "outputs": [
        {
          "output_type": "stream",
          "text": [
            "[[1 'debt_consolidation' 0.1189 829.1]\n",
            " [1 'credit_card' 0.1071 228.22]\n",
            " [1 'debt_consolidation' 0.1357 366.86]\n",
            " [1 'debt_consolidation' 0.1008 162.34]]\n"
          ],
          "name": "stdout"
        }
      ]
    },
    {
      "metadata": {
        "id": "4zWVMoi-ViD0",
        "colab_type": "code",
        "colab": {
          "base_uri": "https://localhost:8080/",
          "height": 34
        },
        "outputId": "56eac409-f755-4dc9-c973-04da83aebd68"
      },
      "cell_type": "code",
      "source": [
        "x=balanced_data.values[0:4,3]\n",
        "print(x)"
      ],
      "execution_count": 18,
      "outputs": [
        {
          "output_type": "stream",
          "text": [
            "[829.1 228.22 366.86 162.34]\n"
          ],
          "name": "stdout"
        }
      ]
    },
    {
      "metadata": {
        "id": "u3noNMiVYh9j",
        "colab_type": "code",
        "colab": {
          "base_uri": "https://localhost:8080/",
          "height": 136
        },
        "outputId": "f5098094-c574-420b-ec9d-195dbdc4ded8"
      },
      "cell_type": "code",
      "source": [
        "#seperating the Target variable\n",
        "X=balanced_data.values[:,2:4]\n",
        "print(X)"
      ],
      "execution_count": 151,
      "outputs": [
        {
          "output_type": "stream",
          "text": [
            "[[0.1189 829.1]\n",
            " [0.1071 228.22]\n",
            " [0.1357 366.86]\n",
            " ...\n",
            " [0.1071 97.81]\n",
            " [0.16 351.58]\n",
            " [0.1392 853.43]]\n"
          ],
          "name": "stdout"
        }
      ]
    },
    {
      "metadata": {
        "id": "n0spP3vFYiBt",
        "colab_type": "code",
        "colab": {
          "base_uri": "https://localhost:8080/",
          "height": 34
        },
        "outputId": "2da8e304-8293-4b84-dd77-d5cc19e10e6b"
      },
      "cell_type": "code",
      "source": [
        "#seperating the Target variable\n",
        "Y=balanced_data.values[:,0]\n",
        "Y=Y.astype('int')  # define the data type of 'classifier / output / predicted_value'\n",
        "print(Y)"
      ],
      "execution_count": 152,
      "outputs": [
        {
          "output_type": "stream",
          "text": [
            "[1 1 1 ... 0 0 0]\n"
          ],
          "name": "stdout"
        }
      ]
    },
    {
      "metadata": {
        "id": "cIhFaUsYYiEz",
        "colab_type": "code",
        "colab": {}
      },
      "cell_type": "code",
      "source": [
        "#Spliting dataset into Test and Train\n",
        "#Build a decision tree\n",
        "X_train , X_test , Y_train , Y_test = train_test_split(X,Y, test_size=0.3 , random_state=100)"
      ],
      "execution_count": 0,
      "outputs": []
    },
    {
      "metadata": {
        "id": "Bhib0INiaLpF",
        "colab_type": "code",
        "colab": {
          "base_uri": "https://localhost:8080/",
          "height": 102
        },
        "outputId": "617e3ec4-2091-47bb-edc1-50e71283b445"
      },
      "cell_type": "code",
      "source": [
        "print(X_train[0:5])"
      ],
      "execution_count": 154,
      "outputs": [
        {
          "output_type": "stream",
          "text": [
            "[[0.1189 49.75]\n",
            " [0.0976 305.47]\n",
            " [0.1411 171.15]\n",
            " [0.1126 312.21]\n",
            " [0.0894 285.95]]\n"
          ],
          "name": "stdout"
        }
      ]
    },
    {
      "metadata": {
        "id": "d2GWUO5Gag-N",
        "colab_type": "code",
        "colab": {
          "base_uri": "https://localhost:8080/",
          "height": 119
        },
        "outputId": "e88bbba9-a42e-4a78-c136-28334b38cf36"
      },
      "cell_type": "code",
      "source": [
        "\n",
        "#Function to perform training with entropy\n",
        "clf_entropy = DecisionTreeClassifier(criterion = 'entropy' , random_state=100,\n",
        "                                    max_depth=3,min_samples_leaf = 5)\n",
        "print(clf_entropy)"
      ],
      "execution_count": 155,
      "outputs": [
        {
          "output_type": "stream",
          "text": [
            "DecisionTreeClassifier(class_weight=None, criterion='entropy', max_depth=3,\n",
            "            max_features=None, max_leaf_nodes=None,\n",
            "            min_impurity_decrease=0.0, min_impurity_split=None,\n",
            "            min_samples_leaf=5, min_samples_split=2,\n",
            "            min_weight_fraction_leaf=0.0, presort=False, random_state=100,\n",
            "            splitter='best')\n"
          ],
          "name": "stdout"
        }
      ]
    },
    {
      "metadata": {
        "id": "fTd7ubIBYiM8",
        "colab_type": "code",
        "colab": {
          "base_uri": "https://localhost:8080/",
          "height": 119
        },
        "outputId": "1a6f32f0-bfce-41be-cb0b-24cceea39677"
      },
      "cell_type": "code",
      "source": [
        "clf_entropy.fit(X_train , Y_train  )"
      ],
      "execution_count": 156,
      "outputs": [
        {
          "output_type": "execute_result",
          "data": {
            "text/plain": [
              "DecisionTreeClassifier(class_weight=None, criterion='entropy', max_depth=3,\n",
              "            max_features=None, max_leaf_nodes=None,\n",
              "            min_impurity_decrease=0.0, min_impurity_split=None,\n",
              "            min_samples_leaf=5, min_samples_split=2,\n",
              "            min_weight_fraction_leaf=0.0, presort=False, random_state=100,\n",
              "            splitter='best')"
            ]
          },
          "metadata": {
            "tags": []
          },
          "execution_count": 156
        }
      ]
    },
    {
      "metadata": {
        "id": "fToWXD51YiS3",
        "colab_type": "code",
        "colab": {
          "base_uri": "https://localhost:8080/",
          "height": 34
        },
        "outputId": "a5d158e7-8d93-48de-b3a4-ce8de79c71f9"
      },
      "cell_type": "code",
      "source": [
        "#Function_to_make_predictions\n",
        "y_pred_en = clf_entropy.predict(X_test)\n",
        "print(y_pred_en)"
      ],
      "execution_count": 157,
      "outputs": [
        {
          "output_type": "stream",
          "text": [
            "[1 1 1 ... 1 1 1]\n"
          ],
          "name": "stdout"
        }
      ]
    },
    {
      "metadata": {
        "id": "R-vPkkUvYiRE",
        "colab_type": "code",
        "colab": {
          "base_uri": "https://localhost:8080/",
          "height": 34
        },
        "outputId": "0b05938d-71b4-4858-b6a8-0245372d9d96"
      },
      "cell_type": "code",
      "source": [
        "#Checking Accuracy\n",
        "print(accuracy_score(Y_test , y_pred_en))"
      ],
      "execution_count": 158,
      "outputs": [
        {
          "output_type": "stream",
          "text": [
            "0.8051496172581768\n"
          ],
          "name": "stdout"
        }
      ]
    },
    {
      "metadata": {
        "id": "hDBnyuoXYiPV",
        "colab_type": "code",
        "colab": {
          "base_uri": "https://localhost:8080/",
          "height": 34
        },
        "outputId": "84373122-d43b-49f9-ec55-19b97f24c139"
      },
      "cell_type": "code",
      "source": [
        "print(accuracy_score(Y_test , y_pred_en)*100)"
      ],
      "execution_count": 159,
      "outputs": [
        {
          "output_type": "stream",
          "text": [
            "80.51496172581768\n"
          ],
          "name": "stdout"
        }
      ]
    }
  ]
}