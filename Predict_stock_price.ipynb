{
  "nbformat": 4,
  "nbformat_minor": 0,
  "metadata": {
    "colab": {
      "name": "TensorFlow with GPU",
      "version": "0.3.2",
      "provenance": [],
      "collapsed_sections": [],
      "include_colab_link": true
    },
    "kernelspec": {
      "name": "python3",
      "display_name": "Python 3"
    },
    "accelerator": "TPU"
  },
  "cells": [
    {
      "cell_type": "markdown",
      "metadata": {
        "id": "view-in-github",
        "colab_type": "text"
      },
      "source": [
        "<a href=\"https://colab.research.google.com/github/priyanshgupta1998/All_codes/blob/master/Predict_stock_price.ipynb\" target=\"_parent\"><img src=\"https://colab.research.google.com/assets/colab-badge.svg\" alt=\"Open In Colab\"/></a>"
      ]
    },
    {
      "cell_type": "code",
      "metadata": {
        "id": "ZjhzYbsYI71F",
        "colab_type": "code",
        "colab": {}
      },
      "source": [
        "import numpy as np # linear algebra\n",
        "import pandas as pd # data processing, CSV file I/O (e.g. pd.read_csv)\n",
        "\n",
        "from subprocess import check_output\n",
        "from keras.layers.core import Dense, Activation, Dropout\n",
        "from keras.layers.recurrent import LSTM\n",
        "from keras.models import Sequential\n",
        "from sklearn.model_selection import  train_test_split\n",
        "import time #helper libraries\n",
        "from sklearn.preprocessing import MinMaxScaler\n",
        "import matplotlib.pyplot as plt\n",
        "from numpy import newaxis"
      ],
      "execution_count": 0,
      "outputs": []
    },
    {
      "cell_type": "code",
      "metadata": {
        "id": "tYDpWp7XPcqS",
        "colab_type": "code",
        "colab": {
          "resources": {
            "http://localhost:8080/nbextensions/google.colab/files.js": {
              "data": "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",
              "ok": true,
              "headers": [
                [
                  "content-type",
                  "application/javascript"
                ]
              ],
              "status": 200,
              "status_text": ""
            }
          },
          "base_uri": "https://localhost:8080/",
          "height": 74
        },
        "outputId": "daea195a-f510-4d6d-9b36-06d22b51c112"
      },
      "source": [
        "from google.colab import files\n",
        "files.upload()\n",
        "!pip install -q kaggle\n",
        "!mkdir -p ~/.kaggle\n",
        "!cp kaggle.json ~/.kaggle/\n",
        "\n",
        "# This permissions change avoids a warning on Kaggle tool startup.\n",
        "!chmod 600 ~/.kaggle/kaggle.json"
      ],
      "execution_count": 3,
      "outputs": [
        {
          "output_type": "display_data",
          "data": {
            "text/html": [
              "\n",
              "     <input type=\"file\" id=\"files-cae81069-10d8-46e9-9aa5-fda65ebef590\" name=\"files[]\" multiple disabled />\n",
              "     <output id=\"result-cae81069-10d8-46e9-9aa5-fda65ebef590\">\n",
              "      Upload widget is only available when the cell has been executed in the\n",
              "      current browser session. Please rerun this cell to enable.\n",
              "      </output>\n",
              "      <script src=\"/nbextensions/google.colab/files.js\"></script> "
            ],
            "text/plain": [
              "<IPython.core.display.HTML object>"
            ]
          },
          "metadata": {
            "tags": []
          }
        },
        {
          "output_type": "stream",
          "text": [
            "Saving kaggle.json to kaggle.json\n"
          ],
          "name": "stdout"
        }
      ]
    },
    {
      "cell_type": "code",
      "metadata": {
        "id": "6dr35-ozOuIe",
        "colab_type": "code",
        "colab": {
          "base_uri": "https://localhost:8080/",
          "height": 70
        },
        "outputId": "8b03df72-b7cc-4c5c-e12e-0a4be5767690"
      },
      "source": [
        "!kaggle datasets download -d dgawlik/nyse"
      ],
      "execution_count": 5,
      "outputs": [
        {
          "output_type": "stream",
          "text": [
            "Downloading nyse.zip to /content\n",
            " 76% 25.0M/32.8M [00:00<00:00, 50.2MB/s]\n",
            "100% 32.8M/32.8M [00:00<00:00, 109MB/s] \n"
          ],
          "name": "stdout"
        }
      ]
    },
    {
      "cell_type": "code",
      "metadata": {
        "id": "ziPqAKSiP9xF",
        "colab_type": "code",
        "colab": {
          "base_uri": "https://localhost:8080/",
          "height": 105
        },
        "outputId": "3ddfc089-f980-40ee-9149-bc0f6df8f294"
      },
      "source": [
        "!unzip nyse.zip"
      ],
      "execution_count": 6,
      "outputs": [
        {
          "output_type": "stream",
          "text": [
            "Archive:  nyse.zip\n",
            "  inflating: fundamentals.csv        \n",
            "  inflating: prices-split-adjusted.csv  \n",
            "  inflating: prices.csv              \n",
            "  inflating: securities.csv          \n"
          ],
          "name": "stdout"
        }
      ]
    },
    {
      "cell_type": "code",
      "metadata": {
        "id": "BYJBhHe-I73b",
        "colab_type": "code",
        "colab": {
          "base_uri": "https://localhost:8080/",
          "height": 215
        },
        "outputId": "d5bc6474-7da1-4eae-f6b6-f01be5dfe303"
      },
      "source": [
        "prices_dataset =  pd.read_csv('prices.csv', header=0)\n",
        "print(prices_dataset.shape)\n",
        "prices_dataset.head()"
      ],
      "execution_count": 7,
      "outputs": [
        {
          "output_type": "stream",
          "text": [
            "(851264, 7)\n"
          ],
          "name": "stdout"
        },
        {
          "output_type": "execute_result",
          "data": {
            "text/html": [
              "<div>\n",
              "<style scoped>\n",
              "    .dataframe tbody tr th:only-of-type {\n",
              "        vertical-align: middle;\n",
              "    }\n",
              "\n",
              "    .dataframe tbody tr th {\n",
              "        vertical-align: top;\n",
              "    }\n",
              "\n",
              "    .dataframe thead th {\n",
              "        text-align: right;\n",
              "    }\n",
              "</style>\n",
              "<table border=\"1\" class=\"dataframe\">\n",
              "  <thead>\n",
              "    <tr style=\"text-align: right;\">\n",
              "      <th></th>\n",
              "      <th>date</th>\n",
              "      <th>symbol</th>\n",
              "      <th>open</th>\n",
              "      <th>close</th>\n",
              "      <th>low</th>\n",
              "      <th>high</th>\n",
              "      <th>volume</th>\n",
              "    </tr>\n",
              "  </thead>\n",
              "  <tbody>\n",
              "    <tr>\n",
              "      <th>0</th>\n",
              "      <td>2016-01-05 00:00:00</td>\n",
              "      <td>WLTW</td>\n",
              "      <td>123.430000</td>\n",
              "      <td>125.839996</td>\n",
              "      <td>122.309998</td>\n",
              "      <td>126.250000</td>\n",
              "      <td>2163600.0</td>\n",
              "    </tr>\n",
              "    <tr>\n",
              "      <th>1</th>\n",
              "      <td>2016-01-06 00:00:00</td>\n",
              "      <td>WLTW</td>\n",
              "      <td>125.239998</td>\n",
              "      <td>119.980003</td>\n",
              "      <td>119.940002</td>\n",
              "      <td>125.540001</td>\n",
              "      <td>2386400.0</td>\n",
              "    </tr>\n",
              "    <tr>\n",
              "      <th>2</th>\n",
              "      <td>2016-01-07 00:00:00</td>\n",
              "      <td>WLTW</td>\n",
              "      <td>116.379997</td>\n",
              "      <td>114.949997</td>\n",
              "      <td>114.930000</td>\n",
              "      <td>119.739998</td>\n",
              "      <td>2489500.0</td>\n",
              "    </tr>\n",
              "    <tr>\n",
              "      <th>3</th>\n",
              "      <td>2016-01-08 00:00:00</td>\n",
              "      <td>WLTW</td>\n",
              "      <td>115.480003</td>\n",
              "      <td>116.620003</td>\n",
              "      <td>113.500000</td>\n",
              "      <td>117.440002</td>\n",
              "      <td>2006300.0</td>\n",
              "    </tr>\n",
              "    <tr>\n",
              "      <th>4</th>\n",
              "      <td>2016-01-11 00:00:00</td>\n",
              "      <td>WLTW</td>\n",
              "      <td>117.010002</td>\n",
              "      <td>114.970001</td>\n",
              "      <td>114.089996</td>\n",
              "      <td>117.330002</td>\n",
              "      <td>1408600.0</td>\n",
              "    </tr>\n",
              "  </tbody>\n",
              "</table>\n",
              "</div>"
            ],
            "text/plain": [
              "                  date symbol        open  ...         low        high     volume\n",
              "0  2016-01-05 00:00:00   WLTW  123.430000  ...  122.309998  126.250000  2163600.0\n",
              "1  2016-01-06 00:00:00   WLTW  125.239998  ...  119.940002  125.540001  2386400.0\n",
              "2  2016-01-07 00:00:00   WLTW  116.379997  ...  114.930000  119.739998  2489500.0\n",
              "3  2016-01-08 00:00:00   WLTW  115.480003  ...  113.500000  117.440002  2006300.0\n",
              "4  2016-01-11 00:00:00   WLTW  117.010002  ...  114.089996  117.330002  1408600.0\n",
              "\n",
              "[5 rows x 7 columns]"
            ]
          },
          "metadata": {
            "tags": []
          },
          "execution_count": 7
        }
      ]
    },
    {
      "cell_type": "code",
      "metadata": {
        "id": "FHVKuWUrI76g",
        "colab_type": "code",
        "colab": {
          "base_uri": "https://localhost:8080/",
          "height": 230
        },
        "outputId": "70f51556-d71c-4d3a-8249-c8b5bb5dd4d0"
      },
      "source": [
        "prices_dataset.info()"
      ],
      "execution_count": 8,
      "outputs": [
        {
          "output_type": "stream",
          "text": [
            "<class 'pandas.core.frame.DataFrame'>\n",
            "RangeIndex: 851264 entries, 0 to 851263\n",
            "Data columns (total 7 columns):\n",
            "date      851264 non-null object\n",
            "symbol    851264 non-null object\n",
            "open      851264 non-null float64\n",
            "close     851264 non-null float64\n",
            "low       851264 non-null float64\n",
            "high      851264 non-null float64\n",
            "volume    851264 non-null float64\n",
            "dtypes: float64(5), object(2)\n",
            "memory usage: 45.5+ MB\n"
          ],
          "name": "stdout"
        }
      ]
    },
    {
      "cell_type": "code",
      "metadata": {
        "id": "QpqOnkXXQScN",
        "colab_type": "code",
        "colab": {
          "base_uri": "https://localhost:8080/",
          "height": 887
        },
        "outputId": "9d458342-4cca-4b12-ee43-d0710a01c474"
      },
      "source": [
        "print(prices_dataset['symbol'].nunique() , prices_dataset['symbol'].unique())\n",
        "prices_dataset['symbol'].value_counts().head()"
      ],
      "execution_count": 12,
      "outputs": [
        {
          "output_type": "stream",
          "text": [
            "501 ['WLTW' 'A' 'AAL' 'AAP' 'AAPL' 'ABC' 'ABT' 'ACN' 'ADBE' 'ADI' 'ADM' 'ADP'\n",
            " 'ADS' 'ADSK' 'AEE' 'AEP' 'AES' 'AET' 'AFL' 'AGN' 'AIG' 'AIZ' 'AJG' 'AKAM'\n",
            " 'ALB' 'ALK' 'ALL' 'ALXN' 'AMAT' 'AME' 'AMG' 'AMGN' 'AMP' 'AMT' 'AMZN'\n",
            " 'AN' 'ANTM' 'AON' 'APA' 'APC' 'APD' 'APH' 'ARNC' 'ATVI' 'AVB' 'AVGO'\n",
            " 'AVY' 'AWK' 'AXP' 'AYI' 'AZO' 'BA' 'BAC' 'BAX' 'BBBY' 'BBT' 'BBY' 'BCR'\n",
            " 'BDX' 'BEN' 'BHI' 'BIIB' 'BK' 'BLK' 'BLL' 'BMY' 'BSX' 'BWA' 'BXP' 'C'\n",
            " 'CA' 'CAG' 'CAH' 'CAT' 'CB' 'CBG' 'CBS' 'CCI' 'CCL' 'CELG' 'CERN' 'CF'\n",
            " 'CHD' 'CHK' 'CHRW' 'CI' 'CINF' 'CL' 'CLX' 'CMA' 'CMCSA' 'CME' 'CMG' 'CMI'\n",
            " 'CMS' 'CNC' 'CNP' 'COF' 'COG' 'COH' 'COL' 'COO' 'COP' 'COST' 'CPB' 'CRM'\n",
            " 'CSCO' 'CSX' 'CTAS' 'CTL' 'CTSH' 'CTXS' 'CVS' 'CVX' 'CXO' 'D' 'DAL' 'DD'\n",
            " 'DE' 'DFS' 'DG' 'DGX' 'DHI' 'DHR' 'DIS' 'DISCA' 'DISCK' 'DLR' 'DLTR'\n",
            " 'DNB' 'DOV' 'DOW' 'DPS' 'DRI' 'DTE' 'DUK' 'DVA' 'DVN' 'EA' 'EBAY' 'ECL'\n",
            " 'ED' 'EFX' 'EIX' 'EL' 'EMN' 'EMR' 'ENDP' 'EOG' 'EQIX' 'EQR' 'EQT' 'ES'\n",
            " 'ESRX' 'ESS' 'ETFC' 'ETN' 'ETR' 'EW' 'EXC' 'EXPD' 'EXPE' 'EXR' 'F' 'FAST'\n",
            " 'FCX' 'FDX' 'FE' 'FFIV' 'FIS' 'FISV' 'FITB' 'FL' 'FLIR' 'FLR' 'FLS' 'FMC'\n",
            " 'FOX' 'FOXA' 'FRT' 'FSLR' 'FTI' 'FTR' 'GD' 'GE' 'GGP' 'GILD' 'GIS' 'GLW'\n",
            " 'GOOG' 'GOOGL' 'GPC' 'GPN' 'GPS' 'GRMN' 'GS' 'GT' 'GWW' 'HAL' 'HAR' 'HAS'\n",
            " 'HBAN' 'HBI' 'HCN' 'HCP' 'HD' 'HES' 'HIG' 'HOG' 'HOLX' 'HON' 'HP' 'HPQ'\n",
            " 'HRB' 'HRL' 'HRS' 'HSIC' 'HST' 'HSY' 'HUM' 'IBM' 'ICE' 'IDXX' 'IFF'\n",
            " 'ILMN' 'INTC' 'INTU' 'IP' 'IPG' 'IR' 'IRM' 'ISRG' 'ITW' 'IVZ' 'JBHT'\n",
            " 'JCI' 'JEC' 'JNJ' 'JNPR' 'JPM' 'JWN' 'K' 'KEY' 'KIM' 'KLAC' 'KMB' 'KMX'\n",
            " 'KO' 'KR' 'KSS' 'KSU' 'L' 'LB' 'LEG' 'LEN' 'LH' 'LKQ' 'LLL' 'LLTC' 'LLY'\n",
            " 'LMT' 'LNC' 'LNT' 'LOW' 'LRCX' 'LUK' 'LUV' 'LVLT' 'M' 'MA' 'MAA' 'MAC'\n",
            " 'MAR' 'MAS' 'MAT' 'MCD' 'MCHP' 'MCK' 'MCO' 'MDLZ' 'MDT' 'MET' 'MHK' 'MJN'\n",
            " 'MKC' 'MLM' 'MMC' 'MMM' 'MNST' 'MO' 'MON' 'MOS' 'MRK' 'MRO' 'MSFT' 'MSI'\n",
            " 'MTB' 'MTD' 'MU' 'MUR' 'MYL' 'NBL' 'NDAQ' 'NEE' 'NEM' 'NFLX' 'NFX' 'NI'\n",
            " 'NKE' 'NOC' 'NOV' 'NRG' 'NSC' 'NTAP' 'NTRS' 'NUE' 'NVDA' 'NWL' 'O' 'OKE'\n",
            " 'OMC' 'ORCL' 'ORLY' 'OXY' 'PAYX' 'PBCT' 'PBI' 'PCAR' 'PCG' 'PCLN' 'PDCO'\n",
            " 'PEG' 'PEP' 'PFE' 'PFG' 'PG' 'PGR' 'PH' 'PHM' 'PKI' 'PLD' 'PM' 'PNC'\n",
            " 'PNR' 'PNW' 'PPG' 'PPL' 'PRGO' 'PRU' 'PSA' 'PVH' 'PWR' 'PX' 'PXD' 'QCOM'\n",
            " 'R' 'RAI' 'RCL' 'REGN' 'RF' 'RHI' 'RHT' 'RIG' 'RL' 'ROK' 'ROP' 'ROST'\n",
            " 'RRC' 'RSG' 'RTN' 'SBUX' 'SCG' 'SCHW' 'SE' 'SEE' 'SHW' 'SIG' 'SJM' 'SLB'\n",
            " 'SLG' 'SNA' 'SNI' 'SO' 'SPG' 'SPGI' 'SPLS' 'SRCL' 'SRE' 'STI' 'STT' 'STX'\n",
            " 'STZ' 'SWK' 'SWKS' 'SWN' 'SYK' 'SYMC' 'SYY' 'T' 'TAP' 'TDC' 'TEL' 'TGNA'\n",
            " 'TGT' 'TIF' 'TJX' 'TMK' 'TMO' 'TROW' 'TRV' 'TSCO' 'TSN' 'TSO' 'TSS' 'TWX'\n",
            " 'TXN' 'TXT' 'UAA' 'UAL' 'UDR' 'UHS' 'ULTA' 'UNH' 'UNM' 'UNP' 'UPS' 'URBN'\n",
            " 'URI' 'USB' 'UTX' 'V' 'VAR' 'VFC' 'VIAB' 'VLO' 'VMC' 'VNO' 'VRSK' 'VRSN'\n",
            " 'VRTX' 'VTR' 'VZ' 'WAT' 'WBA' 'WDC' 'WEC' 'WFC' 'WFM' 'WHR' 'WM' 'WMB'\n",
            " 'WMT' 'WU' 'WY' 'WYN' 'WYNN' 'XEC' 'XEL' 'XL' 'XLNX' 'XOM' 'XRAY' 'XRX'\n",
            " 'YHOO' 'YUM' 'ZBH' 'ZION' 'AIV' 'CHTR' 'LYB' 'GM' 'ABBV' 'DLPH' 'FB'\n",
            " 'FBHS' 'HCA' 'KMI' 'KORS' 'MPC' 'NLSN' 'PSX' 'TDG' 'TRIP' 'XYL' 'ZTS'\n",
            " 'COTY' 'MNK' 'NWS' 'NWSA' 'EVHC' 'ALLE' 'CFG' 'NAVI' 'QRVO' 'SYF' 'WRK'\n",
            " 'KHC' 'PYPL' 'HPE' 'CSRA' 'FTV']\n"
          ],
          "name": "stdout"
        },
        {
          "output_type": "execute_result",
          "data": {
            "text/plain": [
              "C       1762\n",
              "UHS     1762\n",
              "NBL     1762\n",
              "WYN     1762\n",
              "AMZN    1762\n",
              "Name: symbol, dtype: int64"
            ]
          },
          "metadata": {
            "tags": []
          },
          "execution_count": 12
        }
      ]
    },
    {
      "cell_type": "code",
      "metadata": {
        "id": "TOGjfHEnI_5M",
        "colab_type": "code",
        "colab": {
          "base_uri": "https://localhost:8080/",
          "height": 215
        },
        "outputId": "6fc4678a-cde7-4a50-fa5d-ec547fdc78e4"
      },
      "source": [
        "yahoo = prices_dataset[prices_dataset['symbol']=='YHOO']\n",
        "print(yahoo.shape)\n",
        "yahoo.head()"
      ],
      "execution_count": 13,
      "outputs": [
        {
          "output_type": "stream",
          "text": [
            "(1762, 7)\n"
          ],
          "name": "stdout"
        },
        {
          "output_type": "execute_result",
          "data": {
            "text/html": [
              "<div>\n",
              "<style scoped>\n",
              "    .dataframe tbody tr th:only-of-type {\n",
              "        vertical-align: middle;\n",
              "    }\n",
              "\n",
              "    .dataframe tbody tr th {\n",
              "        vertical-align: top;\n",
              "    }\n",
              "\n",
              "    .dataframe thead th {\n",
              "        text-align: right;\n",
              "    }\n",
              "</style>\n",
              "<table border=\"1\" class=\"dataframe\">\n",
              "  <thead>\n",
              "    <tr style=\"text-align: right;\">\n",
              "      <th></th>\n",
              "      <th>date</th>\n",
              "      <th>symbol</th>\n",
              "      <th>open</th>\n",
              "      <th>close</th>\n",
              "      <th>low</th>\n",
              "      <th>high</th>\n",
              "      <th>volume</th>\n",
              "    </tr>\n",
              "  </thead>\n",
              "  <tbody>\n",
              "    <tr>\n",
              "      <th>713</th>\n",
              "      <td>2010-01-04</td>\n",
              "      <td>YHOO</td>\n",
              "      <td>16.940001</td>\n",
              "      <td>17.100000</td>\n",
              "      <td>16.879999</td>\n",
              "      <td>17.200001</td>\n",
              "      <td>16587400.0</td>\n",
              "    </tr>\n",
              "    <tr>\n",
              "      <th>1181</th>\n",
              "      <td>2010-01-05</td>\n",
              "      <td>YHOO</td>\n",
              "      <td>17.219999</td>\n",
              "      <td>17.230000</td>\n",
              "      <td>17.000000</td>\n",
              "      <td>17.230000</td>\n",
              "      <td>11718100.0</td>\n",
              "    </tr>\n",
              "    <tr>\n",
              "      <th>1649</th>\n",
              "      <td>2010-01-06</td>\n",
              "      <td>YHOO</td>\n",
              "      <td>17.170000</td>\n",
              "      <td>17.170000</td>\n",
              "      <td>17.070000</td>\n",
              "      <td>17.299999</td>\n",
              "      <td>16422000.0</td>\n",
              "    </tr>\n",
              "    <tr>\n",
              "      <th>2117</th>\n",
              "      <td>2010-01-07</td>\n",
              "      <td>YHOO</td>\n",
              "      <td>16.809999</td>\n",
              "      <td>16.700001</td>\n",
              "      <td>16.570000</td>\n",
              "      <td>16.900000</td>\n",
              "      <td>31816300.0</td>\n",
              "    </tr>\n",
              "    <tr>\n",
              "      <th>2585</th>\n",
              "      <td>2010-01-08</td>\n",
              "      <td>YHOO</td>\n",
              "      <td>16.680000</td>\n",
              "      <td>16.700001</td>\n",
              "      <td>16.620001</td>\n",
              "      <td>16.760000</td>\n",
              "      <td>15470000.0</td>\n",
              "    </tr>\n",
              "  </tbody>\n",
              "</table>\n",
              "</div>"
            ],
            "text/plain": [
              "            date symbol       open      close        low       high      volume\n",
              "713   2010-01-04   YHOO  16.940001  17.100000  16.879999  17.200001  16587400.0\n",
              "1181  2010-01-05   YHOO  17.219999  17.230000  17.000000  17.230000  11718100.0\n",
              "1649  2010-01-06   YHOO  17.170000  17.170000  17.070000  17.299999  16422000.0\n",
              "2117  2010-01-07   YHOO  16.809999  16.700001  16.570000  16.900000  31816300.0\n",
              "2585  2010-01-08   YHOO  16.680000  16.700001  16.620001  16.760000  15470000.0"
            ]
          },
          "metadata": {
            "tags": []
          },
          "execution_count": 13
        }
      ]
    },
    {
      "cell_type": "code",
      "metadata": {
        "id": "ZLLTsngOI_9Y",
        "colab_type": "code",
        "colab": {
          "base_uri": "https://localhost:8080/",
          "height": 34
        },
        "outputId": "16277192-ff96-4206-833c-d3b598039717"
      },
      "source": [
        "yahoo_stock_prices = yahoo.close.values.astype('float32')\n",
        "yahoo_stock_prices.shape  #1762 columns"
      ],
      "execution_count": 17,
      "outputs": [
        {
          "output_type": "execute_result",
          "data": {
            "text/plain": [
              "(1762,)"
            ]
          },
          "metadata": {
            "tags": []
          },
          "execution_count": 17
        }
      ]
    },
    {
      "cell_type": "code",
      "metadata": {
        "id": "0hyO1PpzROzi",
        "colab_type": "code",
        "colab": {
          "base_uri": "https://localhost:8080/",
          "height": 34
        },
        "outputId": "4f7de65f-9911-4f64-be6c-64f355d1cf8d"
      },
      "source": [
        "yahoo_stock_prices = yahoo_stock_prices.reshape(1762, 1)\n",
        "yahoo_stock_prices.shape"
      ],
      "execution_count": 18,
      "outputs": [
        {
          "output_type": "execute_result",
          "data": {
            "text/plain": [
              "(1762, 1)"
            ]
          },
          "metadata": {
            "tags": []
          },
          "execution_count": 18
        }
      ]
    },
    {
      "cell_type": "code",
      "metadata": {
        "id": "rhbRjNrBRuM0",
        "colab_type": "code",
        "colab": {
          "base_uri": "https://localhost:8080/",
          "height": 268
        },
        "outputId": "3c6a9077-8c4d-49f0-9c8d-85994bd4b250"
      },
      "source": [
        "plt.plot(yahoo_stock_prices)\n",
        "plt.show()"
      ],
      "execution_count": 19,
      "outputs": [
        {
          "output_type": "display_data",
          "data": {
            "image/png": "[encoded data removed]",
            "text/plain": [
              "<Figure size 432x288 with 1 Axes>"
            ]
          },
          "metadata": {
            "tags": []
          }
        }
      ]
    },
    {
      "cell_type": "code",
      "metadata": {
        "id": "5EEJVimQJAG1",
        "colab_type": "code",
        "colab": {}
      },
      "source": [
        "#Normalization\n",
        "scaler = MinMaxScaler(feature_range=(0, 1)) \n",
        "yahoo_stock_prices = scaler.fit_transform(yahoo_stock_prices)"
      ],
      "execution_count": 0,
      "outputs": []
    },
    {
      "cell_type": "code",
      "metadata": {
        "id": "tVHfucExJAJf",
        "colab_type": "code",
        "colab": {
          "base_uri": "https://localhost:8080/",
          "height": 34
        },
        "outputId": "1a526a79-b96d-4a16-c37e-66c66e99f9aa"
      },
      "source": [
        "train_size = int(len(yahoo_stock_prices) * 0.80)\n",
        "test_size = len(yahoo_stock_prices) - train_size\n",
        "train = yahoo_stock_prices[0:train_size,:]\n",
        "test = yahoo_stock_prices[train_size:len(yahoo_stock_prices),:]\n",
        "print(len(train), len(test))"
      ],
      "execution_count": 21,
      "outputs": [
        {
          "output_type": "stream",
          "text": [
            "1409 353\n"
          ],
          "name": "stdout"
        }
      ]
    },
    {
      "cell_type": "code",
      "metadata": {
        "id": "U_X_BPsiTDt4",
        "colab_type": "code",
        "colab": {
          "base_uri": "https://localhost:8080/",
          "height": 230
        },
        "outputId": "13ca366c-89f5-4441-cb4c-e66b973eb622"
      },
      "source": [
        "print(train.shape ,train[:5])\n",
        "print('\\n')\n",
        "print(test.shape ,test[:5])"
      ],
      "execution_count": 31,
      "outputs": [
        {
          "output_type": "stream",
          "text": [
            "(1409, 1) [[0.14559111]\n",
            " [0.14874032]\n",
            " [0.14728683]\n",
            " [0.13590118]\n",
            " [0.13590118]]\n",
            "\n",
            "\n",
            "(353, 1) [[0.6312985 ]\n",
            " [0.6041666 ]\n",
            " [0.5668605 ]\n",
            " [0.60174423]\n",
            " [0.60925394]]\n"
          ],
          "name": "stdout"
        }
      ]
    },
    {
      "cell_type": "code",
      "metadata": {
        "id": "J2WMnGAEJAXt",
        "colab_type": "code",
        "colab": {}
      },
      "source": [
        "# convert an array of values into a dataset matrix\n",
        "def create_dataset(dataset, look_back=1):\n",
        "\tdataX, dataY = [], []\n",
        "\tfor i in range(len(dataset)-look_back-1):\n",
        "\t\ta = dataset[i:(i+look_back), 0]\n",
        "\t\tdataX.append(a)\n",
        "\t\tdataY.append(dataset[i + look_back, 0])\n",
        "\treturn np.array(dataX), np.array(dataY)\n",
        "\n",
        "# reshape into X=t and Y=t+1\n",
        "look_back = 1\n",
        "trainX, trainY = create_dataset(train, look_back)\n",
        "testX, testY = create_dataset(test, look_back)"
      ],
      "execution_count": 0,
      "outputs": []
    },
    {
      "cell_type": "code",
      "metadata": {
        "id": "kKMm_6QtJAaN",
        "colab_type": "code",
        "colab": {
          "base_uri": "https://localhost:8080/",
          "height": 230
        },
        "outputId": "9b3346fe-0415-4aea-93a6-93974fff8491"
      },
      "source": [
        "print(trainX.shape ,trainX[:5])\n",
        "print('\\n')\n",
        "print(testX.shape ,testX[:5])"
      ],
      "execution_count": 32,
      "outputs": [
        {
          "output_type": "stream",
          "text": [
            "(1407, 1) [[0.14559111]\n",
            " [0.14874032]\n",
            " [0.14728683]\n",
            " [0.13590118]\n",
            " [0.13590118]]\n",
            "\n",
            "\n",
            "(351, 1) [[0.6312985 ]\n",
            " [0.6041666 ]\n",
            " [0.5668605 ]\n",
            " [0.60174423]\n",
            " [0.60925394]]\n"
          ],
          "name": "stdout"
        }
      ]
    },
    {
      "cell_type": "code",
      "metadata": {
        "id": "QNh4rtd_JAdg",
        "colab_type": "code",
        "colab": {}
      },
      "source": [
        "trainX = np.reshape(trainX, (trainX.shape[0], 1 , trainX.shape[1]))\n",
        "testX = np.reshape(testX, (testX.shape[0], 1 , testX.shape[1]))"
      ],
      "execution_count": 0,
      "outputs": []
    },
    {
      "cell_type": "code",
      "metadata": {
        "id": "vPgMjpwSJAg7",
        "colab_type": "code",
        "colab": {
          "base_uri": "https://localhost:8080/",
          "height": 372
        },
        "outputId": "fa16ff4c-8077-4843-8255-201fd9c77a5d"
      },
      "source": [
        "print(trainX.shape ,trainX[:5])\n",
        "print('\\n')\n",
        "print(testX.shape ,testX[:5])"
      ],
      "execution_count": 34,
      "outputs": [
        {
          "output_type": "stream",
          "text": [
            "(1407, 1, 1) [[[0.14559111]]\n",
            "\n",
            " [[0.14874032]]\n",
            "\n",
            " [[0.14728683]]\n",
            "\n",
            " [[0.13590118]]\n",
            "\n",
            " [[0.13590118]]]\n",
            "\n",
            "\n",
            "(351, 1, 1) [[[0.6312985 ]]\n",
            "\n",
            " [[0.6041666 ]]\n",
            "\n",
            " [[0.5668605 ]]\n",
            "\n",
            " [[0.60174423]]\n",
            "\n",
            " [[0.60925394]]]\n"
          ],
          "name": "stdout"
        }
      ]
    },
    {
      "cell_type": "code",
      "metadata": {
        "id": "1hq85iE6JAmj",
        "colab_type": "code",
        "colab": {
          "base_uri": "https://localhost:8080/",
          "height": 285
        },
        "outputId": "85857d7e-52c4-411e-cf52-982ca7385081"
      },
      "source": [
        "%time\n",
        "\n",
        "#Step 2 Build Model\n",
        "model = Sequential()\n",
        "\n",
        "model.add(LSTM(\n",
        "    input_dim=1,\n",
        "    output_dim=50,\n",
        "    return_sequences=True))\n",
        "\n",
        "model.add(Dropout(0.2))\n",
        "\n",
        "model.add(LSTM(\n",
        "    100,\n",
        "    return_sequences=False))\n",
        "\n",
        "model.add(Dropout(0.2))\n",
        "\n",
        "model.add(Dense(\n",
        "    output_dim=1))\n",
        "\n",
        "model.add(Activation('linear'))\n",
        "\n",
        "start = time.time()\n",
        "model.compile(loss='mse', optimizer='rmsprop')\n",
        "print ('compilation time : ', time.time() - start)"
      ],
      "execution_count": 35,
      "outputs": [
        {
          "output_type": "stream",
          "text": [
            "CPU times: user 2 µs, sys: 1e+03 ns, total: 3 µs\n",
            "Wall time: 6.2 µs\n",
            "WARNING:tensorflow:From /usr/local/lib/python3.6/dist-packages/tensorflow/python/framework/op_def_library.py:263: colocate_with (from tensorflow.python.framework.ops) is deprecated and will be removed in a future version.\n",
            "Instructions for updating:\n",
            "Colocations handled automatically by placer.\n"
          ],
          "name": "stdout"
        },
        {
          "output_type": "stream",
          "text": [
            "/usr/local/lib/python3.6/dist-packages/ipykernel_launcher.py:9: UserWarning: The `input_dim` and `input_length` arguments in recurrent layers are deprecated. Use `input_shape` instead.\n",
            "  if __name__ == '__main__':\n",
            "/usr/local/lib/python3.6/dist-packages/ipykernel_launcher.py:9: UserWarning: Update your `LSTM` call to the Keras 2 API: `LSTM(return_sequences=True, input_shape=(None, 1), units=50)`\n",
            "  if __name__ == '__main__':\n"
          ],
          "name": "stderr"
        },
        {
          "output_type": "stream",
          "text": [
            "WARNING:tensorflow:From /usr/local/lib/python3.6/dist-packages/keras/backend/tensorflow_backend.py:3445: calling dropout (from tensorflow.python.ops.nn_ops) with keep_prob is deprecated and will be removed in a future version.\n",
            "Instructions for updating:\n",
            "Please use `rate` instead of `keep_prob`. Rate should be set to `rate = 1 - keep_prob`.\n",
            "compilation time :  0.02353048324584961\n"
          ],
          "name": "stdout"
        },
        {
          "output_type": "stream",
          "text": [
            "/usr/local/lib/python3.6/dist-packages/ipykernel_launcher.py:20: UserWarning: Update your `Dense` call to the Keras 2 API: `Dense(units=1)`\n"
          ],
          "name": "stderr"
        }
      ]
    },
    {
      "cell_type": "code",
      "metadata": {
        "id": "577FTyWHJApt",
        "colab_type": "code",
        "colab": {
          "base_uri": "https://localhost:8080/",
          "height": 372
        },
        "outputId": "dc663a4c-5792-4139-8c90-0edf4781f6ee"
      },
      "source": [
        "print(model.summary())"
      ],
      "execution_count": 37,
      "outputs": [
        {
          "output_type": "stream",
          "text": [
            "_________________________________________________________________\n",
            "Layer (type)                 Output Shape              Param #   \n",
            "=================================================================\n",
            "lstm_1 (LSTM)                (None, None, 50)          10400     \n",
            "_________________________________________________________________\n",
            "dropout_1 (Dropout)          (None, None, 50)          0         \n",
            "_________________________________________________________________\n",
            "lstm_2 (LSTM)                (None, 100)               60400     \n",
            "_________________________________________________________________\n",
            "dropout_2 (Dropout)          (None, 100)               0         \n",
            "_________________________________________________________________\n",
            "dense_1 (Dense)              (None, 1)                 101       \n",
            "_________________________________________________________________\n",
            "activation_1 (Activation)    (None, 1)                 0         \n",
            "=================================================================\n",
            "Total params: 70,901\n",
            "Trainable params: 70,901\n",
            "Non-trainable params: 0\n",
            "_________________________________________________________________\n",
            "None\n"
          ],
          "name": "stdout"
        }
      ]
    },
    {
      "cell_type": "code",
      "metadata": {
        "id": "n2GfmSf9JAkC",
        "colab_type": "code",
        "colab": {
          "base_uri": "https://localhost:8080/",
          "height": 516
        },
        "outputId": "5d158aa5-4f94-4138-a307-183fa29a83ca"
      },
      "source": [
        "model.fit(\n",
        "    trainX,\n",
        "    trainY,\n",
        "    batch_size=128,\n",
        "    nb_epoch=10,\n",
        "    validation_split=0.05)"
      ],
      "execution_count": 38,
      "outputs": [
        {
          "output_type": "stream",
          "text": [
            "WARNING:tensorflow:From /usr/local/lib/python3.6/dist-packages/tensorflow/python/ops/math_ops.py:3066: to_int32 (from tensorflow.python.ops.math_ops) is deprecated and will be removed in a future version.\n",
            "Instructions for updating:\n",
            "Use tf.cast instead.\n"
          ],
          "name": "stdout"
        },
        {
          "output_type": "stream",
          "text": [
            "/usr/local/lib/python3.6/dist-packages/ipykernel_launcher.py:6: UserWarning: The `nb_epoch` argument in `fit` has been renamed `epochs`.\n",
            "  \n"
          ],
          "name": "stderr"
        },
        {
          "output_type": "stream",
          "text": [
            "Train on 1336 samples, validate on 71 samples\n",
            "Epoch 1/10\n",
            "1336/1336 [==============================] - 2s 2ms/step - loss: 0.1321 - val_loss: 0.2926\n",
            "Epoch 2/10\n",
            "1336/1336 [==============================] - 0s 96us/step - loss: 0.0701 - val_loss: 0.1449\n",
            "Epoch 3/10\n",
            "1336/1336 [==============================] - 0s 84us/step - loss: 0.0418 - val_loss: 0.0734\n",
            "Epoch 4/10\n",
            "1336/1336 [==============================] - 0s 88us/step - loss: 0.0313 - val_loss: 0.0439\n",
            "Epoch 5/10\n",
            "1336/1336 [==============================] - 0s 86us/step - loss: 0.0203 - val_loss: 0.0183\n",
            "Epoch 6/10\n",
            "1336/1336 [==============================] - 0s 84us/step - loss: 0.0103 - val_loss: 0.0086\n",
            "Epoch 7/10\n",
            "1336/1336 [==============================] - 0s 87us/step - loss: 0.0039 - val_loss: 0.0017\n",
            "Epoch 8/10\n",
            "1336/1336 [==============================] - 0s 81us/step - loss: 0.0021 - val_loss: 7.8612e-04\n",
            "Epoch 9/10\n",
            "1336/1336 [==============================] - 0s 81us/step - loss: 0.0019 - val_loss: 9.5939e-04\n",
            "Epoch 10/10\n",
            "1336/1336 [==============================] - 0s 81us/step - loss: 0.0018 - val_loss: 8.3567e-04\n"
          ],
          "name": "stdout"
        },
        {
          "output_type": "execute_result",
          "data": {
            "text/plain": [
              "<keras.callbacks.History at 0x7f4109d60080>"
            ]
          },
          "metadata": {
            "tags": []
          },
          "execution_count": 38
        }
      ]
    },
    {
      "cell_type": "code",
      "metadata": {
        "id": "YMTFH2D2JAVh",
        "colab_type": "code",
        "colab": {}
      },
      "source": [
        "#predict lenght consecutive values from a real one\n",
        "def predict_sequences_multiple(model, firstValue,length):\n",
        "    prediction_seqs = []\n",
        "    curr_frame = firstValue\n",
        "    \n",
        "    for i in range(length): \n",
        "        predicted = []        \n",
        "        \n",
        "        print(model.predict(curr_frame[newaxis,:,:]))\n",
        "        predicted.append(model.predict(curr_frame[newaxis,:,:])[0,0])\n",
        "        \n",
        "        curr_frame = curr_frame[0:]\n",
        "        curr_frame = np.insert(curr_frame[0:], i+1, predicted[-1], axis=0)\n",
        "        \n",
        "        prediction_seqs.append(predicted[-1])\n",
        "        \n",
        "    return prediction_seqs"
      ],
      "execution_count": 0,
      "outputs": []
    },
    {
      "cell_type": "code",
      "metadata": {
        "id": "KFl0U6YpJAQF",
        "colab_type": "code",
        "colab": {
          "base_uri": "https://localhost:8080/",
          "height": 105
        },
        "outputId": "ccf7ffd6-8d4b-4d89-8cbc-a56a8982c439"
      },
      "source": [
        "predict_length=5\n",
        "predictions = predict_sequences_multiple(model, testX[0], predict_length)"
      ],
      "execution_count": 63,
      "outputs": [
        {
          "output_type": "stream",
          "text": [
            "[[0.6025403]]\n",
            "[[1.4345411]]\n",
            "[[3.3465278]]\n",
            "[[7.786174]]\n",
            "[[14.1151705]]\n"
          ],
          "name": "stdout"
        }
      ]
    },
    {
      "cell_type": "code",
      "metadata": {
        "id": "enwiu9YHYudU",
        "colab_type": "code",
        "colab": {
          "base_uri": "https://localhost:8080/",
          "height": 52
        },
        "outputId": "9b0f2df4-933f-4f84-d109-280146399516"
      },
      "source": [
        "print(len(predictions))\n",
        "predictions"
      ],
      "execution_count": 64,
      "outputs": [
        {
          "output_type": "stream",
          "text": [
            "5\n"
          ],
          "name": "stdout"
        },
        {
          "output_type": "execute_result",
          "data": {
            "text/plain": [
              "[0.6025403, 1.4345411, 3.3465278, 7.786174, 14.1151705]"
            ]
          },
          "metadata": {
            "tags": []
          },
          "execution_count": 64
        }
      ]
    },
    {
      "cell_type": "code",
      "metadata": {
        "id": "zgfsg12GY5jn",
        "colab_type": "code",
        "colab": {
          "base_uri": "https://localhost:8080/",
          "height": 52
        },
        "outputId": "776c1249-fec1-4da5-9881-22db5004ef3f"
      },
      "source": [
        "np.array(predictions)"
      ],
      "execution_count": 65,
      "outputs": [
        {
          "output_type": "execute_result",
          "data": {
            "text/plain": [
              "array([ 0.6025403,  1.4345411,  3.3465278,  7.786174 , 14.1151705],\n",
              "      dtype=float32)"
            ]
          },
          "metadata": {
            "tags": []
          },
          "execution_count": 65
        }
      ]
    },
    {
      "cell_type": "markdown",
      "metadata": {
        "id": "1NVPoSdTZZw4",
        "colab_type": "text"
      },
      "source": [
        "#### USE \"scaler.inverse_transform()\"   Scale back the data to the original representation."
      ]
    },
    {
      "cell_type": "code",
      "metadata": {
        "id": "DsWz4lHxJAE-",
        "colab_type": "code",
        "colab": {
          "base_uri": "https://localhost:8080/",
          "height": 105
        },
        "outputId": "d3712e6b-fb7a-4ddf-9d99-1979d2f30a4c"
      },
      "source": [
        "print(scaler.inverse_transform(np.array(predictions).reshape(-1, 1)))"
      ],
      "execution_count": 61,
      "outputs": [
        {
          "output_type": "stream",
          "text": [
            "[[ 0.60254025]\n",
            " [ 1.434541  ]\n",
            " [ 3.3465273 ]\n",
            " [ 7.786173  ]\n",
            " [14.115169  ]]\n"
          ],
          "name": "stdout"
        }
      ]
    },
    {
      "cell_type": "code",
      "metadata": {
        "id": "jBrUCVGTYIQ9",
        "colab_type": "code",
        "colab": {
          "base_uri": "https://localhost:8080/",
          "height": 282
        },
        "outputId": "d911597e-5dec-4969-9e83-57d0496d01d9"
      },
      "source": [
        "def plot_results_multiple(predicted_data, true_data,length):\n",
        "    plt.plot(scaler.inverse_transform(true_data.reshape(-1, 1))[length:])  #X label\n",
        "    plt.plot(scaler.inverse_transform(np.array(predicted_data).reshape(-1, 1))[length:])  #Y label\n",
        "    plt.xlabel('True data')\n",
        "    plt.ylabel('Predicted data')\n",
        "    plt.show()\n",
        "    \n",
        "plot_results_multiple(predictions, testY, predict_length)"
      ],
      "execution_count": 66,
      "outputs": [
        {
          "output_type": "display_data",
          "data": {
            "image/png": "[encoded data removed]",
            "text/plain": [
              "<Figure size 432x288 with 1 Axes>"
            ]
          },
          "metadata": {
            "tags": []
          }
        }
      ]
    },
    {
      "cell_type": "code",
      "metadata": {
        "id": "Lk0gxd68JACX",
        "colab_type": "code",
        "colab": {}
      },
      "source": [
        ""
      ],
      "execution_count": 0,
      "outputs": []
    },
    {
      "cell_type": "code",
      "metadata": {
        "id": "iLG8GvUIJAAi",
        "colab_type": "code",
        "colab": {}
      },
      "source": [
        ""
      ],
      "execution_count": 0,
      "outputs": []
    },
    {
      "cell_type": "code",
      "metadata": {
        "id": "FRdAaOLbI_7d",
        "colab_type": "code",
        "colab": {}
      },
      "source": [
        ""
      ],
      "execution_count": 0,
      "outputs": []
    }
  ]
}