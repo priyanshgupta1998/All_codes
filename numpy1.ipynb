{
  "nbformat": 4,
  "nbformat_minor": 0,
  "metadata": {
    "colab": {
      "name": "TensorFlow with GPU",
      "version": "0.3.2",
      "provenance": [],
      "collapsed_sections": [],
      "include_colab_link": true
    },
    "kernelspec": {
      "name": "python3",
      "display_name": "Python 3"
    },
    "accelerator": "GPU"
  },
  "cells": [
    {
      "cell_type": "markdown",
      "metadata": {
        "id": "view-in-github",
        "colab_type": "text"
      },
      "source": [
        "<a href=\"https://colab.research.google.com/github/priyanshgupta1998/All_codes/blob/master/numpy1.ipynb\" target=\"_parent\"><img src=\"https://colab.research.google.com/assets/colab-badge.svg\" alt=\"Open In Colab\"/></a>"
      ]
    },
    {
      "metadata": {
        "id": "pYIykOpuDs28",
        "colab_type": "text"
      },
      "cell_type": "markdown",
      "source": [
        " Numpy *Example*"
      ]
    },
    {
      "metadata": {
        "id": "s5Wa5HOSEO0n",
        "colab_type": "code",
        "colab": {}
      },
      "cell_type": "code",
      "source": [
        "distances = [10,15,17,26,20]\n",
        "times = [0.3 , 0.47,0.55,1.20,1.0]"
      ],
      "execution_count": 0,
      "outputs": []
    },
    {
      "metadata": {
        "id": "1Rp9EHlUDnWV",
        "colab_type": "code",
        "colab": {
          "base_uri": "https://localhost:8080/",
          "height": 34
        },
        "outputId": "ced59cf4-176c-420c-c480-606306850827"
      },
      "cell_type": "code",
      "source": [
        "#calculate speeds with python\n",
        "speeds = []\n",
        "for i in range(len(distances)):\n",
        "  speeds.append(distances[i]/times[i])\n",
        "print(speeds)"
      ],
      "execution_count": 3,
      "outputs": [
        {
          "output_type": "stream",
          "text": [
            "[33.333333333333336, 31.914893617021278, 30.909090909090907, 21.666666666666668, 20.0]\n"
          ],
          "name": "stdout"
        }
      ]
    },
    {
      "metadata": {
        "id": "zvi50m9KDnY9",
        "colab_type": "code",
        "colab": {
          "base_uri": "https://localhost:8080/",
          "height": 102
        },
        "outputId": "070f4552-82f1-4160-fb7b-0a667c2769c2"
      },
      "cell_type": "code",
      "source": [
        "#Another method is here to calculate to calculate the speed\n",
        "[d/t for d,t in zip(distances , times)]"
      ],
      "execution_count": 4,
      "outputs": [
        {
          "output_type": "execute_result",
          "data": {
            "text/plain": [
              "[33.333333333333336,\n",
              " 31.914893617021278,\n",
              " 30.909090909090907,\n",
              " 21.666666666666668,\n",
              " 20.0]"
            ]
          },
          "metadata": {
            "tags": []
          },
          "execution_count": 4
        }
      ]
    },
    {
      "metadata": {
        "id": "IqNGmK5clr9f",
        "colab_type": "text"
      },
      "cell_type": "markdown",
      "source": [
        "\n",
        "\n",
        "```\n",
        "Example 2.\n",
        "```\n",
        "\n"
      ]
    },
    {
      "metadata": {
        "id": "Lg05E5msDncy",
        "colab_type": "code",
        "colab": {
          "base_uri": "https://localhost:8080/",
          "height": 34
        },
        "outputId": "4e29e3b7-105f-4983-df5c-79379cbb27f4"
      },
      "cell_type": "code",
      "source": [
        "product_quantities = [13,5,6,10,11]\n",
        "prices = [1.2,6.5,1.0,4.8,5.0]\n",
        "total = sum([q*p for q,p in zip(product_quantities,prices)])\n",
        "print(total)"
      ],
      "execution_count": 7,
      "outputs": [
        {
          "output_type": "stream",
          "text": [
            "157.1\n"
          ],
          "name": "stdout"
        }
      ]
    },
    {
      "metadata": {
        "id": "tvsnNfXanIay",
        "colab_type": "text"
      },
      "cell_type": "markdown",
      "source": [
        "#Vectorize vs Non-vectorize python implementation"
      ]
    },
    {
      "metadata": {
        "id": "LgbX000rDnge",
        "colab_type": "code",
        "colab": {}
      },
      "cell_type": "code",
      "source": [
        "import numpy as np\n",
        "import time\n",
        "num = 1000000"
      ],
      "execution_count": 0,
      "outputs": []
    },
    {
      "metadata": {
        "id": "VA-3BRjdm8D3",
        "colab_type": "code",
        "colab": {}
      },
      "cell_type": "code",
      "source": [
        "a = np.random.random(num)   #generate array of random numbers \n",
        "b= np.random.random(num)"
      ],
      "execution_count": 0,
      "outputs": []
    },
    {
      "metadata": {
        "id": "UiDZOOnzm8H2",
        "colab_type": "code",
        "colab": {
          "base_uri": "https://localhost:8080/",
          "height": 51
        },
        "outputId": "03a2215f-4199-4767-a23f-fd8ce63b2582"
      },
      "cell_type": "code",
      "source": [
        "print(len(a))\n",
        "print(a)"
      ],
      "execution_count": 12,
      "outputs": [
        {
          "output_type": "stream",
          "text": [
            "1000000\n",
            "[0.94330947 0.34418484 0.30842144 ... 0.97418096 0.01139836 0.30957321]\n"
          ],
          "name": "stdout"
        }
      ]
    },
    {
      "metadata": {
        "id": "z1IbU_SHm8LA",
        "colab_type": "code",
        "colab": {
          "base_uri": "https://localhost:8080/",
          "height": 51
        },
        "outputId": "f286ae34-3ef1-49d9-bc78-832132c583ce"
      },
      "cell_type": "code",
      "source": [
        "print(len(b))\n",
        "print(b)"
      ],
      "execution_count": 13,
      "outputs": [
        {
          "output_type": "stream",
          "text": [
            "1000000\n",
            "[0.51051704 0.46499729 0.10377461 ... 0.07170297 0.01088573 0.58690285]\n"
          ],
          "name": "stdout"
        }
      ]
    },
    {
      "metadata": {
        "id": "NYi8by0eqd_Q",
        "colab_type": "text"
      },
      "cell_type": "markdown",
      "source": [
        "#Vectorization\n",
        "\n",
        "\n",
        "```\n",
        "In this case we use python built in library and modules to increase the accuaracy and compute in short time.\n",
        "```\n",
        "\n"
      ]
    },
    {
      "metadata": {
        "id": "YmdAf_BOqdJ_",
        "colab_type": "code",
        "colab": {
          "base_uri": "https://localhost:8080/",
          "height": 51
        },
        "outputId": "163134a1-c2d7-4bf9-b0f9-798ab8db6e47"
      },
      "cell_type": "code",
      "source": [
        "start = time.time()\n",
        "c = np.dot(a,b)   #multiply\n",
        "end = time.time()\n",
        "print(c)\n",
        "print(\"vectorize : \" + str((end-start)*100) + 'ms')"
      ],
      "execution_count": 16,
      "outputs": [
        {
          "output_type": "stream",
          "text": [
            "249990.42315594753\n",
            "vectorize : 0.24213790893554688ms\n"
          ],
          "name": "stdout"
        }
      ]
    },
    {
      "metadata": {
        "id": "y5vU4M_SrVXY",
        "colab_type": "text"
      },
      "cell_type": "markdown",
      "source": [
        "#Non- vectorize \n",
        "\n",
        "\n",
        "```\n",
        "Here we use looping concept for computation without using the built-in library . It is bad because it takes more time than vectorizattion.\n",
        "```\n",
        "\n"
      ]
    },
    {
      "metadata": {
        "id": "B0js75mqm8Bx",
        "colab_type": "code",
        "colab": {
          "base_uri": "https://localhost:8080/",
          "height": 51
        },
        "outputId": "38d93134-2159-4a54-f3a6-5727e044b375"
      },
      "cell_type": "code",
      "source": [
        "start = time.time()\n",
        "c =0\n",
        "for i in range(num):\n",
        "  c +=a[i]*b[i]\n",
        "end = time.time()\n",
        "print(c)\n",
        "print(\"Non - vectorize : \" + str((end-start)*100) + 'ms')"
      ],
      "execution_count": 17,
      "outputs": [
        {
          "output_type": "stream",
          "text": [
            "249990.42315595146\n",
            "Non - vectorize : 46.76640033721924ms\n"
          ],
          "name": "stdout"
        }
      ]
    },
    {
      "metadata": {
        "id": "DPv5BffJDnjB",
        "colab_type": "code",
        "colab": {}
      },
      "cell_type": "code",
      "source": [
        ""
      ],
      "execution_count": 0,
      "outputs": []
    }
  ]
}