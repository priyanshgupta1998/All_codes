{
  "nbformat": 4,
  "nbformat_minor": 0,
  "metadata": {
    "colab": {
      "name": "TensorFlow with GPU",
      "version": "0.3.2",
      "provenance": [],
      "collapsed_sections": [],
      "include_colab_link": true
    },
    "kernelspec": {
      "name": "python3",
      "display_name": "Python 3"
    },
    "accelerator": "GPU"
  },
  "cells": [
    {
      "cell_type": "markdown",
      "metadata": {
        "id": "view-in-github",
        "colab_type": "text"
      },
      "source": [
        "<a href=\"https://colab.research.google.com/github/priyanshgupta1998/All_codes/blob/master/str(list())_to_list.ipynb\" target=\"_parent\"><img src=\"https://colab.research.google.com/assets/colab-badge.svg\" alt=\"Open In Colab\"/></a>"
      ]
    },
    {
      "cell_type": "markdown",
      "metadata": {
        "id": "wAM75Pu4Yuox",
        "colab_type": "text"
      },
      "source": [
        "#List Property  ---->   convert str(list())    into  original list\n",
        "DEEP LAERNING https://www.analyticsvidhya.com/blog/2019/01/neural-machine-translation-keras/"
      ]
    },
    {
      "cell_type": "code",
      "metadata": {
        "colab_type": "code",
        "outputId": "197815b7-604b-444b-da68-ce3ff955592f",
        "id": "cuIkWNH__hLF",
        "colab": {
          "base_uri": "https://localhost:8080/",
          "height": 34
        }
      },
      "source": [
        "x = [1,2,3]\n",
        "a =str(x)\n",
        "list(map(int,a[1:-1].split(', '))) # No need for list call in Py2"
      ],
      "execution_count": 0,
      "outputs": [
        {
          "output_type": "execute_result",
          "data": {
            "text/plain": [
              "[1, 2, 3]"
            ]
          },
          "metadata": {
            "tags": []
          },
          "execution_count": 103
        }
      ]
    },
    {
      "cell_type": "code",
      "metadata": {
        "id": "b7acy5w0YJoM",
        "colab_type": "code",
        "outputId": "5af2c38e-849e-45c3-a31a-527f115b461e",
        "colab": {
          "base_uri": "https://localhost:8080/",
          "height": 34
        }
      },
      "source": [
        "x = ['abc', 'def', 'ghi']\n",
        "a = str(x)\n",
        "a[2:-2].split(\"', '\")"
      ],
      "execution_count": 0,
      "outputs": [
        {
          "output_type": "execute_result",
          "data": {
            "text/plain": [
              "['abc', 'def', 'ghi']"
            ]
          },
          "metadata": {
            "tags": []
          },
          "execution_count": 102
        }
      ]
    },
    {
      "cell_type": "code",
      "metadata": {
        "id": "sAfynb07uFQF",
        "colab_type": "code",
        "outputId": "112130c9-594f-450a-be69-04a9c519078a",
        "colab": {
          "base_uri": "https://localhost:8080/",
          "height": 34
        }
      },
      "source": [
        "x = ['abc', 'def', 'ghi']\n",
        "eval(str(x))"
      ],
      "execution_count": 0,
      "outputs": [
        {
          "output_type": "execute_result",
          "data": {
            "text/plain": [
              "['abc', 'def', 'ghi']"
            ]
          },
          "metadata": {
            "tags": []
          },
          "execution_count": 99
        }
      ]
    },
    {
      "cell_type": "code",
      "metadata": {
        "id": "PSDYVTch5J_g",
        "colab_type": "code",
        "outputId": "560d768b-cb60-4d26-e221-c21b528c0c79",
        "colab": {
          "base_uri": "https://localhost:8080/",
          "height": 34
        }
      },
      "source": [
        "bits=['0100','0011','1110','1001','0100']\n",
        "a=map(int,bits)\n",
        "list(a)   \n",
        "       "
      ],
      "execution_count": 0,
      "outputs": [
        {
          "output_type": "execute_result",
          "data": {
            "text/plain": [
              "[100, 11, 1110, 1001, 100]"
            ]
          },
          "metadata": {
            "tags": []
          },
          "execution_count": 96
        }
      ]
    },
    {
      "cell_type": "code",
      "metadata": {
        "id": "E5dePBNQ5J6I",
        "colab_type": "code",
        "outputId": "277a7796-c765-4039-ea2e-d79966313dbb",
        "colab": {
          "base_uri": "https://localhost:8080/",
          "height": 34
        }
      },
      "source": [
        "from ast import literal_eval\n",
        "m= '[1,187,2,4,7,1478,5,7,4,8]'\n",
        "literal_eval(m)"
      ],
      "execution_count": 0,
      "outputs": [
        {
          "output_type": "execute_result",
          "data": {
            "text/plain": [
              "[1, 187, 2, 4, 7, 1478, 5, 7, 4, 8]"
            ]
          },
          "metadata": {
            "tags": []
          },
          "execution_count": 95
        }
      ]
    },
    {
      "cell_type": "code",
      "metadata": {
        "id": "QULTxQHj5J4T",
        "colab_type": "code",
        "outputId": "ec31015a-4322-4423-c924-1539671a69d7",
        "colab": {
          "base_uri": "https://localhost:8080/",
          "height": 68
        }
      },
      "source": [
        "bits=['0100','0011','1110','1001','0100']\n",
        "a=map(int,bits)\n",
        "print('[' + ', '.join(map(lambda i: format(i, '04d'), a)) + ']')\n",
        "print('[' + ', '.join(bits) + ']')\n",
        "print(', '.join(bits))\n"
      ],
      "execution_count": 0,
      "outputs": [
        {
          "output_type": "stream",
          "text": [
            "[0100, 0011, 1110, 1001, 0100]\n",
            "[0100, 0011, 1110, 1001, 0100]\n",
            "0100, 0011, 1110, 1001, 0100\n"
          ],
          "name": "stdout"
        }
      ]
    },
    {
      "cell_type": "code",
      "metadata": {
        "id": "BnNFqPmo5J2H",
        "colab_type": "code",
        "colab": {}
      },
      "source": [
        "import pandas as pd\n",
        "from numpy.random import randint\n",
        "df = pd.DataFrame(columns=['lib', 'qty1', 'qty2'])\n",
        "for i in range(5):\n",
        "    df.loc[i] = ['name' + str(i)] + list(randint(10, size=2))\n",
        "\n",
        "df"
      ],
      "execution_count": 0,
      "outputs": []
    }
  ]
}