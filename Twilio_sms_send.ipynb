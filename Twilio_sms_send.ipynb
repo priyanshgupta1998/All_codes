{
  "nbformat": 4,
  "nbformat_minor": 0,
  "metadata": {
    "colab": {
      "name": "Welcome To Colaboratory",
      "version": "0.3.2",
      "provenance": [],
      "collapsed_sections": [],
      "include_colab_link": true
    },
    "kernelspec": {
      "display_name": "Python 3",
      "name": "python3"
    }
  },
  "cells": [
    {
      "cell_type": "markdown",
      "metadata": {
        "id": "view-in-github",
        "colab_type": "text"
      },
      "source": [
        "<a href=\"https://colab.research.google.com/github/priyanshgupta1998/All_codes/blob/master/Twilio_sms_send.ipynb\" target=\"_parent\"><img src=\"https://colab.research.google.com/assets/colab-badge.svg\" alt=\"Open In Colab\"/></a>"
      ]
    },
    {
      "cell_type": "markdown",
      "metadata": {
        "id": "Qnw7LbVzzTec",
        "colab_type": "text"
      },
      "source": [
        "https://www.twilio.com/docs/sms/tutorials/how-to-send-sms-messages-python"
      ]
    },
    {
      "cell_type": "code",
      "metadata": {
        "id": "B-MAQ-OAzTQa",
        "colab_type": "code",
        "colab": {}
      },
      "source": [
        ""
      ],
      "execution_count": 0,
      "outputs": []
    },
    {
      "cell_type": "code",
      "metadata": {
        "id": "eJyDYqDeqMoB",
        "colab_type": "code",
        "colab": {}
      },
      "source": [
        "!pip install twilio"
      ],
      "execution_count": 0,
      "outputs": []
    },
    {
      "cell_type": "code",
      "metadata": {
        "id": "I05z6BvHqMqC",
        "colab_type": "code",
        "colab": {}
      },
      "source": [
        "import twilio\n",
        "import os\n",
        "import sys\n",
        "from twilio.rest import Client"
      ],
      "execution_count": 0,
      "outputs": []
    },
    {
      "cell_type": "code",
      "metadata": {
        "id": "7STPa7bXrqol",
        "colab_type": "code",
        "colab": {
          "base_uri": "https://localhost:8080/",
          "height": 34
        },
        "outputId": "5308f148-ad25-4544-c764-41c72f24b7d7"
      },
      "source": [
        "# Download the helper library from https://www.twilio.com/docs/python/install\n",
        "from twilio.rest import Client\n",
        "\n",
        "\n",
        "# Your Account Sid and Auth Token from twilio.com/console\n",
        "# DANGER! This is insecure. See http://twil.io/secure\n",
        "account_sid = 'AC1ae33ab44796f959a4f2d699ae81e8de'\n",
        "auth_token = '8175fba2b4dad4be1baa241183b00ab0'\n",
        "client = Client(account_sid, auth_token)\n",
        "\n",
        "message = client.messages \\\n",
        "    .create(\n",
        "         body='This is the ship that made the Kessel Run in fourteen parsecs?',\n",
        "         from_='+12562865877',\n",
        "         to='+918239512468'\n",
        "     )\n",
        "\n",
        "print(message.sid)"
      ],
      "execution_count": 20,
      "outputs": [
        {
          "output_type": "stream",
          "text": [
            "SM78e8c0d13aa34e17910847d38f76cfa1\n"
          ],
          "name": "stdout"
        }
      ]
    },
    {
      "cell_type": "code",
      "metadata": {
        "id": "MnClFLRiqMwp",
        "colab_type": "code",
        "colab": {
          "base_uri": "https://localhost:8080/",
          "height": 34
        },
        "outputId": "cd6383c8-dcd8-4793-e78e-df43026a5ec9"
      },
      "source": [
        "\n",
        "\n",
        "# HACKING HACKJNG HACKING   @@@@@@@ \n",
        "\n",
        "account_sid = \"AC1ae33ab44796f959a4f2d699ae81e8de\"  \n",
        "auth_token = \"8175fba2b4dad4be1baa241183b00ab0\"\n",
        "\n",
        "client = Client(account_sid , auth_token)\n",
        "\n",
        "client.messages.create(\n",
        "    to = \"+918482084102\",    #Enter your mobile number    \n",
        "    from_ = \"+12562865877\"  ,         # Enter your twilio number \n",
        "    body = \" this is jsut for testing purpose \"\n",
        "    )\n",
        "\n",
        "\n"
      ],
      "execution_count": 12,
      "outputs": [
        {
          "output_type": "execute_result",
          "data": {
            "text/plain": [
              "<Twilio.Api.V2010.MessageInstance account_sid=AC1ae33ab44796f959a4f2d699ae81e8de sid=SM3d771c1077884cb684f4349677f2719f>"
            ]
          },
          "metadata": {
            "tags": []
          },
          "execution_count": 12
        }
      ]
    },
    {
      "cell_type": "code",
      "metadata": {
        "id": "FJJPOA1QqM9T",
        "colab_type": "code",
        "colab": {}
      },
      "source": [
        ""
      ],
      "execution_count": 0,
      "outputs": []
    },
    {
      "cell_type": "code",
      "metadata": {
        "id": "BYKaI4BvqM8C",
        "colab_type": "code",
        "colab": {}
      },
      "source": [
        ""
      ],
      "execution_count": 0,
      "outputs": []
    },
    {
      "cell_type": "code",
      "metadata": {
        "id": "58q_m5_eqM6z",
        "colab_type": "code",
        "colab": {}
      },
      "source": [
        ""
      ],
      "execution_count": 0,
      "outputs": []
    },
    {
      "cell_type": "code",
      "metadata": {
        "id": "p5kxkEsOqM5O",
        "colab_type": "code",
        "colab": {}
      },
      "source": [
        ""
      ],
      "execution_count": 0,
      "outputs": []
    },
    {
      "cell_type": "code",
      "metadata": {
        "id": "qEQPaxroqM3q",
        "colab_type": "code",
        "colab": {}
      },
      "source": [
        ""
      ],
      "execution_count": 0,
      "outputs": []
    },
    {
      "cell_type": "code",
      "metadata": {
        "id": "wPdS_3-OqM2W",
        "colab_type": "code",
        "colab": {}
      },
      "source": [
        ""
      ],
      "execution_count": 0,
      "outputs": []
    },
    {
      "cell_type": "code",
      "metadata": {
        "id": "-LWfoHalqM08",
        "colab_type": "code",
        "colab": {}
      },
      "source": [
        ""
      ],
      "execution_count": 0,
      "outputs": []
    },
    {
      "cell_type": "code",
      "metadata": {
        "id": "AJxXeei5qMzH",
        "colab_type": "code",
        "colab": {}
      },
      "source": [
        ""
      ],
      "execution_count": 0,
      "outputs": []
    },
    {
      "cell_type": "code",
      "metadata": {
        "id": "oazNRcNQqMvh",
        "colab_type": "code",
        "colab": {}
      },
      "source": [
        ""
      ],
      "execution_count": 0,
      "outputs": []
    },
    {
      "cell_type": "code",
      "metadata": {
        "id": "SLZeJrNAqMtu",
        "colab_type": "code",
        "colab": {}
      },
      "source": [
        ""
      ],
      "execution_count": 0,
      "outputs": []
    }
  ]
}