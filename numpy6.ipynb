{
  "nbformat": 4,
  "nbformat_minor": 0,
  "metadata": {
    "colab": {
      "name": "TensorFlow with GPU",
      "version": "0.3.2",
      "provenance": [],
      "collapsed_sections": [],
      "toc_visible": true,
      "include_colab_link": true
    },
    "kernelspec": {
      "display_name": "Python 3",
      "name": "python3"
    }
  },
  "cells": [
    {
      "cell_type": "markdown",
      "metadata": {
        "id": "view-in-github",
        "colab_type": "text"
      },
      "source": [
        "<a href=\"https://colab.research.google.com/github/priyanshgupta1998/All_codes/blob/master/numpy6.ipynb\" target=\"_parent\"><img src=\"https://colab.research.google.com/assets/colab-badge.svg\" alt=\"Open In Colab\"/></a>"
      ]
    },
    {
      "metadata": {
        "id": "gniw6Yr6-YKO",
        "colab_type": "code",
        "colab": {}
      },
      "cell_type": "code",
      "source": [
        "import numpy as np\n",
        "import matplotlib.pyplot as plt\n",
        "from matplotlib import style\n"
      ],
      "execution_count": 0,
      "outputs": []
    },
    {
      "metadata": {
        "id": "wKyWkE0T-YOF",
        "colab_type": "code",
        "colab": {}
      },
      "cell_type": "code",
      "source": [
        "\n",
        "style.use(\"ggplot\")\n",
        "from sklearn import svm\n",
        "\n"
      ],
      "execution_count": 0,
      "outputs": []
    },
    {
      "metadata": {
        "id": "D2WXqxwb-YSG",
        "colab_type": "code",
        "colab": {
          "base_uri": "https://localhost:8080/",
          "height": 364
        },
        "outputId": "d7d7c81f-ce79-49d8-bf60-b10fa985a3d1"
      },
      "cell_type": "code",
      "source": [
        "x = [1, 5, 1.5, 8, 1, 9]\n",
        "y = [2, 8, 1.8, 8, 0.6, 11]\n",
        "\n",
        "plt.scatter(x,y)\n"
      ],
      "execution_count": 3,
      "outputs": [
        {
          "output_type": "execute_result",
          "data": {
            "text/plain": [
              "<matplotlib.collections.PathCollection at 0x7f2513377710>"
            ]
          },
          "metadata": {
            "tags": []
          },
          "execution_count": 3
        },
        {
          "output_type": "display_data",
          "data": {
            "image/png": "[encoded data removed]",
            "text/plain": [
              "<Figure size 576x396 with 1 Axes>"
            ]
          },
          "metadata": {
            "tags": []
          }
        }
      ]
    },
    {
      "metadata": {
        "id": "D7MdnOTT-YVl",
        "colab_type": "code",
        "colab": {
          "base_uri": "https://localhost:8080/",
          "height": 119
        },
        "outputId": "62ee9170-746c-40be-adf4-b422595041a8"
      },
      "cell_type": "code",
      "source": [
        "X = np.array([[1,2],\n",
        "             [5,8],\n",
        "             [1.5,1.8],\n",
        "             [8,8],\n",
        "             [1,0.6],\n",
        "             [9,11]])\n",
        "\n",
        "print(X)"
      ],
      "execution_count": 5,
      "outputs": [
        {
          "output_type": "stream",
          "text": [
            "[[ 1.   2. ]\n",
            " [ 5.   8. ]\n",
            " [ 1.5  1.8]\n",
            " [ 8.   8. ]\n",
            " [ 1.   0.6]\n",
            " [ 9.  11. ]]\n"
          ],
          "name": "stdout"
        }
      ]
    },
    {
      "metadata": {
        "id": "e68W3tZbU0mF",
        "colab_type": "code",
        "colab": {
          "base_uri": "https://localhost:8080/",
          "height": 364
        },
        "outputId": "156beb5f-2def-48e4-e830-5142e7f6406c"
      },
      "cell_type": "code",
      "source": [
        "plt.imshow(X)"
      ],
      "execution_count": 38,
      "outputs": [
        {
          "output_type": "execute_result",
          "data": {
            "text/plain": [
              "<matplotlib.image.AxesImage at 0x7f25112444e0>"
            ]
          },
          "metadata": {
            "tags": []
          },
          "execution_count": 38
        },
        {
          "output_type": "display_data",
          "data": {
            "image/png": "[encoded data removed]",
            "text/plain": [
              "<Figure size 576x396 with 1 Axes>"
            ]
          },
          "metadata": {
            "tags": []
          }
        }
      ]
    },
    {
      "metadata": {
        "id": "5Bb0k5riSGYs",
        "colab_type": "code",
        "colab": {
          "base_uri": "https://localhost:8080/",
          "height": 34
        },
        "outputId": "2abde0d5-7760-4bf3-81cd-638792bfdba4"
      },
      "cell_type": "code",
      "source": [
        "X.shape  #6 rows and 2 column"
      ],
      "execution_count": 31,
      "outputs": [
        {
          "output_type": "execute_result",
          "data": {
            "text/plain": [
              "(6, 2)"
            ]
          },
          "metadata": {
            "tags": []
          },
          "execution_count": 31
        }
      ]
    },
    {
      "metadata": {
        "id": "dmB1Z_EqQ78M",
        "colab_type": "code",
        "colab": {
          "base_uri": "https://localhost:8080/",
          "height": 34
        },
        "outputId": "02f24707-316f-41cc-be1c-17b235fe4824"
      },
      "cell_type": "code",
      "source": [
        "y = [0,1,0,1,0,1]\n",
        "print(y)"
      ],
      "execution_count": 22,
      "outputs": [
        {
          "output_type": "stream",
          "text": [
            "[0, 1, 0, 1, 0, 1]\n"
          ],
          "name": "stdout"
        }
      ]
    },
    {
      "metadata": {
        "id": "ON998UqDQ73j",
        "colab_type": "code",
        "colab": {
          "base_uri": "https://localhost:8080/",
          "height": 51
        },
        "outputId": "d77514c8-a8db-47c8-ae3f-d11cb2e06ede"
      },
      "cell_type": "code",
      "source": [
        "X.reshape(1, -1)"
      ],
      "execution_count": 23,
      "outputs": [
        {
          "output_type": "execute_result",
          "data": {
            "text/plain": [
              "array([[ 1. ,  2. ,  5. ,  8. ,  1.5,  1.8,  8. ,  8. ,  1. ,  0.6,  9. ,\n",
              "        11. ]])"
            ]
          },
          "metadata": {
            "tags": []
          },
          "execution_count": 23
        }
      ]
    },
    {
      "metadata": {
        "id": "ppWCOCl6U8L2",
        "colab_type": "code",
        "colab": {
          "base_uri": "https://localhost:8080/",
          "height": 106
        },
        "outputId": "651b2e98-4192-4075-d443-57c581da6ccf"
      },
      "cell_type": "code",
      "source": [
        "plt.imshow(X.reshape(1, -1))"
      ],
      "execution_count": 39,
      "outputs": [
        {
          "output_type": "execute_result",
          "data": {
            "text/plain": [
              "<matplotlib.image.AxesImage at 0x7f251121d748>"
            ]
          },
          "metadata": {
            "tags": []
          },
          "execution_count": 39
        },
        {
          "output_type": "display_data",
          "data": {
            "image/png": "[encoded data removed]",
            "text/plain": [
              "<Figure size 576x396 with 1 Axes>"
            ]
          },
          "metadata": {
            "tags": []
          }
        }
      ]
    },
    {
      "metadata": {
        "id": "hytRJ6QDSWBx",
        "colab_type": "code",
        "colab": {
          "base_uri": "https://localhost:8080/",
          "height": 34
        },
        "outputId": "60ba33a8-fa7f-434e-e5b2-7a4e1e8aac44"
      },
      "cell_type": "code",
      "source": [
        "X.reshape(1, -1).shape   # 1 row and 12 column"
      ],
      "execution_count": 33,
      "outputs": [
        {
          "output_type": "execute_result",
          "data": {
            "text/plain": [
              "(1, 12)"
            ]
          },
          "metadata": {
            "tags": []
          },
          "execution_count": 33
        }
      ]
    },
    {
      "metadata": {
        "id": "od_bAmGTQ61r",
        "colab_type": "code",
        "colab": {}
      },
      "cell_type": "code",
      "source": [
        "clf = svm.SVC(kernel='linear', C = 1.0)"
      ],
      "execution_count": 0,
      "outputs": []
    },
    {
      "metadata": {
        "id": "we37hM0zRJiq",
        "colab_type": "code",
        "colab": {
          "base_uri": "https://localhost:8080/",
          "height": 85
        },
        "outputId": "02dade28-7945-42ba-a155-50a5e1442ece"
      },
      "cell_type": "code",
      "source": [
        "clf.fit(X,y)\n"
      ],
      "execution_count": 25,
      "outputs": [
        {
          "output_type": "execute_result",
          "data": {
            "text/plain": [
              "SVC(C=1.0, cache_size=200, class_weight=None, coef0=0.0,\n",
              "  decision_function_shape='ovr', degree=3, gamma='auto_deprecated',\n",
              "  kernel='linear', max_iter=-1, probability=False, random_state=None,\n",
              "  shrinking=True, tol=0.001, verbose=False)"
            ]
          },
          "metadata": {
            "tags": []
          },
          "execution_count": 25
        }
      ]
    },
    {
      "metadata": {
        "id": "xR_wvDoIRMDS",
        "colab_type": "code",
        "colab": {
          "base_uri": "https://localhost:8080/",
          "height": 34
        },
        "outputId": "8026c073-6fdf-48ed-fb03-de8d8894f25d"
      },
      "cell_type": "code",
      "source": [
        "print(clf.predict([[0.58,0.76]]))\n"
      ],
      "execution_count": 26,
      "outputs": [
        {
          "output_type": "stream",
          "text": [
            "[0]\n"
          ],
          "name": "stdout"
        }
      ]
    },
    {
      "metadata": {
        "id": "zw4Pf4Q9RWIb",
        "colab_type": "code",
        "colab": {
          "base_uri": "https://localhost:8080/",
          "height": 34
        },
        "outputId": "edf8f220-2a40-4a29-b6b0-315b75ce4f3d"
      },
      "cell_type": "code",
      "source": [
        "print(clf.predict([[8,8]]))"
      ],
      "execution_count": 28,
      "outputs": [
        {
          "output_type": "stream",
          "text": [
            "[1]\n"
          ],
          "name": "stdout"
        }
      ]
    },
    {
      "metadata": {
        "id": "yRFZ39zmTZd0",
        "colab_type": "text"
      },
      "cell_type": "markdown",
      "source": [
        "** (2,) meaning 2 rows, 1 column**"
      ]
    },
    {
      "metadata": {
        "id": "vqV-N2GMTA_N",
        "colab_type": "code",
        "colab": {
          "base_uri": "https://localhost:8080/",
          "height": 51
        },
        "outputId": "8926041b-c849-4be2-8913-46cdfb14af3c"
      },
      "cell_type": "code",
      "source": [
        "print(np.array([0.58,0.76]).shape)   # 2 rows and 1 column\n",
        "print(np.array([0.58,0.76])) "
      ],
      "execution_count": 36,
      "outputs": [
        {
          "output_type": "stream",
          "text": [
            "(2,)\n",
            "[0.58 0.76]\n"
          ],
          "name": "stdout"
        }
      ]
    },
    {
      "metadata": {
        "id": "UQ3hq0rETxqt",
        "colab_type": "code",
        "colab": {
          "base_uri": "https://localhost:8080/",
          "height": 51
        },
        "outputId": "d5fba18d-a6c0-4671-e040-354bd000e568"
      },
      "cell_type": "code",
      "source": [
        "print(np.array([0.58,0.76]).reshape(1,-1)) \n",
        "print(np.array([0.58,0.76]).reshape(1,-1).shape)   # 1 row and 2 columns"
      ],
      "execution_count": 37,
      "outputs": [
        {
          "output_type": "stream",
          "text": [
            "[[0.58 0.76]]\n",
            "(1, 2)\n"
          ],
          "name": "stdout"
        }
      ]
    },
    {
      "metadata": {
        "id": "zZoXQlMRRhwr",
        "colab_type": "text"
      },
      "cell_type": "markdown",
      "source": [
        "**Extra Work Start **"
      ]
    },
    {
      "metadata": {
        "id": "YSRkVZfZOJVi",
        "colab_type": "code",
        "colab": {
          "base_uri": "https://localhost:8080/",
          "height": 34
        },
        "outputId": "55f685cb-e646-4e52-9755-274d5e06e53b"
      },
      "cell_type": "code",
      "source": [
        "type(X)"
      ],
      "execution_count": 8,
      "outputs": [
        {
          "output_type": "execute_result",
          "data": {
            "text/plain": [
              "numpy.ndarray"
            ]
          },
          "metadata": {
            "tags": []
          },
          "execution_count": 8
        }
      ]
    },
    {
      "metadata": {
        "id": "6gOYvnxS-YZ4",
        "colab_type": "code",
        "colab": {}
      },
      "cell_type": "code",
      "source": [
        "y = [0,1,0,1,0,1]\n"
      ],
      "execution_count": 0,
      "outputs": []
    },
    {
      "metadata": {
        "id": "54wTBGIfPD1z",
        "colab_type": "text"
      },
      "cell_type": "markdown",
      "source": [
        "\n",
        "\n",
        "```\n",
        "NumPy provides the reshape() function on the NumPy array object that can be used to reshape the data.\n",
        "```\n",
        "\n"
      ]
    },
    {
      "metadata": {
        "id": "vzIZNpaQOBRt",
        "colab_type": "code",
        "colab": {
          "base_uri": "https://localhost:8080/",
          "height": 34
        },
        "outputId": "ae1744ec-39fe-4285-804c-b3b42d60c963"
      },
      "cell_type": "code",
      "source": [
        "print(X.reshape(1, -1))\n"
      ],
      "execution_count": 13,
      "outputs": [
        {
          "output_type": "stream",
          "text": [
            "[[ 1.   2.   5.   8.   1.5  1.8  8.   8.   1.   0.6  9.  11. ]]\n"
          ],
          "name": "stdout"
        }
      ]
    },
    {
      "metadata": {
        "id": "VB9RKP7IOBVV",
        "colab_type": "code",
        "colab": {
          "base_uri": "https://localhost:8080/",
          "height": 34
        },
        "outputId": "a87788c1-03e7-447e-ba84-6441eff0137d"
      },
      "cell_type": "code",
      "source": [
        "type(X.reshape(1, -1))"
      ],
      "execution_count": 10,
      "outputs": [
        {
          "output_type": "execute_result",
          "data": {
            "text/plain": [
              "numpy.ndarray"
            ]
          },
          "metadata": {
            "tags": []
          },
          "execution_count": 10
        }
      ]
    },
    {
      "metadata": {
        "id": "fHmjShIbQAWS",
        "colab_type": "code",
        "colab": {
          "base_uri": "https://localhost:8080/",
          "height": 221
        },
        "outputId": "cfa143fc-21db-4786-8ead-57411067e1f2"
      },
      "cell_type": "code",
      "source": [
        "print(X.reshape(-1, 1))"
      ],
      "execution_count": 20,
      "outputs": [
        {
          "output_type": "stream",
          "text": [
            "[[ 1. ]\n",
            " [ 2. ]\n",
            " [ 5. ]\n",
            " [ 8. ]\n",
            " [ 1.5]\n",
            " [ 1.8]\n",
            " [ 8. ]\n",
            " [ 8. ]\n",
            " [ 1. ]\n",
            " [ 0.6]\n",
            " [ 9. ]\n",
            " [11. ]]\n"
          ],
          "name": "stdout"
        }
      ]
    },
    {
      "metadata": {
        "id": "hHCI9cY8Sgo-",
        "colab_type": "code",
        "colab": {
          "base_uri": "https://localhost:8080/",
          "height": 34
        },
        "outputId": "d421a4de-7ff1-4059-b5e0-aef6c6085be5"
      },
      "cell_type": "code",
      "source": [
        "X.reshape(-1, 1).shape      #12 rows and 1 column"
      ],
      "execution_count": 34,
      "outputs": [
        {
          "output_type": "execute_result",
          "data": {
            "text/plain": [
              "(12, 1)"
            ]
          },
          "metadata": {
            "tags": []
          },
          "execution_count": 34
        }
      ]
    },
    {
      "metadata": {
        "id": "9Egt5TUAOBYx",
        "colab_type": "code",
        "colab": {}
      },
      "cell_type": "code",
      "source": [
        "k =X.reshape(1, -1)"
      ],
      "execution_count": 0,
      "outputs": []
    },
    {
      "metadata": {
        "id": "sDjqX6wuOBbi",
        "colab_type": "code",
        "colab": {
          "base_uri": "https://localhost:8080/",
          "height": 34
        },
        "outputId": "80c78cbd-800f-422c-e1b3-a8887ec991df"
      },
      "cell_type": "code",
      "source": [
        "print(k)"
      ],
      "execution_count": 15,
      "outputs": [
        {
          "output_type": "stream",
          "text": [
            "[[ 1.   2.   5.   8.   1.5  1.8  8.   8.   1.   0.6  9.  11. ]]\n"
          ],
          "name": "stdout"
        }
      ]
    },
    {
      "metadata": {
        "id": "VMdMZoHPSAk0",
        "colab_type": "code",
        "colab": {
          "base_uri": "https://localhost:8080/",
          "height": 34
        },
        "outputId": "018a6e4f-1e7d-4d32-85a2-87760adc3ecd"
      },
      "cell_type": "code",
      "source": [
        "k.shape"
      ],
      "execution_count": 30,
      "outputs": [
        {
          "output_type": "execute_result",
          "data": {
            "text/plain": [
              "(1, 12)"
            ]
          },
          "metadata": {
            "tags": []
          },
          "execution_count": 30
        }
      ]
    },
    {
      "metadata": {
        "id": "dUnHlslOOBfU",
        "colab_type": "code",
        "colab": {
          "base_uri": "https://localhost:8080/",
          "height": 221
        },
        "outputId": "60f7b229-799e-429e-bddd-d5d94e6ed80c"
      },
      "cell_type": "code",
      "source": [
        "print(k.reshape(-1, 1))"
      ],
      "execution_count": 17,
      "outputs": [
        {
          "output_type": "stream",
          "text": [
            "[[ 1. ]\n",
            " [ 2. ]\n",
            " [ 5. ]\n",
            " [ 8. ]\n",
            " [ 1.5]\n",
            " [ 1.8]\n",
            " [ 8. ]\n",
            " [ 8. ]\n",
            " [ 1. ]\n",
            " [ 0.6]\n",
            " [ 9. ]\n",
            " [11. ]]\n"
          ],
          "name": "stdout"
        }
      ]
    },
    {
      "metadata": {
        "id": "TofUB4XJOBeL",
        "colab_type": "code",
        "colab": {
          "base_uri": "https://localhost:8080/",
          "height": 119
        },
        "outputId": "490f531c-ed74-445f-9df1-d62f5cd08936"
      },
      "cell_type": "code",
      "source": [
        "X = np.array([[1,2,3,4],\n",
        "             [5,2,5,8],\n",
        "             [1.5,0,2,1.8],\n",
        "             [8,5,7,8],\n",
        "             [1,3,9,0.6],\n",
        "             [9,8,9,11]])\n",
        "\n",
        "print(X)"
      ],
      "execution_count": 40,
      "outputs": [
        {
          "output_type": "stream",
          "text": [
            "[[ 1.   2.   3.   4. ]\n",
            " [ 5.   2.   5.   8. ]\n",
            " [ 1.5  0.   2.   1.8]\n",
            " [ 8.   5.   7.   8. ]\n",
            " [ 1.   3.   9.   0.6]\n",
            " [ 9.   8.   9.  11. ]]\n"
          ],
          "name": "stdout"
        }
      ]
    },
    {
      "metadata": {
        "id": "HOASPKwmXMZu",
        "colab_type": "code",
        "colab": {
          "base_uri": "https://localhost:8080/",
          "height": 34
        },
        "outputId": "817a224f-faf1-40e4-d1e4-e12f31d5a111"
      },
      "cell_type": "code",
      "source": [
        "X.shape"
      ],
      "execution_count": 42,
      "outputs": [
        {
          "output_type": "execute_result",
          "data": {
            "text/plain": [
              "(6, 4)"
            ]
          },
          "metadata": {
            "tags": []
          },
          "execution_count": 42
        }
      ]
    },
    {
      "metadata": {
        "id": "8NfZRAZnWRX4",
        "colab_type": "code",
        "colab": {
          "base_uri": "https://localhost:8080/",
          "height": 68
        },
        "outputId": "ce09fe43-34bd-4b52-f470-3d93d66c8577"
      },
      "cell_type": "code",
      "source": [
        "X.reshape(1,-1)"
      ],
      "execution_count": 41,
      "outputs": [
        {
          "output_type": "execute_result",
          "data": {
            "text/plain": [
              "array([[ 1. ,  2. ,  3. ,  4. ,  5. ,  2. ,  5. ,  8. ,  1.5,  0. ,  2. ,\n",
              "         1.8,  8. ,  5. ,  7. ,  8. ,  1. ,  3. ,  9. ,  0.6,  9. ,  8. ,\n",
              "         9. , 11. ]])"
            ]
          },
          "metadata": {
            "tags": []
          },
          "execution_count": 41
        }
      ]
    },
    {
      "metadata": {
        "id": "yuAQviZsWRbM",
        "colab_type": "code",
        "colab": {
          "base_uri": "https://localhost:8080/",
          "height": 34
        },
        "outputId": "2d43fd67-9f62-4624-ce9c-7496979438f2"
      },
      "cell_type": "code",
      "source": [
        "X.reshape(1,-1).shape"
      ],
      "execution_count": 43,
      "outputs": [
        {
          "output_type": "execute_result",
          "data": {
            "text/plain": [
              "(1, 24)"
            ]
          },
          "metadata": {
            "tags": []
          },
          "execution_count": 43
        }
      ]
    }
  ]
}