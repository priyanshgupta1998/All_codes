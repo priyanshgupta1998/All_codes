{
  "nbformat": 4,
  "nbformat_minor": 0,
  "metadata": {
    "colab": {
      "name": "TensorFlow with GPU",
      "version": "0.3.2",
      "provenance": [],
      "collapsed_sections": [],
      "include_colab_link": true
    },
    "kernelspec": {
      "name": "python3",
      "display_name": "Python 3"
    },
    "accelerator": "GPU"
  },
  "cells": [
    {
      "cell_type": "markdown",
      "metadata": {
        "id": "view-in-github",
        "colab_type": "text"
      },
      "source": [
        "<a href=\"https://colab.research.google.com/github/priyanshgupta1998/All_codes/blob/master/Read_Excel_files.ipynb\" target=\"_parent\"><img src=\"https://colab.research.google.com/assets/colab-badge.svg\" alt=\"Open In Colab\"/></a>"
      ]
    },
    {
      "cell_type": "markdown",
      "metadata": {
        "id": "2PS-FsQ2LBgw",
        "colab_type": "text"
      },
      "source": [
        "#Read Excel (.xlsx) file using python"
      ]
    },
    {
      "cell_type": "code",
      "metadata": {
        "id": "ZYBg2OoZGYeI",
        "colab_type": "code",
        "colab": {
          "base_uri": "https://localhost:8080/",
          "height": 34
        },
        "outputId": "9ee6d2ad-7d78-4659-f948-39b6440e2b4a"
      },
      "source": [
        "!pip install xlrd"
      ],
      "execution_count": 1,
      "outputs": [
        {
          "output_type": "stream",
          "text": [
            "Requirement already satisfied: xlrd in /usr/local/lib/python3.6/dist-packages (1.1.0)\n"
          ],
          "name": "stdout"
        }
      ]
    },
    {
      "cell_type": "code",
      "metadata": {
        "id": "u3YD458LGYg7",
        "colab_type": "code",
        "colab": {}
      },
      "source": [
        "import xlrd\n",
        "# To open Workbook \n",
        "df = xlrd.open_workbook('/home/sampledata.xlsx')"
      ],
      "execution_count": 0,
      "outputs": []
    },
    {
      "cell_type": "code",
      "metadata": {
        "id": "n2F8dubPGYjM",
        "colab_type": "code",
        "colab": {
          "base_uri": "https://localhost:8080/",
          "height": 34
        },
        "outputId": "88987253-c2f3-4ed5-8b81-d6e7cd57473f"
      },
      "source": [
        "df"
      ],
      "execution_count": 3,
      "outputs": [
        {
          "output_type": "execute_result",
          "data": {
            "text/plain": [
              "<xlrd.book.Book at 0x7f4ed62daa58>"
            ]
          },
          "metadata": {
            "tags": []
          },
          "execution_count": 3
        }
      ]
    },
    {
      "cell_type": "code",
      "metadata": {
        "id": "hFNR8dMpHZ0z",
        "colab_type": "code",
        "colab": {}
      },
      "source": [
        "sheet = df.sheet_by_index(0) "
      ],
      "execution_count": 0,
      "outputs": []
    },
    {
      "cell_type": "code",
      "metadata": {
        "id": "nlP3eSY_HfIU",
        "colab_type": "code",
        "colab": {
          "base_uri": "https://localhost:8080/",
          "height": 34
        },
        "outputId": "db75b6f1-6d34-4a81-f27d-adb3225676c4"
      },
      "source": [
        "sheet"
      ],
      "execution_count": 7,
      "outputs": [
        {
          "output_type": "execute_result",
          "data": {
            "text/plain": [
              "<xlrd.sheet.Sheet at 0x7f4ed6309668>"
            ]
          },
          "metadata": {
            "tags": []
          },
          "execution_count": 7
        }
      ]
    },
    {
      "cell_type": "code",
      "metadata": {
        "id": "AI58mqG1H8Qd",
        "colab_type": "code",
        "colab": {
          "base_uri": "https://localhost:8080/",
          "height": 34
        },
        "outputId": "9f158d1c-32eb-48f7-a917-32c6dfcecefb"
      },
      "source": [
        "sheet.nrows"
      ],
      "execution_count": 11,
      "outputs": [
        {
          "output_type": "execute_result",
          "data": {
            "text/plain": [
              "597"
            ]
          },
          "metadata": {
            "tags": []
          },
          "execution_count": 11
        }
      ]
    },
    {
      "cell_type": "code",
      "metadata": {
        "id": "iw4pxKOJIBjP",
        "colab_type": "code",
        "colab": {
          "base_uri": "https://localhost:8080/",
          "height": 34
        },
        "outputId": "fadb9059-5b4d-4e15-9c3d-be64838ea6ce"
      },
      "source": [
        "sheet.ncols"
      ],
      "execution_count": 12,
      "outputs": [
        {
          "output_type": "execute_result",
          "data": {
            "text/plain": [
              "1"
            ]
          },
          "metadata": {
            "tags": []
          },
          "execution_count": 12
        }
      ]
    },
    {
      "cell_type": "code",
      "metadata": {
        "id": "ensZxCW1KIkx",
        "colab_type": "code",
        "colab": {
          "base_uri": "https://localhost:8080/",
          "height": 54
        },
        "outputId": "a1b78cb4-7d81-40ff-89de-04e4d5f154d5"
      },
      "source": [
        "print(sheet.row_values(1)) "
      ],
      "execution_count": 22,
      "outputs": [
        {
          "output_type": "stream",
          "text": [
            "['Ciao Maurizio,\\n\\nGrazie mille per aver trovato il tempo per mettervi in contatto con noi per questo problema! Purtroppo non parlo l\\'italiano, quindi spero vada bene lo stesso se rispondo in inglese:\\n\\nThank you so much for reaching out and taking the time to contact us about this issue!\\n\\nUsually, the notification alert on the   app icon indicates that there are new flyers or catalogues available in your \"Offers\" section in   and should clear as soon as all notifications that are tagged as \"New\" have been opened once. Unfortunately, the notification alert on the   app icon not disappearing even though all new offers in   have already been opened seems to be a bug on very few devices at the moment. I can assure you that our developers are already aware of the problem and try to solve it as soon as possible. \\n\\nAlternatively, you can also disable the notification badge completely in your general system settings under \"Notifications\" -> \" \" -> \"Badge App Icon\". \\n\\nIn the meantime, we sincerely apologize for the inconvenience this causes and hope that you can use   in its full functionality again soon. \\n\\nSe doveste avere ulteriori domande, proposte per miglioramenti o commenti generali, non esitate a contattarmi di nuovo.\\n\\nTanti saluti,\\n\\n\\nIsabelle van Capelleveen\\nCustomer Support\\n\\n  GmbH\\nC-HUB / Hafenstraße 25-27\\n68159 Mannheim']\n"
          ],
          "name": "stdout"
        }
      ]
    },
    {
      "cell_type": "code",
      "metadata": {
        "id": "44TfKU-NGYld",
        "colab_type": "code",
        "colab": {
          "base_uri": "https://localhost:8080/",
          "height": 1737
        },
        "outputId": "4fa8c28f-bff5-49a1-ec9f-e61e0071e496"
      },
      "source": [
        "\n",
        "  \n",
        "# For row 0 and column 0 \n",
        "for i in range(5):\n",
        "    print(sheet.cell_value(i,0))\n",
        "    print('\\n-----------------------------------------------------------------------------------------------------------------------------------------\\n')"
      ],
      "execution_count": 21,
      "outputs": [
        {
          "output_type": "stream",
          "text": [
            "Information\n",
            "\n",
            "-----------------------------------------------------------------------------------------------------------------------------------------\n",
            "\n",
            "Ciao Maurizio,\n",
            "\n",
            "Grazie mille per aver trovato il tempo per mettervi in contatto con noi per questo problema! Purtroppo non parlo l'italiano, quindi spero vada bene lo stesso se rispondo in inglese:\n",
            "\n",
            "Thank you so much for reaching out and taking the time to contact us about this issue!\n",
            "\n",
            "Usually, the notification alert on the   app icon indicates that there are new flyers or catalogues available in your \"Offers\" section in   and should clear as soon as all notifications that are tagged as \"New\" have been opened once. Unfortunately, the notification alert on the   app icon not disappearing even though all new offers in   have already been opened seems to be a bug on very few devices at the moment. I can assure you that our developers are already aware of the problem and try to solve it as soon as possible. \n",
            "\n",
            "Alternatively, you can also disable the notification badge completely in your general system settings under \"Notifications\" -> \" \" -> \"Badge App Icon\". \n",
            "\n",
            "In the meantime, we sincerely apologize for the inconvenience this causes and hope that you can use   in its full functionality again soon. \n",
            "\n",
            "Se doveste avere ulteriori domande, proposte per miglioramenti o commenti generali, non esitate a contattarmi di nuovo.\n",
            "\n",
            "Tanti saluti,\n",
            "\n",
            "\n",
            "Isabelle van Capelleveen\n",
            "Customer Support\n",
            "\n",
            "  GmbH\n",
            "C-HUB / Hafenstraße 25-27\n",
            "68159 Mannheim\n",
            "\n",
            "-----------------------------------------------------------------------------------------------------------------------------------------\n",
            "\n",
            "Ciao Maurizio,\n",
            "\n",
            "Grazie mille per aver trovato il tempo per mettervi in contatto con noi per questo problema! Purtroppo non parlo l'italiano, quindi spero vada bene lo stesso se rispondo in inglese:\n",
            "\n",
            "Thank you so much for reaching out and taking the time to contact us about this issue!\n",
            "\n",
            "Usually, the notification alert on the   app icon indicates that there are new flyers or catalogues available in your \"Offers\" section in   and should clear as soon as all notifications that are tagged as \"New\" have been opened once. Unfortunately, the notification alert on the   app icon not disappearing even though all new offers in   have already been opened seems to be a bug on very few devices at the moment. I can assure you that our developers are already aware of the problem and try to solve it as soon as possible. \n",
            "\n",
            "Alternatively, you can also disable the notification badge completely in your general system settings under \"Notifications\" -> \" \" -> \"Badge App Icon\". \n",
            "\n",
            "In the meantime, we sincerely apologize for the inconvenience this causes and hope that you can use   in its full functionality again soon. \n",
            "\n",
            "Se doveste avere ulteriori domande, proposte per miglioramenti o commenti generali, non esitate a contattarmi di nuovo.\n",
            "\n",
            "Tanti saluti,\n",
            "\n",
            "\n",
            "Isabelle van Capelleveen\n",
            "Customer Support\n",
            "\n",
            "  GmbH\n",
            "C-HUB / Hafenstraße 25-27\n",
            "68159 Mannheim\n",
            "\n",
            "-----------------------------------------------------------------------------------------------------------------------------------------\n",
            "\n",
            "こんにちは、 のユーザー様。\n",
            "\n",
            "この問題についてご連絡いただきありがとうございます。 申し訳ありませんが私は日本語語が話せませんので、英語で書かせて頂くことをご容赦ください:\n",
            "\n",
            "Thank you for reaching out and taking the time to send us feedback! It is very much appreciated!\n",
            "\n",
            "I'm afraid, the feature to retrieve your current points balance via   is currently only available for selected cards and regions. We are constantly trying to add more regions and card providers to this feature and hope that we can offer this service also for the region Japan in the future. In the meantime, we sincerely apologize for the inconvenience this causes. \n",
            "\n",
            "その他にもご質問や改善の提案、一般的なご意見などございましたら、お気軽にお問い合わせください。\n",
            "\n",
            "敬具、\n",
            "\n",
            "\n",
            "Isabelle van Capelleveen\n",
            "Customer Support\n",
            "\n",
            "  GmbH\n",
            "C-HUB / Hafenstraße 25-27\n",
            "68159 Mannheim\n",
            "\n",
            "-----------------------------------------------------------------------------------------------------------------------------------------\n",
            "\n",
            "こんにちは、 のユーザー様。\n",
            "\n",
            "この問題についてご連絡いただきありがとうございます。 申し訳ありませんが私は日本語語が話せませんので、英語で書かせて頂くことをご容赦ください:\n",
            "\n",
            "Thank you for reaching out and taking the time to send us feedback! It is very much appreciated!\n",
            "\n",
            "I'm afraid, the feature to retrieve your current points balance via   is currently only available for selected cards and regions. We are constantly trying to add more regions and card providers to this feature and hope that we can offer this service also for the region Japan in the future. In the meantime, we sincerely apologize for the inconvenience this causes. \n",
            "\n",
            "その他にもご質問や改善の提案、一般的なご意見などございましたら、お気軽にお問い合わせください。\n",
            "\n",
            "敬具、\n",
            "\n",
            "\n",
            "Isabelle van Capelleveen\n",
            "Customer Support\n",
            "\n",
            "  GmbH\n",
            "C-HUB / Hafenstraße 25-27\n",
            "68159 Mannheim\n",
            "\n",
            "-----------------------------------------------------------------------------------------------------------------------------------------\n",
            "\n"
          ],
          "name": "stdout"
        }
      ]
    },
    {
      "cell_type": "markdown",
      "metadata": {
        "id": "GKwTdv5mKaAD",
        "colab_type": "text"
      },
      "source": [
        "\n",
        "\n",
        "---\n",
        "\n",
        "\n",
        "\n",
        "---\n",
        "\n",
        "\n",
        "\n",
        "---\n",
        "\n",
        "\n",
        "\n",
        "---\n",
        "\n",
        "\n",
        "\n",
        "---\n",
        "\n"
      ]
    },
    {
      "cell_type": "markdown",
      "metadata": {
        "id": "jjezjHZNLIAI",
        "colab_type": "text"
      },
      "source": [
        "#Read Excel (.xlsx) file using pandas "
      ]
    },
    {
      "cell_type": "code",
      "metadata": {
        "id": "ZCGq08qrGYnK",
        "colab_type": "code",
        "colab": {}
      },
      "source": [
        "import pandas as pd\n",
        "data = pd.read_excel('/home/sampledata.xlsx')"
      ],
      "execution_count": 0,
      "outputs": []
    },
    {
      "cell_type": "code",
      "metadata": {
        "id": "tBZtDH8jGY3A",
        "colab_type": "code",
        "colab": {
          "base_uri": "https://localhost:8080/",
          "height": 34
        },
        "outputId": "57fd8a99-bac4-4551-f2e2-00b8825b9244"
      },
      "source": [
        "len(data)"
      ],
      "execution_count": 25,
      "outputs": [
        {
          "output_type": "execute_result",
          "data": {
            "text/plain": [
              "596"
            ]
          },
          "metadata": {
            "tags": []
          },
          "execution_count": 25
        }
      ]
    },
    {
      "cell_type": "code",
      "metadata": {
        "id": "OhGu5q0vGY1C",
        "colab_type": "code",
        "colab": {
          "base_uri": "https://localhost:8080/",
          "height": 34
        },
        "outputId": "2981b54e-6a4f-442a-afee-469e0c53bf3f"
      },
      "source": [
        "data.shape"
      ],
      "execution_count": 26,
      "outputs": [
        {
          "output_type": "execute_result",
          "data": {
            "text/plain": [
              "(596, 1)"
            ]
          },
          "metadata": {
            "tags": []
          },
          "execution_count": 26
        }
      ]
    },
    {
      "cell_type": "code",
      "metadata": {
        "id": "s4Ytq2GqKuH3",
        "colab_type": "code",
        "colab": {
          "base_uri": "https://localhost:8080/",
          "height": 235
        },
        "outputId": "390a8bf1-aaa9-4fae-bc16-a08ff1350371"
      },
      "source": [
        "data.head(6)"
      ],
      "execution_count": 28,
      "outputs": [
        {
          "output_type": "execute_result",
          "data": {
            "text/html": [
              "<div>\n",
              "<style scoped>\n",
              "    .dataframe tbody tr th:only-of-type {\n",
              "        vertical-align: middle;\n",
              "    }\n",
              "\n",
              "    .dataframe tbody tr th {\n",
              "        vertical-align: top;\n",
              "    }\n",
              "\n",
              "    .dataframe thead th {\n",
              "        text-align: right;\n",
              "    }\n",
              "</style>\n",
              "<table border=\"1\" class=\"dataframe\">\n",
              "  <thead>\n",
              "    <tr style=\"text-align: right;\">\n",
              "      <th></th>\n",
              "      <th>Information</th>\n",
              "    </tr>\n",
              "  </thead>\n",
              "  <tbody>\n",
              "    <tr>\n",
              "      <th>0</th>\n",
              "      <td>Ciao Maurizio,\\n\\nGrazie mille per aver trovat...</td>\n",
              "    </tr>\n",
              "    <tr>\n",
              "      <th>1</th>\n",
              "      <td>Ciao Maurizio,\\n\\nGrazie mille per aver trovat...</td>\n",
              "    </tr>\n",
              "    <tr>\n",
              "      <th>2</th>\n",
              "      <td>こんにちは、 のユーザー様。\\n\\nこの問題についてご連絡いただきありがとうございます。 申...</td>\n",
              "    </tr>\n",
              "    <tr>\n",
              "      <th>3</th>\n",
              "      <td>こんにちは、 のユーザー様。\\n\\nこの問題についてご連絡いただきありがとうございます。 申...</td>\n",
              "    </tr>\n",
              "    <tr>\n",
              "      <th>4</th>\n",
              "      <td>Hi Stephane,\\n\\nThank you for keeping me updat...</td>\n",
              "    </tr>\n",
              "    <tr>\n",
              "      <th>5</th>\n",
              "      <td>Hi Nick,\\n\\nThank you so much for reaching out...</td>\n",
              "    </tr>\n",
              "  </tbody>\n",
              "</table>\n",
              "</div>"
            ],
            "text/plain": [
              "                                         Information\n",
              "0  Ciao Maurizio,\\n\\nGrazie mille per aver trovat...\n",
              "1  Ciao Maurizio,\\n\\nGrazie mille per aver trovat...\n",
              "2  こんにちは、 のユーザー様。\\n\\nこの問題についてご連絡いただきありがとうございます。 申...\n",
              "3  こんにちは、 のユーザー様。\\n\\nこの問題についてご連絡いただきありがとうございます。 申...\n",
              "4  Hi Stephane,\\n\\nThank you for keeping me updat...\n",
              "5  Hi Nick,\\n\\nThank you so much for reaching out..."
            ]
          },
          "metadata": {
            "tags": []
          },
          "execution_count": 28
        }
      ]
    },
    {
      "cell_type": "code",
      "metadata": {
        "id": "e7cviXRqKuD7",
        "colab_type": "code",
        "colab": {}
      },
      "source": [
        ""
      ],
      "execution_count": 0,
      "outputs": []
    },
    {
      "cell_type": "code",
      "metadata": {
        "id": "AV33AqZLKuBZ",
        "colab_type": "code",
        "colab": {}
      },
      "source": [
        ""
      ],
      "execution_count": 0,
      "outputs": []
    },
    {
      "cell_type": "code",
      "metadata": {
        "id": "eMlhIEtQKt_n",
        "colab_type": "code",
        "colab": {}
      },
      "source": [
        ""
      ],
      "execution_count": 0,
      "outputs": []
    },
    {
      "cell_type": "code",
      "metadata": {
        "id": "ho4U65qUKt9W",
        "colab_type": "code",
        "colab": {}
      },
      "source": [
        ""
      ],
      "execution_count": 0,
      "outputs": []
    },
    {
      "cell_type": "code",
      "metadata": {
        "id": "3ojvzDPWKt6H",
        "colab_type": "code",
        "colab": {}
      },
      "source": [
        ""
      ],
      "execution_count": 0,
      "outputs": []
    },
    {
      "cell_type": "code",
      "metadata": {
        "id": "9DbDiDp-Kt4W",
        "colab_type": "code",
        "colab": {}
      },
      "source": [
        ""
      ],
      "execution_count": 0,
      "outputs": []
    },
    {
      "cell_type": "code",
      "metadata": {
        "id": "MZs1lx4CGYx1",
        "colab_type": "code",
        "colab": {}
      },
      "source": [
        ""
      ],
      "execution_count": 0,
      "outputs": []
    },
    {
      "cell_type": "code",
      "metadata": {
        "id": "gqw2ILUYGYwD",
        "colab_type": "code",
        "colab": {}
      },
      "source": [
        ""
      ],
      "execution_count": 0,
      "outputs": []
    },
    {
      "cell_type": "code",
      "metadata": {
        "id": "mnK-6H-kGYtO",
        "colab_type": "code",
        "colab": {}
      },
      "source": [
        ""
      ],
      "execution_count": 0,
      "outputs": []
    }
  ]
}