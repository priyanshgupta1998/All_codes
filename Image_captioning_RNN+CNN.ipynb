{
  "nbformat": 4,
  "nbformat_minor": 0,
  "metadata": {
    "colab": {
      "name": "Welcome To Colaboratory",
      "version": "0.3.2",
      "provenance": [],
      "collapsed_sections": [],
      "include_colab_link": true
    },
    "kernelspec": {
      "name": "python3",
      "display_name": "Python 3"
    },
    "accelerator": "GPU"
  },
  "cells": [
    {
      "cell_type": "markdown",
      "metadata": {
        "id": "view-in-github",
        "colab_type": "text"
      },
      "source": [
        "<a href=\"https://colab.research.google.com/github/priyanshgupta1998/All_codes/blob/master/Image_captioning_RNN%2BCNN.ipynb\" target=\"_parent\"><img src=\"https://colab.research.google.com/assets/colab-badge.svg\" alt=\"Open In Colab\"/></a>"
      ]
    },
    {
      "metadata": {
        "id": "nXHxfnZfnhs5",
        "colab_type": "text"
      },
      "cell_type": "markdown",
      "source": [
        "https://github.com/yashk2810/Image-Captioning/blob/master/Image%20Captioning%20InceptionV3.ipynb"
      ]
    },
    {
      "metadata": {
        "id": "psy4eE55htCO",
        "colab_type": "text"
      },
      "cell_type": "markdown",
      "source": [
        "#RNN  \n",
        "\n",
        "https://www.geeksforgeeks.org/introduction-to-recurrent-neural-network/\n",
        "\n",
        "LSTM can by default retain the information for long period of time.\n",
        "\n",
        "#LSTM\n",
        "https://www.geeksforgeeks.org/deep-learning-introduction-to-long-short-term-memory/  \n",
        "\n",
        "LSTM has a chain structure that contains four neural networks and different memory blocks called cells."
      ]
    },
    {
      "metadata": {
        "id": "Ti8bHdoJhoo_",
        "colab_type": "code",
        "colab": {
          "base_uri": "https://localhost:8080/",
          "height": 34
        },
        "outputId": "a1af175c-c2f6-4206-8b8c-d7c287641d33"
      },
      "cell_type": "code",
      "source": [
        "import glob\n",
        "from PIL import Image\n",
        "import numpy as np\n",
        "import matplotlib.pyplot as plt\n",
        "%matplotlib inline\n",
        "import pickle\n",
        "from tqdm import tqdm\n",
        "import pandas as pd\n",
        "from keras.preprocessing import sequence\n",
        "from keras.models import Sequential\n",
        "from keras.layers import LSTM, Embedding, TimeDistributed, Dense, RepeatVector, Concatenate, Activation, Flatten ,Add\n",
        "from keras.optimizers import Adam, RMSprop\n",
        "from keras.layers.wrappers import Bidirectional\n",
        "from keras.applications.inception_v3 import InceptionV3\n",
        "from keras.preprocessing import image\n",
        "import nltk"
      ],
      "execution_count": 1,
      "outputs": [
        {
          "output_type": "stream",
          "text": [
            "Using TensorFlow backend.\n"
          ],
          "name": "stderr"
        }
      ]
    },
    {
      "metadata": {
        "id": "jZwy34_ips7z",
        "colab_type": "code",
        "colab": {}
      },
      "cell_type": "code",
      "source": [
        "import zipfile\n",
        "zip_ref = zipfile.ZipFile('/home/Flickr8k_text.zip', 'r')\n",
        "zip_ref.extractall('/home')\n",
        "zip_ref.close()"
      ],
      "execution_count": 0,
      "outputs": []
    },
    {
      "metadata": {
        "id": "gXXkiHmvkvTG",
        "colab_type": "code",
        "colab": {}
      },
      "cell_type": "code",
      "source": [
        "token = '/home/Flickr8k.token.txt'"
      ],
      "execution_count": 0,
      "outputs": []
    },
    {
      "metadata": {
        "id": "YrgeFsZXkvVs",
        "colab_type": "code",
        "colab": {}
      },
      "cell_type": "code",
      "source": [
        "captions = open(token, 'r').read().strip().split('\\n')"
      ],
      "execution_count": 0,
      "outputs": []
    },
    {
      "metadata": {
        "id": "7txGYMfjqfQf",
        "colab_type": "text"
      },
      "cell_type": "markdown",
      "source": [
        "#Creating a dictionary containing all the captions of the images"
      ]
    },
    {
      "metadata": {
        "id": "xqE10oS1qyWy",
        "colab_type": "code",
        "colab": {
          "base_uri": "https://localhost:8080/",
          "height": 187
        },
        "outputId": "4b89ab6a-49bd-401b-a4dc-9934cc28a26c"
      },
      "cell_type": "code",
      "source": [
        "l = []\n",
        "for i, row in enumerate(captions):     # 'i' is from 0 to 40459\n",
        "    if i<10:\n",
        "        l.append(row)\n",
        "l"
      ],
      "execution_count": 14,
      "outputs": [
        {
          "output_type": "execute_result",
          "data": {
            "text/plain": [
              "['1000268201_693b08cb0e.jpg#0\\tA child in a pink dress is climbing up a set of stairs in an entry way .',\n",
              " '1000268201_693b08cb0e.jpg#1\\tA girl going into a wooden building .',\n",
              " '1000268201_693b08cb0e.jpg#2\\tA little girl climbing into a wooden playhouse .',\n",
              " '1000268201_693b08cb0e.jpg#3\\tA little girl climbing the stairs to her playhouse .',\n",
              " '1000268201_693b08cb0e.jpg#4\\tA little girl in a pink dress going into a wooden cabin .',\n",
              " '1001773457_577c3a7d70.jpg#0\\tA black dog and a spotted dog are fighting',\n",
              " '1001773457_577c3a7d70.jpg#1\\tA black dog and a tri-colored dog playing with each other on the road .',\n",
              " '1001773457_577c3a7d70.jpg#2\\tA black dog and a white dog with brown spots are staring at each other in the street .',\n",
              " '1001773457_577c3a7d70.jpg#3\\tTwo dogs of different breeds looking at each other on the road .',\n",
              " '1001773457_577c3a7d70.jpg#4\\tTwo dogs on pavement moving toward each other .']"
            ]
          },
          "metadata": {
            "tags": []
          },
          "execution_count": 14
        }
      ]
    },
    {
      "metadata": {
        "id": "QI-83NpSsIsB",
        "colab_type": "code",
        "colab": {
          "base_uri": "https://localhost:8080/",
          "height": 187
        },
        "outputId": "9256ac59-a50c-4fb3-8374-ba056175f760"
      },
      "cell_type": "code",
      "source": [
        "l = []\n",
        "for i, row in enumerate(captions):     # 'i' is from 0 to 40459\n",
        "    if i<10:\n",
        "        row = row.split('\\t')\n",
        "        row[0] = row[0][:len(row[0])-2]\n",
        "        l.append(row[0])\n",
        "l"
      ],
      "execution_count": 17,
      "outputs": [
        {
          "output_type": "execute_result",
          "data": {
            "text/plain": [
              "['1000268201_693b08cb0e.jpg',\n",
              " '1000268201_693b08cb0e.jpg',\n",
              " '1000268201_693b08cb0e.jpg',\n",
              " '1000268201_693b08cb0e.jpg',\n",
              " '1000268201_693b08cb0e.jpg',\n",
              " '1001773457_577c3a7d70.jpg',\n",
              " '1001773457_577c3a7d70.jpg',\n",
              " '1001773457_577c3a7d70.jpg',\n",
              " '1001773457_577c3a7d70.jpg',\n",
              " '1001773457_577c3a7d70.jpg']"
            ]
          },
          "metadata": {
            "tags": []
          },
          "execution_count": 17
        }
      ]
    },
    {
      "metadata": {
        "id": "uVGjYQ9wtQ9G",
        "colab_type": "code",
        "colab": {
          "base_uri": "https://localhost:8080/",
          "height": 51
        },
        "outputId": "e5bd37d1-f8e0-474f-f345-2a56cca73e2d"
      },
      "cell_type": "code",
      "source": [
        "l = []\n",
        "for i, row in enumerate(captions):     # 'i' is from 0 to 40459\n",
        "    row = row.split('\\t')\n",
        "    row[0] = row[0][:len(row[0])-2]\n",
        "    l.append(row[0])\n",
        "print(len(l))\n",
        "print(len(np.unique(l)))     # unique images"
      ],
      "execution_count": 22,
      "outputs": [
        {
          "output_type": "stream",
          "text": [
            "40460\n",
            "8092\n"
          ],
          "name": "stdout"
        }
      ]
    },
    {
      "metadata": {
        "id": "jq8kgS3ikva4",
        "colab_type": "code",
        "colab": {
          "base_uri": "https://localhost:8080/",
          "height": 1037
        },
        "outputId": "188d0ac5-61e5-4b54-df16-b34ce405b8ea"
      },
      "cell_type": "code",
      "source": [
        "d = {}\n",
        "for i, row in enumerate(captions):\n",
        "    row = row.split('\\t')\n",
        "    row[0] = row[0][:len(row[0])-2]\n",
        "    if row[0] in d:\n",
        "        d[row[0]].append(row[1])\n",
        "    else:\n",
        "        d[row[0]] = [row[1]]\n",
        "\n",
        "#d\n",
        "        \n",
        "k = {}\n",
        "for i , data in enumerate(d.items()):\n",
        "    if i<10:\n",
        "        k[i] = data\n",
        "k\n",
        "        "
      ],
      "execution_count": 31,
      "outputs": [
        {
          "output_type": "execute_result",
          "data": {
            "text/plain": [
              "{0: ('1000268201_693b08cb0e.jpg',\n",
              "  ['A child in a pink dress is climbing up a set of stairs in an entry way .',\n",
              "   'A girl going into a wooden building .',\n",
              "   'A little girl climbing into a wooden playhouse .',\n",
              "   'A little girl climbing the stairs to her playhouse .',\n",
              "   'A little girl in a pink dress going into a wooden cabin .']),\n",
              " 1: ('1001773457_577c3a7d70.jpg',\n",
              "  ['A black dog and a spotted dog are fighting',\n",
              "   'A black dog and a tri-colored dog playing with each other on the road .',\n",
              "   'A black dog and a white dog with brown spots are staring at each other in the street .',\n",
              "   'Two dogs of different breeds looking at each other on the road .',\n",
              "   'Two dogs on pavement moving toward each other .']),\n",
              " 2: ('1002674143_1b742ab4b8.jpg',\n",
              "  ['A little girl covered in paint sits in front of a painted rainbow with her hands in a bowl .',\n",
              "   'A little girl is sitting in front of a large painted rainbow .',\n",
              "   'A small girl in the grass plays with fingerpaints in front of a white canvas with a rainbow on it .',\n",
              "   'There is a girl with pigtails sitting in front of a rainbow painting .',\n",
              "   'Young girl with pigtails painting outside in the grass .']),\n",
              " 3: ('1003163366_44323f5815.jpg',\n",
              "  ['A man lays on a bench while his dog sits by him .',\n",
              "   'A man lays on the bench to which a white dog is also tied .',\n",
              "   'a man sleeping on a bench outside with a white and black dog sitting next to him .',\n",
              "   'A shirtless man lies on a park bench with his dog .',\n",
              "   'man laying on bench holding leash of dog sitting on ground']),\n",
              " 4: ('1007129816_e794419615.jpg',\n",
              "  ['A man in an orange hat starring at something .',\n",
              "   'A man wears an orange hat and glasses .',\n",
              "   'A man with gauges and glasses is wearing a Blitz hat .',\n",
              "   'A man with glasses is wearing a beer can crocheted hat .',\n",
              "   'The man with pierced ears is wearing glasses and an orange hat .']),\n",
              " 5: ('1007320043_627395c3d8.jpg',\n",
              "  ['A child playing on a rope net .',\n",
              "   'A little girl climbing on red roping .',\n",
              "   'A little girl in pink climbs a rope bridge at the park .',\n",
              "   'A small child grips onto the red ropes at the playground .',\n",
              "   'The small child climbs on a red ropes on a playground .']),\n",
              " 6: ('1009434119_febe49276a.jpg',\n",
              "  ['A black and white dog is running in a grassy garden surrounded by a white fence .',\n",
              "   'A black and white dog is running through the grass .',\n",
              "   'A Boston terrier is running in the grass .',\n",
              "   'A Boston Terrier is running on lush green grass in front of a white fence .',\n",
              "   'A dog runs on the green grass near a wooden fence .']),\n",
              " 7: ('1012212859_01547e3f17.jpg',\n",
              "  ['A dog shakes its head near the shore , a red ball next to it .',\n",
              "   'A white dog shakes on the edge of a beach with an orange ball .',\n",
              "   'Dog with orange ball at feet , stands on shore shaking off water',\n",
              "   'White dog playing with a red ball on the shore near the water .',\n",
              "   'White dog with brown ears standing near water with head turned to one side .']),\n",
              " 8: ('1015118661_980735411b.jpg',\n",
              "  ['A boy smiles in front of a stony wall in a city .',\n",
              "   'A little boy is standing on the street while a man in overalls is working on a stone wall .',\n",
              "   'A young boy runs aross the street .',\n",
              "   'A young child is walking on a stone paved street with a metal pole and a man behind him .',\n",
              "   'Smiling boy in white shirt and blue jeans in front of rock wall with man in overalls behind him .']),\n",
              " 9: ('1015584366_dfcec3c85a.jpg',\n",
              "  ['A black dog leaps over a log .',\n",
              "   'A grey dog is leaping over a fallen tree .',\n",
              "   'A large black dog leaps a fallen log .',\n",
              "   'A mottled black and grey dog in a blue collar jumping over a fallen tree .',\n",
              "   'The black dog jumped the tree stump .'])}"
            ]
          },
          "metadata": {
            "tags": []
          },
          "execution_count": 31
        }
      ]
    },
    {
      "metadata": {
        "id": "YeL8mTi9kvgF",
        "colab_type": "code",
        "colab": {
          "base_uri": "https://localhost:8080/",
          "height": 102
        },
        "outputId": "a26f1b9e-5732-4fb0-ea7f-be857d555860"
      },
      "cell_type": "code",
      "source": [
        "d['1000268201_693b08cb0e.jpg']"
      ],
      "execution_count": 34,
      "outputs": [
        {
          "output_type": "execute_result",
          "data": {
            "text/plain": [
              "['A child in a pink dress is climbing up a set of stairs in an entry way .',\n",
              " 'A girl going into a wooden building .',\n",
              " 'A little girl climbing into a wooden playhouse .',\n",
              " 'A little girl climbing the stairs to her playhouse .',\n",
              " 'A little girl in a pink dress going into a wooden cabin .']"
            ]
          },
          "metadata": {
            "tags": []
          },
          "execution_count": 34
        }
      ]
    },
    {
      "metadata": {
        "id": "9ylWVjj9kvjL",
        "colab_type": "code",
        "colab": {}
      },
      "cell_type": "code",
      "source": [
        "images = 'Flickr8k_Dataset/Flicker8k_Dataset/'"
      ],
      "execution_count": 0,
      "outputs": []
    },
    {
      "metadata": {
        "id": "cxz4MqV0zlAQ",
        "colab_type": "text"
      },
      "cell_type": "markdown",
      "source": [
        "Python Glob() Function To Match Path, Directory, File Names with Examples. The glob module finds all the pathnames matching a specified pattern according to the rules used by the Unix shell, although results are returned in arbitrary order.  but * , ? , and character ranges expressed with [] will be correctly matched."
      ]
    },
    {
      "metadata": {
        "id": "rF-pYTUvkvop",
        "colab_type": "code",
        "colab": {}
      },
      "cell_type": "code",
      "source": [
        "# Contains all the images\n",
        "img = glob.glob(images+'*.jpg')"
      ],
      "execution_count": 0,
      "outputs": []
    },
    {
      "metadata": {
        "id": "Q17o0AaUkvvT",
        "colab_type": "code",
        "colab": {
          "base_uri": "https://localhost:8080/",
          "height": 34
        },
        "outputId": "21e30053-842f-48ec-90fb-3cc964399760"
      },
      "cell_type": "code",
      "source": [
        "img[:5]"
      ],
      "execution_count": 37,
      "outputs": [
        {
          "output_type": "execute_result",
          "data": {
            "text/plain": [
              "[]"
            ]
          },
          "metadata": {
            "tags": []
          },
          "execution_count": 37
        }
      ]
    },
    {
      "metadata": {
        "id": "gFCmxBhrkvxw",
        "colab_type": "code",
        "colab": {}
      },
      "cell_type": "code",
      "source": [
        ""
      ],
      "execution_count": 0,
      "outputs": []
    },
    {
      "metadata": {
        "id": "KfXq-mbVkv2M",
        "colab_type": "code",
        "colab": {}
      },
      "cell_type": "code",
      "source": [
        ""
      ],
      "execution_count": 0,
      "outputs": []
    },
    {
      "metadata": {
        "id": "P1JgAiRrkvtp",
        "colab_type": "code",
        "colab": {}
      },
      "cell_type": "code",
      "source": [
        ""
      ],
      "execution_count": 0,
      "outputs": []
    },
    {
      "metadata": {
        "id": "m-no9xCHkvry",
        "colab_type": "code",
        "colab": {}
      },
      "cell_type": "code",
      "source": [
        ""
      ],
      "execution_count": 0,
      "outputs": []
    },
    {
      "metadata": {
        "id": "ZDfy3eMHkvmQ",
        "colab_type": "code",
        "colab": {}
      },
      "cell_type": "code",
      "source": [
        ""
      ],
      "execution_count": 0,
      "outputs": []
    },
    {
      "metadata": {
        "id": "-XxJ1tULkvd2",
        "colab_type": "code",
        "colab": {}
      },
      "cell_type": "code",
      "source": [
        ""
      ],
      "execution_count": 0,
      "outputs": []
    },
    {
      "metadata": {
        "id": "4ZLDEw-ckvY6",
        "colab_type": "code",
        "colab": {}
      },
      "cell_type": "code",
      "source": [
        ""
      ],
      "execution_count": 0,
      "outputs": []
    },
    {
      "metadata": {
        "id": "TFEibB7mkvQ6",
        "colab_type": "code",
        "colab": {}
      },
      "cell_type": "code",
      "source": [
        ""
      ],
      "execution_count": 0,
      "outputs": []
    },
    {
      "metadata": {
        "id": "kAu1wct8hot8",
        "colab_type": "code",
        "colab": {}
      },
      "cell_type": "code",
      "source": [
        ""
      ],
      "execution_count": 0,
      "outputs": []
    },
    {
      "metadata": {
        "id": "JAG-po97howY",
        "colab_type": "code",
        "colab": {}
      },
      "cell_type": "code",
      "source": [
        ""
      ],
      "execution_count": 0,
      "outputs": []
    },
    {
      "metadata": {
        "id": "kBXYvhtlhoy1",
        "colab_type": "code",
        "colab": {}
      },
      "cell_type": "code",
      "source": [
        ""
      ],
      "execution_count": 0,
      "outputs": []
    },
    {
      "metadata": {
        "id": "2EyY9W-iho1h",
        "colab_type": "code",
        "colab": {}
      },
      "cell_type": "code",
      "source": [
        ""
      ],
      "execution_count": 0,
      "outputs": []
    },
    {
      "metadata": {
        "id": "UXYJptheho54",
        "colab_type": "code",
        "colab": {}
      },
      "cell_type": "code",
      "source": [
        ""
      ],
      "execution_count": 0,
      "outputs": []
    },
    {
      "metadata": {
        "id": "pml_SvN7ho-Y",
        "colab_type": "code",
        "colab": {}
      },
      "cell_type": "code",
      "source": [
        ""
      ],
      "execution_count": 0,
      "outputs": []
    },
    {
      "metadata": {
        "id": "GOVKrZvxhpCN",
        "colab_type": "code",
        "colab": {}
      },
      "cell_type": "code",
      "source": [
        ""
      ],
      "execution_count": 0,
      "outputs": []
    },
    {
      "metadata": {
        "id": "DucrKrooho8Z",
        "colab_type": "code",
        "colab": {}
      },
      "cell_type": "code",
      "source": [
        ""
      ],
      "execution_count": 0,
      "outputs": []
    },
    {
      "metadata": {
        "id": "w9spXxZAho31",
        "colab_type": "code",
        "colab": {}
      },
      "cell_type": "code",
      "source": [
        ""
      ],
      "execution_count": 0,
      "outputs": []
    },
    {
      "metadata": {
        "id": "BDbJqHDzhorn",
        "colab_type": "code",
        "colab": {}
      },
      "cell_type": "code",
      "source": [
        ""
      ],
      "execution_count": 0,
      "outputs": []
    }
  ]
}