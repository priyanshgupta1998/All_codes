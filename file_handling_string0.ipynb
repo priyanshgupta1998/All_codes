{
  "nbformat": 4,
  "nbformat_minor": 0,
  "metadata": {
    "colab": {
      "name": "TensorFlow with GPU",
      "version": "0.3.2",
      "provenance": [],
      "collapsed_sections": [],
      "toc_visible": true,
      "include_colab_link": true
    },
    "kernelspec": {
      "name": "python3",
      "display_name": "Python 3"
    },
    "accelerator": "GPU"
  },
  "cells": [
    {
      "cell_type": "markdown",
      "metadata": {
        "id": "view-in-github",
        "colab_type": "text"
      },
      "source": [
        "<a href=\"https://colab.research.google.com/github/priyanshgupta1998/All_codes/blob/master/file_handling_string0.ipynb\" target=\"_parent\"><img src=\"https://colab.research.google.com/assets/colab-badge.svg\" alt=\"Open In Colab\"/></a>"
      ]
    },
    {
      "metadata": {
        "id": "cyRIDiiMytJ6",
        "colab_type": "code",
        "colab": {}
      },
      "cell_type": "code",
      "source": [
        "import numpy as np\n",
        "import string\n",
        "import random"
      ],
      "execution_count": 0,
      "outputs": []
    },
    {
      "metadata": {
        "id": "JpeMHP-TytNT",
        "colab_type": "code",
        "colab": {
          "base_uri": "https://localhost:8080/",
          "height": 34
        },
        "outputId": "b12932ec-a13d-4fe3-9225-53693d7eb719"
      },
      "cell_type": "code",
      "source": [
        "arr = string.ascii_lowercase[:14]\n",
        "arr"
      ],
      "execution_count": 4,
      "outputs": [
        {
          "output_type": "execute_result",
          "data": {
            "text/plain": [
              "'abcdefghijklmn'"
            ]
          },
          "metadata": {
            "tags": []
          },
          "execution_count": 4
        }
      ]
    },
    {
      "metadata": {
        "id": "PgJ-Ku91ytQr",
        "colab_type": "code",
        "colab": {
          "base_uri": "https://localhost:8080/",
          "height": 34
        },
        "outputId": "87a4888d-4f73-4f2c-95fe-a510ebf2873e"
      },
      "cell_type": "code",
      "source": [
        "arr1 = string.ascii_lowercase[:14:2]\n",
        "arr1"
      ],
      "execution_count": 5,
      "outputs": [
        {
          "output_type": "execute_result",
          "data": {
            "text/plain": [
              "'acegikm'"
            ]
          },
          "metadata": {
            "tags": []
          },
          "execution_count": 5
        }
      ]
    },
    {
      "metadata": {
        "id": "gpxN12Uh1Dd2",
        "colab_type": "code",
        "colab": {
          "base_uri": "https://localhost:8080/",
          "height": 34
        },
        "outputId": "c9abf914-2a11-490c-f13e-2b43fb7975a3"
      },
      "cell_type": "code",
      "source": [
        "string.ascii_uppercase[:14:2]"
      ],
      "execution_count": 10,
      "outputs": [
        {
          "output_type": "execute_result",
          "data": {
            "text/plain": [
              "'ACEGIKM'"
            ]
          },
          "metadata": {
            "tags": []
          },
          "execution_count": 10
        }
      ]
    },
    {
      "metadata": {
        "id": "MG6cI3-AytVA",
        "colab_type": "code",
        "colab": {
          "base_uri": "https://localhost:8080/",
          "height": 34
        },
        "outputId": "79406675-8da6-4ec0-be18-e15bedc40555"
      },
      "cell_type": "code",
      "source": [
        "arr2 = string.ascii_lowercase[:26]\n",
        "arr2"
      ],
      "execution_count": 8,
      "outputs": [
        {
          "output_type": "execute_result",
          "data": {
            "text/plain": [
              "'abcdefghijklmnopqrstuvwxyz'"
            ]
          },
          "metadata": {
            "tags": []
          },
          "execution_count": 8
        }
      ]
    },
    {
      "metadata": {
        "id": "kpCldFLc2N-w",
        "colab_type": "text"
      },
      "cell_type": "markdown",
      "source": [
        "\n",
        "\n",
        "```\n",
        "ord is used to convert character to integer AND chr is used to convert integer to corresponding character .\n",
        "```\n",
        "\n"
      ]
    },
    {
      "metadata": {
        "id": "vRmN0Q_KytXv",
        "colab_type": "code",
        "colab": {
          "base_uri": "https://localhost:8080/",
          "height": 119
        },
        "outputId": "3c709988-6909-4992-82b3-c620ca90e7df"
      },
      "cell_type": "code",
      "source": [
        "for i in range(ord('a'), ord('f')+1):\n",
        "    print(chr(i))"
      ],
      "execution_count": 20,
      "outputs": [
        {
          "output_type": "stream",
          "text": [
            "a\n",
            "b\n",
            "c\n",
            "d\n",
            "e\n",
            "f\n"
          ],
          "name": "stdout"
        }
      ]
    },
    {
      "metadata": {
        "id": "GbSQlW9pyta7",
        "colab_type": "code",
        "colab": {
          "base_uri": "https://localhost:8080/",
          "height": 153
        },
        "outputId": "d90e1354-ca97-4b44-cd84-e8e36bfdad01"
      },
      "cell_type": "code",
      "source": [
        "for one in range(97,105):\n",
        "    print(chr(one))"
      ],
      "execution_count": 22,
      "outputs": [
        {
          "output_type": "stream",
          "text": [
            "a\n",
            "b\n",
            "c\n",
            "d\n",
            "e\n",
            "f\n",
            "g\n",
            "h\n"
          ],
          "name": "stdout"
        }
      ]
    },
    {
      "metadata": {
        "id": "P9DPT2e_4Quo",
        "colab_type": "code",
        "colab": {
          "base_uri": "https://localhost:8080/",
          "height": 54
        },
        "outputId": "28dbe4d8-dec0-4f32-8546-c8562b4d7ac1"
      },
      "cell_type": "code",
      "source": [
        "print(list(string.ascii_lowercase))"
      ],
      "execution_count": 41,
      "outputs": [
        {
          "output_type": "stream",
          "text": [
            "['a', 'b', 'c', 'd', 'e', 'f', 'g', 'h', 'i', 'j', 'k', 'l', 'm', 'n', 'o', 'p', 'q', 'r', 's', 't', 'u', 'v', 'w', 'x', 'y', 'z']\n"
          ],
          "name": "stdout"
        }
      ]
    },
    {
      "metadata": {
        "id": "1qkYCuT85PJM",
        "colab_type": "code",
        "colab": {
          "base_uri": "https://localhost:8080/",
          "height": 54
        },
        "outputId": "a7082492-8552-465e-cc69-ce814751d7fe"
      },
      "cell_type": "code",
      "source": [
        "print(list(string.ascii_uppercase))"
      ],
      "execution_count": 48,
      "outputs": [
        {
          "output_type": "stream",
          "text": [
            "['A', 'B', 'C', 'D', 'E', 'F', 'G', 'H', 'I', 'J', 'K', 'L', 'M', 'N', 'O', 'P', 'Q', 'R', 'S', 'T', 'U', 'V', 'W', 'X', 'Y', 'Z']\n"
          ],
          "name": "stdout"
        }
      ]
    },
    {
      "metadata": {
        "id": "HLfzJAND4-tq",
        "colab_type": "text"
      },
      "cell_type": "markdown",
      "source": [
        "\n",
        "\n",
        "```\n",
        "integer = map(int,integer_value_range)\n",
        "\n",
        "string = map(chr,ingeger_value_range)\n",
        "```\n",
        "\n"
      ]
    },
    {
      "metadata": {
        "id": "Z1wtuagrytg5",
        "colab_type": "code",
        "colab": {}
      },
      "cell_type": "code",
      "source": [
        "small_letters = list(map(chr, range(ord('a'), ord('z')+1)))\n",
        "#print(small_letters)"
      ],
      "execution_count": 0,
      "outputs": []
    },
    {
      "metadata": {
        "id": "0cdcPb7tytoW",
        "colab_type": "code",
        "colab": {
          "base_uri": "https://localhost:8080/",
          "height": 34
        },
        "outputId": "b0c35db4-52ad-4320-9603-22d252885797"
      },
      "cell_type": "code",
      "source": [
        "an = small_letters[0:(ord('n')-ord('a')+1)]\n",
        "print(\" \".join(an))"
      ],
      "execution_count": 47,
      "outputs": [
        {
          "output_type": "stream",
          "text": [
            "a b c d e f g h i j k l m n\n"
          ],
          "name": "stdout"
        }
      ]
    },
    {
      "metadata": {
        "id": "mEw3KDcoyttR",
        "colab_type": "code",
        "colab": {
          "base_uri": "https://localhost:8080/",
          "height": 34
        },
        "outputId": "7ba23b60-31cd-4f71-8b41-dd4339fe9737"
      },
      "cell_type": "code",
      "source": [
        "print(\" \".join(small_letters[0::2]))"
      ],
      "execution_count": 49,
      "outputs": [
        {
          "output_type": "stream",
          "text": [
            "a c e g i k m o q s u w y\n"
          ],
          "name": "stdout"
        }
      ]
    },
    {
      "metadata": {
        "id": "2ppubI4EytrX",
        "colab_type": "code",
        "colab": {
          "base_uri": "https://localhost:8080/",
          "height": 34
        },
        "outputId": "9dbea4a4-93f8-4c92-cd11-e52fa87d337a"
      },
      "cell_type": "code",
      "source": [
        "s = small_letters[0:(ord('n')-ord('a')+1):2]\n",
        "print(\" \".join(s))"
      ],
      "execution_count": 50,
      "outputs": [
        {
          "output_type": "stream",
          "text": [
            "a c e g i k m\n"
          ],
          "name": "stdout"
        }
      ]
    },
    {
      "metadata": {
        "id": "JmcziFRYytmV",
        "colab_type": "code",
        "colab": {
          "base_uri": "https://localhost:8080/",
          "height": 34
        },
        "outputId": "d4732bf8-5829-412e-c938-c9501d89fb44"
      },
      "cell_type": "code",
      "source": [
        "print (\" \".join(map(chr, range(ord('a'),ord('n')+1))))"
      ],
      "execution_count": 51,
      "outputs": [
        {
          "output_type": "stream",
          "text": [
            "a b c d e f g h i j k l m n\n"
          ],
          "name": "stdout"
        }
      ]
    },
    {
      "metadata": {
        "id": "qLf2fyopGzLI",
        "colab_type": "text"
      },
      "cell_type": "markdown",
      "source": [
        "#File handling"
      ]
    },
    {
      "metadata": {
        "id": "XkdZT0NmHdne",
        "colab_type": "text"
      },
      "cell_type": "markdown",
      "source": [
        "\n",
        "\n",
        "```\n",
        "IMPORTENT THING \n",
        "Now i am gonna create a txt file with random string( of length 6) line by line . \n",
        "```\n",
        "\n"
      ]
    },
    {
      "metadata": {
        "id": "HMoN9bIGytfW",
        "colab_type": "code",
        "colab": {
          "base_uri": "https://localhost:8080/",
          "height": 3417
        },
        "outputId": "7bc336ca-96c5-4ffd-d5ba-7cd4c1b47ed3"
      },
      "cell_type": "code",
      "source": [
        "file = open('/home/abc.txt','w+')\n",
        "l = list(string.ascii_lowercase)\n",
        "for i in range(100):\n",
        "  for j in range(6):\n",
        "    n=random.randint(1,len(l))\n",
        "    print(l[n-1] ,end='')\n",
        "    file.write(l[n-1])\n",
        "  file.write('\\n')     #to go to new line in file \n",
        "  print('\\n')\n",
        "file.close()"
      ],
      "execution_count": 166,
      "outputs": [
        {
          "output_type": "stream",
          "text": [
            "iaorxj\n",
            "\n",
            "mpmrvs\n",
            "\n",
            "hjtlne\n",
            "\n",
            "xhilxr\n",
            "\n",
            "utyysh\n",
            "\n",
            "qrroia\n",
            "\n",
            "wkytrj\n",
            "\n",
            "zqlasl\n",
            "\n",
            "xxieuh\n",
            "\n",
            "nvpxfp\n",
            "\n",
            "btipyc\n",
            "\n",
            "vrwhru\n",
            "\n",
            "usysfz\n",
            "\n",
            "jrwczb\n",
            "\n",
            "shzose\n",
            "\n",
            "kyyuyh\n",
            "\n",
            "lkkyum\n",
            "\n",
            "jcpvtm\n",
            "\n",
            "oxjgmu\n",
            "\n",
            "smwkax\n",
            "\n",
            "laisab\n",
            "\n",
            "aodbok\n",
            "\n",
            "irorxb\n",
            "\n",
            "kogxme\n",
            "\n",
            "wpiugr\n",
            "\n",
            "gvcndl\n",
            "\n",
            "ernaye\n",
            "\n",
            "adpzun\n",
            "\n",
            "vnsokp\n",
            "\n",
            "gsrlri\n",
            "\n",
            "kssbhg\n",
            "\n",
            "tmgxeu\n",
            "\n",
            "aawipf\n",
            "\n",
            "pjpbio\n",
            "\n",
            "opifdp\n",
            "\n",
            "jhxdjw\n",
            "\n",
            "omsoba\n",
            "\n",
            "veipnq\n",
            "\n",
            "twswgi\n",
            "\n",
            "zpptrc\n",
            "\n",
            "giyndk\n",
            "\n",
            "brbsvu\n",
            "\n",
            "mcipfp\n",
            "\n",
            "xrdnis\n",
            "\n",
            "oxpdkr\n",
            "\n",
            "bjtntx\n",
            "\n",
            "qplwzb\n",
            "\n",
            "pcukod\n",
            "\n",
            "pmlbxj\n",
            "\n",
            "cdxxdl\n",
            "\n",
            "cibpic\n",
            "\n",
            "zxrigd\n",
            "\n",
            "auxmuy\n",
            "\n",
            "rncyjx\n",
            "\n",
            "lxpiph\n",
            "\n",
            "vterjv\n",
            "\n",
            "xfigeh\n",
            "\n",
            "pkbeyc\n",
            "\n",
            "dxutvx\n",
            "\n",
            "qstjxu\n",
            "\n",
            "gytpxe\n",
            "\n",
            "klsuie\n",
            "\n",
            "dcwvpk\n",
            "\n",
            "ooqqkk\n",
            "\n",
            "anhtwu\n",
            "\n",
            "lnqjal\n",
            "\n",
            "hufrhe\n",
            "\n",
            "balhsy\n",
            "\n",
            "updkvr\n",
            "\n",
            "iujbui\n",
            "\n",
            "kqkwok\n",
            "\n",
            "fchwhz\n",
            "\n",
            "tfxmzf\n",
            "\n",
            "jsfcvz\n",
            "\n",
            "xbdvaa\n",
            "\n",
            "sudomk\n",
            "\n",
            "exesre\n",
            "\n",
            "ifbkis\n",
            "\n",
            "dqyjqb\n",
            "\n",
            "kxwfmv\n",
            "\n",
            "xemmbx\n",
            "\n",
            "lcuuja\n",
            "\n",
            "ftlors\n",
            "\n",
            "rxvayf\n",
            "\n",
            "fqtaut\n",
            "\n",
            "xcajwe\n",
            "\n",
            "calpwg\n",
            "\n",
            "ynqyme\n",
            "\n",
            "bqprjw\n",
            "\n",
            "fmpxto\n",
            "\n",
            "cavauy\n",
            "\n",
            "nzucbl\n",
            "\n",
            "tnnahr\n",
            "\n",
            "fhjrae\n",
            "\n",
            "ycilvi\n",
            "\n",
            "rhfwmg\n",
            "\n",
            "cdbqgr\n",
            "\n",
            "aictqk\n",
            "\n",
            "xauudl\n",
            "\n",
            "eifvso\n",
            "\n"
          ],
          "name": "stdout"
        }
      ]
    },
    {
      "metadata": {
        "id": "mjwmJQoU_Hmq",
        "colab_type": "code",
        "colab": {
          "base_uri": "https://localhost:8080/",
          "height": 51
        },
        "outputId": "8c4cd146-13b8-48ed-88a0-32f5515853d6"
      },
      "cell_type": "code",
      "source": [
        "f = open(\"/home/abc.txt\", \"r\")\n",
        "print(f.readline())      # read onr line at a time.\n",
        "f.close()"
      ],
      "execution_count": 164,
      "outputs": [
        {
          "output_type": "stream",
          "text": [
            "ofvpvx\n",
            "\n"
          ],
          "name": "stdout"
        }
      ]
    },
    {
      "metadata": {
        "id": "DraBBMPH_bCT",
        "colab_type": "code",
        "colab": {
          "base_uri": "https://localhost:8080/",
          "height": 34
        },
        "outputId": "9bf600a5-7d5a-4b82-e274-8c327ccee889"
      },
      "cell_type": "code",
      "source": [
        "\n",
        "l=[]\n",
        "f = open(\"/home/abc.txt\", \"r\")\n",
        "f1 = f.readline()\n",
        "for const in f1:\n",
        "  l.append(const)\n",
        "f.close()\n",
        "print(l)\n"
      ],
      "execution_count": 160,
      "outputs": [
        {
          "output_type": "stream",
          "text": [
            "['y', 'q', 'n', 'e', 'b', 'z', '\\n']\n"
          ],
          "name": "stdout"
        }
      ]
    },
    {
      "metadata": {
        "id": "kZU66m-MyteA",
        "colab_type": "code",
        "colab": {
          "base_uri": "https://localhost:8080/",
          "height": 119
        },
        "outputId": "619fd0f8-a710-46cd-8cd6-eddeeac1eb74"
      },
      "cell_type": "code",
      "source": [
        "for x in range(6):\n",
        "  print(random.randint(1,101))"
      ],
      "execution_count": 157,
      "outputs": [
        {
          "output_type": "stream",
          "text": [
            "37\n",
            "44\n",
            "56\n",
            "65\n",
            "58\n",
            "61\n"
          ],
          "name": "stdout"
        }
      ]
    },
    {
      "metadata": {
        "id": "7J7xbGPPytTX",
        "colab_type": "code",
        "colab": {
          "base_uri": "https://localhost:8080/",
          "height": 119
        },
        "outputId": "68c50449-c25f-4a14-c1b8-1f27f8131662"
      },
      "cell_type": "code",
      "source": [
        "for x in range(6):\n",
        "  print(random.randint(1,101))"
      ],
      "execution_count": 57,
      "outputs": [
        {
          "output_type": "stream",
          "text": [
            "54\n",
            "71\n",
            "70\n",
            "67\n",
            "53\n",
            "68\n"
          ],
          "name": "stdout"
        }
      ]
    },
    {
      "metadata": {
        "id": "zpuWKj5g7YhU",
        "colab_type": "code",
        "colab": {
          "base_uri": "https://localhost:8080/",
          "height": 187
        },
        "outputId": "26f01b09-5d66-471b-f243-f0885e124ac2"
      },
      "cell_type": "code",
      "source": [
        "for x in range(10):\n",
        "  print(random.randint(1,21)*5)"
      ],
      "execution_count": 87,
      "outputs": [
        {
          "output_type": "stream",
          "text": [
            "45\n",
            "15\n",
            "95\n",
            "105\n",
            "65\n",
            "25\n",
            "35\n",
            "25\n",
            "105\n",
            "35\n"
          ],
          "name": "stdout"
        }
      ]
    },
    {
      "metadata": {
        "id": "fkT54yOm7Yk6",
        "colab_type": "code",
        "colab": {}
      },
      "cell_type": "code",
      "source": [
        "#fi = open(\"/home/abc.txt\", \"w\")"
      ],
      "execution_count": 0,
      "outputs": []
    },
    {
      "metadata": {
        "id": "4vtBoKl27YpA",
        "colab_type": "code",
        "colab": {}
      },
      "cell_type": "code",
      "source": [
        ""
      ],
      "execution_count": 0,
      "outputs": []
    },
    {
      "metadata": {
        "id": "vpSFSxr_7Y4U",
        "colab_type": "code",
        "colab": {}
      },
      "cell_type": "code",
      "source": [
        ""
      ],
      "execution_count": 0,
      "outputs": []
    },
    {
      "metadata": {
        "id": "QKuAqZnQ7Y2g",
        "colab_type": "code",
        "colab": {}
      },
      "cell_type": "code",
      "source": [
        ""
      ],
      "execution_count": 0,
      "outputs": []
    },
    {
      "metadata": {
        "id": "KfZchQUZ7Y0s",
        "colab_type": "code",
        "colab": {}
      },
      "cell_type": "code",
      "source": [
        ""
      ],
      "execution_count": 0,
      "outputs": []
    },
    {
      "metadata": {
        "id": "WXKeqdog7Yy9",
        "colab_type": "code",
        "colab": {}
      },
      "cell_type": "code",
      "source": [
        ""
      ],
      "execution_count": 0,
      "outputs": []
    },
    {
      "metadata": {
        "id": "HYBOtJTK7Yw8",
        "colab_type": "code",
        "colab": {}
      },
      "cell_type": "code",
      "source": [
        ""
      ],
      "execution_count": 0,
      "outputs": []
    },
    {
      "metadata": {
        "id": "9fkqLNaD7YvJ",
        "colab_type": "code",
        "colab": {}
      },
      "cell_type": "code",
      "source": [
        ""
      ],
      "execution_count": 0,
      "outputs": []
    },
    {
      "metadata": {
        "id": "BnZcQ8Ml7Ys7",
        "colab_type": "code",
        "colab": {}
      },
      "cell_type": "code",
      "source": [
        ""
      ],
      "execution_count": 0,
      "outputs": []
    }
  ]
}