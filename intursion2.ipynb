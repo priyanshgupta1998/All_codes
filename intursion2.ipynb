{
  "nbformat": 4,
  "nbformat_minor": 0,
  "metadata": {
    "colab": {
      "name": "Hello, Colaboratory",
      "version": "0.3.2",
      "provenance": [],
      "collapsed_sections": [],
      "toc_visible": true,
      "include_colab_link": true
    },
    "kernelspec": {
      "name": "python2",
      "display_name": "Python 2"
    },
    "accelerator": "GPU"
  },
  "cells": [
    {
      "cell_type": "markdown",
      "metadata": {
        "id": "view-in-github",
        "colab_type": "text"
      },
      "source": [
        "<a href=\"https://colab.research.google.com/github/priyanshgupta1998/All_codes/blob/master/intursion2.ipynb\" target=\"_parent\"><img src=\"https://colab.research.google.com/assets/colab-badge.svg\" alt=\"Open In Colab\"/></a>"
      ]
    },
    {
      "metadata": {
        "id": "jFGzcEnjDYqc",
        "colab_type": "text"
      },
      "cell_type": "markdown",
      "source": [
        "#Signature based intrusion detection system"
      ]
    },
    {
      "metadata": {
        "id": "FskqZiGv1kN8",
        "colab_type": "code",
        "colab": {}
      },
      "cell_type": "code",
      "source": [
        "\n",
        "## Preliminaries\n",
        "import numpy as np \n",
        "import matplotlib.pyplot as plt\n",
        "\n",
        "import pandas as pd\n",
        "import urllib\n",
        "import csv\n"
      ],
      "execution_count": 0,
      "outputs": []
    },
    {
      "metadata": {
        "id": "AeVsCjb34GgR",
        "colab_type": "code",
        "colab": {}
      },
      "cell_type": "code",
      "source": [
        "from sklearn import datasets, preprocessing, feature_extraction"
      ],
      "execution_count": 0,
      "outputs": []
    },
    {
      "metadata": {
        "id": "QA5igEpF387k",
        "colab_type": "code",
        "colab": {}
      },
      "cell_type": "code",
      "source": [
        "\n",
        "from sklearn import linear_model, svm, metrics, ensemble, tree\n",
        "from sklearn.decomposition import PCA"
      ],
      "execution_count": 0,
      "outputs": []
    },
    {
      "metadata": {
        "id": "nbs93UvM4NHi",
        "colab_type": "code",
        "colab": {}
      },
      "cell_type": "code",
      "source": [
        "from sklearn import cross_validation"
      ],
      "execution_count": 0,
      "outputs": []
    },
    {
      "metadata": {
        "id": "wZaA9sq-29hx",
        "colab_type": "code",
        "colab": {}
      },
      "cell_type": "code",
      "source": [
        "# Helper functions\n",
        "def folds_to_split(data,targets,train,test):\n",
        "    data_tr = pd.DataFrame(data).iloc[train]\n",
        "    data_te = pd.DataFrame(data).iloc[test]\n",
        "    labels_tr = pd.DataFrame(targets).iloc[train]\n",
        "    labels_te = pd.DataFrame(targets).iloc[test]\n",
        "    return [data_tr, data_te, labels_tr, labels_te]"
      ],
      "execution_count": 0,
      "outputs": []
    },
    {
      "metadata": {
        "id": "x9YAV9pL29oh",
        "colab_type": "code",
        "colab": {}
      },
      "cell_type": "code",
      "source": [
        "\n",
        "#let's load the data\n",
        "train_data = pd.read_csv('/home/kddcup.data_10_percent_corrected.csv')\n",
        "test_data =  pd.read_csv('/home/corrected.csv')"
      ],
      "execution_count": 0,
      "outputs": []
    },
    {
      "metadata": {
        "id": "7DFw4FVu29rV",
        "colab_type": "code",
        "colab": {}
      },
      "cell_type": "code",
      "source": [
        "#Place both dataset into a dataframe\n",
        "train_multiclass = pd.read_csv('/home/kddcup.data_10_percent_corrected.csv', quotechar=',', skipinitialspace=True , names=['Duration', 'protocol_type', 'Service', 'Flag', 'src_bytes', 'dst_bytes', 'Land', 'wrong_fragment', 'Urgent', 'Hot', 'num_failed_logins', 'logged_in', 'num_compromised', 'root_shell', 'su_attempted', 'num_root', 'num_file_creations', 'num_shells', 'num_access_files', 'num_outbound_cmds', 'is_host_login', 'is_guest_login', 'Count', 'srv_count', 'serror_rate', 'srv_serror_rate', 'rerror_rate', 'srv_rerror_rate', 'same_srv_rate', 'diff_srv_rate', 'srv_diff_host_rate', 'dst_host_count', 'dst_host_srv_count', 'dst_host_same_srv_rate', 'dst_host_diff_srv_rate', 'dst_host_same_src_port_rate', 'dst_host_srv_diff_host_rate', 'dst_host_serror_rate', 'dst_host_srv_serror_rate', 'dst_host_rerror_rate', 'dst_host_srv_rerror_rate','Class'])"
      ],
      "execution_count": 0,
      "outputs": []
    },
    {
      "metadata": {
        "id": "deGOMLgQ1wGw",
        "colab_type": "code",
        "colab": {
          "base_uri": "https://localhost:8080/",
          "height": 222
        },
        "outputId": "bbc94803-4e1d-4459-c309-169639e931de"
      },
      "cell_type": "code",
      "source": [
        "train_multiclass.iloc[:,:-1].head(4)  # leave the last column of the dataset"
      ],
      "execution_count": 57,
      "outputs": [
        {
          "output_type": "execute_result",
          "data": {
            "text/html": [
              "<div>\n",
              "<style scoped>\n",
              "    .dataframe tbody tr th:only-of-type {\n",
              "        vertical-align: middle;\n",
              "    }\n",
              "\n",
              "    .dataframe tbody tr th {\n",
              "        vertical-align: top;\n",
              "    }\n",
              "\n",
              "    .dataframe thead th {\n",
              "        text-align: right;\n",
              "    }\n",
              "</style>\n",
              "<table border=\"1\" class=\"dataframe\">\n",
              "  <thead>\n",
              "    <tr style=\"text-align: right;\">\n",
              "      <th></th>\n",
              "      <th>Duration</th>\n",
              "      <th>protocol_type</th>\n",
              "      <th>Service</th>\n",
              "      <th>Flag</th>\n",
              "      <th>src_bytes</th>\n",
              "      <th>dst_bytes</th>\n",
              "      <th>Land</th>\n",
              "      <th>wrong_fragment</th>\n",
              "      <th>Urgent</th>\n",
              "      <th>Hot</th>\n",
              "      <th>...</th>\n",
              "      <th>dst_host_count</th>\n",
              "      <th>dst_host_srv_count</th>\n",
              "      <th>dst_host_same_srv_rate</th>\n",
              "      <th>dst_host_diff_srv_rate</th>\n",
              "      <th>dst_host_same_src_port_rate</th>\n",
              "      <th>dst_host_srv_diff_host_rate</th>\n",
              "      <th>dst_host_serror_rate</th>\n",
              "      <th>dst_host_srv_serror_rate</th>\n",
              "      <th>dst_host_rerror_rate</th>\n",
              "      <th>dst_host_srv_rerror_rate</th>\n",
              "    </tr>\n",
              "  </thead>\n",
              "  <tbody>\n",
              "    <tr>\n",
              "      <th>0</th>\n",
              "      <td>0</td>\n",
              "      <td>tcp</td>\n",
              "      <td>http</td>\n",
              "      <td>SF</td>\n",
              "      <td>181</td>\n",
              "      <td>5450</td>\n",
              "      <td>0</td>\n",
              "      <td>0</td>\n",
              "      <td>0</td>\n",
              "      <td>0</td>\n",
              "      <td>...</td>\n",
              "      <td>9</td>\n",
              "      <td>9</td>\n",
              "      <td>1.0</td>\n",
              "      <td>0.0</td>\n",
              "      <td>0.11</td>\n",
              "      <td>0.0</td>\n",
              "      <td>0.0</td>\n",
              "      <td>0.0</td>\n",
              "      <td>0.0</td>\n",
              "      <td>0.0</td>\n",
              "    </tr>\n",
              "    <tr>\n",
              "      <th>1</th>\n",
              "      <td>0</td>\n",
              "      <td>tcp</td>\n",
              "      <td>http</td>\n",
              "      <td>SF</td>\n",
              "      <td>239</td>\n",
              "      <td>486</td>\n",
              "      <td>0</td>\n",
              "      <td>0</td>\n",
              "      <td>0</td>\n",
              "      <td>0</td>\n",
              "      <td>...</td>\n",
              "      <td>19</td>\n",
              "      <td>19</td>\n",
              "      <td>1.0</td>\n",
              "      <td>0.0</td>\n",
              "      <td>0.05</td>\n",
              "      <td>0.0</td>\n",
              "      <td>0.0</td>\n",
              "      <td>0.0</td>\n",
              "      <td>0.0</td>\n",
              "      <td>0.0</td>\n",
              "    </tr>\n",
              "    <tr>\n",
              "      <th>2</th>\n",
              "      <td>0</td>\n",
              "      <td>tcp</td>\n",
              "      <td>http</td>\n",
              "      <td>SF</td>\n",
              "      <td>235</td>\n",
              "      <td>1337</td>\n",
              "      <td>0</td>\n",
              "      <td>0</td>\n",
              "      <td>0</td>\n",
              "      <td>0</td>\n",
              "      <td>...</td>\n",
              "      <td>29</td>\n",
              "      <td>29</td>\n",
              "      <td>1.0</td>\n",
              "      <td>0.0</td>\n",
              "      <td>0.03</td>\n",
              "      <td>0.0</td>\n",
              "      <td>0.0</td>\n",
              "      <td>0.0</td>\n",
              "      <td>0.0</td>\n",
              "      <td>0.0</td>\n",
              "    </tr>\n",
              "    <tr>\n",
              "      <th>3</th>\n",
              "      <td>0</td>\n",
              "      <td>tcp</td>\n",
              "      <td>http</td>\n",
              "      <td>SF</td>\n",
              "      <td>219</td>\n",
              "      <td>1337</td>\n",
              "      <td>0</td>\n",
              "      <td>0</td>\n",
              "      <td>0</td>\n",
              "      <td>0</td>\n",
              "      <td>...</td>\n",
              "      <td>39</td>\n",
              "      <td>39</td>\n",
              "      <td>1.0</td>\n",
              "      <td>0.0</td>\n",
              "      <td>0.03</td>\n",
              "      <td>0.0</td>\n",
              "      <td>0.0</td>\n",
              "      <td>0.0</td>\n",
              "      <td>0.0</td>\n",
              "      <td>0.0</td>\n",
              "    </tr>\n",
              "  </tbody>\n",
              "</table>\n",
              "<p>4 rows × 41 columns</p>\n",
              "</div>"
            ],
            "text/plain": [
              "   Duration protocol_type Service Flag  src_bytes  dst_bytes  Land  \\\n",
              "0         0           tcp    http   SF        181       5450     0   \n",
              "1         0           tcp    http   SF        239        486     0   \n",
              "2         0           tcp    http   SF        235       1337     0   \n",
              "3         0           tcp    http   SF        219       1337     0   \n",
              "\n",
              "   wrong_fragment  Urgent  Hot            ...             dst_host_count  \\\n",
              "0               0       0    0            ...                          9   \n",
              "1               0       0    0            ...                         19   \n",
              "2               0       0    0            ...                         29   \n",
              "3               0       0    0            ...                         39   \n",
              "\n",
              "   dst_host_srv_count  dst_host_same_srv_rate  dst_host_diff_srv_rate  \\\n",
              "0                   9                     1.0                     0.0   \n",
              "1                  19                     1.0                     0.0   \n",
              "2                  29                     1.0                     0.0   \n",
              "3                  39                     1.0                     0.0   \n",
              "\n",
              "   dst_host_same_src_port_rate  dst_host_srv_diff_host_rate  \\\n",
              "0                         0.11                          0.0   \n",
              "1                         0.05                          0.0   \n",
              "2                         0.03                          0.0   \n",
              "3                         0.03                          0.0   \n",
              "\n",
              "   dst_host_serror_rate  dst_host_srv_serror_rate  dst_host_rerror_rate  \\\n",
              "0                   0.0                       0.0                   0.0   \n",
              "1                   0.0                       0.0                   0.0   \n",
              "2                   0.0                       0.0                   0.0   \n",
              "3                   0.0                       0.0                   0.0   \n",
              "\n",
              "   dst_host_srv_rerror_rate  \n",
              "0                       0.0  \n",
              "1                       0.0  \n",
              "2                       0.0  \n",
              "3                       0.0  \n",
              "\n",
              "[4 rows x 41 columns]"
            ]
          },
          "metadata": {
            "tags": []
          },
          "execution_count": 57
        }
      ]
    },
    {
      "metadata": {
        "id": "EppeB22v29uI",
        "colab_type": "code",
        "outputId": "a623873a-9fb0-4d10-cf39-a7d7ffc64e98",
        "colab": {
          "base_uri": "https://localhost:8080/",
          "height": 34
        }
      },
      "cell_type": "code",
      "source": [
        "train_multiclass.shape"
      ],
      "execution_count": 14,
      "outputs": [
        {
          "output_type": "execute_result",
          "data": {
            "text/plain": [
              "(494021, 42)"
            ]
          },
          "metadata": {
            "tags": []
          },
          "execution_count": 14
        }
      ]
    },
    {
      "metadata": {
        "id": "hGMuWxyX29xz",
        "colab_type": "code",
        "outputId": "6b60852a-8e38-4da0-db36-7a492695aba7",
        "colab": {
          "base_uri": "https://localhost:8080/",
          "height": 253
        }
      },
      "cell_type": "code",
      "source": [
        "train_multiclass.head()"
      ],
      "execution_count": 15,
      "outputs": [
        {
          "output_type": "execute_result",
          "data": {
            "text/html": [
              "<div>\n",
              "<style scoped>\n",
              "    .dataframe tbody tr th:only-of-type {\n",
              "        vertical-align: middle;\n",
              "    }\n",
              "\n",
              "    .dataframe tbody tr th {\n",
              "        vertical-align: top;\n",
              "    }\n",
              "\n",
              "    .dataframe thead th {\n",
              "        text-align: right;\n",
              "    }\n",
              "</style>\n",
              "<table border=\"1\" class=\"dataframe\">\n",
              "  <thead>\n",
              "    <tr style=\"text-align: right;\">\n",
              "      <th></th>\n",
              "      <th>Duration</th>\n",
              "      <th>protocol_type</th>\n",
              "      <th>Service</th>\n",
              "      <th>Flag</th>\n",
              "      <th>src_bytes</th>\n",
              "      <th>dst_bytes</th>\n",
              "      <th>Land</th>\n",
              "      <th>wrong_fragment</th>\n",
              "      <th>Urgent</th>\n",
              "      <th>Hot</th>\n",
              "      <th>...</th>\n",
              "      <th>dst_host_srv_count</th>\n",
              "      <th>dst_host_same_srv_rate</th>\n",
              "      <th>dst_host_diff_srv_rate</th>\n",
              "      <th>dst_host_same_src_port_rate</th>\n",
              "      <th>dst_host_srv_diff_host_rate</th>\n",
              "      <th>dst_host_serror_rate</th>\n",
              "      <th>dst_host_srv_serror_rate</th>\n",
              "      <th>dst_host_rerror_rate</th>\n",
              "      <th>dst_host_srv_rerror_rate</th>\n",
              "      <th>Class</th>\n",
              "    </tr>\n",
              "  </thead>\n",
              "  <tbody>\n",
              "    <tr>\n",
              "      <th>0</th>\n",
              "      <td>0</td>\n",
              "      <td>tcp</td>\n",
              "      <td>http</td>\n",
              "      <td>SF</td>\n",
              "      <td>181</td>\n",
              "      <td>5450</td>\n",
              "      <td>0</td>\n",
              "      <td>0</td>\n",
              "      <td>0</td>\n",
              "      <td>0</td>\n",
              "      <td>...</td>\n",
              "      <td>9</td>\n",
              "      <td>1.0</td>\n",
              "      <td>0.0</td>\n",
              "      <td>0.11</td>\n",
              "      <td>0.0</td>\n",
              "      <td>0.0</td>\n",
              "      <td>0.0</td>\n",
              "      <td>0.0</td>\n",
              "      <td>0.0</td>\n",
              "      <td>normal.</td>\n",
              "    </tr>\n",
              "    <tr>\n",
              "      <th>1</th>\n",
              "      <td>0</td>\n",
              "      <td>tcp</td>\n",
              "      <td>http</td>\n",
              "      <td>SF</td>\n",
              "      <td>239</td>\n",
              "      <td>486</td>\n",
              "      <td>0</td>\n",
              "      <td>0</td>\n",
              "      <td>0</td>\n",
              "      <td>0</td>\n",
              "      <td>...</td>\n",
              "      <td>19</td>\n",
              "      <td>1.0</td>\n",
              "      <td>0.0</td>\n",
              "      <td>0.05</td>\n",
              "      <td>0.0</td>\n",
              "      <td>0.0</td>\n",
              "      <td>0.0</td>\n",
              "      <td>0.0</td>\n",
              "      <td>0.0</td>\n",
              "      <td>normal.</td>\n",
              "    </tr>\n",
              "    <tr>\n",
              "      <th>2</th>\n",
              "      <td>0</td>\n",
              "      <td>tcp</td>\n",
              "      <td>http</td>\n",
              "      <td>SF</td>\n",
              "      <td>235</td>\n",
              "      <td>1337</td>\n",
              "      <td>0</td>\n",
              "      <td>0</td>\n",
              "      <td>0</td>\n",
              "      <td>0</td>\n",
              "      <td>...</td>\n",
              "      <td>29</td>\n",
              "      <td>1.0</td>\n",
              "      <td>0.0</td>\n",
              "      <td>0.03</td>\n",
              "      <td>0.0</td>\n",
              "      <td>0.0</td>\n",
              "      <td>0.0</td>\n",
              "      <td>0.0</td>\n",
              "      <td>0.0</td>\n",
              "      <td>normal.</td>\n",
              "    </tr>\n",
              "    <tr>\n",
              "      <th>3</th>\n",
              "      <td>0</td>\n",
              "      <td>tcp</td>\n",
              "      <td>http</td>\n",
              "      <td>SF</td>\n",
              "      <td>219</td>\n",
              "      <td>1337</td>\n",
              "      <td>0</td>\n",
              "      <td>0</td>\n",
              "      <td>0</td>\n",
              "      <td>0</td>\n",
              "      <td>...</td>\n",
              "      <td>39</td>\n",
              "      <td>1.0</td>\n",
              "      <td>0.0</td>\n",
              "      <td>0.03</td>\n",
              "      <td>0.0</td>\n",
              "      <td>0.0</td>\n",
              "      <td>0.0</td>\n",
              "      <td>0.0</td>\n",
              "      <td>0.0</td>\n",
              "      <td>normal.</td>\n",
              "    </tr>\n",
              "    <tr>\n",
              "      <th>4</th>\n",
              "      <td>0</td>\n",
              "      <td>tcp</td>\n",
              "      <td>http</td>\n",
              "      <td>SF</td>\n",
              "      <td>217</td>\n",
              "      <td>2032</td>\n",
              "      <td>0</td>\n",
              "      <td>0</td>\n",
              "      <td>0</td>\n",
              "      <td>0</td>\n",
              "      <td>...</td>\n",
              "      <td>49</td>\n",
              "      <td>1.0</td>\n",
              "      <td>0.0</td>\n",
              "      <td>0.02</td>\n",
              "      <td>0.0</td>\n",
              "      <td>0.0</td>\n",
              "      <td>0.0</td>\n",
              "      <td>0.0</td>\n",
              "      <td>0.0</td>\n",
              "      <td>normal.</td>\n",
              "    </tr>\n",
              "  </tbody>\n",
              "</table>\n",
              "<p>5 rows × 42 columns</p>\n",
              "</div>"
            ],
            "text/plain": [
              "   Duration protocol_type Service Flag  src_bytes  dst_bytes  Land  \\\n",
              "0         0           tcp    http   SF        181       5450     0   \n",
              "1         0           tcp    http   SF        239        486     0   \n",
              "2         0           tcp    http   SF        235       1337     0   \n",
              "3         0           tcp    http   SF        219       1337     0   \n",
              "4         0           tcp    http   SF        217       2032     0   \n",
              "\n",
              "   wrong_fragment  Urgent  Hot   ...     dst_host_srv_count  \\\n",
              "0               0       0    0   ...                      9   \n",
              "1               0       0    0   ...                     19   \n",
              "2               0       0    0   ...                     29   \n",
              "3               0       0    0   ...                     39   \n",
              "4               0       0    0   ...                     49   \n",
              "\n",
              "   dst_host_same_srv_rate  dst_host_diff_srv_rate  \\\n",
              "0                     1.0                     0.0   \n",
              "1                     1.0                     0.0   \n",
              "2                     1.0                     0.0   \n",
              "3                     1.0                     0.0   \n",
              "4                     1.0                     0.0   \n",
              "\n",
              "   dst_host_same_src_port_rate  dst_host_srv_diff_host_rate  \\\n",
              "0                         0.11                          0.0   \n",
              "1                         0.05                          0.0   \n",
              "2                         0.03                          0.0   \n",
              "3                         0.03                          0.0   \n",
              "4                         0.02                          0.0   \n",
              "\n",
              "   dst_host_serror_rate  dst_host_srv_serror_rate  dst_host_rerror_rate  \\\n",
              "0                   0.0                       0.0                   0.0   \n",
              "1                   0.0                       0.0                   0.0   \n",
              "2                   0.0                       0.0                   0.0   \n",
              "3                   0.0                       0.0                   0.0   \n",
              "4                   0.0                       0.0                   0.0   \n",
              "\n",
              "   dst_host_srv_rerror_rate    Class  \n",
              "0                       0.0  normal.  \n",
              "1                       0.0  normal.  \n",
              "2                       0.0  normal.  \n",
              "3                       0.0  normal.  \n",
              "4                       0.0  normal.  \n",
              "\n",
              "[5 rows x 42 columns]"
            ]
          },
          "metadata": {
            "tags": []
          },
          "execution_count": 15
        }
      ]
    },
    {
      "metadata": {
        "id": "PlO1slseCBJJ",
        "colab_type": "code",
        "outputId": "f75686cf-00f6-43fc-807c-166b32630a97",
        "colab": {
          "base_uri": "https://localhost:8080/",
          "height": 253
        }
      },
      "cell_type": "code",
      "source": [
        "train_multiclass.tail()"
      ],
      "execution_count": 16,
      "outputs": [
        {
          "output_type": "execute_result",
          "data": {
            "text/html": [
              "<div>\n",
              "<style scoped>\n",
              "    .dataframe tbody tr th:only-of-type {\n",
              "        vertical-align: middle;\n",
              "    }\n",
              "\n",
              "    .dataframe tbody tr th {\n",
              "        vertical-align: top;\n",
              "    }\n",
              "\n",
              "    .dataframe thead th {\n",
              "        text-align: right;\n",
              "    }\n",
              "</style>\n",
              "<table border=\"1\" class=\"dataframe\">\n",
              "  <thead>\n",
              "    <tr style=\"text-align: right;\">\n",
              "      <th></th>\n",
              "      <th>Duration</th>\n",
              "      <th>protocol_type</th>\n",
              "      <th>Service</th>\n",
              "      <th>Flag</th>\n",
              "      <th>src_bytes</th>\n",
              "      <th>dst_bytes</th>\n",
              "      <th>Land</th>\n",
              "      <th>wrong_fragment</th>\n",
              "      <th>Urgent</th>\n",
              "      <th>Hot</th>\n",
              "      <th>...</th>\n",
              "      <th>dst_host_srv_count</th>\n",
              "      <th>dst_host_same_srv_rate</th>\n",
              "      <th>dst_host_diff_srv_rate</th>\n",
              "      <th>dst_host_same_src_port_rate</th>\n",
              "      <th>dst_host_srv_diff_host_rate</th>\n",
              "      <th>dst_host_serror_rate</th>\n",
              "      <th>dst_host_srv_serror_rate</th>\n",
              "      <th>dst_host_rerror_rate</th>\n",
              "      <th>dst_host_srv_rerror_rate</th>\n",
              "      <th>Class</th>\n",
              "    </tr>\n",
              "  </thead>\n",
              "  <tbody>\n",
              "    <tr>\n",
              "      <th>494016</th>\n",
              "      <td>0</td>\n",
              "      <td>tcp</td>\n",
              "      <td>http</td>\n",
              "      <td>SF</td>\n",
              "      <td>310</td>\n",
              "      <td>1881</td>\n",
              "      <td>0</td>\n",
              "      <td>0</td>\n",
              "      <td>0</td>\n",
              "      <td>0</td>\n",
              "      <td>...</td>\n",
              "      <td>255</td>\n",
              "      <td>1.0</td>\n",
              "      <td>0.0</td>\n",
              "      <td>0.01</td>\n",
              "      <td>0.05</td>\n",
              "      <td>0.00</td>\n",
              "      <td>0.01</td>\n",
              "      <td>0.0</td>\n",
              "      <td>0.0</td>\n",
              "      <td>normal.</td>\n",
              "    </tr>\n",
              "    <tr>\n",
              "      <th>494017</th>\n",
              "      <td>0</td>\n",
              "      <td>tcp</td>\n",
              "      <td>http</td>\n",
              "      <td>SF</td>\n",
              "      <td>282</td>\n",
              "      <td>2286</td>\n",
              "      <td>0</td>\n",
              "      <td>0</td>\n",
              "      <td>0</td>\n",
              "      <td>0</td>\n",
              "      <td>...</td>\n",
              "      <td>255</td>\n",
              "      <td>1.0</td>\n",
              "      <td>0.0</td>\n",
              "      <td>0.17</td>\n",
              "      <td>0.05</td>\n",
              "      <td>0.00</td>\n",
              "      <td>0.01</td>\n",
              "      <td>0.0</td>\n",
              "      <td>0.0</td>\n",
              "      <td>normal.</td>\n",
              "    </tr>\n",
              "    <tr>\n",
              "      <th>494018</th>\n",
              "      <td>0</td>\n",
              "      <td>tcp</td>\n",
              "      <td>http</td>\n",
              "      <td>SF</td>\n",
              "      <td>203</td>\n",
              "      <td>1200</td>\n",
              "      <td>0</td>\n",
              "      <td>0</td>\n",
              "      <td>0</td>\n",
              "      <td>0</td>\n",
              "      <td>...</td>\n",
              "      <td>255</td>\n",
              "      <td>1.0</td>\n",
              "      <td>0.0</td>\n",
              "      <td>0.06</td>\n",
              "      <td>0.05</td>\n",
              "      <td>0.06</td>\n",
              "      <td>0.01</td>\n",
              "      <td>0.0</td>\n",
              "      <td>0.0</td>\n",
              "      <td>normal.</td>\n",
              "    </tr>\n",
              "    <tr>\n",
              "      <th>494019</th>\n",
              "      <td>0</td>\n",
              "      <td>tcp</td>\n",
              "      <td>http</td>\n",
              "      <td>SF</td>\n",
              "      <td>291</td>\n",
              "      <td>1200</td>\n",
              "      <td>0</td>\n",
              "      <td>0</td>\n",
              "      <td>0</td>\n",
              "      <td>0</td>\n",
              "      <td>...</td>\n",
              "      <td>255</td>\n",
              "      <td>1.0</td>\n",
              "      <td>0.0</td>\n",
              "      <td>0.04</td>\n",
              "      <td>0.05</td>\n",
              "      <td>0.04</td>\n",
              "      <td>0.01</td>\n",
              "      <td>0.0</td>\n",
              "      <td>0.0</td>\n",
              "      <td>normal.</td>\n",
              "    </tr>\n",
              "    <tr>\n",
              "      <th>494020</th>\n",
              "      <td>0</td>\n",
              "      <td>tcp</td>\n",
              "      <td>http</td>\n",
              "      <td>SF</td>\n",
              "      <td>219</td>\n",
              "      <td>1234</td>\n",
              "      <td>0</td>\n",
              "      <td>0</td>\n",
              "      <td>0</td>\n",
              "      <td>0</td>\n",
              "      <td>...</td>\n",
              "      <td>255</td>\n",
              "      <td>1.0</td>\n",
              "      <td>0.0</td>\n",
              "      <td>0.17</td>\n",
              "      <td>0.05</td>\n",
              "      <td>0.00</td>\n",
              "      <td>0.01</td>\n",
              "      <td>0.0</td>\n",
              "      <td>0.0</td>\n",
              "      <td>normal.</td>\n",
              "    </tr>\n",
              "  </tbody>\n",
              "</table>\n",
              "<p>5 rows × 42 columns</p>\n",
              "</div>"
            ],
            "text/plain": [
              "        Duration protocol_type Service Flag  src_bytes  dst_bytes  Land  \\\n",
              "494016         0           tcp    http   SF        310       1881     0   \n",
              "494017         0           tcp    http   SF        282       2286     0   \n",
              "494018         0           tcp    http   SF        203       1200     0   \n",
              "494019         0           tcp    http   SF        291       1200     0   \n",
              "494020         0           tcp    http   SF        219       1234     0   \n",
              "\n",
              "        wrong_fragment  Urgent  Hot   ...     dst_host_srv_count  \\\n",
              "494016               0       0    0   ...                    255   \n",
              "494017               0       0    0   ...                    255   \n",
              "494018               0       0    0   ...                    255   \n",
              "494019               0       0    0   ...                    255   \n",
              "494020               0       0    0   ...                    255   \n",
              "\n",
              "        dst_host_same_srv_rate  dst_host_diff_srv_rate  \\\n",
              "494016                     1.0                     0.0   \n",
              "494017                     1.0                     0.0   \n",
              "494018                     1.0                     0.0   \n",
              "494019                     1.0                     0.0   \n",
              "494020                     1.0                     0.0   \n",
              "\n",
              "        dst_host_same_src_port_rate  dst_host_srv_diff_host_rate  \\\n",
              "494016                         0.01                         0.05   \n",
              "494017                         0.17                         0.05   \n",
              "494018                         0.06                         0.05   \n",
              "494019                         0.04                         0.05   \n",
              "494020                         0.17                         0.05   \n",
              "\n",
              "        dst_host_serror_rate  dst_host_srv_serror_rate  dst_host_rerror_rate  \\\n",
              "494016                  0.00                      0.01                   0.0   \n",
              "494017                  0.00                      0.01                   0.0   \n",
              "494018                  0.06                      0.01                   0.0   \n",
              "494019                  0.04                      0.01                   0.0   \n",
              "494020                  0.00                      0.01                   0.0   \n",
              "\n",
              "        dst_host_srv_rerror_rate    Class  \n",
              "494016                       0.0  normal.  \n",
              "494017                       0.0  normal.  \n",
              "494018                       0.0  normal.  \n",
              "494019                       0.0  normal.  \n",
              "494020                       0.0  normal.  \n",
              "\n",
              "[5 rows x 42 columns]"
            ]
          },
          "metadata": {
            "tags": []
          },
          "execution_count": 16
        }
      ]
    },
    {
      "metadata": {
        "id": "cIwA6G1BCBMz",
        "colab_type": "code",
        "colab": {}
      },
      "cell_type": "code",
      "source": [
        "test_multiclass = pd.read_csv('/home/corrected.csv', quotechar=',', skipinitialspace=True, names=['Duration', 'protocol_type', 'Service', 'Flag', 'src_bytes', 'dst_bytes', 'Land', 'wrong_fragment', 'Urgent', 'Hot', 'num_failed_logins', 'logged_in', 'num_compromised', 'root_shell', 'su_attempted', 'num_root', 'num_file_creations', 'num_shells', 'num_access_files', 'num_outbound_cmds', 'is_host_login', 'is_guest_login', 'Count', 'srv_count', 'serror_rate', 'srv_serror_rate', 'rerror_rate', 'srv_rerror_rate', 'same_srv_rate', 'diff_srv_rate', 'srv_diff_host_rate', 'dst_host_count', 'dst_host_srv_count', 'dst_host_same_srv_rate', 'dst_host_diff_srv_rate', 'dst_host_same_src_port_rate', 'dst_host_srv_diff_host_rate', 'dst_host_serror_rate', 'dst_host_srv_serror_rate', 'dst_host_rerror_rate', 'dst_host_srv_rerror_rate','Class'])"
      ],
      "execution_count": 0,
      "outputs": []
    },
    {
      "metadata": {
        "id": "og-KwXy8CBSQ",
        "colab_type": "code",
        "outputId": "6373f207-7594-420d-d4ac-bfa292e51f12",
        "colab": {
          "base_uri": "https://localhost:8080/",
          "height": 34
        }
      },
      "cell_type": "code",
      "source": [
        "test_multiclass.shape"
      ],
      "execution_count": 20,
      "outputs": [
        {
          "output_type": "execute_result",
          "data": {
            "text/plain": [
              "(311029, 42)"
            ]
          },
          "metadata": {
            "tags": []
          },
          "execution_count": 20
        }
      ]
    },
    {
      "metadata": {
        "id": "k6xEUyIszhCi",
        "colab_type": "code",
        "colab": {
          "base_uri": "https://localhost:8080/",
          "height": 253
        },
        "outputId": "6399d6fc-2066-4cc6-d675-e108310b57ee"
      },
      "cell_type": "code",
      "source": [
        "test_multiclass.head()"
      ],
      "execution_count": 26,
      "outputs": [
        {
          "output_type": "execute_result",
          "data": {
            "text/html": [
              "<div>\n",
              "<style scoped>\n",
              "    .dataframe tbody tr th:only-of-type {\n",
              "        vertical-align: middle;\n",
              "    }\n",
              "\n",
              "    .dataframe tbody tr th {\n",
              "        vertical-align: top;\n",
              "    }\n",
              "\n",
              "    .dataframe thead th {\n",
              "        text-align: right;\n",
              "    }\n",
              "</style>\n",
              "<table border=\"1\" class=\"dataframe\">\n",
              "  <thead>\n",
              "    <tr style=\"text-align: right;\">\n",
              "      <th></th>\n",
              "      <th>Duration</th>\n",
              "      <th>protocol_type</th>\n",
              "      <th>Service</th>\n",
              "      <th>Flag</th>\n",
              "      <th>src_bytes</th>\n",
              "      <th>dst_bytes</th>\n",
              "      <th>Land</th>\n",
              "      <th>wrong_fragment</th>\n",
              "      <th>Urgent</th>\n",
              "      <th>Hot</th>\n",
              "      <th>...</th>\n",
              "      <th>dst_host_srv_count</th>\n",
              "      <th>dst_host_same_srv_rate</th>\n",
              "      <th>dst_host_diff_srv_rate</th>\n",
              "      <th>dst_host_same_src_port_rate</th>\n",
              "      <th>dst_host_srv_diff_host_rate</th>\n",
              "      <th>dst_host_serror_rate</th>\n",
              "      <th>dst_host_srv_serror_rate</th>\n",
              "      <th>dst_host_rerror_rate</th>\n",
              "      <th>dst_host_srv_rerror_rate</th>\n",
              "      <th>Class</th>\n",
              "    </tr>\n",
              "  </thead>\n",
              "  <tbody>\n",
              "    <tr>\n",
              "      <th>0</th>\n",
              "      <td>0</td>\n",
              "      <td>udp</td>\n",
              "      <td>private</td>\n",
              "      <td>SF</td>\n",
              "      <td>105</td>\n",
              "      <td>146</td>\n",
              "      <td>0</td>\n",
              "      <td>0</td>\n",
              "      <td>0</td>\n",
              "      <td>0</td>\n",
              "      <td>...</td>\n",
              "      <td>254</td>\n",
              "      <td>1.0</td>\n",
              "      <td>0.01</td>\n",
              "      <td>0.00</td>\n",
              "      <td>0.0</td>\n",
              "      <td>0.0</td>\n",
              "      <td>0.0</td>\n",
              "      <td>0.0</td>\n",
              "      <td>0.0</td>\n",
              "      <td>normal.</td>\n",
              "    </tr>\n",
              "    <tr>\n",
              "      <th>1</th>\n",
              "      <td>0</td>\n",
              "      <td>udp</td>\n",
              "      <td>private</td>\n",
              "      <td>SF</td>\n",
              "      <td>105</td>\n",
              "      <td>146</td>\n",
              "      <td>0</td>\n",
              "      <td>0</td>\n",
              "      <td>0</td>\n",
              "      <td>0</td>\n",
              "      <td>...</td>\n",
              "      <td>254</td>\n",
              "      <td>1.0</td>\n",
              "      <td>0.01</td>\n",
              "      <td>0.00</td>\n",
              "      <td>0.0</td>\n",
              "      <td>0.0</td>\n",
              "      <td>0.0</td>\n",
              "      <td>0.0</td>\n",
              "      <td>0.0</td>\n",
              "      <td>normal.</td>\n",
              "    </tr>\n",
              "    <tr>\n",
              "      <th>2</th>\n",
              "      <td>0</td>\n",
              "      <td>udp</td>\n",
              "      <td>private</td>\n",
              "      <td>SF</td>\n",
              "      <td>105</td>\n",
              "      <td>146</td>\n",
              "      <td>0</td>\n",
              "      <td>0</td>\n",
              "      <td>0</td>\n",
              "      <td>0</td>\n",
              "      <td>...</td>\n",
              "      <td>254</td>\n",
              "      <td>1.0</td>\n",
              "      <td>0.01</td>\n",
              "      <td>0.00</td>\n",
              "      <td>0.0</td>\n",
              "      <td>0.0</td>\n",
              "      <td>0.0</td>\n",
              "      <td>0.0</td>\n",
              "      <td>0.0</td>\n",
              "      <td>normal.</td>\n",
              "    </tr>\n",
              "    <tr>\n",
              "      <th>3</th>\n",
              "      <td>0</td>\n",
              "      <td>udp</td>\n",
              "      <td>private</td>\n",
              "      <td>SF</td>\n",
              "      <td>105</td>\n",
              "      <td>146</td>\n",
              "      <td>0</td>\n",
              "      <td>0</td>\n",
              "      <td>0</td>\n",
              "      <td>0</td>\n",
              "      <td>...</td>\n",
              "      <td>254</td>\n",
              "      <td>1.0</td>\n",
              "      <td>0.01</td>\n",
              "      <td>0.00</td>\n",
              "      <td>0.0</td>\n",
              "      <td>0.0</td>\n",
              "      <td>0.0</td>\n",
              "      <td>0.0</td>\n",
              "      <td>0.0</td>\n",
              "      <td>snmpgetattack.</td>\n",
              "    </tr>\n",
              "    <tr>\n",
              "      <th>4</th>\n",
              "      <td>0</td>\n",
              "      <td>udp</td>\n",
              "      <td>private</td>\n",
              "      <td>SF</td>\n",
              "      <td>105</td>\n",
              "      <td>146</td>\n",
              "      <td>0</td>\n",
              "      <td>0</td>\n",
              "      <td>0</td>\n",
              "      <td>0</td>\n",
              "      <td>...</td>\n",
              "      <td>254</td>\n",
              "      <td>1.0</td>\n",
              "      <td>0.01</td>\n",
              "      <td>0.01</td>\n",
              "      <td>0.0</td>\n",
              "      <td>0.0</td>\n",
              "      <td>0.0</td>\n",
              "      <td>0.0</td>\n",
              "      <td>0.0</td>\n",
              "      <td>snmpgetattack.</td>\n",
              "    </tr>\n",
              "  </tbody>\n",
              "</table>\n",
              "<p>5 rows × 42 columns</p>\n",
              "</div>"
            ],
            "text/plain": [
              "   Duration protocol_type  Service Flag  src_bytes  dst_bytes  Land  \\\n",
              "0         0           udp  private   SF        105        146     0   \n",
              "1         0           udp  private   SF        105        146     0   \n",
              "2         0           udp  private   SF        105        146     0   \n",
              "3         0           udp  private   SF        105        146     0   \n",
              "4         0           udp  private   SF        105        146     0   \n",
              "\n",
              "   wrong_fragment  Urgent  Hot       ...        dst_host_srv_count  \\\n",
              "0               0       0    0       ...                       254   \n",
              "1               0       0    0       ...                       254   \n",
              "2               0       0    0       ...                       254   \n",
              "3               0       0    0       ...                       254   \n",
              "4               0       0    0       ...                       254   \n",
              "\n",
              "   dst_host_same_srv_rate  dst_host_diff_srv_rate  \\\n",
              "0                     1.0                    0.01   \n",
              "1                     1.0                    0.01   \n",
              "2                     1.0                    0.01   \n",
              "3                     1.0                    0.01   \n",
              "4                     1.0                    0.01   \n",
              "\n",
              "   dst_host_same_src_port_rate  dst_host_srv_diff_host_rate  \\\n",
              "0                         0.00                          0.0   \n",
              "1                         0.00                          0.0   \n",
              "2                         0.00                          0.0   \n",
              "3                         0.00                          0.0   \n",
              "4                         0.01                          0.0   \n",
              "\n",
              "   dst_host_serror_rate  dst_host_srv_serror_rate  dst_host_rerror_rate  \\\n",
              "0                   0.0                       0.0                   0.0   \n",
              "1                   0.0                       0.0                   0.0   \n",
              "2                   0.0                       0.0                   0.0   \n",
              "3                   0.0                       0.0                   0.0   \n",
              "4                   0.0                       0.0                   0.0   \n",
              "\n",
              "   dst_host_srv_rerror_rate           Class  \n",
              "0                       0.0         normal.  \n",
              "1                       0.0         normal.  \n",
              "2                       0.0         normal.  \n",
              "3                       0.0  snmpgetattack.  \n",
              "4                       0.0  snmpgetattack.  \n",
              "\n",
              "[5 rows x 42 columns]"
            ]
          },
          "metadata": {
            "tags": []
          },
          "execution_count": 26
        }
      ]
    },
    {
      "metadata": {
        "id": "gZvApvEozlc-",
        "colab_type": "code",
        "colab": {
          "base_uri": "https://localhost:8080/",
          "height": 253
        },
        "outputId": "28d1b1dc-6abd-481c-9540-13e927e51559"
      },
      "cell_type": "code",
      "source": [
        "test_multiclass.tail()"
      ],
      "execution_count": 27,
      "outputs": [
        {
          "output_type": "execute_result",
          "data": {
            "text/html": [
              "<div>\n",
              "<style scoped>\n",
              "    .dataframe tbody tr th:only-of-type {\n",
              "        vertical-align: middle;\n",
              "    }\n",
              "\n",
              "    .dataframe tbody tr th {\n",
              "        vertical-align: top;\n",
              "    }\n",
              "\n",
              "    .dataframe thead th {\n",
              "        text-align: right;\n",
              "    }\n",
              "</style>\n",
              "<table border=\"1\" class=\"dataframe\">\n",
              "  <thead>\n",
              "    <tr style=\"text-align: right;\">\n",
              "      <th></th>\n",
              "      <th>Duration</th>\n",
              "      <th>protocol_type</th>\n",
              "      <th>Service</th>\n",
              "      <th>Flag</th>\n",
              "      <th>src_bytes</th>\n",
              "      <th>dst_bytes</th>\n",
              "      <th>Land</th>\n",
              "      <th>wrong_fragment</th>\n",
              "      <th>Urgent</th>\n",
              "      <th>Hot</th>\n",
              "      <th>...</th>\n",
              "      <th>dst_host_srv_count</th>\n",
              "      <th>dst_host_same_srv_rate</th>\n",
              "      <th>dst_host_diff_srv_rate</th>\n",
              "      <th>dst_host_same_src_port_rate</th>\n",
              "      <th>dst_host_srv_diff_host_rate</th>\n",
              "      <th>dst_host_serror_rate</th>\n",
              "      <th>dst_host_srv_serror_rate</th>\n",
              "      <th>dst_host_rerror_rate</th>\n",
              "      <th>dst_host_srv_rerror_rate</th>\n",
              "      <th>Class</th>\n",
              "    </tr>\n",
              "  </thead>\n",
              "  <tbody>\n",
              "    <tr>\n",
              "      <th>311024</th>\n",
              "      <td>0</td>\n",
              "      <td>udp</td>\n",
              "      <td>private</td>\n",
              "      <td>SF</td>\n",
              "      <td>105</td>\n",
              "      <td>147</td>\n",
              "      <td>0</td>\n",
              "      <td>0</td>\n",
              "      <td>0</td>\n",
              "      <td>0</td>\n",
              "      <td>...</td>\n",
              "      <td>255</td>\n",
              "      <td>1.0</td>\n",
              "      <td>0.0</td>\n",
              "      <td>0.01</td>\n",
              "      <td>0.0</td>\n",
              "      <td>0.0</td>\n",
              "      <td>0.0</td>\n",
              "      <td>0.0</td>\n",
              "      <td>0.0</td>\n",
              "      <td>normal.</td>\n",
              "    </tr>\n",
              "    <tr>\n",
              "      <th>311025</th>\n",
              "      <td>0</td>\n",
              "      <td>udp</td>\n",
              "      <td>private</td>\n",
              "      <td>SF</td>\n",
              "      <td>105</td>\n",
              "      <td>147</td>\n",
              "      <td>0</td>\n",
              "      <td>0</td>\n",
              "      <td>0</td>\n",
              "      <td>0</td>\n",
              "      <td>...</td>\n",
              "      <td>255</td>\n",
              "      <td>1.0</td>\n",
              "      <td>0.0</td>\n",
              "      <td>0.01</td>\n",
              "      <td>0.0</td>\n",
              "      <td>0.0</td>\n",
              "      <td>0.0</td>\n",
              "      <td>0.0</td>\n",
              "      <td>0.0</td>\n",
              "      <td>normal.</td>\n",
              "    </tr>\n",
              "    <tr>\n",
              "      <th>311026</th>\n",
              "      <td>0</td>\n",
              "      <td>udp</td>\n",
              "      <td>private</td>\n",
              "      <td>SF</td>\n",
              "      <td>105</td>\n",
              "      <td>147</td>\n",
              "      <td>0</td>\n",
              "      <td>0</td>\n",
              "      <td>0</td>\n",
              "      <td>0</td>\n",
              "      <td>...</td>\n",
              "      <td>255</td>\n",
              "      <td>1.0</td>\n",
              "      <td>0.0</td>\n",
              "      <td>0.01</td>\n",
              "      <td>0.0</td>\n",
              "      <td>0.0</td>\n",
              "      <td>0.0</td>\n",
              "      <td>0.0</td>\n",
              "      <td>0.0</td>\n",
              "      <td>normal.</td>\n",
              "    </tr>\n",
              "    <tr>\n",
              "      <th>311027</th>\n",
              "      <td>0</td>\n",
              "      <td>udp</td>\n",
              "      <td>private</td>\n",
              "      <td>SF</td>\n",
              "      <td>105</td>\n",
              "      <td>147</td>\n",
              "      <td>0</td>\n",
              "      <td>0</td>\n",
              "      <td>0</td>\n",
              "      <td>0</td>\n",
              "      <td>...</td>\n",
              "      <td>255</td>\n",
              "      <td>1.0</td>\n",
              "      <td>0.0</td>\n",
              "      <td>0.01</td>\n",
              "      <td>0.0</td>\n",
              "      <td>0.0</td>\n",
              "      <td>0.0</td>\n",
              "      <td>0.0</td>\n",
              "      <td>0.0</td>\n",
              "      <td>normal.</td>\n",
              "    </tr>\n",
              "    <tr>\n",
              "      <th>311028</th>\n",
              "      <td>0</td>\n",
              "      <td>udp</td>\n",
              "      <td>private</td>\n",
              "      <td>SF</td>\n",
              "      <td>105</td>\n",
              "      <td>147</td>\n",
              "      <td>0</td>\n",
              "      <td>0</td>\n",
              "      <td>0</td>\n",
              "      <td>0</td>\n",
              "      <td>...</td>\n",
              "      <td>255</td>\n",
              "      <td>1.0</td>\n",
              "      <td>0.0</td>\n",
              "      <td>0.01</td>\n",
              "      <td>0.0</td>\n",
              "      <td>0.0</td>\n",
              "      <td>0.0</td>\n",
              "      <td>0.0</td>\n",
              "      <td>0.0</td>\n",
              "      <td>normal.</td>\n",
              "    </tr>\n",
              "  </tbody>\n",
              "</table>\n",
              "<p>5 rows × 42 columns</p>\n",
              "</div>"
            ],
            "text/plain": [
              "        Duration protocol_type  Service Flag  src_bytes  dst_bytes  Land  \\\n",
              "311024         0           udp  private   SF        105        147     0   \n",
              "311025         0           udp  private   SF        105        147     0   \n",
              "311026         0           udp  private   SF        105        147     0   \n",
              "311027         0           udp  private   SF        105        147     0   \n",
              "311028         0           udp  private   SF        105        147     0   \n",
              "\n",
              "        wrong_fragment  Urgent  Hot   ...     dst_host_srv_count  \\\n",
              "311024               0       0    0   ...                    255   \n",
              "311025               0       0    0   ...                    255   \n",
              "311026               0       0    0   ...                    255   \n",
              "311027               0       0    0   ...                    255   \n",
              "311028               0       0    0   ...                    255   \n",
              "\n",
              "        dst_host_same_srv_rate  dst_host_diff_srv_rate  \\\n",
              "311024                     1.0                     0.0   \n",
              "311025                     1.0                     0.0   \n",
              "311026                     1.0                     0.0   \n",
              "311027                     1.0                     0.0   \n",
              "311028                     1.0                     0.0   \n",
              "\n",
              "        dst_host_same_src_port_rate  dst_host_srv_diff_host_rate  \\\n",
              "311024                         0.01                          0.0   \n",
              "311025                         0.01                          0.0   \n",
              "311026                         0.01                          0.0   \n",
              "311027                         0.01                          0.0   \n",
              "311028                         0.01                          0.0   \n",
              "\n",
              "        dst_host_serror_rate  dst_host_srv_serror_rate  dst_host_rerror_rate  \\\n",
              "311024                   0.0                       0.0                   0.0   \n",
              "311025                   0.0                       0.0                   0.0   \n",
              "311026                   0.0                       0.0                   0.0   \n",
              "311027                   0.0                       0.0                   0.0   \n",
              "311028                   0.0                       0.0                   0.0   \n",
              "\n",
              "        dst_host_srv_rerror_rate    Class  \n",
              "311024                       0.0  normal.  \n",
              "311025                       0.0  normal.  \n",
              "311026                       0.0  normal.  \n",
              "311027                       0.0  normal.  \n",
              "311028                       0.0  normal.  \n",
              "\n",
              "[5 rows x 42 columns]"
            ]
          },
          "metadata": {
            "tags": []
          },
          "execution_count": 27
        }
      ]
    },
    {
      "metadata": {
        "id": "RqAeZsKJEMI5",
        "colab_type": "text"
      },
      "cell_type": "markdown",
      "source": [
        "#Dos attack**"
      ]
    },
    {
      "metadata": {
        "id": "roIO-xsKCBXA",
        "colab_type": "code",
        "colab": {}
      },
      "cell_type": "code",
      "source": [
        "train_multiclass.loc[(train_multiclass['Class'] =='smurf.')|(train_multiclass['Class'] =='neptune.') | (train_multiclass['Class'] =='back.') | (train_multiclass['Class'] =='teardrop.') |(train_multiclass['Class'] =='pod.')| (train_multiclass['Class']=='land.'),'Class'] = 'DOS_ATTACK'"
      ],
      "execution_count": 0,
      "outputs": []
    },
    {
      "metadata": {
        "id": "ivmoXQSUEXzC",
        "colab_type": "text"
      },
      "cell_type": "markdown",
      "source": [
        "#Probe attack"
      ]
    },
    {
      "metadata": {
        "id": "qVcwZ62jCBan",
        "colab_type": "code",
        "colab": {}
      },
      "cell_type": "code",
      "source": [
        "train_multiclass.loc[(train_multiclass['Class'] =='satan.')|(train_multiclass['Class'] =='ipsweep.') | (train_multiclass['Class'] =='portsweep.') | (train_multiclass['Class'] =='nmap.'),'Class'] = 'probe'"
      ],
      "execution_count": 0,
      "outputs": []
    },
    {
      "metadata": {
        "id": "wk943llWEnU4",
        "colab_type": "text"
      },
      "cell_type": "markdown",
      "source": [
        "#R2L Attack"
      ]
    },
    {
      "metadata": {
        "id": "FEsNfZGJCBQP",
        "colab_type": "code",
        "colab": {}
      },
      "cell_type": "code",
      "source": [
        "train_multiclass.loc[(train_multiclass['Class'] =='spy.')|(train_multiclass['Class'] =='phf.')|(train_multiclass['Class'] =='multihop.')|(train_multiclass['Class'] =='ftp_write.') | (train_multiclass['Class'] =='imap.') | (train_multiclass['Class'] =='warezmaster.') |(train_multiclass['Class'] =='guess_passwd.')| (train_multiclass['Class']=='warezclient.'),'Class'] = 'r2l'"
      ],
      "execution_count": 0,
      "outputs": []
    },
    {
      "metadata": {
        "id": "Gf9z_926Ff4Q",
        "colab_type": "text"
      },
      "cell_type": "markdown",
      "source": [
        "#U2R attack"
      ]
    },
    {
      "metadata": {
        "id": "bSqvnfNSFiwW",
        "colab_type": "code",
        "colab": {}
      },
      "cell_type": "code",
      "source": [
        "train_multiclass.loc[(train_multiclass['Class'] =='buffer_overflow.')|(train_multiclass['Class'] =='rootkit.') | (train_multiclass['Class'] =='loadmodule.') | (train_multiclass['Class'] =='perl.'),'Class']='u2r'"
      ],
      "execution_count": 0,
      "outputs": []
    },
    {
      "metadata": {
        "id": "UNJd_cx8FB7a",
        "colab_type": "text"
      },
      "cell_type": "markdown",
      "source": [
        "#Normal "
      ]
    },
    {
      "metadata": {
        "id": "9L92mYvZEuH_",
        "colab_type": "code",
        "colab": {}
      },
      "cell_type": "code",
      "source": [
        "train_multiclass.loc[(train_multiclass['Class'] =='normal.'),'Class'] = 'normal'"
      ],
      "execution_count": 0,
      "outputs": []
    },
    {
      "metadata": {
        "id": "csCS9CeDFqjn",
        "colab_type": "text"
      },
      "cell_type": "markdown",
      "source": [
        "`Now make a class for similar kind of attacks  IN test_set`"
      ]
    },
    {
      "metadata": {
        "id": "RJG-Yub_0AmC",
        "colab_type": "text"
      },
      "cell_type": "markdown",
      "source": [
        "#For test data"
      ]
    },
    {
      "metadata": {
        "id": "DI4iUs9jGGf_",
        "colab_type": "text"
      },
      "cell_type": "markdown",
      "source": [
        "#Dos attack"
      ]
    },
    {
      "metadata": {
        "id": "WbfVut4UEuMU",
        "colab_type": "code",
        "colab": {}
      },
      "cell_type": "code",
      "source": [
        "test_multiclass.loc[(test_multiclass['Class'] =='smurf.')|(test_multiclass['Class'] =='neptune.') | \n",
        "                    (test_multiclass['Class'] =='back.') | (test_multiclass['Class'] =='teardrop.') |\n",
        "                    (test_multiclass['Class'] =='pod.')| (test_multiclass['Class']=='land.')|\n",
        "                   (test_multiclass['Class']=='apache2.')|(test_multiclass['Class']=='udpstorm.')|\n",
        "                   (test_multiclass['Class']=='processtable.')|(test_multiclass['Class']=='mailbomb.'),'Class'] ='DOS_ATTACK'\n"
      ],
      "execution_count": 0,
      "outputs": []
    },
    {
      "metadata": {
        "id": "PEJ0sbw4GY8a",
        "colab_type": "text"
      },
      "cell_type": "markdown",
      "source": [
        "#r2l attack"
      ]
    },
    {
      "metadata": {
        "id": "Modm4FF9EuXu",
        "colab_type": "code",
        "colab": {}
      },
      "cell_type": "code",
      "source": [
        "test_multiclass.loc[(test_multiclass['Class'] =='guess_passwd.')|(test_multiclass['Class'] =='ftp_write.')|\n",
        "                    (test_multiclass['Class'] =='imap.')|(test_multiclass['Class'] =='phf.') | \n",
        "                    (test_multiclass['Class'] =='multihop.') | \n",
        "                    (test_multiclass['Class'] =='warezmaster.') |(test_multiclass['Class'] =='snmpgetattack.')| \n",
        "                    (test_multiclass['Class']=='named.')|(test_multiclass['Class'] =='xlock.')|\n",
        "                    (test_multiclass['Class'] =='xsnoop.')|(test_multiclass['Class'] =='sendmail.')|\n",
        "                    (test_multiclass['Class'] =='httptunnel.')|(test_multiclass['Class'] =='worm.')|\n",
        "                    (test_multiclass['Class'] =='snmpguess.'),'Class'] = 'r2l'"
      ],
      "execution_count": 0,
      "outputs": []
    },
    {
      "metadata": {
        "id": "zUKjL5vOGfAB",
        "colab_type": "text"
      },
      "cell_type": "markdown",
      "source": [
        "#probe attack"
      ]
    },
    {
      "metadata": {
        "id": "boXFzhCEEubD",
        "colab_type": "code",
        "colab": {}
      },
      "cell_type": "code",
      "source": [
        "test_multiclass.loc[(test_multiclass['Class'] =='satan.')|(test_multiclass['Class'] =='ipsweep.') | (test_multiclass['Class'] =='portsweep.') | (test_multiclass['Class'] =='nmap.')|\n",
        "                    (test_multiclass['Class'] =='saint.')|(test_multiclass['Class'] =='mscan.'),'Class'] = 'probe'\n"
      ],
      "execution_count": 0,
      "outputs": []
    },
    {
      "metadata": {
        "id": "Z2-WaMT8GkUj",
        "colab_type": "text"
      },
      "cell_type": "markdown",
      "source": [
        "#u2r attack"
      ]
    },
    {
      "metadata": {
        "id": "A3x5VM3CEuiF",
        "colab_type": "code",
        "colab": {}
      },
      "cell_type": "code",
      "source": [
        "test_multiclass.loc[(test_multiclass['Class'] =='buffer_overflow.')|(test_multiclass['Class'] =='rootkit.') | \n",
        "                    (test_multiclass['Class'] =='loadmodule.') | (test_multiclass['Class'] =='xterm.')|\n",
        "                    (test_multiclass['Class'] =='sqlattack.')|(test_multiclass['Class'] =='ps.')|\n",
        "                    (test_multiclass['Class'] =='perl.'),'Class']='u2r'"
      ],
      "execution_count": 0,
      "outputs": []
    },
    {
      "metadata": {
        "id": "gxHQaWSpGs7J",
        "colab_type": "text"
      },
      "cell_type": "markdown",
      "source": [
        "#normal attacks"
      ]
    },
    {
      "metadata": {
        "id": "txt7g7JcEugH",
        "colab_type": "code",
        "colab": {}
      },
      "cell_type": "code",
      "source": [
        "test_multiclass.loc[(test_multiclass['Class'] =='normal.'),'Class'] = 'normal'"
      ],
      "execution_count": 0,
      "outputs": []
    },
    {
      "metadata": {
        "id": "tUJeLQZX3wDA",
        "colab_type": "text"
      },
      "cell_type": "markdown",
      "source": [
        "#Encoding"
      ]
    },
    {
      "metadata": {
        "id": "nhiuH37IEuet",
        "colab_type": "code",
        "colab": {}
      },
      "cell_type": "code",
      "source": [
        "attr_encoder = feature_extraction.DictVectorizer(sparse=False)"
      ],
      "execution_count": 0,
      "outputs": []
    },
    {
      "metadata": {
        "id": "BtSUO3E0EuU1",
        "colab_type": "code",
        "outputId": "2405f793-be4c-486f-ab0f-a5d0d0819e86",
        "colab": {
          "base_uri": "https://localhost:8080/",
          "height": 51
        }
      },
      "cell_type": "code",
      "source": [
        "attr_encoder"
      ],
      "execution_count": 91,
      "outputs": [
        {
          "output_type": "execute_result",
          "data": {
            "text/plain": [
              "DictVectorizer(dtype=<type 'numpy.float64'>, separator='=', sort=True,\n",
              "        sparse=False)"
            ]
          },
          "metadata": {
            "tags": []
          },
          "execution_count": 91
        }
      ]
    },
    {
      "metadata": {
        "id": "xyBpQxS6EuTS",
        "colab_type": "code",
        "colab": {}
      },
      "cell_type": "code",
      "source": [
        "label_encoder = preprocessing.LabelEncoder()"
      ],
      "execution_count": 0,
      "outputs": []
    },
    {
      "metadata": {
        "id": "lGJG51Q51CRS",
        "colab_type": "text"
      },
      "cell_type": "markdown",
      "source": [
        "\n",
        "\n",
        "```\n",
        "Train the model upto second last column of the dataset.\n",
        "Because we will use last column/element for model prediction.\n",
        "```\n",
        "\n"
      ]
    },
    {
      "metadata": {
        "id": "aUIOK0sJAMvK",
        "colab_type": "code",
        "colab": {
          "base_uri": "https://localhost:8080/",
          "height": 34
        },
        "outputId": "3599bc61-e58e-4bda-cd3e-57aa328c27d0"
      },
      "cell_type": "code",
      "source": [
        "label_encoder"
      ],
      "execution_count": 95,
      "outputs": [
        {
          "output_type": "execute_result",
          "data": {
            "text/plain": [
              "LabelEncoder()"
            ]
          },
          "metadata": {
            "tags": []
          },
          "execution_count": 95
        }
      ]
    },
    {
      "metadata": {
        "id": "e2Cbw3M6ARaI",
        "colab_type": "code",
        "colab": {
          "base_uri": "https://localhost:8080/",
          "height": 34
        },
        "outputId": "809adcae-9415-4ec6-910a-9471e7e0f37c"
      },
      "cell_type": "code",
      "source": [
        "type(label_encoder)"
      ],
      "execution_count": 97,
      "outputs": [
        {
          "output_type": "execute_result",
          "data": {
            "text/plain": [
              "sklearn.preprocessing.label.LabelEncoder"
            ]
          },
          "metadata": {
            "tags": []
          },
          "execution_count": 97
        }
      ]
    },
    {
      "metadata": {
        "id": "batioHdREuRu",
        "colab_type": "code",
        "colab": {}
      },
      "cell_type": "code",
      "source": [
        "train_data_df_m = attr_encoder.fit_transform(train_multiclass.iloc[:,:-1].T.to_dict().values())"
      ],
      "execution_count": 0,
      "outputs": []
    },
    {
      "metadata": {
        "id": "uyNEOgUsEuPq",
        "colab_type": "code",
        "outputId": "76b1fcb9-62f6-48cd-d80f-86bd22a966ba",
        "colab": {
          "base_uri": "https://localhost:8080/",
          "height": 34
        }
      },
      "cell_type": "code",
      "source": [
        "type(train_data_df_m)"
      ],
      "execution_count": 100,
      "outputs": [
        {
          "output_type": "execute_result",
          "data": {
            "text/plain": [
              "numpy.ndarray"
            ]
          },
          "metadata": {
            "tags": []
          },
          "execution_count": 100
        }
      ]
    },
    {
      "metadata": {
        "id": "RLmZwW6YUAwB",
        "colab_type": "code",
        "outputId": "c7edaa5a-6772-4859-9761-8862e1223fba",
        "colab": {
          "base_uri": "https://localhost:8080/",
          "height": 697
        }
      },
      "cell_type": "code",
      "source": [
        "train_data_df_m[0:2]"
      ],
      "execution_count": 101,
      "outputs": [
        {
          "output_type": "execute_result",
          "data": {
            "text/plain": [
              "array([[8.00e+00, 0.00e+00, 0.00e+00, 0.00e+00, 0.00e+00, 0.00e+00,\n",
              "        0.00e+00, 0.00e+00, 0.00e+00, 0.00e+00, 0.00e+00, 1.00e+00,\n",
              "        0.00e+00, 0.00e+00, 0.00e+00, 0.00e+00, 0.00e+00, 0.00e+00,\n",
              "        0.00e+00, 0.00e+00, 0.00e+00, 0.00e+00, 0.00e+00, 0.00e+00,\n",
              "        0.00e+00, 0.00e+00, 0.00e+00, 0.00e+00, 0.00e+00, 0.00e+00,\n",
              "        0.00e+00, 0.00e+00, 0.00e+00, 0.00e+00, 0.00e+00, 0.00e+00,\n",
              "        0.00e+00, 1.00e+00, 0.00e+00, 0.00e+00, 0.00e+00, 0.00e+00,\n",
              "        0.00e+00, 0.00e+00, 0.00e+00, 0.00e+00, 0.00e+00, 0.00e+00,\n",
              "        0.00e+00, 0.00e+00, 0.00e+00, 0.00e+00, 0.00e+00, 0.00e+00,\n",
              "        0.00e+00, 0.00e+00, 0.00e+00, 0.00e+00, 0.00e+00, 0.00e+00,\n",
              "        0.00e+00, 0.00e+00, 0.00e+00, 0.00e+00, 0.00e+00, 0.00e+00,\n",
              "        0.00e+00, 0.00e+00, 0.00e+00, 0.00e+00, 0.00e+00, 0.00e+00,\n",
              "        0.00e+00, 0.00e+00, 0.00e+00, 0.00e+00, 0.00e+00, 0.00e+00,\n",
              "        0.00e+00, 0.00e+00, 0.00e+00, 0.00e+00, 0.00e+00, 5.45e+03,\n",
              "        9.00e+00, 0.00e+00, 0.00e+00, 1.10e-01, 1.00e+00, 0.00e+00,\n",
              "        9.00e+00, 0.00e+00, 0.00e+00, 0.00e+00, 0.00e+00, 0.00e+00,\n",
              "        1.00e+00, 0.00e+00, 0.00e+00, 0.00e+00, 0.00e+00, 0.00e+00,\n",
              "        0.00e+00, 0.00e+00, 0.00e+00, 1.00e+00, 0.00e+00, 0.00e+00,\n",
              "        0.00e+00, 1.00e+00, 0.00e+00, 1.81e+02, 8.00e+00, 0.00e+00,\n",
              "        0.00e+00, 0.00e+00, 0.00e+00, 0.00e+00],\n",
              "       [8.00e+00, 0.00e+00, 0.00e+00, 0.00e+00, 0.00e+00, 0.00e+00,\n",
              "        0.00e+00, 0.00e+00, 0.00e+00, 0.00e+00, 0.00e+00, 1.00e+00,\n",
              "        0.00e+00, 0.00e+00, 0.00e+00, 0.00e+00, 0.00e+00, 0.00e+00,\n",
              "        0.00e+00, 0.00e+00, 0.00e+00, 0.00e+00, 0.00e+00, 0.00e+00,\n",
              "        0.00e+00, 0.00e+00, 0.00e+00, 0.00e+00, 0.00e+00, 0.00e+00,\n",
              "        0.00e+00, 0.00e+00, 0.00e+00, 0.00e+00, 0.00e+00, 0.00e+00,\n",
              "        0.00e+00, 1.00e+00, 0.00e+00, 0.00e+00, 0.00e+00, 0.00e+00,\n",
              "        0.00e+00, 0.00e+00, 0.00e+00, 0.00e+00, 0.00e+00, 0.00e+00,\n",
              "        0.00e+00, 0.00e+00, 0.00e+00, 0.00e+00, 0.00e+00, 0.00e+00,\n",
              "        0.00e+00, 0.00e+00, 0.00e+00, 0.00e+00, 0.00e+00, 0.00e+00,\n",
              "        0.00e+00, 0.00e+00, 0.00e+00, 0.00e+00, 0.00e+00, 0.00e+00,\n",
              "        0.00e+00, 0.00e+00, 0.00e+00, 0.00e+00, 0.00e+00, 0.00e+00,\n",
              "        0.00e+00, 0.00e+00, 0.00e+00, 0.00e+00, 0.00e+00, 0.00e+00,\n",
              "        0.00e+00, 0.00e+00, 0.00e+00, 0.00e+00, 0.00e+00, 4.86e+02,\n",
              "        1.90e+01, 0.00e+00, 0.00e+00, 5.00e-02, 1.00e+00, 0.00e+00,\n",
              "        1.90e+01, 0.00e+00, 0.00e+00, 0.00e+00, 0.00e+00, 0.00e+00,\n",
              "        1.00e+00, 0.00e+00, 0.00e+00, 0.00e+00, 0.00e+00, 0.00e+00,\n",
              "        0.00e+00, 0.00e+00, 0.00e+00, 1.00e+00, 0.00e+00, 0.00e+00,\n",
              "        0.00e+00, 1.00e+00, 0.00e+00, 2.39e+02, 8.00e+00, 0.00e+00,\n",
              "        0.00e+00, 0.00e+00, 0.00e+00, 0.00e+00]])"
            ]
          },
          "metadata": {
            "tags": []
          },
          "execution_count": 101
        }
      ]
    },
    {
      "metadata": {
        "id": "BfnBiUVLUA5F",
        "colab_type": "code",
        "colab": {
          "base_uri": "https://localhost:8080/",
          "height": 34
        },
        "outputId": "154b8ce8-29ca-4675-9b10-d73488206066"
      },
      "cell_type": "code",
      "source": [
        "len(train_data_df_m)"
      ],
      "execution_count": 102,
      "outputs": [
        {
          "output_type": "execute_result",
          "data": {
            "text/plain": [
              "494021"
            ]
          },
          "metadata": {
            "tags": []
          },
          "execution_count": 102
        }
      ]
    },
    {
      "metadata": {
        "id": "h7eQ7oPPUA9l",
        "colab_type": "code",
        "colab": {
          "base_uri": "https://localhost:8080/",
          "height": 34
        },
        "outputId": "71b86386-9623-44c0-a175-9a5d015fab17"
      },
      "cell_type": "code",
      "source": [
        "np.shape(train_data_df_m)  # 494021 rows and each row has 118 elements"
      ],
      "execution_count": 103,
      "outputs": [
        {
          "output_type": "execute_result",
          "data": {
            "text/plain": [
              "(494021, 118)"
            ]
          },
          "metadata": {
            "tags": []
          },
          "execution_count": 103
        }
      ]
    },
    {
      "metadata": {
        "id": "Y8T103ISUA26",
        "colab_type": "code",
        "colab": {}
      },
      "cell_type": "code",
      "source": [
        "train_target_df_m= label_encoder.fit_transform(train_multiclass.iloc[:,-1])  #prediction purose __>target_data"
      ],
      "execution_count": 0,
      "outputs": []
    },
    {
      "metadata": {
        "id": "gnex5wwpUA0_",
        "colab_type": "code",
        "colab": {
          "base_uri": "https://localhost:8080/",
          "height": 34
        },
        "outputId": "b93818cf-f2e6-4ead-89d7-4614f57937e1"
      },
      "cell_type": "code",
      "source": [
        "len(train_target_df_m)"
      ],
      "execution_count": 105,
      "outputs": [
        {
          "output_type": "execute_result",
          "data": {
            "text/plain": [
              "494021"
            ]
          },
          "metadata": {
            "tags": []
          },
          "execution_count": 105
        }
      ]
    },
    {
      "metadata": {
        "id": "PPC0zbTsEuGR",
        "colab_type": "code",
        "colab": {
          "base_uri": "https://localhost:8080/",
          "height": 34
        },
        "outputId": "6df4273a-3fc7-4415-d740-737962e647dc"
      },
      "cell_type": "code",
      "source": [
        "np.shape(train_target_df_m)  #494021 columns and 1 row"
      ],
      "execution_count": 106,
      "outputs": [
        {
          "output_type": "execute_result",
          "data": {
            "text/plain": [
              "(494021,)"
            ]
          },
          "metadata": {
            "tags": []
          },
          "execution_count": 106
        }
      ]
    },
    {
      "metadata": {
        "id": "JW9aAKAlEuEb",
        "colab_type": "code",
        "colab": {
          "base_uri": "https://localhost:8080/",
          "height": 34
        },
        "outputId": "b6a47c10-95ee-4fca-9bae-50f8cd198e77"
      },
      "cell_type": "code",
      "source": [
        "print(train_target_df_m)"
      ],
      "execution_count": 107,
      "outputs": [
        {
          "output_type": "stream",
          "text": [
            "[1 1 1 ... 1 1 1]\n"
          ],
          "name": "stdout"
        }
      ]
    },
    {
      "metadata": {
        "id": "3A0MNCnN3rlo",
        "colab_type": "text"
      },
      "cell_type": "markdown",
      "source": [
        "#Decoding"
      ]
    },
    {
      "metadata": {
        "id": "jT6q3v2r3RkS",
        "colab_type": "text"
      },
      "cell_type": "markdown",
      "source": [
        "#Convert into their respective Dataframe by uusing pandas library"
      ]
    },
    {
      "metadata": {
        "id": "u3RuV9DG2nSs",
        "colab_type": "code",
        "colab": {
          "base_uri": "https://localhost:8080/",
          "height": 233
        },
        "outputId": "e2f477f2-c6cf-4946-b137-1c5b59fdd068"
      },
      "cell_type": "code",
      "source": [
        "train_data_decoded_m = pd.DataFrame(train_data_df_m)\n",
        "train_data_decoded_m.head(5)"
      ],
      "execution_count": 108,
      "outputs": [
        {
          "output_type": "execute_result",
          "data": {
            "text/html": [
              "<div>\n",
              "<style scoped>\n",
              "    .dataframe tbody tr th:only-of-type {\n",
              "        vertical-align: middle;\n",
              "    }\n",
              "\n",
              "    .dataframe tbody tr th {\n",
              "        vertical-align: top;\n",
              "    }\n",
              "\n",
              "    .dataframe thead th {\n",
              "        text-align: right;\n",
              "    }\n",
              "</style>\n",
              "<table border=\"1\" class=\"dataframe\">\n",
              "  <thead>\n",
              "    <tr style=\"text-align: right;\">\n",
              "      <th></th>\n",
              "      <th>0</th>\n",
              "      <th>1</th>\n",
              "      <th>2</th>\n",
              "      <th>3</th>\n",
              "      <th>4</th>\n",
              "      <th>5</th>\n",
              "      <th>6</th>\n",
              "      <th>7</th>\n",
              "      <th>8</th>\n",
              "      <th>9</th>\n",
              "      <th>...</th>\n",
              "      <th>108</th>\n",
              "      <th>109</th>\n",
              "      <th>110</th>\n",
              "      <th>111</th>\n",
              "      <th>112</th>\n",
              "      <th>113</th>\n",
              "      <th>114</th>\n",
              "      <th>115</th>\n",
              "      <th>116</th>\n",
              "      <th>117</th>\n",
              "    </tr>\n",
              "  </thead>\n",
              "  <tbody>\n",
              "    <tr>\n",
              "      <th>0</th>\n",
              "      <td>8.0</td>\n",
              "      <td>0.0</td>\n",
              "      <td>0.0</td>\n",
              "      <td>0.0</td>\n",
              "      <td>0.0</td>\n",
              "      <td>0.0</td>\n",
              "      <td>0.0</td>\n",
              "      <td>0.0</td>\n",
              "      <td>0.0</td>\n",
              "      <td>0.0</td>\n",
              "      <td>...</td>\n",
              "      <td>0.0</td>\n",
              "      <td>1.0</td>\n",
              "      <td>0.0</td>\n",
              "      <td>181.0</td>\n",
              "      <td>8.0</td>\n",
              "      <td>0.0</td>\n",
              "      <td>0.0</td>\n",
              "      <td>0.0</td>\n",
              "      <td>0.0</td>\n",
              "      <td>0.0</td>\n",
              "    </tr>\n",
              "    <tr>\n",
              "      <th>1</th>\n",
              "      <td>8.0</td>\n",
              "      <td>0.0</td>\n",
              "      <td>0.0</td>\n",
              "      <td>0.0</td>\n",
              "      <td>0.0</td>\n",
              "      <td>0.0</td>\n",
              "      <td>0.0</td>\n",
              "      <td>0.0</td>\n",
              "      <td>0.0</td>\n",
              "      <td>0.0</td>\n",
              "      <td>...</td>\n",
              "      <td>0.0</td>\n",
              "      <td>1.0</td>\n",
              "      <td>0.0</td>\n",
              "      <td>239.0</td>\n",
              "      <td>8.0</td>\n",
              "      <td>0.0</td>\n",
              "      <td>0.0</td>\n",
              "      <td>0.0</td>\n",
              "      <td>0.0</td>\n",
              "      <td>0.0</td>\n",
              "    </tr>\n",
              "    <tr>\n",
              "      <th>2</th>\n",
              "      <td>8.0</td>\n",
              "      <td>0.0</td>\n",
              "      <td>0.0</td>\n",
              "      <td>0.0</td>\n",
              "      <td>0.0</td>\n",
              "      <td>0.0</td>\n",
              "      <td>0.0</td>\n",
              "      <td>0.0</td>\n",
              "      <td>0.0</td>\n",
              "      <td>0.0</td>\n",
              "      <td>...</td>\n",
              "      <td>0.0</td>\n",
              "      <td>1.0</td>\n",
              "      <td>0.0</td>\n",
              "      <td>235.0</td>\n",
              "      <td>8.0</td>\n",
              "      <td>0.0</td>\n",
              "      <td>0.0</td>\n",
              "      <td>0.0</td>\n",
              "      <td>0.0</td>\n",
              "      <td>0.0</td>\n",
              "    </tr>\n",
              "    <tr>\n",
              "      <th>3</th>\n",
              "      <td>6.0</td>\n",
              "      <td>0.0</td>\n",
              "      <td>0.0</td>\n",
              "      <td>0.0</td>\n",
              "      <td>0.0</td>\n",
              "      <td>0.0</td>\n",
              "      <td>0.0</td>\n",
              "      <td>0.0</td>\n",
              "      <td>0.0</td>\n",
              "      <td>0.0</td>\n",
              "      <td>...</td>\n",
              "      <td>0.0</td>\n",
              "      <td>1.0</td>\n",
              "      <td>0.0</td>\n",
              "      <td>219.0</td>\n",
              "      <td>6.0</td>\n",
              "      <td>0.0</td>\n",
              "      <td>0.0</td>\n",
              "      <td>0.0</td>\n",
              "      <td>0.0</td>\n",
              "      <td>0.0</td>\n",
              "    </tr>\n",
              "    <tr>\n",
              "      <th>4</th>\n",
              "      <td>6.0</td>\n",
              "      <td>0.0</td>\n",
              "      <td>0.0</td>\n",
              "      <td>0.0</td>\n",
              "      <td>0.0</td>\n",
              "      <td>0.0</td>\n",
              "      <td>0.0</td>\n",
              "      <td>0.0</td>\n",
              "      <td>0.0</td>\n",
              "      <td>0.0</td>\n",
              "      <td>...</td>\n",
              "      <td>0.0</td>\n",
              "      <td>1.0</td>\n",
              "      <td>0.0</td>\n",
              "      <td>217.0</td>\n",
              "      <td>6.0</td>\n",
              "      <td>0.0</td>\n",
              "      <td>0.0</td>\n",
              "      <td>0.0</td>\n",
              "      <td>0.0</td>\n",
              "      <td>0.0</td>\n",
              "    </tr>\n",
              "  </tbody>\n",
              "</table>\n",
              "<p>5 rows × 118 columns</p>\n",
              "</div>"
            ],
            "text/plain": [
              "   0    1    2    3    4    5    6    7    8    9   ...   108  109  110  \\\n",
              "0  8.0  0.0  0.0  0.0  0.0  0.0  0.0  0.0  0.0  0.0 ...   0.0  1.0  0.0   \n",
              "1  8.0  0.0  0.0  0.0  0.0  0.0  0.0  0.0  0.0  0.0 ...   0.0  1.0  0.0   \n",
              "2  8.0  0.0  0.0  0.0  0.0  0.0  0.0  0.0  0.0  0.0 ...   0.0  1.0  0.0   \n",
              "3  6.0  0.0  0.0  0.0  0.0  0.0  0.0  0.0  0.0  0.0 ...   0.0  1.0  0.0   \n",
              "4  6.0  0.0  0.0  0.0  0.0  0.0  0.0  0.0  0.0  0.0 ...   0.0  1.0  0.0   \n",
              "\n",
              "     111  112  113  114  115  116  117  \n",
              "0  181.0  8.0  0.0  0.0  0.0  0.0  0.0  \n",
              "1  239.0  8.0  0.0  0.0  0.0  0.0  0.0  \n",
              "2  235.0  8.0  0.0  0.0  0.0  0.0  0.0  \n",
              "3  219.0  6.0  0.0  0.0  0.0  0.0  0.0  \n",
              "4  217.0  6.0  0.0  0.0  0.0  0.0  0.0  \n",
              "\n",
              "[5 rows x 118 columns]"
            ]
          },
          "metadata": {
            "tags": []
          },
          "execution_count": 108
        }
      ]
    },
    {
      "metadata": {
        "id": "zSXjObbi2noh",
        "colab_type": "code",
        "colab": {
          "base_uri": "https://localhost:8080/",
          "height": 34
        },
        "outputId": "fd036357-cf76-422b-e0d7-cda5a31c4158"
      },
      "cell_type": "code",
      "source": [
        "len(train_data_decoded_m)"
      ],
      "execution_count": 109,
      "outputs": [
        {
          "output_type": "execute_result",
          "data": {
            "text/plain": [
              "494021"
            ]
          },
          "metadata": {
            "tags": []
          },
          "execution_count": 109
        }
      ]
    },
    {
      "metadata": {
        "id": "sXd0zfej2nmi",
        "colab_type": "code",
        "colab": {
          "base_uri": "https://localhost:8080/",
          "height": 204
        },
        "outputId": "1fb4f589-a546-4e67-f17f-8deca9b2e455"
      },
      "cell_type": "code",
      "source": [
        "train_target_decoded_m = pd.DataFrame(train_target_df_m)\n",
        "train_target_decoded_m.head(5)"
      ],
      "execution_count": 110,
      "outputs": [
        {
          "output_type": "execute_result",
          "data": {
            "text/html": [
              "<div>\n",
              "<style scoped>\n",
              "    .dataframe tbody tr th:only-of-type {\n",
              "        vertical-align: middle;\n",
              "    }\n",
              "\n",
              "    .dataframe tbody tr th {\n",
              "        vertical-align: top;\n",
              "    }\n",
              "\n",
              "    .dataframe thead th {\n",
              "        text-align: right;\n",
              "    }\n",
              "</style>\n",
              "<table border=\"1\" class=\"dataframe\">\n",
              "  <thead>\n",
              "    <tr style=\"text-align: right;\">\n",
              "      <th></th>\n",
              "      <th>0</th>\n",
              "    </tr>\n",
              "  </thead>\n",
              "  <tbody>\n",
              "    <tr>\n",
              "      <th>0</th>\n",
              "      <td>1</td>\n",
              "    </tr>\n",
              "    <tr>\n",
              "      <th>1</th>\n",
              "      <td>1</td>\n",
              "    </tr>\n",
              "    <tr>\n",
              "      <th>2</th>\n",
              "      <td>1</td>\n",
              "    </tr>\n",
              "    <tr>\n",
              "      <th>3</th>\n",
              "      <td>1</td>\n",
              "    </tr>\n",
              "    <tr>\n",
              "      <th>4</th>\n",
              "      <td>1</td>\n",
              "    </tr>\n",
              "  </tbody>\n",
              "</table>\n",
              "</div>"
            ],
            "text/plain": [
              "   0\n",
              "0  1\n",
              "1  1\n",
              "2  1\n",
              "3  1\n",
              "4  1"
            ]
          },
          "metadata": {
            "tags": []
          },
          "execution_count": 110
        }
      ]
    },
    {
      "metadata": {
        "id": "KLRfY3eW2njo",
        "colab_type": "code",
        "colab": {
          "base_uri": "https://localhost:8080/",
          "height": 34
        },
        "outputId": "77f3ce10-9309-4f02-a06a-5a607a12b037"
      },
      "cell_type": "code",
      "source": [
        "len(train_target_decoded_m)"
      ],
      "execution_count": 111,
      "outputs": [
        {
          "output_type": "execute_result",
          "data": {
            "text/plain": [
              "494021"
            ]
          },
          "metadata": {
            "tags": []
          },
          "execution_count": 111
        }
      ]
    },
    {
      "metadata": {
        "id": "QzeJoOcL2nhk",
        "colab_type": "code",
        "colab": {
          "base_uri": "https://localhost:8080/",
          "height": 34
        },
        "outputId": "f3a607c8-43a9-443c-ebee-b4dd6be44453"
      },
      "cell_type": "code",
      "source": [
        "np.shape(train_target_decoded_m)"
      ],
      "execution_count": 112,
      "outputs": [
        {
          "output_type": "execute_result",
          "data": {
            "text/plain": [
              "(494021, 1)"
            ]
          },
          "metadata": {
            "tags": []
          },
          "execution_count": 112
        }
      ]
    },
    {
      "metadata": {
        "id": "3fUuaQKy4LXu",
        "colab_type": "text"
      },
      "cell_type": "markdown",
      "source": [
        "#Encoding of test data"
      ]
    },
    {
      "metadata": {
        "id": "NXGxQ-ZE2nfj",
        "colab_type": "code",
        "colab": {}
      },
      "cell_type": "code",
      "source": [
        "test_data_df_m = attr_encoder.transform(test_multiclass.iloc[:,:-1].T.to_dict().values())\n"
      ],
      "execution_count": 0,
      "outputs": []
    },
    {
      "metadata": {
        "id": "MUhVlJcz3lb2",
        "colab_type": "code",
        "colab": {
          "base_uri": "https://localhost:8080/",
          "height": 697
        },
        "outputId": "b26568a4-a91d-44c6-9a26-6b6ff6b1b762"
      },
      "cell_type": "code",
      "source": [
        "test_data_df_m[0:2]  #2 rows/Bloks with complete items"
      ],
      "execution_count": 116,
      "outputs": [
        {
          "output_type": "execute_result",
          "data": {
            "text/plain": [
              "array([[1.00e+00, 0.00e+00, 0.00e+00, 0.00e+00, 0.00e+00, 0.00e+00,\n",
              "        0.00e+00, 0.00e+00, 0.00e+00, 0.00e+00, 0.00e+00, 1.00e+00,\n",
              "        0.00e+00, 0.00e+00, 0.00e+00, 0.00e+00, 0.00e+00, 0.00e+00,\n",
              "        0.00e+00, 0.00e+00, 0.00e+00, 0.00e+00, 0.00e+00, 0.00e+00,\n",
              "        0.00e+00, 0.00e+00, 0.00e+00, 0.00e+00, 0.00e+00, 0.00e+00,\n",
              "        0.00e+00, 0.00e+00, 0.00e+00, 0.00e+00, 0.00e+00, 0.00e+00,\n",
              "        0.00e+00, 0.00e+00, 0.00e+00, 0.00e+00, 0.00e+00, 0.00e+00,\n",
              "        0.00e+00, 0.00e+00, 0.00e+00, 0.00e+00, 0.00e+00, 0.00e+00,\n",
              "        0.00e+00, 0.00e+00, 0.00e+00, 0.00e+00, 0.00e+00, 0.00e+00,\n",
              "        0.00e+00, 0.00e+00, 0.00e+00, 0.00e+00, 0.00e+00, 0.00e+00,\n",
              "        1.00e+00, 0.00e+00, 0.00e+00, 0.00e+00, 0.00e+00, 0.00e+00,\n",
              "        0.00e+00, 0.00e+00, 0.00e+00, 0.00e+00, 0.00e+00, 0.00e+00,\n",
              "        0.00e+00, 0.00e+00, 0.00e+00, 0.00e+00, 0.00e+00, 0.00e+00,\n",
              "        0.00e+00, 0.00e+00, 0.00e+00, 0.00e+00, 0.00e+00, 1.46e+02,\n",
              "        2.55e+02, 1.00e-02, 0.00e+00, 0.00e+00, 1.00e+00, 0.00e+00,\n",
              "        2.54e+02, 0.00e+00, 0.00e+00, 0.00e+00, 0.00e+00, 0.00e+00,\n",
              "        0.00e+00, 0.00e+00, 0.00e+00, 0.00e+00, 0.00e+00, 0.00e+00,\n",
              "        0.00e+00, 0.00e+00, 0.00e+00, 0.00e+00, 1.00e+00, 0.00e+00,\n",
              "        0.00e+00, 1.00e+00, 0.00e+00, 1.05e+02, 1.00e+00, 0.00e+00,\n",
              "        0.00e+00, 0.00e+00, 0.00e+00, 0.00e+00],\n",
              "       [1.00e+00, 0.00e+00, 0.00e+00, 0.00e+00, 0.00e+00, 0.00e+00,\n",
              "        0.00e+00, 0.00e+00, 0.00e+00, 0.00e+00, 0.00e+00, 1.00e+00,\n",
              "        0.00e+00, 0.00e+00, 0.00e+00, 0.00e+00, 0.00e+00, 0.00e+00,\n",
              "        0.00e+00, 0.00e+00, 0.00e+00, 0.00e+00, 0.00e+00, 0.00e+00,\n",
              "        0.00e+00, 0.00e+00, 0.00e+00, 0.00e+00, 0.00e+00, 0.00e+00,\n",
              "        0.00e+00, 0.00e+00, 0.00e+00, 0.00e+00, 0.00e+00, 0.00e+00,\n",
              "        0.00e+00, 0.00e+00, 0.00e+00, 0.00e+00, 0.00e+00, 0.00e+00,\n",
              "        0.00e+00, 0.00e+00, 0.00e+00, 0.00e+00, 0.00e+00, 0.00e+00,\n",
              "        0.00e+00, 0.00e+00, 0.00e+00, 0.00e+00, 0.00e+00, 0.00e+00,\n",
              "        0.00e+00, 0.00e+00, 0.00e+00, 0.00e+00, 0.00e+00, 0.00e+00,\n",
              "        1.00e+00, 0.00e+00, 0.00e+00, 0.00e+00, 0.00e+00, 0.00e+00,\n",
              "        0.00e+00, 0.00e+00, 0.00e+00, 0.00e+00, 0.00e+00, 0.00e+00,\n",
              "        0.00e+00, 0.00e+00, 0.00e+00, 0.00e+00, 0.00e+00, 0.00e+00,\n",
              "        0.00e+00, 0.00e+00, 0.00e+00, 0.00e+00, 0.00e+00, 1.46e+02,\n",
              "        2.55e+02, 1.00e-02, 0.00e+00, 0.00e+00, 1.00e+00, 0.00e+00,\n",
              "        2.54e+02, 0.00e+00, 0.00e+00, 0.00e+00, 0.00e+00, 0.00e+00,\n",
              "        0.00e+00, 0.00e+00, 0.00e+00, 0.00e+00, 0.00e+00, 0.00e+00,\n",
              "        0.00e+00, 0.00e+00, 0.00e+00, 0.00e+00, 1.00e+00, 0.00e+00,\n",
              "        0.00e+00, 1.00e+00, 0.00e+00, 1.05e+02, 1.00e+00, 0.00e+00,\n",
              "        0.00e+00, 0.00e+00, 0.00e+00, 0.00e+00]])"
            ]
          },
          "metadata": {
            "tags": []
          },
          "execution_count": 116
        }
      ]
    },
    {
      "metadata": {
        "id": "oKzlsvSx4HQ-",
        "colab_type": "code",
        "colab": {
          "base_uri": "https://localhost:8080/",
          "height": 34
        },
        "outputId": "55720607-2d1d-4a23-f89b-1bc4e0a49dfd"
      },
      "cell_type": "code",
      "source": [
        "len(test_data_df_m)"
      ],
      "execution_count": 117,
      "outputs": [
        {
          "output_type": "execute_result",
          "data": {
            "text/plain": [
              "311029"
            ]
          },
          "metadata": {
            "tags": []
          },
          "execution_count": 117
        }
      ]
    },
    {
      "metadata": {
        "id": "7DbR5OBU4ROP",
        "colab_type": "code",
        "colab": {
          "base_uri": "https://localhost:8080/",
          "height": 34
        },
        "outputId": "4113b512-0a24-4804-abd9-02a1060331f5"
      },
      "cell_type": "code",
      "source": [
        "np.shape(test_data_df_m)"
      ],
      "execution_count": 118,
      "outputs": [
        {
          "output_type": "execute_result",
          "data": {
            "text/plain": [
              "(311029, 118)"
            ]
          },
          "metadata": {
            "tags": []
          },
          "execution_count": 118
        }
      ]
    },
    {
      "metadata": {
        "id": "yVVIVpLy2nch",
        "colab_type": "code",
        "colab": {}
      },
      "cell_type": "code",
      "source": [
        "test_target_df_m = label_encoder.fit_transform(test_multiclass.iloc[:,-1])  #takes the target from the test dataset"
      ],
      "execution_count": 0,
      "outputs": []
    },
    {
      "metadata": {
        "id": "iBLpsePdBS9o",
        "colab_type": "code",
        "colab": {
          "base_uri": "https://localhost:8080/",
          "height": 34
        },
        "outputId": "16ab343f-ccb3-4dbb-bf19-fc39cbe1b98a"
      },
      "cell_type": "code",
      "source": [
        "len(test_target_df_m )"
      ],
      "execution_count": 120,
      "outputs": [
        {
          "output_type": "execute_result",
          "data": {
            "text/plain": [
              "311029"
            ]
          },
          "metadata": {
            "tags": []
          },
          "execution_count": 120
        }
      ]
    },
    {
      "metadata": {
        "id": "ukoQtXw2BhuJ",
        "colab_type": "code",
        "colab": {
          "base_uri": "https://localhost:8080/",
          "height": 34
        },
        "outputId": "ac6964dc-34e8-4857-e56b-9fc44ab4d737"
      },
      "cell_type": "code",
      "source": [
        "np.shape(test_target_df_m )"
      ],
      "execution_count": 121,
      "outputs": [
        {
          "output_type": "execute_result",
          "data": {
            "text/plain": [
              "(311029,)"
            ]
          },
          "metadata": {
            "tags": []
          },
          "execution_count": 121
        }
      ]
    },
    {
      "metadata": {
        "id": "pU0z5b6T2nYp",
        "colab_type": "code",
        "colab": {}
      },
      "cell_type": "code",
      "source": [
        "test_data_decoded_m = pd.DataFrame(test_data_df_m)\n"
      ],
      "execution_count": 0,
      "outputs": []
    },
    {
      "metadata": {
        "id": "xsAdsUoo5BsJ",
        "colab_type": "code",
        "colab": {
          "base_uri": "https://localhost:8080/",
          "height": 202
        },
        "outputId": "ffb83d04-0efa-4a1f-9eeb-af2ebcfcba75"
      },
      "cell_type": "code",
      "source": [
        "test_data_decoded_m.head(4)"
      ],
      "execution_count": 123,
      "outputs": [
        {
          "output_type": "execute_result",
          "data": {
            "text/html": [
              "<div>\n",
              "<style scoped>\n",
              "    .dataframe tbody tr th:only-of-type {\n",
              "        vertical-align: middle;\n",
              "    }\n",
              "\n",
              "    .dataframe tbody tr th {\n",
              "        vertical-align: top;\n",
              "    }\n",
              "\n",
              "    .dataframe thead th {\n",
              "        text-align: right;\n",
              "    }\n",
              "</style>\n",
              "<table border=\"1\" class=\"dataframe\">\n",
              "  <thead>\n",
              "    <tr style=\"text-align: right;\">\n",
              "      <th></th>\n",
              "      <th>0</th>\n",
              "      <th>1</th>\n",
              "      <th>2</th>\n",
              "      <th>3</th>\n",
              "      <th>4</th>\n",
              "      <th>5</th>\n",
              "      <th>6</th>\n",
              "      <th>7</th>\n",
              "      <th>8</th>\n",
              "      <th>9</th>\n",
              "      <th>...</th>\n",
              "      <th>108</th>\n",
              "      <th>109</th>\n",
              "      <th>110</th>\n",
              "      <th>111</th>\n",
              "      <th>112</th>\n",
              "      <th>113</th>\n",
              "      <th>114</th>\n",
              "      <th>115</th>\n",
              "      <th>116</th>\n",
              "      <th>117</th>\n",
              "    </tr>\n",
              "  </thead>\n",
              "  <tbody>\n",
              "    <tr>\n",
              "      <th>0</th>\n",
              "      <td>1.0</td>\n",
              "      <td>0.0</td>\n",
              "      <td>0.0</td>\n",
              "      <td>0.0</td>\n",
              "      <td>0.0</td>\n",
              "      <td>0.0</td>\n",
              "      <td>0.0</td>\n",
              "      <td>0.0</td>\n",
              "      <td>0.0</td>\n",
              "      <td>0.0</td>\n",
              "      <td>...</td>\n",
              "      <td>0.0</td>\n",
              "      <td>1.0</td>\n",
              "      <td>0.0</td>\n",
              "      <td>105.0</td>\n",
              "      <td>1.0</td>\n",
              "      <td>0.0</td>\n",
              "      <td>0.0</td>\n",
              "      <td>0.0</td>\n",
              "      <td>0.0</td>\n",
              "      <td>0.0</td>\n",
              "    </tr>\n",
              "    <tr>\n",
              "      <th>1</th>\n",
              "      <td>1.0</td>\n",
              "      <td>0.0</td>\n",
              "      <td>0.0</td>\n",
              "      <td>0.0</td>\n",
              "      <td>0.0</td>\n",
              "      <td>0.0</td>\n",
              "      <td>0.0</td>\n",
              "      <td>0.0</td>\n",
              "      <td>0.0</td>\n",
              "      <td>0.0</td>\n",
              "      <td>...</td>\n",
              "      <td>0.0</td>\n",
              "      <td>1.0</td>\n",
              "      <td>0.0</td>\n",
              "      <td>105.0</td>\n",
              "      <td>1.0</td>\n",
              "      <td>0.0</td>\n",
              "      <td>0.0</td>\n",
              "      <td>0.0</td>\n",
              "      <td>0.0</td>\n",
              "      <td>0.0</td>\n",
              "    </tr>\n",
              "    <tr>\n",
              "      <th>2</th>\n",
              "      <td>1.0</td>\n",
              "      <td>0.0</td>\n",
              "      <td>0.0</td>\n",
              "      <td>0.0</td>\n",
              "      <td>0.0</td>\n",
              "      <td>0.0</td>\n",
              "      <td>0.0</td>\n",
              "      <td>0.0</td>\n",
              "      <td>0.0</td>\n",
              "      <td>0.0</td>\n",
              "      <td>...</td>\n",
              "      <td>0.0</td>\n",
              "      <td>1.0</td>\n",
              "      <td>0.0</td>\n",
              "      <td>105.0</td>\n",
              "      <td>1.0</td>\n",
              "      <td>0.0</td>\n",
              "      <td>0.0</td>\n",
              "      <td>0.0</td>\n",
              "      <td>0.0</td>\n",
              "      <td>0.0</td>\n",
              "    </tr>\n",
              "    <tr>\n",
              "      <th>3</th>\n",
              "      <td>2.0</td>\n",
              "      <td>0.0</td>\n",
              "      <td>0.0</td>\n",
              "      <td>0.0</td>\n",
              "      <td>0.0</td>\n",
              "      <td>0.0</td>\n",
              "      <td>0.0</td>\n",
              "      <td>0.0</td>\n",
              "      <td>0.0</td>\n",
              "      <td>0.0</td>\n",
              "      <td>...</td>\n",
              "      <td>0.0</td>\n",
              "      <td>1.0</td>\n",
              "      <td>0.0</td>\n",
              "      <td>105.0</td>\n",
              "      <td>2.0</td>\n",
              "      <td>0.0</td>\n",
              "      <td>0.0</td>\n",
              "      <td>0.0</td>\n",
              "      <td>0.0</td>\n",
              "      <td>0.0</td>\n",
              "    </tr>\n",
              "  </tbody>\n",
              "</table>\n",
              "<p>4 rows × 118 columns</p>\n",
              "</div>"
            ],
            "text/plain": [
              "   0    1    2    3    4    5    6    7    8    9   ...   108  109  110  \\\n",
              "0  1.0  0.0  0.0  0.0  0.0  0.0  0.0  0.0  0.0  0.0 ...   0.0  1.0  0.0   \n",
              "1  1.0  0.0  0.0  0.0  0.0  0.0  0.0  0.0  0.0  0.0 ...   0.0  1.0  0.0   \n",
              "2  1.0  0.0  0.0  0.0  0.0  0.0  0.0  0.0  0.0  0.0 ...   0.0  1.0  0.0   \n",
              "3  2.0  0.0  0.0  0.0  0.0  0.0  0.0  0.0  0.0  0.0 ...   0.0  1.0  0.0   \n",
              "\n",
              "     111  112  113  114  115  116  117  \n",
              "0  105.0  1.0  0.0  0.0  0.0  0.0  0.0  \n",
              "1  105.0  1.0  0.0  0.0  0.0  0.0  0.0  \n",
              "2  105.0  1.0  0.0  0.0  0.0  0.0  0.0  \n",
              "3  105.0  2.0  0.0  0.0  0.0  0.0  0.0  \n",
              "\n",
              "[4 rows x 118 columns]"
            ]
          },
          "metadata": {
            "tags": []
          },
          "execution_count": 123
        }
      ]
    },
    {
      "metadata": {
        "id": "cL20Ibem2nP6",
        "colab_type": "code",
        "colab": {}
      },
      "cell_type": "code",
      "source": [
        "test_target_decoded_m = pd.DataFrame(test_target_df_m)"
      ],
      "execution_count": 0,
      "outputs": []
    },
    {
      "metadata": {
        "id": "8IoS9T5W5Oq6",
        "colab_type": "code",
        "colab": {
          "base_uri": "https://localhost:8080/",
          "height": 204
        },
        "outputId": "baa22b50-5e8d-4e07-ee9c-56272515c7f2"
      },
      "cell_type": "code",
      "source": [
        "test_target_decoded_m.head()"
      ],
      "execution_count": 126,
      "outputs": [
        {
          "output_type": "execute_result",
          "data": {
            "text/html": [
              "<div>\n",
              "<style scoped>\n",
              "    .dataframe tbody tr th:only-of-type {\n",
              "        vertical-align: middle;\n",
              "    }\n",
              "\n",
              "    .dataframe tbody tr th {\n",
              "        vertical-align: top;\n",
              "    }\n",
              "\n",
              "    .dataframe thead th {\n",
              "        text-align: right;\n",
              "    }\n",
              "</style>\n",
              "<table border=\"1\" class=\"dataframe\">\n",
              "  <thead>\n",
              "    <tr style=\"text-align: right;\">\n",
              "      <th></th>\n",
              "      <th>0</th>\n",
              "    </tr>\n",
              "  </thead>\n",
              "  <tbody>\n",
              "    <tr>\n",
              "      <th>0</th>\n",
              "      <td>1</td>\n",
              "    </tr>\n",
              "    <tr>\n",
              "      <th>1</th>\n",
              "      <td>1</td>\n",
              "    </tr>\n",
              "    <tr>\n",
              "      <th>2</th>\n",
              "      <td>1</td>\n",
              "    </tr>\n",
              "    <tr>\n",
              "      <th>3</th>\n",
              "      <td>3</td>\n",
              "    </tr>\n",
              "    <tr>\n",
              "      <th>4</th>\n",
              "      <td>3</td>\n",
              "    </tr>\n",
              "  </tbody>\n",
              "</table>\n",
              "</div>"
            ],
            "text/plain": [
              "   0\n",
              "0  1\n",
              "1  1\n",
              "2  1\n",
              "3  3\n",
              "4  3"
            ]
          },
          "metadata": {
            "tags": []
          },
          "execution_count": 126
        }
      ]
    },
    {
      "metadata": {
        "id": "3hpcT7U7BxfB",
        "colab_type": "code",
        "colab": {
          "base_uri": "https://localhost:8080/",
          "height": 34
        },
        "outputId": "51f1387c-869a-4cd6-d28d-1129c8066eb9"
      },
      "cell_type": "code",
      "source": [
        "np.shape(test_target_decoded_m)"
      ],
      "execution_count": 128,
      "outputs": [
        {
          "output_type": "execute_result",
          "data": {
            "text/plain": [
              "(311029, 1)"
            ]
          },
          "metadata": {
            "tags": []
          },
          "execution_count": 128
        }
      ]
    },
    {
      "metadata": {
        "id": "STm4p-bY5PYI",
        "colab_type": "code",
        "colab": {
          "base_uri": "https://localhost:8080/",
          "height": 51
        },
        "outputId": "966a4bd1-6097-47d1-d882-50256c13be84"
      },
      "cell_type": "code",
      "source": [
        "print(np.shape(train_data_decoded_m))\n",
        "print(np.shape(test_data_decoded_m))"
      ],
      "execution_count": 130,
      "outputs": [
        {
          "output_type": "stream",
          "text": [
            "(494021, 118)\n",
            "(311029, 118)\n"
          ],
          "name": "stdout"
        }
      ]
    },
    {
      "metadata": {
        "id": "pA9StW6SCPvt",
        "colab_type": "text"
      },
      "cell_type": "markdown",
      "source": [
        "#Perfroming Feature Reduction using PCA"
      ]
    },
    {
      "metadata": {
        "id": "hi5CAskE5Pot",
        "colab_type": "code",
        "colab": {}
      },
      "cell_type": "code",
      "source": [
        "#load some modules to help\n",
        "from mpl_toolkits.mplot3d import Axes3D\n",
        "from sklearn.decomposition import PCA"
      ],
      "execution_count": 0,
      "outputs": []
    },
    {
      "metadata": {
        "id": "QGTPFIM15PmU",
        "colab_type": "code",
        "colab": {}
      },
      "cell_type": "code",
      "source": [
        "train_data_pca2 = PCA(n_components=29).fit_transform(train_data_decoded_m)"
      ],
      "execution_count": 0,
      "outputs": []
    },
    {
      "metadata": {
        "id": "3EuuzFZD5Pjp",
        "colab_type": "code",
        "colab": {
          "base_uri": "https://localhost:8080/",
          "height": 34
        },
        "outputId": "794c3b59-ea8b-447e-9e4f-afdeb70851a8"
      },
      "cell_type": "code",
      "source": [
        "len(train_data_pca2)"
      ],
      "execution_count": 133,
      "outputs": [
        {
          "output_type": "execute_result",
          "data": {
            "text/plain": [
              "494021"
            ]
          },
          "metadata": {
            "tags": []
          },
          "execution_count": 133
        }
      ]
    },
    {
      "metadata": {
        "id": "dnIkqRHl5Pgw",
        "colab_type": "code",
        "colab": {
          "base_uri": "https://localhost:8080/",
          "height": 34
        },
        "outputId": "bd8ed654-2d08-4bd8-dc22-6af2f044e592"
      },
      "cell_type": "code",
      "source": [
        "np.shape(train_data_pca2)  #Now we have only 29 featres/columns in the train dataset"
      ],
      "execution_count": 135,
      "outputs": [
        {
          "output_type": "execute_result",
          "data": {
            "text/plain": [
              "(494021, 29)"
            ]
          },
          "metadata": {
            "tags": []
          },
          "execution_count": 135
        }
      ]
    },
    {
      "metadata": {
        "id": "VG-7jBKr5PeK",
        "colab_type": "code",
        "colab": {}
      },
      "cell_type": "code",
      "source": [
        "test_data_pca2 = PCA(n_components=29).fit_transform(test_data_decoded_m)"
      ],
      "execution_count": 0,
      "outputs": []
    },
    {
      "metadata": {
        "id": "Pgy0AqhWCpTa",
        "colab_type": "code",
        "colab": {
          "base_uri": "https://localhost:8080/",
          "height": 34
        },
        "outputId": "e86ca4d1-09f6-4814-9c6c-82ea69779cf3"
      },
      "cell_type": "code",
      "source": [
        "len(test_data_pca2)"
      ],
      "execution_count": 137,
      "outputs": [
        {
          "output_type": "execute_result",
          "data": {
            "text/plain": [
              "311029"
            ]
          },
          "metadata": {
            "tags": []
          },
          "execution_count": 137
        }
      ]
    },
    {
      "metadata": {
        "id": "NUpxXubRCpgr",
        "colab_type": "code",
        "colab": {
          "base_uri": "https://localhost:8080/",
          "height": 34
        },
        "outputId": "b9327703-b4e2-47ad-c316-20138e1e33a1"
      },
      "cell_type": "code",
      "source": [
        "np.shape(test_data_pca2)   #Now we have only 29 featres/columns in the test dataset"
      ],
      "execution_count": 138,
      "outputs": [
        {
          "output_type": "execute_result",
          "data": {
            "text/plain": [
              "(311029, 29)"
            ]
          },
          "metadata": {
            "tags": []
          },
          "execution_count": 138
        }
      ]
    },
    {
      "metadata": {
        "id": "rH-DkxmnCpsN",
        "colab_type": "code",
        "colab": {
          "base_uri": "https://localhost:8080/",
          "height": 253
        },
        "outputId": "2c54c072-2d7a-4bb8-d11a-2354c8eb667d"
      },
      "cell_type": "code",
      "source": [
        "train_data_pca_df2 = pd.DataFrame(train_data_pca2)\n",
        "train_data_pca_df2.head(5)"
      ],
      "execution_count": 140,
      "outputs": [
        {
          "output_type": "execute_result",
          "data": {
            "text/html": [
              "<div>\n",
              "<style scoped>\n",
              "    .dataframe tbody tr th:only-of-type {\n",
              "        vertical-align: middle;\n",
              "    }\n",
              "\n",
              "    .dataframe tbody tr th {\n",
              "        vertical-align: top;\n",
              "    }\n",
              "\n",
              "    .dataframe thead th {\n",
              "        text-align: right;\n",
              "    }\n",
              "</style>\n",
              "<table border=\"1\" class=\"dataframe\">\n",
              "  <thead>\n",
              "    <tr style=\"text-align: right;\">\n",
              "      <th></th>\n",
              "      <th>0</th>\n",
              "      <th>1</th>\n",
              "      <th>2</th>\n",
              "      <th>3</th>\n",
              "      <th>4</th>\n",
              "      <th>5</th>\n",
              "      <th>6</th>\n",
              "      <th>7</th>\n",
              "      <th>8</th>\n",
              "      <th>9</th>\n",
              "      <th>...</th>\n",
              "      <th>19</th>\n",
              "      <th>20</th>\n",
              "      <th>21</th>\n",
              "      <th>22</th>\n",
              "      <th>23</th>\n",
              "      <th>24</th>\n",
              "      <th>25</th>\n",
              "      <th>26</th>\n",
              "      <th>27</th>\n",
              "      <th>28</th>\n",
              "    </tr>\n",
              "  </thead>\n",
              "  <tbody>\n",
              "    <tr>\n",
              "      <th>0</th>\n",
              "      <td>-2844.610205</td>\n",
              "      <td>4581.635636</td>\n",
              "      <td>-21.689210</td>\n",
              "      <td>-474.329333</td>\n",
              "      <td>-38.352353</td>\n",
              "      <td>186.033679</td>\n",
              "      <td>-88.184465</td>\n",
              "      <td>-0.121237</td>\n",
              "      <td>-0.156435</td>\n",
              "      <td>-0.172176</td>\n",
              "      <td>...</td>\n",
              "      <td>-0.225079</td>\n",
              "      <td>0.003933</td>\n",
              "      <td>-0.493636</td>\n",
              "      <td>-0.007430</td>\n",
              "      <td>0.288167</td>\n",
              "      <td>0.047651</td>\n",
              "      <td>-0.024740</td>\n",
              "      <td>0.060569</td>\n",
              "      <td>-0.025038</td>\n",
              "      <td>0.016440</td>\n",
              "    </tr>\n",
              "    <tr>\n",
              "      <th>1</th>\n",
              "      <td>-2786.609945</td>\n",
              "      <td>-382.365152</td>\n",
              "      <td>-21.221032</td>\n",
              "      <td>-472.960277</td>\n",
              "      <td>-42.506158</td>\n",
              "      <td>173.646882</td>\n",
              "      <td>-83.783791</td>\n",
              "      <td>-0.106133</td>\n",
              "      <td>-0.151558</td>\n",
              "      <td>-0.166487</td>\n",
              "      <td>...</td>\n",
              "      <td>-0.235544</td>\n",
              "      <td>0.005564</td>\n",
              "      <td>-0.469927</td>\n",
              "      <td>0.019616</td>\n",
              "      <td>0.276087</td>\n",
              "      <td>0.058783</td>\n",
              "      <td>-0.019201</td>\n",
              "      <td>0.057871</td>\n",
              "      <td>-0.038222</td>\n",
              "      <td>0.020209</td>\n",
              "    </tr>\n",
              "    <tr>\n",
              "      <th>2</th>\n",
              "      <td>-2790.609995</td>\n",
              "      <td>468.633641</td>\n",
              "      <td>-21.539673</td>\n",
              "      <td>-469.624595</td>\n",
              "      <td>-46.106684</td>\n",
              "      <td>161.082040</td>\n",
              "      <td>-79.313554</td>\n",
              "      <td>-0.101148</td>\n",
              "      <td>-0.147239</td>\n",
              "      <td>-0.162089</td>\n",
              "      <td>...</td>\n",
              "      <td>-0.232838</td>\n",
              "      <td>0.005879</td>\n",
              "      <td>-0.450467</td>\n",
              "      <td>0.026446</td>\n",
              "      <td>0.264932</td>\n",
              "      <td>0.060443</td>\n",
              "      <td>-0.016394</td>\n",
              "      <td>0.054965</td>\n",
              "      <td>-0.040956</td>\n",
              "      <td>0.020961</td>\n",
              "    </tr>\n",
              "    <tr>\n",
              "      <th>3</th>\n",
              "      <td>-2806.609997</td>\n",
              "      <td>468.633472</td>\n",
              "      <td>-21.591309</td>\n",
              "      <td>-469.313053</td>\n",
              "      <td>-50.278016</td>\n",
              "      <td>148.052794</td>\n",
              "      <td>-74.759959</td>\n",
              "      <td>-0.094547</td>\n",
              "      <td>-0.143475</td>\n",
              "      <td>-0.159052</td>\n",
              "      <td>...</td>\n",
              "      <td>-0.224318</td>\n",
              "      <td>0.005512</td>\n",
              "      <td>-0.432843</td>\n",
              "      <td>0.022419</td>\n",
              "      <td>0.254208</td>\n",
              "      <td>0.057135</td>\n",
              "      <td>-0.017724</td>\n",
              "      <td>0.050542</td>\n",
              "      <td>-0.039231</td>\n",
              "      <td>0.021209</td>\n",
              "    </tr>\n",
              "    <tr>\n",
              "      <th>4</th>\n",
              "      <td>-2808.610038</td>\n",
              "      <td>1163.632276</td>\n",
              "      <td>-21.888843</td>\n",
              "      <td>-466.030115</td>\n",
              "      <td>-53.893393</td>\n",
              "      <td>135.492738</td>\n",
              "      <td>-70.291619</td>\n",
              "      <td>-0.089306</td>\n",
              "      <td>-0.139218</td>\n",
              "      <td>-0.154979</td>\n",
              "      <td>...</td>\n",
              "      <td>-0.218139</td>\n",
              "      <td>0.005477</td>\n",
              "      <td>-0.414449</td>\n",
              "      <td>0.024237</td>\n",
              "      <td>0.243337</td>\n",
              "      <td>0.056433</td>\n",
              "      <td>-0.015632</td>\n",
              "      <td>0.047619</td>\n",
              "      <td>-0.039302</td>\n",
              "      <td>0.021285</td>\n",
              "    </tr>\n",
              "  </tbody>\n",
              "</table>\n",
              "<p>5 rows × 29 columns</p>\n",
              "</div>"
            ],
            "text/plain": [
              "            0            1          2           3          4           5   \\\n",
              "0 -2844.610205  4581.635636 -21.689210 -474.329333 -38.352353  186.033679   \n",
              "1 -2786.609945  -382.365152 -21.221032 -472.960277 -42.506158  173.646882   \n",
              "2 -2790.609995   468.633641 -21.539673 -469.624595 -46.106684  161.082040   \n",
              "3 -2806.609997   468.633472 -21.591309 -469.313053 -50.278016  148.052794   \n",
              "4 -2808.610038  1163.632276 -21.888843 -466.030115 -53.893393  135.492738   \n",
              "\n",
              "          6         7         8         9     ...           19        20  \\\n",
              "0 -88.184465 -0.121237 -0.156435 -0.172176    ...    -0.225079  0.003933   \n",
              "1 -83.783791 -0.106133 -0.151558 -0.166487    ...    -0.235544  0.005564   \n",
              "2 -79.313554 -0.101148 -0.147239 -0.162089    ...    -0.232838  0.005879   \n",
              "3 -74.759959 -0.094547 -0.143475 -0.159052    ...    -0.224318  0.005512   \n",
              "4 -70.291619 -0.089306 -0.139218 -0.154979    ...    -0.218139  0.005477   \n",
              "\n",
              "         21        22        23        24        25        26        27  \\\n",
              "0 -0.493636 -0.007430  0.288167  0.047651 -0.024740  0.060569 -0.025038   \n",
              "1 -0.469927  0.019616  0.276087  0.058783 -0.019201  0.057871 -0.038222   \n",
              "2 -0.450467  0.026446  0.264932  0.060443 -0.016394  0.054965 -0.040956   \n",
              "3 -0.432843  0.022419  0.254208  0.057135 -0.017724  0.050542 -0.039231   \n",
              "4 -0.414449  0.024237  0.243337  0.056433 -0.015632  0.047619 -0.039302   \n",
              "\n",
              "         28  \n",
              "0  0.016440  \n",
              "1  0.020209  \n",
              "2  0.020961  \n",
              "3  0.021209  \n",
              "4  0.021285  \n",
              "\n",
              "[5 rows x 29 columns]"
            ]
          },
          "metadata": {
            "tags": []
          },
          "execution_count": 140
        }
      ]
    },
    {
      "metadata": {
        "id": "s4WA85y7Cqma",
        "colab_type": "code",
        "colab": {
          "base_uri": "https://localhost:8080/",
          "height": 253
        },
        "outputId": "8ab553ad-618e-4a63-fb6b-167fef868e64"
      },
      "cell_type": "code",
      "source": [
        "test_data_pca_df2 = pd.DataFrame(test_data_pca2)\n",
        "test_data_pca_df2.head()"
      ],
      "execution_count": 143,
      "outputs": [
        {
          "output_type": "execute_result",
          "data": {
            "text/html": [
              "<div>\n",
              "<style scoped>\n",
              "    .dataframe tbody tr th:only-of-type {\n",
              "        vertical-align: middle;\n",
              "    }\n",
              "\n",
              "    .dataframe tbody tr th {\n",
              "        vertical-align: top;\n",
              "    }\n",
              "\n",
              "    .dataframe thead th {\n",
              "        text-align: right;\n",
              "    }\n",
              "</style>\n",
              "<table border=\"1\" class=\"dataframe\">\n",
              "  <thead>\n",
              "    <tr style=\"text-align: right;\">\n",
              "      <th></th>\n",
              "      <th>0</th>\n",
              "      <th>1</th>\n",
              "      <th>2</th>\n",
              "      <th>3</th>\n",
              "      <th>4</th>\n",
              "      <th>5</th>\n",
              "      <th>6</th>\n",
              "      <th>7</th>\n",
              "      <th>8</th>\n",
              "      <th>9</th>\n",
              "      <th>...</th>\n",
              "      <th>19</th>\n",
              "      <th>20</th>\n",
              "      <th>21</th>\n",
              "      <th>22</th>\n",
              "      <th>23</th>\n",
              "      <th>24</th>\n",
              "      <th>25</th>\n",
              "      <th>26</th>\n",
              "      <th>27</th>\n",
              "      <th>28</th>\n",
              "    </tr>\n",
              "  </thead>\n",
              "  <tbody>\n",
              "    <tr>\n",
              "      <th>0</th>\n",
              "      <td>-1628.211606</td>\n",
              "      <td>-597.542092</td>\n",
              "      <td>16.470322</td>\n",
              "      <td>-341.322684</td>\n",
              "      <td>-102.610636</td>\n",
              "      <td>61.563490</td>\n",
              "      <td>5.814997</td>\n",
              "      <td>0.054780</td>\n",
              "      <td>0.026298</td>\n",
              "      <td>-0.531678</td>\n",
              "      <td>...</td>\n",
              "      <td>-0.001606</td>\n",
              "      <td>-0.042323</td>\n",
              "      <td>0.019440</td>\n",
              "      <td>-0.037529</td>\n",
              "      <td>-0.019196</td>\n",
              "      <td>0.042395</td>\n",
              "      <td>-0.003799</td>\n",
              "      <td>-0.003363</td>\n",
              "      <td>0.009414</td>\n",
              "      <td>-0.010332</td>\n",
              "    </tr>\n",
              "    <tr>\n",
              "      <th>1</th>\n",
              "      <td>-1628.211606</td>\n",
              "      <td>-597.542092</td>\n",
              "      <td>16.470322</td>\n",
              "      <td>-341.322684</td>\n",
              "      <td>-102.610636</td>\n",
              "      <td>61.563490</td>\n",
              "      <td>5.814997</td>\n",
              "      <td>0.054780</td>\n",
              "      <td>0.026298</td>\n",
              "      <td>-0.531678</td>\n",
              "      <td>...</td>\n",
              "      <td>-0.001606</td>\n",
              "      <td>-0.042323</td>\n",
              "      <td>0.019440</td>\n",
              "      <td>-0.037529</td>\n",
              "      <td>-0.019196</td>\n",
              "      <td>0.042395</td>\n",
              "      <td>-0.003799</td>\n",
              "      <td>-0.003363</td>\n",
              "      <td>0.009414</td>\n",
              "      <td>-0.010332</td>\n",
              "    </tr>\n",
              "    <tr>\n",
              "      <th>2</th>\n",
              "      <td>-1628.211606</td>\n",
              "      <td>-597.542092</td>\n",
              "      <td>16.470322</td>\n",
              "      <td>-341.322684</td>\n",
              "      <td>-102.610636</td>\n",
              "      <td>61.563490</td>\n",
              "      <td>5.814997</td>\n",
              "      <td>0.054780</td>\n",
              "      <td>0.026298</td>\n",
              "      <td>-0.531678</td>\n",
              "      <td>...</td>\n",
              "      <td>-0.001606</td>\n",
              "      <td>-0.042323</td>\n",
              "      <td>0.019440</td>\n",
              "      <td>-0.037529</td>\n",
              "      <td>-0.019196</td>\n",
              "      <td>0.042395</td>\n",
              "      <td>-0.003799</td>\n",
              "      <td>-0.003363</td>\n",
              "      <td>0.009414</td>\n",
              "      <td>-0.010332</td>\n",
              "    </tr>\n",
              "    <tr>\n",
              "      <th>3</th>\n",
              "      <td>-1628.211636</td>\n",
              "      <td>-597.543501</td>\n",
              "      <td>16.332525</td>\n",
              "      <td>-339.934119</td>\n",
              "      <td>-102.420856</td>\n",
              "      <td>61.434743</td>\n",
              "      <td>5.797819</td>\n",
              "      <td>0.054665</td>\n",
              "      <td>0.026183</td>\n",
              "      <td>-0.529278</td>\n",
              "      <td>...</td>\n",
              "      <td>-0.001631</td>\n",
              "      <td>-0.042350</td>\n",
              "      <td>0.019437</td>\n",
              "      <td>-0.037534</td>\n",
              "      <td>-0.019203</td>\n",
              "      <td>0.042416</td>\n",
              "      <td>-0.003825</td>\n",
              "      <td>-0.003357</td>\n",
              "      <td>0.009438</td>\n",
              "      <td>-0.010308</td>\n",
              "    </tr>\n",
              "    <tr>\n",
              "      <th>4</th>\n",
              "      <td>-1628.211636</td>\n",
              "      <td>-597.543501</td>\n",
              "      <td>16.332523</td>\n",
              "      <td>-339.934107</td>\n",
              "      <td>-102.420867</td>\n",
              "      <td>61.434744</td>\n",
              "      <td>5.797805</td>\n",
              "      <td>0.054666</td>\n",
              "      <td>0.026315</td>\n",
              "      <td>-0.532738</td>\n",
              "      <td>...</td>\n",
              "      <td>-0.001133</td>\n",
              "      <td>-0.043129</td>\n",
              "      <td>0.020566</td>\n",
              "      <td>-0.031604</td>\n",
              "      <td>-0.018794</td>\n",
              "      <td>0.037750</td>\n",
              "      <td>-0.004073</td>\n",
              "      <td>-0.003061</td>\n",
              "      <td>0.011198</td>\n",
              "      <td>-0.009899</td>\n",
              "    </tr>\n",
              "  </tbody>\n",
              "</table>\n",
              "<p>5 rows × 29 columns</p>\n",
              "</div>"
            ],
            "text/plain": [
              "            0           1          2           3           4          5   \\\n",
              "0 -1628.211606 -597.542092  16.470322 -341.322684 -102.610636  61.563490   \n",
              "1 -1628.211606 -597.542092  16.470322 -341.322684 -102.610636  61.563490   \n",
              "2 -1628.211606 -597.542092  16.470322 -341.322684 -102.610636  61.563490   \n",
              "3 -1628.211636 -597.543501  16.332525 -339.934119 -102.420856  61.434743   \n",
              "4 -1628.211636 -597.543501  16.332523 -339.934107 -102.420867  61.434744   \n",
              "\n",
              "         6         7         8         9     ...           19        20  \\\n",
              "0  5.814997  0.054780  0.026298 -0.531678    ...    -0.001606 -0.042323   \n",
              "1  5.814997  0.054780  0.026298 -0.531678    ...    -0.001606 -0.042323   \n",
              "2  5.814997  0.054780  0.026298 -0.531678    ...    -0.001606 -0.042323   \n",
              "3  5.797819  0.054665  0.026183 -0.529278    ...    -0.001631 -0.042350   \n",
              "4  5.797805  0.054666  0.026315 -0.532738    ...    -0.001133 -0.043129   \n",
              "\n",
              "         21        22        23        24        25        26        27  \\\n",
              "0  0.019440 -0.037529 -0.019196  0.042395 -0.003799 -0.003363  0.009414   \n",
              "1  0.019440 -0.037529 -0.019196  0.042395 -0.003799 -0.003363  0.009414   \n",
              "2  0.019440 -0.037529 -0.019196  0.042395 -0.003799 -0.003363  0.009414   \n",
              "3  0.019437 -0.037534 -0.019203  0.042416 -0.003825 -0.003357  0.009438   \n",
              "4  0.020566 -0.031604 -0.018794  0.037750 -0.004073 -0.003061  0.011198   \n",
              "\n",
              "         28  \n",
              "0 -0.010332  \n",
              "1 -0.010332  \n",
              "2 -0.010332  \n",
              "3 -0.010308  \n",
              "4 -0.009899  \n",
              "\n",
              "[5 rows x 29 columns]"
            ]
          },
          "metadata": {
            "tags": []
          },
          "execution_count": 143
        }
      ]
    },
    {
      "metadata": {
        "id": "pG7KKe1eCquj",
        "colab_type": "code",
        "colab": {
          "base_uri": "https://localhost:8080/",
          "height": 51
        },
        "outputId": "db5f5b5a-c49d-4617-f227-d3490ff4f7b2"
      },
      "cell_type": "code",
      "source": [
        "print( train_data_pca_df2.shape)\n",
        "print(test_data_pca_df2.shape)"
      ],
      "execution_count": 144,
      "outputs": [
        {
          "output_type": "stream",
          "text": [
            "(494021, 29)\n",
            "(311029, 29)\n"
          ],
          "name": "stdout"
        }
      ]
    },
    {
      "metadata": {
        "id": "Yyd1mv6nDau3",
        "colab_type": "text"
      },
      "cell_type": "markdown",
      "source": [
        "#Normalizing the Data Sets"
      ]
    },
    {
      "metadata": {
        "id": "h5DBgQrRCqkO",
        "colab_type": "code",
        "colab": {}
      },
      "cell_type": "code",
      "source": [
        "\n",
        "#Creating our scaler and applyting it to our dataset after feature reduction\n",
        "standard_scaler = preprocessing.StandardScaler()"
      ],
      "execution_count": 0,
      "outputs": []
    },
    {
      "metadata": {
        "id": "-iOsALl3Cqhp",
        "colab_type": "code",
        "colab": {}
      },
      "cell_type": "code",
      "source": [
        "train_ratio_standard_scaled_values2 = standard_scaler.fit_transform(train_data_pca_df2.values)"
      ],
      "execution_count": 0,
      "outputs": []
    },
    {
      "metadata": {
        "id": "YdijcEzgCqfL",
        "colab_type": "code",
        "colab": {
          "base_uri": "https://localhost:8080/",
          "height": 34
        },
        "outputId": "68e403a9-62b9-46e2-e01e-dca396e3b95d"
      },
      "cell_type": "code",
      "source": [
        "len(train_ratio_standard_scaled_values2 )"
      ],
      "execution_count": 147,
      "outputs": [
        {
          "output_type": "execute_result",
          "data": {
            "text/plain": [
              "494021"
            ]
          },
          "metadata": {
            "tags": []
          },
          "execution_count": 147
        }
      ]
    },
    {
      "metadata": {
        "id": "ztoYqa0pCqck",
        "colab_type": "code",
        "colab": {
          "base_uri": "https://localhost:8080/",
          "height": 34
        },
        "outputId": "7fc1d585-d4ee-4511-bece-2a57b38933e3"
      },
      "cell_type": "code",
      "source": [
        "np.shape(train_ratio_standard_scaled_values2)"
      ],
      "execution_count": 148,
      "outputs": [
        {
          "output_type": "execute_result",
          "data": {
            "text/plain": [
              "(494021, 29)"
            ]
          },
          "metadata": {
            "tags": []
          },
          "execution_count": 148
        }
      ]
    },
    {
      "metadata": {
        "id": "-3MNEjkYEOZ2",
        "colab_type": "text"
      },
      "cell_type": "markdown",
      "source": [
        "Bring the dataset feature within a range "
      ]
    },
    {
      "metadata": {
        "id": "2rtuEdFFCqaX",
        "colab_type": "code",
        "colab": {
          "base_uri": "https://localhost:8080/",
          "height": 357
        },
        "outputId": "f237191f-1bab-4e0e-be7d-a06fe2143175"
      },
      "cell_type": "code",
      "source": [
        "train_ratio_standard_scaled_values2[0:2]"
      ],
      "execution_count": 152,
      "outputs": [
        {
          "output_type": "execute_result",
          "data": {
            "text/plain": [
              "array([[-2.87852761e-03,  1.38669485e-01, -3.06061171e-02,\n",
              "        -1.44629472e+00, -3.93015682e-01,  4.00770128e+00,\n",
              "        -3.01834671e+00, -4.50730489e-02, -2.00194199e-01,\n",
              "        -2.72087937e-01, -2.04971316e+00, -3.10567712e+00,\n",
              "        -9.82462079e-01,  4.03766446e+00,  1.66522959e+00,\n",
              "        -2.69310501e+00,  1.70247953e+00,  3.21572066e+00,\n",
              "        -2.70574848e+00, -2.30407659e+00,  4.09814369e-02,\n",
              "        -5.49720772e+00, -9.96441839e-02,  4.25638944e+00,\n",
              "         7.17135823e-01, -4.47806693e-01,  1.12383100e+00,\n",
              "        -5.41858325e-01,  3.87295917e-01],\n",
              "       [-2.81983579e-03, -1.15728056e-02, -2.99454606e-02,\n",
              "        -1.44212028e+00, -4.35581791e-01,  3.74085400e+00,\n",
              "        -2.86772198e+00, -3.94578014e-02, -1.93953277e-01,\n",
              "        -2.63097938e-01, -1.95472987e+00, -3.07458898e+00,\n",
              "        -8.72841362e-01,  3.91025825e+00,  1.62814290e+00,\n",
              "        -2.79085446e+00,  1.67992154e+00,  3.14109068e+00,\n",
              "        -2.58178600e+00, -2.41120321e+00,  5.79774152e-02,\n",
              "        -5.23317501e+00,  2.63077510e-01,  4.07795513e+00,\n",
              "         8.84672315e-01, -3.47544988e-01,  1.07376275e+00,\n",
              "        -8.27164113e-01,  4.76098229e-01]])"
            ]
          },
          "metadata": {
            "tags": []
          },
          "execution_count": 152
        }
      ]
    },
    {
      "metadata": {
        "id": "9_XPnxsFCqXv",
        "colab_type": "code",
        "colab": {
          "base_uri": "https://localhost:8080/",
          "height": 253
        },
        "outputId": "235765bc-6305-44e5-b2ee-5361350cfe5b"
      },
      "cell_type": "code",
      "source": [
        "train_data_scaled2=pd.DataFrame(train_ratio_standard_scaled_values2)\n",
        "train_data_scaled2.head()"
      ],
      "execution_count": 153,
      "outputs": [
        {
          "output_type": "execute_result",
          "data": {
            "text/html": [
              "<div>\n",
              "<style scoped>\n",
              "    .dataframe tbody tr th:only-of-type {\n",
              "        vertical-align: middle;\n",
              "    }\n",
              "\n",
              "    .dataframe tbody tr th {\n",
              "        vertical-align: top;\n",
              "    }\n",
              "\n",
              "    .dataframe thead th {\n",
              "        text-align: right;\n",
              "    }\n",
              "</style>\n",
              "<table border=\"1\" class=\"dataframe\">\n",
              "  <thead>\n",
              "    <tr style=\"text-align: right;\">\n",
              "      <th></th>\n",
              "      <th>0</th>\n",
              "      <th>1</th>\n",
              "      <th>2</th>\n",
              "      <th>3</th>\n",
              "      <th>4</th>\n",
              "      <th>5</th>\n",
              "      <th>6</th>\n",
              "      <th>7</th>\n",
              "      <th>8</th>\n",
              "      <th>9</th>\n",
              "      <th>...</th>\n",
              "      <th>19</th>\n",
              "      <th>20</th>\n",
              "      <th>21</th>\n",
              "      <th>22</th>\n",
              "      <th>23</th>\n",
              "      <th>24</th>\n",
              "      <th>25</th>\n",
              "      <th>26</th>\n",
              "      <th>27</th>\n",
              "      <th>28</th>\n",
              "    </tr>\n",
              "  </thead>\n",
              "  <tbody>\n",
              "    <tr>\n",
              "      <th>0</th>\n",
              "      <td>-0.002879</td>\n",
              "      <td>0.138669</td>\n",
              "      <td>-0.030606</td>\n",
              "      <td>-1.446295</td>\n",
              "      <td>-0.393016</td>\n",
              "      <td>4.007701</td>\n",
              "      <td>-3.018347</td>\n",
              "      <td>-0.045073</td>\n",
              "      <td>-0.200194</td>\n",
              "      <td>-0.272088</td>\n",
              "      <td>...</td>\n",
              "      <td>-2.304077</td>\n",
              "      <td>0.040981</td>\n",
              "      <td>-5.497208</td>\n",
              "      <td>-0.099644</td>\n",
              "      <td>4.256389</td>\n",
              "      <td>0.717136</td>\n",
              "      <td>-0.447807</td>\n",
              "      <td>1.123831</td>\n",
              "      <td>-0.541858</td>\n",
              "      <td>0.387296</td>\n",
              "    </tr>\n",
              "    <tr>\n",
              "      <th>1</th>\n",
              "      <td>-0.002820</td>\n",
              "      <td>-0.011573</td>\n",
              "      <td>-0.029945</td>\n",
              "      <td>-1.442120</td>\n",
              "      <td>-0.435582</td>\n",
              "      <td>3.740854</td>\n",
              "      <td>-2.867722</td>\n",
              "      <td>-0.039458</td>\n",
              "      <td>-0.193953</td>\n",
              "      <td>-0.263098</td>\n",
              "      <td>...</td>\n",
              "      <td>-2.411203</td>\n",
              "      <td>0.057977</td>\n",
              "      <td>-5.233175</td>\n",
              "      <td>0.263078</td>\n",
              "      <td>4.077955</td>\n",
              "      <td>0.884672</td>\n",
              "      <td>-0.347545</td>\n",
              "      <td>1.073763</td>\n",
              "      <td>-0.827164</td>\n",
              "      <td>0.476098</td>\n",
              "    </tr>\n",
              "    <tr>\n",
              "      <th>2</th>\n",
              "      <td>-0.002824</td>\n",
              "      <td>0.014184</td>\n",
              "      <td>-0.030395</td>\n",
              "      <td>-1.431949</td>\n",
              "      <td>-0.472478</td>\n",
              "      <td>3.470171</td>\n",
              "      <td>-2.714716</td>\n",
              "      <td>-0.037605</td>\n",
              "      <td>-0.188426</td>\n",
              "      <td>-0.256148</td>\n",
              "      <td>...</td>\n",
              "      <td>-2.383503</td>\n",
              "      <td>0.061263</td>\n",
              "      <td>-5.016467</td>\n",
              "      <td>0.354689</td>\n",
              "      <td>3.913188</td>\n",
              "      <td>0.909657</td>\n",
              "      <td>-0.296740</td>\n",
              "      <td>1.019853</td>\n",
              "      <td>-0.886323</td>\n",
              "      <td>0.493816</td>\n",
              "    </tr>\n",
              "    <tr>\n",
              "      <th>3</th>\n",
              "      <td>-0.002840</td>\n",
              "      <td>0.014184</td>\n",
              "      <td>-0.030468</td>\n",
              "      <td>-1.430999</td>\n",
              "      <td>-0.515224</td>\n",
              "      <td>3.189484</td>\n",
              "      <td>-2.558857</td>\n",
              "      <td>-0.035150</td>\n",
              "      <td>-0.183609</td>\n",
              "      <td>-0.251349</td>\n",
              "      <td>...</td>\n",
              "      <td>-2.296284</td>\n",
              "      <td>0.057437</td>\n",
              "      <td>-4.820204</td>\n",
              "      <td>0.300679</td>\n",
              "      <td>3.754800</td>\n",
              "      <td>0.859873</td>\n",
              "      <td>-0.320819</td>\n",
              "      <td>0.937773</td>\n",
              "      <td>-0.849010</td>\n",
              "      <td>0.499663</td>\n",
              "    </tr>\n",
              "    <tr>\n",
              "      <th>4</th>\n",
              "      <td>-0.002842</td>\n",
              "      <td>0.035219</td>\n",
              "      <td>-0.030888</td>\n",
              "      <td>-1.420989</td>\n",
              "      <td>-0.552272</td>\n",
              "      <td>2.918904</td>\n",
              "      <td>-2.405917</td>\n",
              "      <td>-0.033202</td>\n",
              "      <td>-0.178162</td>\n",
              "      <td>-0.244913</td>\n",
              "      <td>...</td>\n",
              "      <td>-2.233029</td>\n",
              "      <td>0.057074</td>\n",
              "      <td>-4.615365</td>\n",
              "      <td>0.325057</td>\n",
              "      <td>3.594228</td>\n",
              "      <td>0.849312</td>\n",
              "      <td>-0.282955</td>\n",
              "      <td>0.883555</td>\n",
              "      <td>-0.850530</td>\n",
              "      <td>0.501443</td>\n",
              "    </tr>\n",
              "  </tbody>\n",
              "</table>\n",
              "<p>5 rows × 29 columns</p>\n",
              "</div>"
            ],
            "text/plain": [
              "         0         1         2         3         4         5         6   \\\n",
              "0 -0.002879  0.138669 -0.030606 -1.446295 -0.393016  4.007701 -3.018347   \n",
              "1 -0.002820 -0.011573 -0.029945 -1.442120 -0.435582  3.740854 -2.867722   \n",
              "2 -0.002824  0.014184 -0.030395 -1.431949 -0.472478  3.470171 -2.714716   \n",
              "3 -0.002840  0.014184 -0.030468 -1.430999 -0.515224  3.189484 -2.558857   \n",
              "4 -0.002842  0.035219 -0.030888 -1.420989 -0.552272  2.918904 -2.405917   \n",
              "\n",
              "         7         8         9     ...           19        20        21  \\\n",
              "0 -0.045073 -0.200194 -0.272088    ...    -2.304077  0.040981 -5.497208   \n",
              "1 -0.039458 -0.193953 -0.263098    ...    -2.411203  0.057977 -5.233175   \n",
              "2 -0.037605 -0.188426 -0.256148    ...    -2.383503  0.061263 -5.016467   \n",
              "3 -0.035150 -0.183609 -0.251349    ...    -2.296284  0.057437 -4.820204   \n",
              "4 -0.033202 -0.178162 -0.244913    ...    -2.233029  0.057074 -4.615365   \n",
              "\n",
              "         22        23        24        25        26        27        28  \n",
              "0 -0.099644  4.256389  0.717136 -0.447807  1.123831 -0.541858  0.387296  \n",
              "1  0.263078  4.077955  0.884672 -0.347545  1.073763 -0.827164  0.476098  \n",
              "2  0.354689  3.913188  0.909657 -0.296740  1.019853 -0.886323  0.493816  \n",
              "3  0.300679  3.754800  0.859873 -0.320819  0.937773 -0.849010  0.499663  \n",
              "4  0.325057  3.594228  0.849312 -0.282955  0.883555 -0.850530  0.501443  \n",
              "\n",
              "[5 rows x 29 columns]"
            ]
          },
          "metadata": {
            "tags": []
          },
          "execution_count": 153
        }
      ]
    },
    {
      "metadata": {
        "id": "M_mpt1rLCqVE",
        "colab_type": "code",
        "colab": {
          "base_uri": "https://localhost:8080/",
          "height": 253
        },
        "outputId": "cb5d5e08-2e00-4065-9b79-ca4ea6a3f2b4"
      },
      "cell_type": "code",
      "source": [
        "test_ratio_standard_scaled_values2 = standard_scaler.fit_transform(test_data_pca_df2.values)\n",
        "test_data_scaled2=pd.DataFrame(test_ratio_standard_scaled_values2)\n",
        "test_data_scaled2.head()"
      ],
      "execution_count": 154,
      "outputs": [
        {
          "output_type": "execute_result",
          "data": {
            "text/html": [
              "<div>\n",
              "<style scoped>\n",
              "    .dataframe tbody tr th:only-of-type {\n",
              "        vertical-align: middle;\n",
              "    }\n",
              "\n",
              "    .dataframe tbody tr th {\n",
              "        vertical-align: top;\n",
              "    }\n",
              "\n",
              "    .dataframe thead th {\n",
              "        text-align: right;\n",
              "    }\n",
              "</style>\n",
              "<table border=\"1\" class=\"dataframe\">\n",
              "  <thead>\n",
              "    <tr style=\"text-align: right;\">\n",
              "      <th></th>\n",
              "      <th>0</th>\n",
              "      <th>1</th>\n",
              "      <th>2</th>\n",
              "      <th>3</th>\n",
              "      <th>4</th>\n",
              "      <th>5</th>\n",
              "      <th>6</th>\n",
              "      <th>7</th>\n",
              "      <th>8</th>\n",
              "      <th>9</th>\n",
              "      <th>...</th>\n",
              "      <th>19</th>\n",
              "      <th>20</th>\n",
              "      <th>21</th>\n",
              "      <th>22</th>\n",
              "      <th>23</th>\n",
              "      <th>24</th>\n",
              "      <th>25</th>\n",
              "      <th>26</th>\n",
              "      <th>27</th>\n",
              "      <th>28</th>\n",
              "    </tr>\n",
              "  </thead>\n",
              "  <tbody>\n",
              "    <tr>\n",
              "      <th>0</th>\n",
              "      <td>-0.012755</td>\n",
              "      <td>-0.037075</td>\n",
              "      <td>0.040349</td>\n",
              "      <td>-1.057800</td>\n",
              "      <td>-1.001226</td>\n",
              "      <td>1.110979</td>\n",
              "      <td>0.208551</td>\n",
              "      <td>0.018873</td>\n",
              "      <td>0.042004</td>\n",
              "      <td>-1.089026</td>\n",
              "      <td>...</td>\n",
              "      <td>-0.014346</td>\n",
              "      <td>-0.428840</td>\n",
              "      <td>0.208092</td>\n",
              "      <td>-0.412511</td>\n",
              "      <td>-0.244829</td>\n",
              "      <td>0.576702</td>\n",
              "      <td>-0.057732</td>\n",
              "      <td>-0.058105</td>\n",
              "      <td>0.166011</td>\n",
              "      <td>-0.188376</td>\n",
              "    </tr>\n",
              "    <tr>\n",
              "      <th>1</th>\n",
              "      <td>-0.012755</td>\n",
              "      <td>-0.037075</td>\n",
              "      <td>0.040349</td>\n",
              "      <td>-1.057800</td>\n",
              "      <td>-1.001226</td>\n",
              "      <td>1.110979</td>\n",
              "      <td>0.208551</td>\n",
              "      <td>0.018873</td>\n",
              "      <td>0.042004</td>\n",
              "      <td>-1.089026</td>\n",
              "      <td>...</td>\n",
              "      <td>-0.014346</td>\n",
              "      <td>-0.428840</td>\n",
              "      <td>0.208092</td>\n",
              "      <td>-0.412511</td>\n",
              "      <td>-0.244829</td>\n",
              "      <td>0.576702</td>\n",
              "      <td>-0.057732</td>\n",
              "      <td>-0.058105</td>\n",
              "      <td>0.166011</td>\n",
              "      <td>-0.188376</td>\n",
              "    </tr>\n",
              "    <tr>\n",
              "      <th>2</th>\n",
              "      <td>-0.012755</td>\n",
              "      <td>-0.037075</td>\n",
              "      <td>0.040349</td>\n",
              "      <td>-1.057800</td>\n",
              "      <td>-1.001226</td>\n",
              "      <td>1.110979</td>\n",
              "      <td>0.208551</td>\n",
              "      <td>0.018873</td>\n",
              "      <td>0.042004</td>\n",
              "      <td>-1.089026</td>\n",
              "      <td>...</td>\n",
              "      <td>-0.014346</td>\n",
              "      <td>-0.428840</td>\n",
              "      <td>0.208092</td>\n",
              "      <td>-0.412511</td>\n",
              "      <td>-0.244829</td>\n",
              "      <td>0.576702</td>\n",
              "      <td>-0.057732</td>\n",
              "      <td>-0.058105</td>\n",
              "      <td>0.166011</td>\n",
              "      <td>-0.188376</td>\n",
              "    </tr>\n",
              "    <tr>\n",
              "      <th>3</th>\n",
              "      <td>-0.012755</td>\n",
              "      <td>-0.037075</td>\n",
              "      <td>0.040011</td>\n",
              "      <td>-1.053497</td>\n",
              "      <td>-0.999374</td>\n",
              "      <td>1.108655</td>\n",
              "      <td>0.207935</td>\n",
              "      <td>0.018834</td>\n",
              "      <td>0.041820</td>\n",
              "      <td>-1.084111</td>\n",
              "      <td>...</td>\n",
              "      <td>-0.014566</td>\n",
              "      <td>-0.429114</td>\n",
              "      <td>0.208051</td>\n",
              "      <td>-0.412566</td>\n",
              "      <td>-0.244915</td>\n",
              "      <td>0.576985</td>\n",
              "      <td>-0.058124</td>\n",
              "      <td>-0.057988</td>\n",
              "      <td>0.166426</td>\n",
              "      <td>-0.187950</td>\n",
              "    </tr>\n",
              "    <tr>\n",
              "      <th>4</th>\n",
              "      <td>-0.012755</td>\n",
              "      <td>-0.037075</td>\n",
              "      <td>0.040011</td>\n",
              "      <td>-1.053497</td>\n",
              "      <td>-0.999374</td>\n",
              "      <td>1.108655</td>\n",
              "      <td>0.207935</td>\n",
              "      <td>0.018834</td>\n",
              "      <td>0.042032</td>\n",
              "      <td>-1.091198</td>\n",
              "      <td>...</td>\n",
              "      <td>-0.010124</td>\n",
              "      <td>-0.437004</td>\n",
              "      <td>0.220135</td>\n",
              "      <td>-0.347389</td>\n",
              "      <td>-0.239690</td>\n",
              "      <td>0.513516</td>\n",
              "      <td>-0.061896</td>\n",
              "      <td>-0.052876</td>\n",
              "      <td>0.197469</td>\n",
              "      <td>-0.180489</td>\n",
              "    </tr>\n",
              "  </tbody>\n",
              "</table>\n",
              "<p>5 rows × 29 columns</p>\n",
              "</div>"
            ],
            "text/plain": [
              "         0         1         2         3         4         5         6   \\\n",
              "0 -0.012755 -0.037075  0.040349 -1.057800 -1.001226  1.110979  0.208551   \n",
              "1 -0.012755 -0.037075  0.040349 -1.057800 -1.001226  1.110979  0.208551   \n",
              "2 -0.012755 -0.037075  0.040349 -1.057800 -1.001226  1.110979  0.208551   \n",
              "3 -0.012755 -0.037075  0.040011 -1.053497 -0.999374  1.108655  0.207935   \n",
              "4 -0.012755 -0.037075  0.040011 -1.053497 -0.999374  1.108655  0.207935   \n",
              "\n",
              "         7         8         9     ...           19        20        21  \\\n",
              "0  0.018873  0.042004 -1.089026    ...    -0.014346 -0.428840  0.208092   \n",
              "1  0.018873  0.042004 -1.089026    ...    -0.014346 -0.428840  0.208092   \n",
              "2  0.018873  0.042004 -1.089026    ...    -0.014346 -0.428840  0.208092   \n",
              "3  0.018834  0.041820 -1.084111    ...    -0.014566 -0.429114  0.208051   \n",
              "4  0.018834  0.042032 -1.091198    ...    -0.010124 -0.437004  0.220135   \n",
              "\n",
              "         22        23        24        25        26        27        28  \n",
              "0 -0.412511 -0.244829  0.576702 -0.057732 -0.058105  0.166011 -0.188376  \n",
              "1 -0.412511 -0.244829  0.576702 -0.057732 -0.058105  0.166011 -0.188376  \n",
              "2 -0.412511 -0.244829  0.576702 -0.057732 -0.058105  0.166011 -0.188376  \n",
              "3 -0.412566 -0.244915  0.576985 -0.058124 -0.057988  0.166426 -0.187950  \n",
              "4 -0.347389 -0.239690  0.513516 -0.061896 -0.052876  0.197469 -0.180489  \n",
              "\n",
              "[5 rows x 29 columns]"
            ]
          },
          "metadata": {
            "tags": []
          },
          "execution_count": 154
        }
      ]
    },
    {
      "metadata": {
        "id": "ZNrlcc4PE4l6",
        "colab_type": "text"
      },
      "cell_type": "markdown",
      "source": [
        "#Classification:"
      ]
    },
    {
      "metadata": {
        "id": "HTAfLa_qE-mq",
        "colab_type": "text"
      },
      "cell_type": "markdown",
      "source": [
        "**1 Using SVM Algorithm**"
      ]
    },
    {
      "metadata": {
        "id": "6zTRMMtbCqSd",
        "colab_type": "code",
        "colab": {}
      },
      "cell_type": "code",
      "source": [
        "clf = svm.SVC(kernel='linear',class_weight=\"balanced\", max_iter=100000000)"
      ],
      "execution_count": 0,
      "outputs": []
    },
    {
      "metadata": {
        "id": "sxmx_LF1GorO",
        "colab_type": "code",
        "colab": {
          "base_uri": "https://localhost:8080/",
          "height": 85
        },
        "outputId": "e2ddf90c-8652-42cf-bcc8-113cffd8d147"
      },
      "cell_type": "code",
      "source": [
        "clf.fit(train_data_scaled2, train_target_decoded_m[0])  # train the model by using training set with target labelled data"
      ],
      "execution_count": 162,
      "outputs": [
        {
          "output_type": "execute_result",
          "data": {
            "text/plain": [
              "SVC(C=1.0, cache_size=200, class_weight='balanced', coef0=0.0,\n",
              "  decision_function_shape='ovr', degree=3, gamma='auto_deprecated',\n",
              "  kernel='linear', max_iter=100000000, probability=False,\n",
              "  random_state=None, shrinking=True, tol=0.001, verbose=False)"
            ]
          },
          "metadata": {
            "tags": []
          },
          "execution_count": 162
        }
      ]
    },
    {
      "metadata": {
        "id": "D905iJ_SCpea",
        "colab_type": "code",
        "colab": {}
      },
      "cell_type": "code",
      "source": [
        "clf_predict = clf.predict(test_data_scaled2)  # prediciton the test dataset's output"
      ],
      "execution_count": 0,
      "outputs": []
    },
    {
      "metadata": {
        "id": "HdwpdXc3JcD9",
        "colab_type": "code",
        "colab": {
          "base_uri": "https://localhost:8080/",
          "height": 34
        },
        "outputId": "20488427-d9c3-4a08-fbbd-8f7d6157537b"
      },
      "cell_type": "code",
      "source": [
        "len(clf_predict)"
      ],
      "execution_count": 165,
      "outputs": [
        {
          "output_type": "execute_result",
          "data": {
            "text/plain": [
              "311029"
            ]
          },
          "metadata": {
            "tags": []
          },
          "execution_count": 165
        }
      ]
    },
    {
      "metadata": {
        "id": "5b6lsSRtCpb8",
        "colab_type": "code",
        "colab": {
          "base_uri": "https://localhost:8080/",
          "height": 34
        },
        "outputId": "e007cbfd-f50b-4716-d2f8-33c5ce54d0c0"
      },
      "cell_type": "code",
      "source": [
        "print(clf.score(test_data_scaled2, test_target_decoded_m))"
      ],
      "execution_count": 164,
      "outputs": [
        {
          "output_type": "stream",
          "text": [
            "0.8778216822225581\n"
          ],
          "name": "stdout"
        }
      ]
    },
    {
      "metadata": {
        "id": "XKnUfcx5CpZj",
        "colab_type": "code",
        "colab": {}
      },
      "cell_type": "code",
      "source": [
        ""
      ],
      "execution_count": 0,
      "outputs": []
    },
    {
      "metadata": {
        "id": "996l13NgCpQy",
        "colab_type": "code",
        "colab": {}
      },
      "cell_type": "code",
      "source": [
        ""
      ],
      "execution_count": 0,
      "outputs": []
    }
  ]
}