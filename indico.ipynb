{
  "nbformat": 4,
  "nbformat_minor": 0,
  "metadata": {
    "colab": {
      "name": "NLP.ipynb",
      "version": "0.3.2",
      "provenance": [],
      "collapsed_sections": [],
      "include_colab_link": true
    },
    "kernelspec": {
      "name": "python3",
      "display_name": "Python 3"
    },
    "accelerator": "GPU"
  },
  "cells": [
    {
      "cell_type": "markdown",
      "metadata": {
        "id": "view-in-github",
        "colab_type": "text"
      },
      "source": [
        "<a href=\"https://colab.research.google.com/github/priyanshgupta1998/All_codes/blob/master/indico.ipynb\" target=\"_parent\"><img src=\"https://colab.research.google.com/assets/colab-badge.svg\" alt=\"Open In Colab\"/></a>"
      ]
    },
    {
      "cell_type": "markdown",
      "metadata": {
        "id": "dUqERjCIdPUO",
        "colab_type": "text"
      },
      "source": [
        "**indico** --> Indico allows you to schedule conferences, from single talks to complex meetings with sessions and contributions. It also includes an advanced user delegation mechanism, allows paper reviewing, archival of conference information and electronic proceedings"
      ]
    },
    {
      "cell_type": "markdown",
      "metadata": {
        "id": "ZmvrF57d4Yo7",
        "colab_type": "text"
      },
      "source": [
        "password:  Hacker@123"
      ]
    },
    {
      "cell_type": "code",
      "metadata": {
        "id": "Vz5f1vspftDj",
        "colab_type": "code",
        "colab": {
          "base_uri": "https://localhost:8080/",
          "height": 34
        },
        "outputId": "69b5e0f9-139b-4515-cc45-492923f22696"
      },
      "source": [
        "#!pip install indicoio\n",
        "indicoio.__version__"
      ],
      "execution_count": 6,
      "outputs": [
        {
          "output_type": "execute_result",
          "data": {
            "text/plain": [
              "'1.2.0'"
            ]
          },
          "metadata": {
            "tags": []
          },
          "execution_count": 6
        }
      ]
    },
    {
      "cell_type": "code",
      "metadata": {
        "id": "TR_ASqAJcNH-",
        "colab_type": "code",
        "colab": {
          "base_uri": "https://localhost:8080/",
          "height": 34
        },
        "outputId": "8ccb7703-8609-42ce-8185-c575ebd4ca34"
      },
      "source": [
        "import indicoio\n",
        "indicoio.config.api_key = '7faceae31085edfdaf927f4771ba1df9'\n",
        "\n",
        "# Version >= 0.9.0\n",
        "indicoio.sentiment(['indico is so easy to use!', 'Still really easy, yiss'])\n",
        "\n",
        "# Version < 0.9.0\n",
        "#indicoio.batch_sentiment(['indico is so easy to use!', 'Still really easy, yiss'])\n"
      ],
      "execution_count": 7,
      "outputs": [
        {
          "output_type": "execute_result",
          "data": {
            "text/plain": [
              "[0.9782025594088044, 0.9895808115135271]"
            ]
          },
          "metadata": {
            "tags": []
          },
          "execution_count": 7
        }
      ]
    },
    {
      "cell_type": "markdown",
      "metadata": {
        "id": "Z5GFedDwhQLR",
        "colab_type": "text"
      },
      "source": [
        "`This function will return a number between 0 and 1. This number is a probability representing the likelihood that the analyzed text is positive or negative. Values greater than 0.5 indicate positive sentiment, while values less than 0.5 indicate negative sentiment.`"
      ]
    },
    {
      "cell_type": "code",
      "metadata": {
        "id": "tATcE3PGcNI-",
        "colab_type": "code",
        "colab": {
          "base_uri": "https://localhost:8080/",
          "height": 85
        },
        "outputId": "f2dbed6c-a865-4234-f95b-2e0d68700552"
      },
      "source": [
        "# single example\n",
        "print(indicoio.sentiment(\"I love and hate her\"))\n",
        "\n",
        "\n",
        "print(indicoio.sentiment(\"I hate him\"))\n",
        "\n",
        "\n",
        "print(indicoio.sentiment(\"I hate cruel sad unlucky\"))\n",
        "\n",
        "\n",
        "# batch example\n",
        "indicoio.sentiment([\n",
        "    \"I love writing code!\",\n",
        "    \"Alexander and the Terrible, Horrible, No Good, Very Bad Day\"\n",
        "])"
      ],
      "execution_count": 14,
      "outputs": [
        {
          "output_type": "stream",
          "text": [
            "0.8347072549358285\n",
            "0.4195634282951124\n",
            "0.00955951544644467\n"
          ],
          "name": "stdout"
        },
        {
          "output_type": "execute_result",
          "data": {
            "text/plain": [
              "[0.9819219949985644, 0.00015202198176385973]"
            ]
          },
          "metadata": {
            "tags": []
          },
          "execution_count": 14
        }
      ]
    },
    {
      "cell_type": "code",
      "metadata": {
        "id": "Eh0FW1BDi4dO",
        "colab_type": "code",
        "colab": {}
      },
      "source": [
        ""
      ],
      "execution_count": 0,
      "outputs": []
    },
    {
      "cell_type": "markdown",
      "metadata": {
        "id": "n-Hcrhehi4_M",
        "colab_type": "text"
      },
      "source": [
        "###High Quality Sentiment Analysis\n",
        "\n",
        "`Highly accurate sentiment analysis but less performant than the standard Sentiment API. Note: Sentiment HQ only supports English analysis. For multilingual support, please use the standard Sentiment API.`"
      ]
    },
    {
      "cell_type": "code",
      "metadata": {
        "id": "BpC010IfcNR8",
        "colab_type": "code",
        "colab": {
          "base_uri": "https://localhost:8080/",
          "height": 51
        },
        "outputId": "c8626be6-f752-4c03-e7e5-fd5e7d29aba9"
      },
      "source": [
        "# single example\n",
        "print(indicoio.sentiment_hq(\"I love writing code!\"))\n",
        "\n",
        "# batch example\n",
        "indicoio.sentiment_hq([\n",
        "    \"I love writing code!\",\n",
        "    \"Alexander and the Terrible, Horrible, No Good, Very Bad Day\"\n",
        "])"
      ],
      "execution_count": 19,
      "outputs": [
        {
          "output_type": "stream",
          "text": [
            "0.9903809\n"
          ],
          "name": "stdout"
        },
        {
          "output_type": "execute_result",
          "data": {
            "text/plain": [
              "[0.9892174, 0.0034347023]"
            ]
          },
          "metadata": {
            "tags": []
          },
          "execution_count": 19
        }
      ]
    },
    {
      "cell_type": "code",
      "metadata": {
        "id": "F87Sjl-ycNUJ",
        "colab_type": "code",
        "colab": {
          "base_uri": "https://localhost:8080/",
          "height": 34
        },
        "outputId": "dc514d26-db9e-456e-bc5f-aff8c8aacc0f"
      },
      "source": [
        "# single example\n",
        "print(indicoio.sentiment_hq(\"أحب كتابة الكود!\"))      #I love writing code!\n"
      ],
      "execution_count": 18,
      "outputs": [
        {
          "output_type": "stream",
          "text": [
            "0.8034777\n"
          ],
          "name": "stdout"
        }
      ]
    },
    {
      "cell_type": "markdown",
      "metadata": {
        "id": "zuOkU3xHjlCg",
        "colab_type": "text"
      },
      "source": [
        "##Text Tags \n",
        "`This function will return a dictionary with 111 key-value pairs. These key-value pairs represent the likelihood that the analyzed text is about each of the 111 possible topics. The keys in the dictionary are strings containing the topic names and the values are the probabilities that the analyzed text is about each topic.`"
      ]
    },
    {
      "cell_type": "code",
      "metadata": {
        "id": "XrVADf5ucNZ1",
        "colab_type": "code",
        "colab": {
          "base_uri": "https://localhost:8080/",
          "height": 71
        },
        "outputId": "d2815e46-e137-4c8c-87c4-62b5f8027218"
      },
      "source": [
        "# single example\n",
        "print(len(indicoio.text_tags(\"The most common form of arrow consists of a shaft with an arrowhead attached to the front end and with fletchings and a \\\n",
        "                   nock attached to the other end.\")))\n",
        "\n",
        "print(indicoio.text_tags(\"The most common form of arrow consists of a shaft with an arrowhead attached to the front end and with fletchings and a \\\n",
        "                   nock attached to the other end.\"))"
      ],
      "execution_count": 22,
      "outputs": [
        {
          "output_type": "stream",
          "text": [
            "111\n",
            "{'archery': 0.9980742931365967, 'hunting': 0.0009959941962733865, 'guns': 0.00047092887689359486, 'golf': 0.00018577380978967994, 'tennis': 5.92623146076221e-05, 'crafts': 2.980339922942221e-05, 'biology': 2.1638661564793438e-05, 'climbing': 1.6889678590814583e-05, 'cricket': 1.364311629004078e-05, 'fishing': 1.3066501196590252e-05, 'weight_training': 1.005332978820661e-05, 'ultimate': 9.978061825677287e-06, 'DIY': 8.521928066329565e-06, 'math': 8.209718544094358e-06, 'poker': 7.68693189456826e-06, 'medicine': 5.9809794947796036e-06, 'electronics': 5.378122295951471e-06, 'photography': 5.254831194179133e-06, 'gaming': 4.941529368807096e-06, 'fitness': 4.018845629616408e-06, 'tattoo': 4.010705197288189e-06, 'military': 3.7830398014193634e-06, 'programming': 3.5740465591516113e-06, 'gardening': 3.016925347765209e-06, 'astronomy': 2.8555145945574623e-06, 'anime': 2.345488837818266e-06, 'singing': 1.919170927067171e-06, 'sports': 1.6779662246335647e-06, 'art': 1.5552134300378384e-06, 'sailing': 1.5147644489843515e-06, 'science': 1.3950046877653222e-06, 'music': 1.35495315589651e-06, 'bicycling': 1.1802241033365135e-06, 'beer': 1.108635501623212e-06, 'history': 1.0447075737829437e-06, 'writing': 9.910845619742759e-07, 'cars': 8.654035923427728e-07, 'boxing': 8.47199885356531e-07, 'drugs': 8.337631243193755e-07, 'romance': 7.997593343134213e-07, 'comics': 7.793339591444237e-07, 'anthropology': 7.644753736713028e-07, 'yoga': 5.941317908764177e-07, 'cooking': 5.86180476602749e-07, 'aviation': 5.81360325213609e-07, 'design': 5.407001140156353e-07, 'nba': 5.298043106449768e-07, 'skateboarding': 4.843879537475004e-07, 'fiction': 4.524444534581562e-07, 'pets': 3.183997137057304e-07, 'swimming': 3.044674201646558e-07, 'technology': 2.880847489450389e-07, 'buddhism': 2.6067374392368947e-07, 'wine': 2.584459366516967e-07, 'psychology': 2.543791879361379e-07, 'philosophy': 2.5155537741738954e-07, 'scuba': 2.4900290895857324e-07, 'film': 2.3894295964055345e-07, 'baseball': 2.222695059117541e-07, 'poetry': 2.1916520154263708e-07, 'education': 1.7397452722889284e-07, 'school': 1.5764545935326169e-07, 'news': 1.539351615065243e-07, 'conspiracy': 1.4786331803406938e-07, 'rugby': 1.471439219358217e-07, 'health': 1.4214751331564912e-07, 'entertainment_news': 1.3267559495488968e-07, 'nfl': 1.2479419808641978e-07, 'judaism': 1.1907172137171074e-07, 'television': 1.1807909316985388e-07, 'weather': 1.173028536527454e-07, 'wrestling': 1.1547960809821234e-07, 'christianity': 1.1379655262544475e-07, 'books': 1.1169230873520064e-07, 'nostalgia': 1.0880632572707327e-07, 'investment': 1.057001526305612e-07, 'personal': 1.0501089775516448e-07, 'realestate': 1.0267326189250525e-07, 'islam': 9.833114233970264e-08, 'architecture': 9.464912409384851e-08, 'general_food': 8.978701515616194e-08, 'running': 8.723527855636348e-08, 'gender_issues': 8.689436015174579e-08, 'religion': 7.775474131221927e-08, 'startups_and_entrepreneurship': 7.539583890547874e-08, 'fashion': 6.629678495073676e-08, 'atheism': 6.431074695001371e-08, 'surfing': 5.7983786660997794e-08, 'energy': 5.775541467301082e-08, 'individualist_politics': 5.341849984574765e-08, 'nutrition': 5.296186600389774e-08, 'economic_discussion': 4.8838423083452653e-08, 'environmental': 4.714444656883643e-08, 'political_discussion': 4.685355392552992e-08, 'jobs': 4.659981556187631e-08, 'right_politics': 4.6032674561047315e-08, 'comedy': 4.5323584885181845e-08, 'soccer': 4.4991033121277724e-08, 'business': 3.8824587988983694e-08, 'hockey': 3.394844938497954e-08, 'personal_care_and_beauty': 3.2727211163319225e-08, 'parenting': 2.4482719851448564e-08, 'personalfinance': 2.3073598143241725e-08, 'vegetarian': 2.2097548679766987e-08, 'vegan': 2.0610421813671564e-08, 'left_politics': 2.0190434213418484e-08, 'wedding': 1.6807014446840185e-08, 'lgbt': 1.4079557075774574e-08, 'dieting': 6.078500813799792e-09, 'relationships': 4.587706659009427e-09, 'travel': 2.2121700027355473e-09}\n"
          ],
          "name": "stdout"
        }
      ]
    },
    {
      "cell_type": "code",
      "metadata": {
        "id": "XjvbkgFAjfx1",
        "colab_type": "code",
        "colab": {
          "base_uri": "https://localhost:8080/",
          "height": 71
        },
        "outputId": "81c8bf3e-0884-487e-e0a4-604a1915f23c"
      },
      "source": [
        "# batch example\n",
        "\n",
        "print(len(indicoio.text_tags([\n",
        "    \"The most common form of arrow consists of a shaft with an arrowhead attached to the front end and with fletchings and a nock attached to the other end.\",\n",
        "    \"Yoga in Indian traditions, however, is more than physical exercise, it has a meditative and spiritual core.\"\n",
        "])))\n",
        "\n",
        "print(indicoio.text_tags([\n",
        "    \"The most common form of arrow consists of a shaft with an arrowhead attached to the front end and with fletchings and a nock attached to the other end.\",\n",
        "    \"Yoga in Indian traditions, however, is more than physical exercise, it has a meditative and spiritual core.\"\n",
        "]))\n"
      ],
      "execution_count": 23,
      "outputs": [
        {
          "output_type": "stream",
          "text": [
            "2\n",
            "[{'archery': 0.9980742931365967, 'hunting': 0.0009959933813661337, 'guns': 0.0004709286440629512, 'golf': 0.00018577380978967994, 'tennis': 5.92623146076221e-05, 'crafts': 2.980339922942221e-05, 'biology': 2.1638661564793438e-05, 'climbing': 1.6889678590814583e-05, 'cricket': 1.364311629004078e-05, 'fishing': 1.3066501196590252e-05, 'weight_training': 1.005332978820661e-05, 'ultimate': 9.978061825677287e-06, 'DIY': 8.521919880877249e-06, 'math': 8.209718544094358e-06, 'poker': 7.68693189456826e-06, 'medicine': 5.9809794947796036e-06, 'electronics': 5.378122295951471e-06, 'photography': 5.254831194179133e-06, 'gaming': 4.941534371027956e-06, 'fitness': 4.018845629616408e-06, 'tattoo': 4.010705197288189e-06, 'military': 3.7830398014193634e-06, 'programming': 3.5740465591516113e-06, 'gardening': 3.016925347765209e-06, 'astronomy': 2.8555145945574623e-06, 'anime': 2.345488837818266e-06, 'singing': 1.919170927067171e-06, 'sports': 1.6779662246335647e-06, 'art': 1.5552134300378384e-06, 'sailing': 1.5147644489843515e-06, 'science': 1.3950034372101072e-06, 'music': 1.35495315589651e-06, 'bicycling': 1.1802241033365135e-06, 'beer': 1.1086365248047514e-06, 'history': 1.0447075737829437e-06, 'writing': 9.910845619742759e-07, 'cars': 8.654035923427728e-07, 'boxing': 8.472007380078139e-07, 'drugs': 8.337631243193755e-07, 'romance': 7.997601301212853e-07, 'comics': 7.793339591444237e-07, 'anthropology': 7.644753736713028e-07, 'yoga': 5.941323593106063e-07, 'cooking': 5.861809881935187e-07, 'aviation': 5.81360325213609e-07, 'design': 5.406995455814467e-07, 'nba': 5.298043106449768e-07, 'skateboarding': 4.843884084948513e-07, 'fiction': 4.524444534581562e-07, 'pets': 3.183997137057304e-07, 'swimming': 3.044677043817501e-07, 'technology': 2.880847489450389e-07, 'buddhism': 2.606734881283046e-07, 'wine': 2.584459366516967e-07, 'psychology': 2.543791879361379e-07, 'philosophy': 2.5155537741738954e-07, 'scuba': 2.490031363322487e-07, 'film': 2.3894295964055345e-07, 'baseball': 2.222697048637201e-07, 'poetry': 2.1916520154263708e-07, 'education': 1.739748540785513e-07, 'school': 1.5764545935326169e-07, 'news': 1.539351615065243e-07, 'conspiracy': 1.4786331803406938e-07, 'rugby': 1.471439219358217e-07, 'health': 1.4214751331564912e-07, 'entertainment_news': 1.3267585075027455e-07, 'nfl': 1.2479407018872735e-07, 'judaism': 1.1907194874538618e-07, 'television': 1.1807909316985388e-07, 'weather': 1.1730307392099348e-07, 'wrestling': 1.1547938782996425e-07, 'christianity': 1.1379655262544475e-07, 'books': 1.1169251479259401e-07, 'nostalgia': 1.0880632572707327e-07, 'investment': 1.0570035868795458e-07, 'personal': 1.0501089775516448e-07, 'realestate': 1.0267326189250525e-07, 'islam': 9.833132708081394e-08, 'architecture': 9.464912409384851e-08, 'general_food': 8.978701515616194e-08, 'running': 8.723544908662006e-08, 'gender_issues': 8.689436015174579e-08, 'religion': 7.775474131221927e-08, 'startups_and_entrepreneurship': 7.539583890547874e-08, 'fashion': 6.629665705304433e-08, 'atheism': 6.431074695001371e-08, 'surfing': 5.7983786660997794e-08, 'energy': 5.775541467301082e-08, 'individualist_politics': 5.341849984574765e-08, 'nutrition': 5.296186600389774e-08, 'economic_discussion': 4.8838330712897005e-08, 'environmental': 4.71445353866784e-08, 'political_discussion': 4.685355392552992e-08, 'jobs': 4.659981556187631e-08, 'right_politics': 4.6032674561047315e-08, 'comedy': 4.5323584885181845e-08, 'soccer': 4.4991033121277724e-08, 'business': 3.8824587988983694e-08, 'hockey': 3.394844938497954e-08, 'personal_care_and_beauty': 3.2727150767186686e-08, 'parenting': 2.4482719851448564e-08, 'personalfinance': 2.3073598143241725e-08, 'vegetarian': 2.2097548679766987e-08, 'vegan': 2.0610421813671564e-08, 'left_politics': 2.0190471516912112e-08, 'wedding': 1.6807048197620134e-08, 'lgbt': 1.4079557075774574e-08, 'dieting': 6.078500813799792e-09, 'relationships': 4.587706659009427e-09, 'travel': 2.2121657838880537e-09}, {'buddhism': 0.44050031900405884, 'yoga': 0.3239191174507141, 'religion': 0.10114435106515884, 'christianity': 0.024792460724711418, 'judaism': 0.019951781257987022, 'islam': 0.010662158951163292, 'atheism': 0.007152903359383345, 'health': 0.00647872406989336, 'psychology': 0.005763593595474958, 'fitness': 0.004781920462846756, 'education': 0.0046559348702430725, 'anthropology': 0.003880456555634737, 'singing': 0.0037294060457497835, 'science': 0.003071146085858345, 'philosophy': 0.002841350855305791, 'running': 0.0027022541034966707, 'weight_training': 0.0025222054682672024, 'climbing': 0.0021637296304106712, 'nutrition': 0.00181425956543535, 'dieting': 0.0014275027206167579, 'medicine': 0.0013696186942979693, 'romance': 0.001209250302053988, 'drugs': 0.0011928738094866276, 'poetry': 0.001080840826034546, 'books': 0.0009945613564923406, 'personal': 0.0009733223705552518, 'vegan': 0.0009019122808240354, 'comics': 0.0007781905005685985, 'lgbt': 0.0007187616429291666, 'travel': 0.0007171013276092708, 'news': 0.0007057316834107041, 'art': 0.0007055051391944289, 'music': 0.0006223220843821764, 'history': 0.0006218045018613338, 'vegetarian': 0.000607190711889416, 'parenting': 0.000586859998293221, 'writing': 0.0005770435673184693, 'anime': 0.0005739607149735093, 'business': 0.0005619083531200886, 'left_politics': 0.0005425409181043506, 'swimming': 0.0005200164159759879, 'gender_issues': 0.000502412673085928, 'architecture': 0.00048399565275758505, 'conspiracy': 0.00045695682638324797, 'math': 0.00040266901487484574, 'ultimate': 0.0003520235186442733, 'tattoo': 0.00035201309947296977, 'entertainment_news': 0.0003423868620302528, 'school': 0.0003343799035064876, 'economic_discussion': 0.0003073085390496999, 'biology': 0.0003049366641789675, 'astronomy': 0.0002616063866298646, 'military': 0.0002604143228381872, 'programming': 0.00022761424770578742, 'individualist_politics': 0.00022331270156428218, 'political_discussion': 0.0002208212681580335, 'environmental': 0.00021462362201418728, 'fiction': 0.00020785992091987282, 'cricket': 0.00020511800539679825, 'comedy': 0.00016657942614983767, 'pets': 0.0001621544943191111, 'right_politics': 0.00015458420966751873, 'design': 0.00014685904898215085, 'technology': 0.0001434306614100933, 'scuba': 0.00013913314614910632, 'rugby': 0.00013708899496123195, 'startups_and_entrepreneurship': 0.0001357049768557772, 'film': 0.0001287769409827888, 'gaming': 0.0001265220926143229, 'jobs': 0.0001245269231731072, 'general_food': 0.0001176823498099111, 'relationships': 0.00011522835120558739, 'wrestling': 0.00011517440725583583, 'soccer': 0.00010910994024015963, 'golf': 0.00010783969628391787, 'investment': 0.00010662552085705101, 'boxing': 0.0001059189235093072, 'wedding': 9.68549502431415e-05, 'surfing': 9.580025653121993e-05, 'archery': 8.587274351157248e-05, 'photography': 8.287136733997613e-05, 'cooking': 7.745240873191506e-05, 'television': 7.348378130700439e-05, 'wine': 7.306408224394545e-05, 'bicycling': 7.176148210419342e-05, 'sports': 7.090622239047661e-05, 'fashion': 6.896068953210488e-05, 'energy': 6.63125902065076e-05, 'personalfinance': 6.558428867720068e-05, 'guns': 4.482943404582329e-05, 'tennis': 4.1807154048001394e-05, 'sailing': 4.1009050619322807e-05, 'gardening': 4.052737858728506e-05, 'skateboarding': 3.9907772588776425e-05, 'hunting': 3.502802792354487e-05, 'nfl': 3.129047036054544e-05, 'aviation': 2.9918885047663935e-05, 'hockey': 2.7914449674426578e-05, 'weather': 2.5393208488821983e-05, 'nostalgia': 2.407264219073113e-05, 'personal_care_and_beauty': 2.2392936443793587e-05, 'baseball': 2.158685128961224e-05, 'crafts': 1.9779419744736515e-05, 'cars': 1.8354168787482195e-05, 'nba': 1.7391768778907135e-05, 'poker': 1.7069620298570953e-05, 'DIY': 1.595693720446434e-05, 'realestate': 1.4786493011342827e-05, 'beer': 9.347449122287799e-06, 'electronics': 8.80051538842963e-06, 'fishing': 3.523781515468727e-06}]\n"
          ],
          "name": "stdout"
        }
      ]
    },
    {
      "cell_type": "markdown",
      "metadata": {
        "id": "00OBbdhKk1m6",
        "colab_type": "text"
      },
      "source": [
        "###Language Detection\n",
        "\n",
        "`This function will return a dictionary with 33 key-value pairs. These key-value pairs represent the likelihood that the analyzed text is written in each of the 33 possible languages. The keys in the dictionary are strings containing the language names and the values are the probabilities that the analyzed text is written in each language.`\n",
        "`Values less than 0.05 indicate that it is very unlikely the text is written in the corresponding language.`\n",
        "\n",
        "**Complete List of Languages:**\n",
        "`Arabic (ar), Bulgarian (bg), Chinese (ch), Czech (cs), Danish (da), Dutch (nl), English (en), Esparanto (eo), Farsi (fa), Finnish (fi), French (fr), German (de), Greek (el), Hebrew (he), Hungarian (hu), Indonesian (id), Italian (it), Japanese (ja), Korean (ko), Latin (la), Lithuanian (lt), Norwegian (no), Polish (pl), Portuguese (pg), Romanian (ro), Russian (ru), Slovak (sk), Spanish (es), Swedish (sv), Tagalog (tl), Thai (th), Turkish (tr), Vietnamese (vi)`"
      ]
    },
    {
      "cell_type": "code",
      "metadata": {
        "id": "B-lAQHJwjf1P",
        "colab_type": "code",
        "colab": {
          "base_uri": "https://localhost:8080/",
          "height": 54
        },
        "outputId": "0d83f99b-f2f2-4c04-877d-71c396c3ea0f"
      },
      "source": [
        "# single example\n",
        "print(indicoio.language(\"How are you?\"))\n"
      ],
      "execution_count": 25,
      "outputs": [
        {
          "output_type": "stream",
          "text": [
            "{'English': 0.9990728163207458, 'Romanian': 0.00015268149532874959, 'Norwegian': 0.00014253643487109044, 'Finnish': 0.00011696538630045383, 'Portuguese': 0.00011649853788855026, 'Tagalog': 9.96739365897255e-05, 'Danish': 8.095553753042332e-05, 'Italian': 6.223770851264582e-05, 'Polish': 3.2565649068767874e-05, 'German': 2.7590010072508947e-05, 'Hungarian': 2.2149399653570215e-05, 'Spanish': 2.0946113035684788e-05, 'French': 1.6267043319641448e-05, 'Czech': 1.3528307431831818e-05, 'Chinese': 5.919979123033187e-06, 'Turkish': 5.38873419001694e-06, 'Indonesian': 4.93815140900782e-06, 'Japanese': 3.7956995057615573e-06, 'Slovak': 6.298966868415444e-07, 'Swedish': 6.07621211789679e-07, 'Esperanto': 4.924878564275682e-07, 'Dutch': 3.345693239921886e-07, 'Thai': 1.7447121922892275e-07, 'Lithuanian': 1.5299913843838884e-07, 'Vietnamese': 9.394912159751473e-08, 'Latin': 4.101134010774466e-08, 'Korean': 6.963605641636501e-09, 'Greek': 5.1017263237892425e-09, 'Bulgarian': 4.383902049976359e-09, 'Hebrew': 1.8325390253380384e-09, 'Russian': 2.2282001450914524e-10, 'Persian (Farsi)': 2.4233478725896015e-11, 'Arabic': 2.0697633015515408e-11}\n"
          ],
          "name": "stdout"
        }
      ]
    },
    {
      "cell_type": "code",
      "metadata": {
        "id": "cAoa9ZE0jf4f",
        "colab_type": "code",
        "colab": {
          "base_uri": "https://localhost:8080/",
          "height": 54
        },
        "outputId": "7956f4d4-5e63-4f88-f82c-1b2c2f484ec9"
      },
      "source": [
        "# batch example\n",
        "print(indicoio.language([\n",
        "    \"How are you?\",\n",
        "    \"¿Cómo estás?\"\n",
        "]))"
      ],
      "execution_count": 26,
      "outputs": [
        {
          "output_type": "stream",
          "text": [
            "[{'English': 0.9990728163207458, 'Romanian': 0.00015268149532874959, 'Norwegian': 0.00014253643487109044, 'Finnish': 0.00011696538630045383, 'Portuguese': 0.00011649853788855026, 'Tagalog': 9.96739365897255e-05, 'Danish': 8.095553753042332e-05, 'Italian': 6.223770851264582e-05, 'Polish': 3.2565649068767874e-05, 'German': 2.7590010072508947e-05, 'Hungarian': 2.2149399653570215e-05, 'Spanish': 2.0946113035684788e-05, 'French': 1.6267043319641448e-05, 'Czech': 1.3528307431831818e-05, 'Chinese': 5.919979123033187e-06, 'Turkish': 5.38873419001694e-06, 'Indonesian': 4.93815140900782e-06, 'Japanese': 3.7956995057615573e-06, 'Slovak': 6.298966868415444e-07, 'Swedish': 6.07621211789679e-07, 'Esperanto': 4.924878564275682e-07, 'Dutch': 3.345693239921886e-07, 'Thai': 1.7447121922892275e-07, 'Lithuanian': 1.5299913843838884e-07, 'Vietnamese': 9.394912159751473e-08, 'Latin': 4.101134010774466e-08, 'Korean': 6.963605641636501e-09, 'Greek': 5.1017263237892425e-09, 'Bulgarian': 4.383902049976359e-09, 'Hebrew': 1.8325390253380384e-09, 'Russian': 2.2282001450914524e-10, 'Persian (Farsi)': 2.4233478725896015e-11, 'Arabic': 2.0697633015515408e-11}, {'Spanish': 0.5469873466317311, 'Esperanto': 0.22945645075832016, 'Portuguese': 0.2235526053849315, 'Tagalog': 2.841835302323636e-06, 'Italian': 2.7070092082924156e-07, 'Latin': 1.9859702789530965e-07, 'Lithuanian': 1.7092634628775545e-07, 'Hungarian': 3.3953745180230746e-08, 'Romanian': 2.2243193668072962e-08, 'French': 1.845455418309445e-08, 'English': 1.4195574442800643e-08, 'Finnish': 8.7741684169763e-09, 'Norwegian': 6.3456344258662904e-09, 'Czech': 3.265178531587433e-09, 'Polish': 1.917961746725144e-09, 'Slovak': 1.5607334717596212e-09, 'Indonesian': 1.5581442177772178e-09, 'Turkish': 1.1310192211836232e-09, 'German': 6.478363036096664e-10, 'Swedish': 5.058059858606723e-10, 'Danish': 2.558100655168546e-10, 'Vietnamese': 1.3542835028348662e-10, 'Chinese': 1.2005748479412952e-10, 'Dutch': 7.479936304101409e-11, 'Japanese': 1.780134014627783e-11, 'Thai': 4.805757367809975e-12, 'Greek': 1.8251781276388772e-12, 'Bulgarian': 4.4479426490788233e-13, 'Korean': 3.57951983791339e-13, 'Russian': 2.6278954658348066e-13, 'Arabic': 1.8549884486126884e-13, 'Persian (Farsi)': 4.671810645088931e-14, 'Hebrew': 4.477676782688757e-14}]\n"
          ],
          "name": "stdout"
        }
      ]
    },
    {
      "cell_type": "markdown",
      "metadata": {
        "id": "o1p36deUqCDO",
        "colab_type": "text"
      },
      "source": [
        "###Political Analysis\n",
        "This function will return a dictionary with 4 key-value pairs. These key-value pairs represent the likelihood that each of 4 political leanings are expressed in the analyzed text. The keys in the dictionary are strings containing the political leanings and the values are the probabilities that the analyzed text is expressing each political view.\n",
        "\n",
        "Values less than 0.05 indicate that it is very unlikely the text is expressing that particular political leaning."
      ]
    },
    {
      "cell_type": "code",
      "metadata": {
        "id": "3eUemCu-jgEH",
        "colab_type": "code",
        "colab": {
          "base_uri": "https://localhost:8080/",
          "height": 85
        },
        "outputId": "89204305-69f2-4541-ab76-83c06f33865d"
      },
      "source": [
        "# single example\n",
        "indicoio.political(\"I have a constitutional right to bear arms!\")"
      ],
      "execution_count": 27,
      "outputs": [
        {
          "output_type": "execute_result",
          "data": {
            "text/plain": [
              "{'Conservative': 0.19319603,\n",
              " 'Green': 0.32515985,\n",
              " 'Liberal': 0.11416193,\n",
              " 'Libertarian': 0.3674822}"
            ]
          },
          "metadata": {
            "tags": []
          },
          "execution_count": 27
        }
      ]
    },
    {
      "cell_type": "code",
      "metadata": {
        "id": "eRMLM_m2jgRU",
        "colab_type": "code",
        "colab": {
          "base_uri": "https://localhost:8080/",
          "height": 153
        },
        "outputId": "2c3b85f9-f9ef-4189-9ad1-cd001ac7ea2d"
      },
      "source": [
        "# batch example\n",
        "indicoio.political([\n",
        "\"I have a constitutional right to bear arms!\",\n",
        "\"I wish more candidates cared about the environment.\"\n",
        "])"
      ],
      "execution_count": 28,
      "outputs": [
        {
          "output_type": "execute_result",
          "data": {
            "text/plain": [
              "[{'Conservative': 0.19319604,\n",
              "  'Green': 0.32515982,\n",
              "  'Liberal': 0.11416193,\n",
              "  'Libertarian': 0.3674822},\n",
              " {'Conservative': 0.031118236,\n",
              "  'Green': 0.8877605,\n",
              "  'Liberal': 0.03157693,\n",
              "  'Libertarian': 0.049544327}]"
            ]
          },
          "metadata": {
            "tags": []
          },
          "execution_count": 28
        }
      ]
    },
    {
      "cell_type": "markdown",
      "metadata": {
        "id": "vHRw7vPYrx12",
        "colab_type": "text"
      },
      "source": [
        "###Keywords Detection\n",
        "Identify the important words within a document.  \n",
        "This function will return a dictionary with top_n key-value pairs.   \n",
        "These key-value pairs represent the likelihood that each of the extracted keywords are relevant to the analyzed text.    \n",
        "The keys in the dictionary are strings containing the extracted keywords, and the values are the likelihoods that how much these keywords are relevant to the analyzed text."
      ]
    },
    {
      "cell_type": "code",
      "metadata": {
        "id": "Gxl36xY-jgYx",
        "colab_type": "code",
        "colab": {
          "base_uri": "https://localhost:8080/",
          "height": 34
        },
        "outputId": "d774a1ef-807c-4a71-ec8c-4e20540d1ca9"
      },
      "source": [
        "# single example\n",
        "indicoio.keywords(\"Some call it the sunshine state\", version=4)"
      ],
      "execution_count": 30,
      "outputs": [
        {
          "output_type": "execute_result",
          "data": {
            "text/plain": [
              "{'state': 0.7071067811865475, 'sunshine': 0.7071067811865475}"
            ]
          },
          "metadata": {
            "tags": []
          },
          "execution_count": 30
        }
      ]
    },
    {
      "cell_type": "code",
      "metadata": {
        "id": "PSdID0pxjgch",
        "colab_type": "code",
        "colab": {
          "base_uri": "https://localhost:8080/",
          "height": 102
        },
        "outputId": "c9cb749b-4c9c-4b52-975c-23aec75b4739"
      },
      "source": [
        "# batch example\n",
        "indicoio.keywords([\n",
        "    \"Some call it the sunshine state\",\n",
        "    \"you should tell truth to everyone. India is very religious country.\"\n",
        "], version=4)"
      ],
      "execution_count": 33,
      "outputs": [
        {
          "output_type": "execute_result",
          "data": {
            "text/plain": [
              "[{'state': 0.7071067811865475, 'sunshine': 0.7071067811865475},\n",
              " {'country': 0.4989927078129315,\n",
              "  'religious': 0.498992707812931,\n",
              "  'tell': 0.4989927078129308,\n",
              "  'truth': 0.4989927078129311}]"
            ]
          },
          "metadata": {
            "tags": []
          },
          "execution_count": 33
        }
      ]
    },
    {
      "cell_type": "code",
      "metadata": {
        "id": "1kAIxh0sjgWt",
        "colab_type": "code",
        "colab": {
          "base_uri": "https://localhost:8080/",
          "height": 68
        },
        "outputId": "027d8a9b-5ad6-4c25-f533-ff8ab3f58849"
      },
      "source": [
        "\n",
        "\n",
        "# single example\n",
        "indicoio.people(\"London Underground's boss Mike Brown warned that the strike ...\")"
      ],
      "execution_count": 34,
      "outputs": [
        {
          "output_type": "execute_result",
          "data": {
            "text/plain": [
              "[{'confidence': 0.8003784418106079,\n",
              "  'position': [26, 36],\n",
              "  'text': 'Mike Brown'}]"
            ]
          },
          "metadata": {
            "tags": []
          },
          "execution_count": 34
        }
      ]
    },
    {
      "cell_type": "code",
      "metadata": {
        "id": "1JI-A7gbjgUt",
        "colab_type": "code",
        "colab": {
          "base_uri": "https://localhost:8080/",
          "height": 170
        },
        "outputId": "0c58b1cc-9158-4273-ec38-fb3abace153b"
      },
      "source": [
        "indicoio.people(\"London Underground's Tom Cruise and Mohit Brown warned that Nobody will run away from here on Robert De Niro birthday ...\")"
      ],
      "execution_count": 43,
      "outputs": [
        {
          "output_type": "execute_result",
          "data": {
            "text/plain": [
              "[{'confidence': 0.7230064272880554,\n",
              "  'position': [21, 31],\n",
              "  'text': 'Tom Cruise'},\n",
              " {'confidence': 0.8640574216842651,\n",
              "  'position': [36, 47],\n",
              "  'text': 'Mohit Brown'},\n",
              " {'confidence': 0.7257371544837952,\n",
              "  'position': [94, 108],\n",
              "  'text': 'Robert De Niro'}]"
            ]
          },
          "metadata": {
            "tags": []
          },
          "execution_count": 43
        }
      ]
    },
    {
      "cell_type": "code",
      "metadata": {
        "id": "o7TrUvMK35-6",
        "colab_type": "code",
        "colab": {
          "base_uri": "https://localhost:8080/",
          "height": 102
        },
        "outputId": "23430356-3655-4997-cc86-fdfffa3c58eb"
      },
      "source": [
        "# single example\n",
        "indicoio.analyze_text(\"Democratic candidate Hillary Clinton is excited for the upcoming election.\", apis=['sentiment_hq', 'political'])"
      ],
      "execution_count": 80,
      "outputs": [
        {
          "output_type": "execute_result",
          "data": {
            "text/plain": [
              "{'political': {'Conservative': 0.33317617,\n",
              "  'Green': 0.21979073,\n",
              "  'Liberal': 0.22697456,\n",
              "  'Libertarian': 0.22005858},\n",
              " 'sentiment_hq': 0.73005515}"
            ]
          },
          "metadata": {
            "tags": []
          },
          "execution_count": 80
        }
      ]
    },
    {
      "cell_type": "code",
      "metadata": {
        "id": "C5CFaX2T4Gc3",
        "colab_type": "code",
        "colab": {
          "base_uri": "https://localhost:8080/",
          "height": 102
        },
        "outputId": "6f298f83-9674-4444-ea06-a3e391ddf3bd"
      },
      "source": [
        "# single example\n",
        "indicoio.emotion(\"I did it. I got into Grad School. Not just any program, but a GREAT program.:-) \")"
      ],
      "execution_count": 83,
      "outputs": [
        {
          "output_type": "execute_result",
          "data": {
            "text/plain": [
              "{'anger': 0.007581708952784538,\n",
              " 'fear': 0.0701667070388794,\n",
              " 'joy': 0.8000515103340149,\n",
              " 'sadness': 0.025123823434114456,\n",
              " 'surprise': 0.09707625210285187}"
            ]
          },
          "metadata": {
            "tags": []
          },
          "execution_count": 83
        }
      ]
    },
    {
      "cell_type": "markdown",
      "metadata": {
        "id": "51kBXjnrt98D",
        "colab_type": "text"
      },
      "source": [
        "#4.Image Analysis\n",
        "**Input Image Format**\n",
        "`Images can be sent to the indicoio image analysis functions as URLs, file paths, base64 encoded images, numpy array objects, or skimage image objects. Sample code for loading in an image using skimage or PIL is provided below. Although images are scaled on our servers, use square crops for optimal performance. Both single and batch image requests of over 15 MB will be rejected.`"
      ]
    },
    {
      "cell_type": "code",
      "metadata": {
        "id": "o4nrUL-LjgPR",
        "colab_type": "code",
        "colab": {
          "base_uri": "https://localhost:8080/",
          "height": 119
        },
        "outputId": "e25ef538-fc80-45a5-a05d-db2ad70053b9"
      },
      "source": [
        "#using local image\n",
        "#indicoio.fer('FILEPATH')\n",
        "\n",
        "#using link\n",
        "indicoio.fer('https://images.pexels.com/photos/56866/garden-rose-red-pink-56866.jpeg?cs=srgb&dl=bloom-blossom-dew-56866.jpg&fm=jpg')"
      ],
      "execution_count": 46,
      "outputs": [
        {
          "output_type": "execute_result",
          "data": {
            "text/plain": [
              "{'Angry': 0.004700957797467709,\n",
              " 'Fear': 0.05888555198907852,\n",
              " 'Happy': 0.23306000232696533,\n",
              " 'Neutral': 0.6466555595397949,\n",
              " 'Sad': 0.041299160569906235,\n",
              " 'Surprise': 0.015398768708109856}"
            ]
          },
          "metadata": {
            "tags": []
          },
          "execution_count": 46
        }
      ]
    },
    {
      "cell_type": "code",
      "metadata": {
        "id": "Iy1O4q-8jgNE",
        "colab_type": "code",
        "colab": {
          "base_uri": "https://localhost:8080/",
          "height": 119
        },
        "outputId": "8fb64c25-1460-4308-fd7e-5b2aacad9b6b"
      },
      "source": [
        "indicoio.fer('https://images.pexels.com/photos/1187079/pexels-photo-1187079.jpeg?cs=srgb&dl=beautiful-bloom-blooming-1187079.jpg&fm=jpg')"
      ],
      "execution_count": 47,
      "outputs": [
        {
          "output_type": "execute_result",
          "data": {
            "text/plain": [
              "{'Angry': 0.43779656291007996,\n",
              " 'Fear': 0.010972879827022552,\n",
              " 'Happy': 0.4385334551334381,\n",
              " 'Neutral': 0.023337870836257935,\n",
              " 'Sad': 0.08771135658025742,\n",
              " 'Surprise': 0.001647816738113761}"
            ]
          },
          "metadata": {
            "tags": []
          },
          "execution_count": 47
        }
      ]
    },
    {
      "cell_type": "code",
      "metadata": {
        "id": "ViHS_Q4YwRI_",
        "colab_type": "code",
        "colab": {
          "base_uri": "https://localhost:8080/",
          "height": 34
        },
        "outputId": "b729aba9-a622-4779-f698-f717be1ceefd"
      },
      "source": [
        "cd /home"
      ],
      "execution_count": 50,
      "outputs": [
        {
          "output_type": "stream",
          "text": [
            "/home\n"
          ],
          "name": "stdout"
        }
      ]
    },
    {
      "cell_type": "code",
      "metadata": {
        "id": "QpEKxjg1jgLG",
        "colab_type": "code",
        "colab": {
          "base_uri": "https://localhost:8080/",
          "height": 425
        },
        "outputId": "86a77fc8-3e23-4c96-eb16-7775ad3e5478"
      },
      "source": [
        "!wget https://images.pexels.com/photos/1187079/pexels-photo-1187079.jpeg?cs=srgb&dl=beautiful-bloom-blooming-1187079.jpg&fm=jpg\n",
        "import skimage.io\n",
        "pixel_array = skimage.io.imread('pexels-photo-1187079.jpeg?cs=srgb')\n",
        "print(pixel_array.shape)\n",
        "print(pixel_array[0])\n",
        "print(type(pixel_array))\n",
        "import numpy as np\n",
        "pic = np.array(pixel_array)\n",
        "print(type(pic))\n",
        "print(pic.shape)\n",
        "print(pic[0])\n",
        "indicoio.fer(pic)"
      ],
      "execution_count": 64,
      "outputs": [
        {
          "output_type": "stream",
          "text": [
            "(6000, 4000, 3)\n",
            "[[16 35 41]\n",
            " [14 31 38]\n",
            " [11 28 35]\n",
            " ...\n",
            " [12 17 23]\n",
            " [13 16 23]\n",
            " [14 17 24]]\n",
            "<class 'imageio.core.util.Array'>\n",
            "<class 'numpy.ndarray'>\n",
            "(6000, 4000, 3)\n",
            "[[16 35 41]\n",
            " [14 31 38]\n",
            " [11 28 35]\n",
            " ...\n",
            " [12 17 23]\n",
            " [13 16 23]\n",
            " [14 17 24]]\n"
          ],
          "name": "stdout"
        },
        {
          "output_type": "execute_result",
          "data": {
            "text/plain": [
              "{'Angry': 0.5135629773139954,\n",
              " 'Fear': 0.01342673972249031,\n",
              " 'Happy': 0.4646221101284027,\n",
              " 'Neutral': 0.003108732169494033,\n",
              " 'Sad': 0.005167318042367697,\n",
              " 'Surprise': 0.00011212808021809906}"
            ]
          },
          "metadata": {
            "tags": []
          },
          "execution_count": 64
        }
      ]
    },
    {
      "cell_type": "code",
      "metadata": {
        "id": "xdMpFaaKw-L_",
        "colab_type": "code",
        "colab": {}
      },
      "source": [
        "#Formatting images using PIL and numpy\n",
        "from PIL import Image\n",
        "import PIL\n",
        "import numpy as np\n",
        "import indicoio\n",
        "\n",
        "image = PIL.imread('pexels-photo-1187079.jpeg?cs=srgb')\n",
        "pixel_array = np.array(image)\n",
        "\n",
        "indicoio.fer(pixel_array)"
      ],
      "execution_count": 0,
      "outputs": []
    },
    {
      "cell_type": "markdown",
      "metadata": {
        "id": "R99WVF8J1eAG",
        "colab_type": "text"
      },
      "source": [
        "###Facial Emotion Recognition\n",
        "Determine the emotions expressed in an image of a human face.       \n",
        "\n",
        "This function will return a dictionary with 6 key-value pairs. These key-value pairs represent the likelihood that each of 6 detectable emotions are expressed by the face in the analyzed image.   \n",
        "The keys in the dictionary are strings containing the emotions (Angry, Sad, Neutral, Surprise, Fear, Happy) and the values are the probabilities that the face in the analyzed image is expressing each emotion.       \n",
        "\n",
        "Values less than 0.05 indicate that it is very unlikely the face is expressing the corresponding emotion.       \n",
        "\n",
        "Using the detect flag changes output format: When using the detect flag the results returned will be a list of dictionaries. Each dictionary in the list corresponds to a detected face. Each dictionary has two key-value pairs, the keys are “emotions” and “location”.     \n",
        "\n",
        "The value of “emotions” is the same dictionary described above with 6 key-value pairs. The value of “location” is the bounding box of the detected face in the form [x position of top left corner, y position of top-left corner, width of bounding box, height of bounding box]."
      ]
    },
    {
      "cell_type": "code",
      "metadata": {
        "id": "3xVIfEiNypwV",
        "colab_type": "code",
        "colab": {
          "base_uri": "https://localhost:8080/",
          "height": 119
        },
        "outputId": "bf5ada64-966c-487b-ab40-8f1917b425f1"
      },
      "source": [
        "# single example\n",
        "indicoio.fer(\"/home/image1.jpg\")"
      ],
      "execution_count": 76,
      "outputs": [
        {
          "output_type": "execute_result",
          "data": {
            "text/plain": [
              "{'Angry': 0.01307767815887928,\n",
              " 'Fear': 0.14489752054214478,\n",
              " 'Happy': 0.0946243405342102,\n",
              " 'Neutral': 0.09810975193977356,\n",
              " 'Sad': 0.6487656235694885,\n",
              " 'Surprise': 0.0005250137764960527}"
            ]
          },
          "metadata": {
            "tags": []
          },
          "execution_count": 76
        }
      ]
    },
    {
      "cell_type": "markdown",
      "metadata": {
        "id": "pM2x1oXP2x1V",
        "colab_type": "text"
      },
      "source": [
        "###Image Features"
      ]
    },
    {
      "cell_type": "code",
      "metadata": {
        "id": "8vOcDhhljgJZ",
        "colab_type": "code",
        "colab": {
          "base_uri": "https://localhost:8080/",
          "height": 71
        },
        "outputId": "a64b143b-7840-4ce0-94e3-a5530a62d1e6"
      },
      "source": [
        "print(len(indicoio.image_features(\"/home/image1.jpg\")))\n",
        "print(indicoio.image_features(\"/home/image1.jpg\"))"
      ],
      "execution_count": 78,
      "outputs": [
        {
          "output_type": "stream",
          "text": [
            "4096\n",
            "[0.0, 0.0, 0.0, 0.0, 0.0, 0.13524112105369568, 0.0, 0.0, 0.0, 0.0, 0.0, 0.0, 1.8498592376708984, 0.0, 0.0, 0.03125347942113876, 0.0, 0.0, 0.0, 0.3473680019378662, 0.0, 0.0, 0.2834927439689636, 0.2906728684902191, 0.0, 0.863910973072052, 0.0, 0.0, 0.27235016226768494, 0.0, 0.17011816799640656, 0.0, 0.0, 0.04766547307372093, 0.0, 0.0, 0.0, 0.001614749664440751, 0.0, 0.0, 0.0, 0.0, 0.9341238141059875, 0.053285978734493256, 0.0, 0.21325445175170898, 0.0, 1.459265947341919, 0.582239031791687, 0.0, 0.030023057013750076, 0.0, 0.03604622185230255, 0.0, 0.032350946217775345, 0.0, 0.006989414803683758, 0.0, 0.0, 0.0, 0.0, 0.0, 0.15034575760364532, 0.0, 0.0, 0.0, 0.0, 0.2889862358570099, 0.0, 0.0, 0.0, 0.0, 0.0, 0.0, 0.0, 0.0, 0.0, 0.0, 0.0, 0.0, 0.0, 0.5985455513000488, 0.0, 0.0, 0.055044692009687424, 0.0, 0.0, 0.2327987253665924, 0.9412202835083008, 0.0, 0.0, 0.0, 0.1334795206785202, 0.0, 0.0, 0.12433604896068573, 0.0, 0.3542284369468689, 0.0, 0.02438320592045784, 0.0, 0.0, 0.0, 0.0, 0.0, 0.0, 0.009673824533820152, 0.1090213879942894, 0.0, 0.0, 0.0, 0.0, 0.0, 0.0, 0.0, 0.0, 0.0, 0.0, 0.11717092990875244, 0.0, 0.0, 0.0, 0.0, 0.0, 0.0, 0.5623058080673218, 0.035873085260391235, 0.0, 0.17430685460567474, 0.0, 0.0, 0.0, 0.0, 0.0, 0.0, 0.10217028856277466, 0.0, 0.0, 0.0, 0.062136460095644, 0.0, 0.0, 0.0, 0.0, 0.0, 0.0, 0.0, 0.0, 0.0, 0.15840652585029602, 0.0, 0.0, 0.0, 0.0, 0.0, 0.0, 0.0, 0.0, 0.20710620284080505, 0.8444327116012573, 0.0, 0.0, 0.0, 0.0, 0.0, 0.0, 0.0, 0.04887186363339424, 0.0, 0.0, 0.44895005226135254, 0.0, 0.05276825278997421, 0.7120510935783386, 0.0, 0.05622316151857376, 0.0, 0.04500317573547363, 0.10043519735336304, 0.0, 0.0, 0.0, 1.1172690391540527, 0.897227942943573, 0.15151795744895935, 0.0, 0.0, 0.0, 0.0, 0.0, 0.0, 0.0, 0.14675864577293396, 0.3161426782608032, 0.4446108341217041, 0.0, 0.0, 0.0, 0.0, 0.41943758726119995, 0.0, 0.0, 0.30350518226623535, 0.0, 0.07031284272670746, 0.0, 0.0, 0.0, 0.07771560549736023, 0.0, 0.0, 0.0, 0.0, 0.0, 0.02025402896106243, 0.0, 0.0, 0.0, 0.41687798500061035, 0.0, 0.0, 0.0, 0.0, 1.2073395252227783, 0.8272520303726196, 0.02316341921687126, 0.0, 0.0, 0.0, 0.0, 0.0, 1.0393564701080322, 1.6989126205444336, 0.0, 0.0, 0.0, 1.0093308687210083, 0.02800876274704933, 0.0, 0.03627801686525345, 0.0, 0.0, 0.0, 0.0, 0.0, 0.0, 0.017761383205652237, 0.0, 0.0, 0.0, 0.0, 0.0, 0.0, 0.0, 0.0, 0.0, 0.03787677362561226, 0.0, 0.0, 0.0, 0.056222446262836456, 0.0, 0.22245869040489197, 0.0, 0.0, 0.12729933857917786, 0.0, 0.0, 0.9341955184936523, 0.0, 0.0, 0.0, 0.14535142481327057, 0.0, 1.0585241317749023, 0.0, 0.0, 0.0, 0.0, 0.0, 0.0, 0.0, 0.0, 0.0, 0.0, 0.0, 1.1717102527618408, 0.0, 0.0, 0.0, 0.0, 0.21998021006584167, 0.0, 0.0, 0.0, 0.0, 0.0, 0.0, 0.131395623087883, 3.40087890625, 0.5508531332015991, 0.0, 0.0, 0.0, 0.0, 0.0, 0.5713633894920349, 0.0, 0.0, 0.0, 0.06600240617990494, 0.0, 0.04569781944155693, 0.2565801739692688, 0.10137846320867538, 0.2994726598262787, 0.0, 0.0, 0.0, 0.0, 0.0, 0.0, 0.017690498381853104, 0.0, 0.0, 0.0, 0.0, 0.0, 0.09652958810329437, 0.00045190140372142196, 0.0, 1.81070077419281, 0.0, 0.0, 0.9287165403366089, 0.014543676748871803, 0.0, 0.05421515181660652, 0.29213017225265503, 0.0, 0.016912473365664482, 0.0, 0.0, 0.0, 0.0, 0.0, 0.0, 0.34817034006118774, 0.2543891668319702, 0.0, 0.0, 0.9382745623588562, 0.0, 0.0, 0.0, 0.0, 0.0, 0.0, 0.3156440258026123, 0.0, 0.0, 0.06622324883937836, 0.0, 0.0, 0.0, 0.4691768288612366, 0.21972870826721191, 0.0, 0.0, 0.0, 0.0, 0.0, 0.0022634919732809067, 0.18449656665325165, 0.0, 1.2039906978607178, 0.45912599563598633, 0.0, 0.517926812171936, 0.06543447077274323, 0.12867021560668945, 0.20725223422050476, 0.0, 1.6125822067260742, 0.0, 0.33128634095191956, 0.0, 0.15072648227214813, 0.7316900491714478, 0.0, 0.10830704867839813, 0.0, 0.0, 0.02530742809176445, 0.0, 0.0, 0.0, 0.07807603478431702, 0.08409295976161957, 0.0, 0.0, 0.0, 0.0519375316798687, 0.0, 0.2952709197998047, 0.0, 0.0, 0.0, 0.0, 0.0, 0.0009808100294321775, 0.04525782912969589, 0.45055055618286133, 0.0, 0.24435806274414062, 0.17624759674072266, 0.9496570825576782, 0.34910956025123596, 0.0, 0.0, 0.6639181971549988, 0.0, 0.0, 0.0, 0.5618213415145874, 0.0, 0.0, 0.0, 0.5047155022621155, 0.0, 0.4497460424900055, 0.15686587989330292, 0.0, 0.0, 0.7576342821121216, 0.0, 0.0, 0.0, 0.08220431208610535, 0.19120629131793976, 0.0, 0.0, 0.0, 1.8747520446777344, 0.0, 0.0, 0.0, 0.11092065274715424, 0.0, 0.19387197494506836, 0.0, 0.0, 0.0, 0.0, 0.05269937962293625, 0.0, 0.0, 0.0, 0.0, 0.4546256959438324, 0.0, 0.1653505563735962, 0.0, 0.0, 0.0, 0.0, 0.0, 0.0, 0.2987143397331238, 0.0, 0.0, 1.268378496170044, 0.0, 0.0, 0.0, 0.0, 0.0, 0.0, 0.0, 0.0, 0.233427956700325, 0.0, 0.0, 0.5668716430664062, 0.0, 0.0, 0.0, 0.0, 0.0, 0.0, 0.1973038911819458, 0.0, 1.64127516746521, 0.0, 0.396591454744339, 0.04520536586642265, 0.3540657162666321, 0.04000077396631241, 0.0012498118449002504, 1.5449154376983643, 0.1656668484210968, 0.1209704652428627, 0.0, 0.239453986287117, 0.0, 0.0, 0.0, 0.2973956763744354, 0.21331484615802765, 0.0, 0.0, 0.017869960516691208, 0.0, 0.0, 2.464311122894287, 0.0, 1.1083616018295288, 0.0, 0.36643415689468384, 0.0, 0.0, 0.0, 0.4460527300834656, 0.0, 0.34198468923568726, 0.0, 0.16501165926456451, 0.09706023335456848, 0.0, 0.0, 0.0, 0.0, 0.0, 0.0, 0.0, 0.0, 0.21917185187339783, 0.0, 0.0, 0.0, 0.0, 0.0, 0.0, 0.0, 0.8425915837287903, 0.002251479309052229, 0.014241499826312065, 0.0, 0.0, 0.0, 0.0, 0.3460894525051117, 0.0, 0.0, 0.24070516228675842, 0.0, 0.0, 0.5511897802352905, 0.4221270680427551, 0.055683355778455734, 0.0, 0.181901752948761, 0.2492048293352127, 0.0, 0.29516005516052246, 0.0, 0.0, 0.0, 0.21090388298034668, 0.0, 0.0, 0.0, 0.0, 0.0, 0.0, 0.0, 0.0, 0.0, 0.0, 0.0, 0.0, 0.06589609384536743, 0.0, 0.21205730736255646, 2.0779998302459717, 0.0, 0.0, 0.012636889703571796, 0.051153529435396194, 0.0, 0.0, 0.10884459316730499, 0.0, 0.0, 0.0, 0.0, 0.0, 0.4137309491634369, 0.0, 0.0, 0.0, 0.0, 0.0, 0.0, 0.0, 0.0, 0.0, 0.0, 0.02900300920009613, 0.0, 0.02286497876048088, 0.0, 0.0, 0.0, 0.3332926630973816, 0.0, 0.6171592473983765, 0.0, 0.0, 0.0, 0.21590395271778107, 0.15802082419395447, 0.023667803034186363, 0.0, 0.0, 0.29344090819358826, 0.0, 0.0, 0.0, 0.0, 0.0, 0.27596744894981384, 0.0, 0.0, 0.0, 0.040404535830020905, 0.0, 0.0, 0.0, 0.24378208816051483, 0.0022918053437024355, 0.08902294188737869, 0.0, 0.03898315876722336, 0.0, 1.2238737344741821, 0.0, 0.0, 0.18919990956783295, 0.0, 0.0, 0.0, 0.0, 0.0, 0.0, 0.0, 0.1195702776312828, 0.3988022208213806, 0.0, 0.0, 0.0, 0.0, 1.8137527704238892, 0.0, 0.0, 0.0, 0.0, 0.0, 0.0, 0.0, 0.0, 0.8110190629959106, 0.0, 0.0, 0.0, 0.0, 0.0, 0.0, 0.0, 0.46285542845726013, 0.0, 0.0, 0.025045344606041908, 0.0, 0.2880970537662506, 0.0, 0.0, 1.6696542501449585, 0.0, 0.0, 0.0, 0.0, 0.0, 0.0, 0.0, 0.0, 0.0, 0.0, 0.0, 0.0, 0.0, 0.0, 0.14170458912849426, 0.13030891120433807, 0.0, 0.03869283199310303, 0.46757936477661133, 0.0, 0.11159014701843262, 0.19816258549690247, 0.0009155996376648545, 0.0, 1.7226260900497437, 0.0, 0.0, 0.0, 0.07369999587535858, 0.30006182193756104, 0.9551997184753418, 0.0, 0.0, 0.36016035079956055, 0.0, 0.0, 0.3498508632183075, 0.0, 0.0, 0.0, 0.032395534217357635, 0.0, 0.29637280106544495, 0.0, 0.0, 0.0, 0.0, 0.0, 0.0, 0.0, 0.0, 0.0, 0.0, 1.7560592889785767, 0.0, 0.5949109792709351, 0.0, 0.0, 0.03463146835565567, 0.0, 0.0, 0.50887131690979, 0.5912385582923889, 0.0, 0.32150202989578247, 0.0, 0.2739153504371643, 1.1698764562606812, 0.0, 0.13445773720741272, 0.0, 0.0, 0.0, 0.0, 0.0, 1.5017145872116089, 0.0, 0.021460797637701035, 0.0, 0.0, 1.1530070304870605, 0.3387741446495056, 0.15556833148002625, 0.0, 0.0, 0.0, 0.0, 0.0, 0.0, 0.0, 0.006112959235906601, 0.0, 0.0, 0.0, 0.0, 0.0, 0.0, 0.0, 0.0, 0.37448710203170776, 0.0, 0.0, 0.0, 0.13989241421222687, 0.0, 0.0, 0.9608608484268188, 0.3220047354698181, 0.0, 0.0, 0.0, 0.0, 0.0, 0.0, 0.0, 0.0, 0.0, 0.025532906875014305, 0.6652909517288208, 0.0, 0.0, 0.4464434087276459, 0.0, 0.2016618698835373, 0.0, 0.27056685090065, 0.0, 0.0, 0.0, 0.09257806837558746, 0.0, 0.19632692635059357, 0.952959418296814, 0.0, 0.4464193880558014, 0.0, 0.0, 0.0, 0.0, 0.3160034716129303, 0.0, 0.0, 0.0, 0.0, 0.0, 0.0, 0.0, 0.0, 0.0, 0.008013840764760971, 0.0, 0.0, 0.2691754698753357, 0.33336514234542847, 0.752741813659668, 0.0, 0.0998062938451767, 0.0, 0.0, 0.6803315877914429, 0.0, 0.17875385284423828, 0.0, 0.0, 0.3613876402378082, 0.0, 0.0, 0.0, 0.0, 0.0, 0.0, 0.014072509482502937, 0.0, 0.0, 0.5028532147407532, 0.11357247829437256, 0.0, 0.0, 0.0, 0.0, 0.0, 1.0942240953445435, 0.0, 0.24070553481578827, 0.05407359078526497, 0.0, 0.0, 0.0, 0.0, 0.0, 2.116438627243042, 0.23892048001289368, 0.0, 0.04163516312837601, 0.0, 0.0, 0.0, 0.0, 0.04264705628156662, 0.35150474309921265, 0.0, 0.0, 0.0, 0.11232063919305801, 0.0, 0.0, 0.32308849692344666, 0.384088933467865, 0.0, 0.06900136172771454, 0.001068450277671218, 0.0, 0.0, 0.0, 0.0, 0.0, 0.0, 0.0, 0.20905165374279022, 0.0, 0.4823974072933197, 0.0, 0.0, 0.0851597934961319, 0.0, 0.04819345101714134, 0.0, 0.0, 0.0, 0.0, 0.0, 0.0, 0.0, 0.0, 0.0, 0.0, 0.0, 0.0, 0.8182685971260071, 0.0, 0.10143028199672699, 0.0, 0.0, 0.0, 0.3952656388282776, 0.0, 0.0, 0.0, 0.0, 0.0, 0.0, 0.0, 0.0, 0.0, 0.0, 0.0, 0.0, 0.08512827008962631, 0.24956269562244415, 0.03524159640073776, 0.0, 0.0, 0.0, 0.2433960735797882, 0.20945271849632263, 0.03144748881459236, 0.0, 1.169725775718689, 0.8286408185958862, 0.06419741362333298, 0.283939391374588, 1.0760791301727295, 0.0, 0.7575982213020325, 0.0, 0.0, 0.0, 0.0, 0.23239175975322723, 0.5025713443756104, 0.12665638327598572, 0.0, 0.23120896518230438, 0.0, 0.0, 0.0, 0.0, 0.0, 0.0, 0.33010977506637573, 0.0, 0.0, 1.610224962234497, 0.035479217767715454, 0.0027759913355112076, 0.3192318379878998, 0.0, 0.0, 0.6226212382316589, 0.0, 0.0, 0.0, 0.0, 0.0, 0.0, 0.2795235216617584, 0.0, 0.0, 0.0, 0.0, 0.13955077528953552, 0.29277753829956055, 0.005216166377067566, 0.0, 0.0, 0.0, 0.043991569429636, 0.0, 0.40240636467933655, 0.0, 0.0, 0.04342163726687431, 0.0, 0.0, 0.0, 0.0, 0.0, 0.0, 1.0559675693511963, 0.0, 0.0, 0.0, 0.0, 0.3006047010421753, 0.0, 0.026691248640418053, 0.0, 0.05800630897283554, 0.0, 0.0, 0.0, 0.0, 0.07475270330905914, 0.0, 0.0081709586083889, 0.7342109680175781, 0.09770689159631729, 1.986528754234314, 0.0, 0.9017442464828491, 0.0, 0.6010462641716003, 0.0, 0.03661161661148071, 0.0, 0.6777264475822449, 0.05948088318109512, 0.0, 0.0, 0.0, 0.0, 1.137213110923767, 1.5662665367126465, 0.0, 0.0, 0.0, 0.006805782206356525, 0.0, 0.004575503058731556, 0.0, 0.0, 0.0, 0.0, 0.0, 0.0, 0.0, 0.0, 0.0, 0.0, 0.0, 0.23717443645000458, 0.03143211454153061, 0.0, 0.0, 0.1140487939119339, 0.0, 0.04806949198246002, 0.0, 0.0, 0.0, 0.0, 0.16193701326847076, 0.0, 0.0, 1.137924313545227, 0.0, 0.14058353006839752, 0.0, 0.0, 0.6433356404304504, 0.0, 0.11743410676717758, 1.431121826171875, 0.0, 0.11402024328708649, 0.0, 1.6365430355072021, 0.0, 0.2264023721218109, 0.0, 0.0, 0.0, 0.0, 0.0, 0.051123667508363724, 0.0, 0.0, 0.539779543876648, 0.0, 0.0, 0.07033471763134003, 0.0, 0.0, 1.3083088397979736, 0.0, 0.0, 0.006196227390319109, 0.0, 0.0, 0.0, 0.0, 1.5939357280731201, 0.030843716114759445, 0.0, 0.3845670819282532, 0.975800633430481, 0.011334387585520744, 0.6071351170539856, 0.0, 0.0, 0.0, 0.0, 0.0, 1.1903728246688843, 0.3267069160938263, 0.6226164102554321, 0.0, 0.0, 0.0, 0.0, 0.0, 0.3050572872161865, 0.0, 0.0, 0.016455305740237236, 0.0, 0.0, 0.42789778113365173, 0.0, 0.0, 0.0, 0.0, 0.0, 0.0, 0.0, 0.13363926112651825, 0.0, 0.44731369614601135, 0.0, 0.16279354691505432, 0.0, 0.5636612176895142, 0.0, 0.012796590104699135, 0.0, 0.0, 0.1053052768111229, 0.0, 0.0, 0.0, 0.0, 0.0, 0.0, 0.0, 0.06416600942611694, 0.9947064518928528, 0.009615271352231503, 0.12066087871789932, 0.0, 0.022761210799217224, 0.0, 0.0, 0.0, 0.5366567373275757, 0.0, 0.0, 0.0005700621986761689, 0.0010045187082141638, 0.0, 0.0, 0.26857247948646545, 0.0, 0.0, 0.6489415168762207, 0.0, 0.7111981511116028, 0.0, 0.2228817492723465, 0.20372071862220764, 0.0, 0.0, 0.0, 0.0, 0.0, 0.0, 0.0, 0.0, 0.0, 0.0, 0.0, 0.0, 0.0, 0.06668268144130707, 0.11113450676202774, 0.003083618823438883, 0.0, 0.0, 0.0, 0.0, 0.0, 0.3055186867713928, 0.0, 0.025553008541464806, 0.0, 0.15455074608325958, 0.0, 0.0, 0.0, 0.17610812187194824, 0.0, 0.0, 0.0, 0.07989102602005005, 0.002402723301202059, 0.3632126450538635, 1.849473237991333, 0.0, 0.0, 0.0, 0.5604404211044312, 0.0, 0.0, 0.0, 1.1363375186920166, 0.0, 0.0, 0.32974958419799805, 0.050067417323589325, 0.5676822066307068, 0.4099356532096863, 0.05296379327774048, 0.0, 0.0, 0.0, 0.02683964930474758, 1.0984224081039429, 0.1511201709508896, 0.0, 0.0, 0.42469891905784607, 1.2767512798309326, 0.0, 0.0, 0.03791194036602974, 1.082938313484192, 0.0, 0.0, 0.0, 0.8766462206840515, 0.17801904678344727, 0.40636348724365234, 0.0, 0.0, 2.0500242710113525, 0.4140499234199524, 0.32326623797416687, 0.0, 0.0, 0.0, 0.0, 0.043233759701251984, 0.0, 0.0, 0.0, 0.0024029698688536882, 0.0, 1.9386869668960571, 0.0, 0.0, 0.0, 0.0, 0.6118108034133911, 0.051963258534669876, 0.0, 0.0424233116209507, 0.2543909549713135, 0.0, 0.0, 0.19838064908981323, 0.0, 0.0, 0.00571864191442728, 0.0, 0.0, 0.0, 0.0, 0.0, 0.1356762945652008, 0.06666553765535355, 0.0, 0.0, 0.2839635908603668, 0.2589436173439026, 0.47020769119262695, 0.0, 0.25586551427841187, 0.38143640756607056, 0.8873383402824402, 0.0, 0.0, 0.0, 0.0, 0.740689218044281, 0.0, 0.0, 0.0, 0.0, 0.0, 0.0, 0.0, 0.0579882450401783, 0.0, 0.0, 0.0, 0.0, 0.3190414607524872, 0.0, 0.0, 0.050644803792238235, 0.4284406304359436, 0.0, 0.0, 0.0, 0.0, 0.0, 0.0, 0.0, 0.0, 0.0, 0.0, 0.19917798042297363, 0.37266263365745544, 1.166948676109314, 0.7006977796554565, 0.0, 0.0, 0.0, 0.0, 0.0, 0.0, 0.0, 0.0, 0.0, 0.15527436137199402, 0.0, 0.0, 0.0, 0.049910515546798706, 0.0, 0.0, 1.2832438945770264, 0.1443183571100235, 0.0, 0.0, 0.2642422914505005, 0.0, 0.0, 0.16664716601371765, 0.0, 0.0, 0.0, 0.0, 0.0, 0.005670812446624041, 0.448479562997818, 0.0254410058259964, 0.0, 0.17243371903896332, 0.0, 0.10782227665185928, 0.0, 0.0, 0.0364692285656929, 0.0, 0.0, 0.8458728790283203, 0.6554652452468872, 0.0, 0.0, 0.0, 0.0, 0.0, 0.0, 0.0, 0.0, 0.2881327271461487, 0.0, 0.0, 0.0, 0.027653342112898827, 0.0, 0.041218843311071396, 0.055272579193115234, 0.0, 0.0, 0.0, 0.0, 0.22578676044940948, 0.10588805377483368, 0.1887180358171463, 0.0, 0.0, 0.2421206682920456, 0.0, 0.0, 0.0, 0.0, 0.0, 0.0, 0.04141208902001381, 0.0, 0.0, 0.0, 0.025090839713811874, 0.0, 0.5534704923629761, 0.6200783848762512, 0.0, 0.09456317871809006, 0.03198031336069107, 0.0, 0.0, 0.0, 0.0, 0.04129163175821304, 0.0415676012635231, 0.0, 0.37705332040786743, 0.10586748272180557, 0.0, 0.0, 0.0, 1.1588560342788696, 0.0, 0.08087809383869171, 0.0, 0.0, 0.0, 0.0, 0.0, 0.056260932236909866, 0.0, 0.0, 0.3813096880912781, 0.0, 0.2629714012145996, 0.13049855828285217, 0.0, 0.6941484212875366, 0.1984165906906128, 0.0, 0.18908452987670898, 0.07226376980543137, 0.0, 1.2790510654449463, 0.0, 0.0, 0.0, 0.0, 1.0553045272827148, 0.6146032214164734, 0.0, 0.0, 0.0, 0.0, 0.0, 0.0, 0.0, 0.0, 0.0, 0.0, 0.0, 0.21680009365081787, 0.0, 0.9228985905647278, 0.0, 1.0514332056045532, 0.0, 0.05290787294507027, 0.0, 0.0, 0.0, 0.0, 0.0, 0.19579105079174042, 0.0, 0.0, 0.13719812035560608, 0.0, 0.0, 1.0312947034835815, 0.0, 0.0, 0.0, 0.0, 0.07261373102664948, 0.0, 0.0, 0.47402700781822205, 0.0, 1.1297844648361206, 0.13699524104595184, 0.0, 0.0, 0.8460761308670044, 0.0, 0.0, 0.0, 0.051055245101451874, 0.1278589516878128, 0.0, 0.0, 0.0, 0.00010903472866630182, 0.0, 0.0, 0.0, 1.5758566856384277, 0.0, 0.005147906951606274, 0.0, 0.0, 0.0, 0.0, 0.0, 0.0, 0.0, 1.258609652519226, 0.0, 0.0, 0.002165309153497219, 0.18924933671951294, 1.2568256855010986, 0.2611476182937622, 0.0, 0.2877820134162903, 0.5441622138023376, 0.10158395767211914, 0.06936077773571014, 0.0, 0.0, 0.0, 0.0, 1.2317842245101929, 0.22601521015167236, 0.8074342608451843, 0.0, 0.0, 0.0, 0.0, 0.0, 0.0, 0.0, 0.5216540694236755, 0.010984139516949654, 0.0, 1.3048853874206543, 0.0, 0.0, 0.0362512581050396, 0.0, 0.0, 0.0, 0.0676993578672409, 0.0, 0.0, 0.09487739950418472, 0.0, 0.0, 0.24305768311023712, 0.14298352599143982, 0.45072001218795776, 0.0, 0.0, 0.0, 0.0, 0.0, 0.2462424486875534, 0.0, 0.0, 0.0, 0.08693590015172958, 1.2520887851715088, 0.0, 0.0, 0.5448440909385681, 0.1494632214307785, 0.13172873854637146, 0.0, 0.0, 0.0, 0.0, 0.0, 0.0, 0.0, 0.0, 0.07883609086275101, 0.0, 0.0, 0.0, 0.045260317623615265, 0.0, 0.0, 0.0, 0.0, 0.0, 0.0, 0.13414332270622253, 0.0, 0.0, 0.2498939335346222, 0.09678769111633301, 0.0, 0.0, 0.3020560145378113, 0.0, 0.0, 0.0, 0.0, 0.0, 0.0, 0.0, 0.0, 0.22997689247131348, 0.0, 0.8501690626144409, 0.0, 0.0, 0.3949417471885681, 0.0, 0.0, 0.0, 0.0, 0.6228649616241455, 0.14828577637672424, 0.0, 1.3503535985946655, 0.022260967642068863, 0.0, 0.0, 0.0, 0.0009692095336504281, 0.3323919177055359, 0.0, 0.9221709966659546, 0.0, 0.016629263758659363, 0.0, 0.0, 0.0, 0.0, 0.0, 0.056647758930921555, 0.0, 0.0, 0.0, 0.0, 0.0, 0.0, 0.0, 0.0, 0.45450782775878906, 0.0, 0.1585243195295334, 0.0, 0.0, 0.0, 0.0, 0.12959769368171692, 0.005650400649756193, 0.0, 0.0, 0.0, 0.8774339556694031, 0.0, 0.0, 0.0, 0.0, 0.0, 0.6200546026229858, 0.7063130140304565, 0.3955577313899994, 0.0, 1.1846187114715576, 0.0, 0.04024837166070938, 0.11448852717876434, 0.0, 0.0, 0.9415664672851562, 0.0, 0.0, 0.0, 0.0, 0.0, 0.0, 1.0732618570327759, 0.0, 0.0, 0.0, 0.0, 0.0, 0.0, 0.0, 0.0, 0.9508949518203735, 0.0, 0.0, 0.0, 0.5467488765716553, 0.0, 0.28893929719924927, 0.0, 0.0, 0.0, 0.0, 0.0, 0.0, 0.0, 0.0, 0.03975627198815346, 1.019444465637207, 0.0, 0.0, 0.0, 0.0, 0.0, 0.0, 0.0, 0.0, 0.23059341311454773, 0.0, 0.06303258240222931, 0.0, 0.07807601243257523, 0.0, 0.0, 0.9495347738265991, 0.9533494710922241, 0.0, 0.0, 0.9533205032348633, 0.6859787106513977, 0.7682652473449707, 0.0, 0.09158072620630264, 0.0, 0.0, 0.2240372598171234, 0.0, 0.0, 0.0, 0.06894145905971527, 0.0, 0.0699898824095726, 0.0, 0.0, 0.0, 0.0, 0.0, 0.0746150091290474, 0.0, 0.0, 0.0, 0.0007078311173245311, 0.545255720615387, 0.0, 0.0, 0.3627314269542694, 0.012440189719200134, 1.1870794296264648, 0.0, 0.7838729619979858, 0.0, 0.8003137707710266, 0.10357698053121567, 0.0, 0.6008802652359009, 0.0, 0.08791704475879669, 0.0, 0.0, 0.36663979291915894, 0.24254068732261658, 1.3102678060531616, 0.0, 0.0, 0.0, 0.11864136159420013, 0.43141207098960876, 0.0, 0.0, 0.7704540491104126, 0.26449236273765564, 0.0, 0.9815523028373718, 0.0, 0.8233051300048828, 0.0, 0.0, 0.0, 0.5852915048599243, 0.624793529510498, 0.0, 0.0, 0.0, 0.20650002360343933, 0.0, 1.017856478691101, 0.0, 0.0, 0.0, 0.09411854296922684, 0.06002526730298996, 1.1205341815948486, 0.0, 0.02359369397163391, 0.0, 0.2340196669101715, 0.0, 0.0, 0.0, 0.0, 0.0, 0.0, 0.0, 0.09405551105737686, 0.21415147185325623, 0.0, 0.0, 0.0, 0.0, 0.0, 0.0, 0.0, 0.0, 0.0, 0.06242624670267105, 0.0, 0.0, 0.2930031418800354, 0.0, 0.0, 0.0, 0.0, 0.05583076551556587, 0.0, 1.318530797958374, 0.0, 0.003509538946673274, 0.0, 0.0, 0.029051635414361954, 0.0, 0.0, 0.1051570400595665, 0.0, 0.0, 0.0, 0.15640410780906677, 0.17650814354419708, 0.0, 0.0, 0.0, 0.0, 0.0653325766324997, 0.5947060585021973, 0.0005734022706747055, 0.0, 0.0, 0.0, 0.0, 0.0, 0.029860815033316612, 0.015284592285752296, 0.0, 0.0, 0.0, 0.0, 0.0, 0.0, 0.5873616337776184, 1.815707802772522, 0.0, 0.0, 0.9416218996047974, 0.0, 0.0, 0.0, 0.0, 0.0, 0.0, 0.4229377210140228, 0.0, 0.538146436214447, 0.0, 0.23022596538066864, 0.0, 0.20916549861431122, 0.0034911050461232662, 0.0, 0.9722502827644348, 0.0, 0.47054481506347656, 0.0, 0.0, 0.0, 0.11786957085132599, 0.0, 0.10178451240062714, 0.0, 0.0, 0.0, 0.06818465888500214, 0.0, 0.10693804919719696, 0.41561824083328247, 0.0, 0.055572204291820526, 0.0, 0.27391505241394043, 0.0, 0.6449931859970093, 0.0, 0.5379199981689453, 0.280672162771225, 0.06904768943786621, 0.0642753392457962, 0.0, 0.0, 0.06162567064166069, 0.9006787538528442, 0.0, 0.0, 0.0, 0.0, 0.0, 0.7294703125953674, 0.0442352332174778, 0.3173515796661377, 0.0, 0.5387032628059387, 0.42977604269981384, 0.0, 0.0, 0.0, 0.0, 0.0, 0.0, 0.0, 0.5347843170166016, 0.0, 0.13886423408985138, 0.0, 0.0, 0.01806163229048252, 0.0, 0.0, 1.4712926149368286, 0.0, 0.0, 0.008002827875316143, 0.0, 0.0, 0.030596589669585228, 0.0, 0.0, 0.0, 0.09777995198965073, 0.07360898703336716, 0.14885690808296204, 0.0, 0.0, 0.0, 0.0, 0.0, 0.0, 0.6095049977302551, 0.0678698867559433, 0.0, 0.4624629020690918, 0.0, 0.0, 0.0, 1.6516774892807007, 0.3164900243282318, 0.07434306293725967, 0.21637196838855743, 0.0, 0.0, 0.0, 0.0, 0.0, 0.0, 0.0, 0.0, 0.08395089954137802, 0.0, 0.0, 0.0, 0.14647753536701202, 0.0, 0.0, 0.29420098662376404, 0.24417662620544434, 0.0, 0.0, 0.0, 0.0, 0.4328226149082184, 0.06111694127321243, 0.0, 0.0, 0.0, 0.0, 0.30576571822166443, 0.0, 1.1544959545135498, 0.07223067432641983, 0.5275431871414185, 1.761009931564331, 1.5974193811416626, 0.0, 0.3277004361152649, 0.4297519624233246, 0.0, 0.0, 0.0, 1.0581387281417847, 0.2918432354927063, 0.0, 0.0, 0.013317701406776905, 0.0, 0.0, 0.0, 0.0, 0.02113880030810833, 0.0, 0.1354740560054779, 0.11760129779577255, 0.0, 0.0, 0.0, 0.0, 0.06439410150051117, 0.0, 0.10465004295110703, 0.0, 0.0, 0.03454570844769478, 0.0, 0.0, 1.1998339891433716, 1.0214440822601318, 0.0, 0.058847419917583466, 0.011926528066396713, 0.2009265422821045, 0.0, 0.0, 0.0, 0.0, 0.0, 0.0, 0.13063214719295502, 0.4379989504814148, 0.5876413583755493, 0.0, 0.07394145429134369, 0.0, 0.0, 0.0, 0.3522995114326477, 0.0, 0.0, 0.0, 2.056488037109375, 0.0, 0.0, 0.0, 0.0, 0.563762366771698, 0.08599936217069626, 0.0, 0.0, 0.0, 0.4978439211845398, 0.0, 0.0, 1.2974536418914795, 0.30648553371429443, 0.0050390032120049, 0.0, 0.0, 0.0, 0.0, 0.0, 0.0, 0.0, 0.0767560750246048, 0.0, 0.0, 1.5657169818878174, 0.2693991959095001, 0.0, 0.30495792627334595, 0.0, 0.0, 0.0, 0.0, 0.0, 0.0, 0.0, 0.014853795990347862, 0.0, 0.0, 0.0, 0.0, 0.0, 0.0, 0.2746483087539673, 0.046101901680231094, 0.0, 0.0, 0.9102827310562134, 0.0, 0.0, 0.0, 0.0, 0.0, 0.0, 1.9766292572021484, 0.0, 0.0, 0.0, 0.0, 0.8143620491027832, 0.0, 0.33497557044029236, 0.0, 0.09563135355710983, 0.0, 0.0289770420640707, 0.0, 0.0, 0.0, 0.0, 0.41966646909713745, 0.0, 0.0, 0.0, 0.14369627833366394, 0.0, 0.0, 0.0, 0.0, 0.0, 0.03773648291826248, 0.010020921938121319, 0.06905044615268707, 1.1021144390106201, 0.0, 0.7173653244972229, 0.0, 0.0285018440335989, 0.28724655508995056, 0.0, 0.24876193702220917, 0.0, 0.0, 1.4153172969818115, 0.0, 0.0, 0.0, 0.0, 0.20632681250572205, 0.8488261103630066, 0.0, 0.14166781306266785, 0.0, 0.0, 0.4161318838596344, 0.0, 0.0, 0.0, 0.1552697718143463, 0.019867317751049995, 0.0, 0.0, 0.0, 0.0, 0.018334679305553436, 0.0, 0.04574530944228172, 0.0, 0.0, 0.0, 0.0, 0.0, 0.0, 0.0, 0.0, 0.0, 0.5428951978683472, 0.0, 0.0, 0.0, 0.19552798569202423, 0.0, 0.0, 0.0, 0.0, 0.0, 0.0, 0.0, 0.27091965079307556, 0.0, 0.0, 0.0, 0.0, 0.0, 2.277768611907959, 0.0, 0.0, 0.0, 0.0, 0.0, 0.0, 0.06204871088266373, 0.7659751176834106, 0.18658509850502014, 1.0230228900909424, 0.0, 0.0, 0.0, 0.0, 1.2580186128616333, 0.01660909131169319, 0.0, 0.0, 0.2592698037624359, 0.1229129210114479, 1.1767966747283936, 0.0, 0.11975140869617462, 0.0, 0.5202763676643372, 0.710740327835083, 0.0, 0.0, 0.0, 0.09241630882024765, 0.3337494134902954, 0.7039481997489929, 0.0, 0.0, 0.0, 1.1198322772979736, 0.8214616775512695, 0.0, 1.66092848777771, 0.5086454749107361, 0.12243715673685074, 0.0, 0.0, 0.0, 0.0, 0.0, 0.11001348495483398, 0.0, 0.0, 0.0, 0.0, 0.0, 0.0, 1.0472368001937866, 0.0, 0.0, 0.0, 0.0, 0.0, 0.0, 0.008707224391400814, 0.0, 0.0, 0.15048059821128845, 0.3342864215373993, 0.0, 0.0, 0.4035824239253998, 0.0, 0.0, 0.0, 0.0, 0.0, 0.0, 0.1336938887834549, 0.0055201370269060135, 0.0, 0.31100425124168396, 0.0, 0.0, 0.6107721328735352, 0.0, 0.0, 0.0, 0.0, 0.0, 0.0, 0.0, 0.18215546011924744, 0.0, 0.0, 0.40827637910842896, 1.253572940826416, 0.0, 0.24315614998340607, 0.4625483453273773, 0.19627083837985992, 0.0, 0.1468096524477005, 0.6501427888870239, 0.043056562542915344, 0.0, 0.0, 0.07047930359840393, 0.0, 0.0, 0.43829697370529175, 0.0, 0.23292401432991028, 0.06635835021734238, 0.0, 0.0, 0.0, 0.15158115327358246, 0.0, 0.0, 0.05657696723937988, 0.0, 0.0, 0.0, 0.0, 0.0, 0.0, 0.0, 0.0, 0.0, 0.0, 0.0, 2.230698823928833, 0.03554211184382439, 0.0, 0.0, 0.0, 0.0, 0.0, 0.0, 0.0, 0.0, 0.859078586101532, 0.039035018533468246, 0.02270061895251274, 0.0, 0.0647764503955841, 0.0, 0.0, 0.24505683779716492, 0.0, 0.0, 0.0, 0.02606021799147129, 0.0, 0.0, 0.31533268094062805, 0.0, 1.1006453037261963, 0.0, 0.0, 0.0, 0.22321543097496033, 0.0, 0.6491073369979858, 0.0, 0.10904794931411743, 0.2168894112110138, 0.21440282464027405, 0.03534447401762009, 0.0, 0.0, 0.0, 0.0, 0.0, 0.0, 0.0, 0.610649049282074, 0.0, 0.0, 0.0, 0.0, 0.5400339961051941, 0.0, 0.03733415529131889, 0.0, 0.0, 0.0028509204275906086, 1.0032532215118408, 0.0, 0.0, 0.05920570343732834, 0.0, 0.0, 0.0, 0.13773378729820251, 0.0, 0.18894127011299133, 0.0, 0.0, 0.0, 0.0, 0.0, 0.0, 0.0, 0.15616865456104279, 0.0, 0.0, 0.0, 0.0, 0.0, 0.11209690570831299, 0.20685629546642303, 0.0, 0.0, 0.0, 0.37292617559432983, 0.0, 0.008202312514185905, 0.778664231300354, 0.0, 0.0, 0.23878350853919983, 0.0, 0.09191963821649551, 0.0, 0.0, 1.0351070165634155, 0.0, 0.0, 0.0, 0.3751642107963562, 0.021373150870203972, 0.0, 0.0, 0.0, 0.0, 0.0, 0.0, 0.0, 0.7197445034980774, 0.4339653551578522, 0.0, 0.0, 0.0, 0.25897127389907837, 0.0, 0.030821185559034348, 0.0, 0.49154195189476013, 0.0037979085464030504, 0.0, 0.2006237953901291, 0.0, 0.0, 0.0, 0.09356202185153961, 0.0, 1.6473976373672485, 0.0, 0.0, 0.0, 0.03148941695690155, 0.0054661184549331665, 0.0, 0.1294432282447815, 0.0, 0.7487115859985352, 0.2080056220293045, 0.09181977808475494, 0.0, 0.0, 0.0, 0.029288455843925476, 0.0, 0.0, 0.0, 0.07641895115375519, 0.0, 0.0, 0.0, 0.0, 0.0, 0.07506553828716278, 0.0, 0.0, 0.0, 0.5198995471000671, 0.0, 0.213998481631279, 0.0, 0.0, 0.0, 0.0, 0.0, 0.0, 0.0, 0.2937728464603424, 0.0, 0.023495521396398544, 0.0, 0.005220710299909115, 0.0, 0.0, 0.0, 0.0, 0.0, 0.10530052334070206, 0.0, 0.16504979133605957, 0.8853729367256165, 0.1917334347963333, 0.0, 0.04305405169725418, 0.0, 0.0, 0.21741187572479248, 0.0, 0.12205944210290909, 0.0, 0.0, 0.0, 0.9525129199028015, 0.0, 0.0, 0.04068275913596153, 0.0, 0.0, 0.0, 0.0, 0.0, 0.0, 0.0, 0.0, 0.0, 0.0, 0.0, 0.0, 0.0, 0.26997166872024536, 0.0, 0.0, 0.0, 0.0, 0.0, 0.01646634191274643, 0.5557835698127747, 0.20011954009532928, 0.0, 0.0, 0.03297688066959381, 0.0, 0.2381540983915329, 0.30678924918174744, 0.28824466466903687, 0.0, 0.0, 0.2130415439605713, 0.0, 0.0, 0.1803850382566452, 0.06859496235847473, 0.0, 0.031198615208268166, 0.055045235902071, 0.0, 0.0, 0.0, 0.9085597991943359, 0.04750748351216316, 0.0, 0.0, 0.017766833305358887, 0.0, 0.028249841183423996, 0.2201235294342041, 0.0, 0.0, 0.0, 0.037065524607896805, 0.21173115074634552, 0.0, 0.0, 0.0, 0.0, 0.0, 0.0, 0.0, 0.0, 0.0, 0.0, 0.0, 0.24796274304389954, 0.02896295115351677, 0.0, 0.0, 0.7316566109657288, 0.1725245863199234, 0.0, 0.0, 0.916459858417511, 0.8995790481567383, 0.40296611189842224, 0.0, 0.0, 0.0, 0.0, 0.0, 0.0, 0.0, 0.0, 0.0, 0.0, 0.0, 0.025551995262503624, 0.0, 0.0, 0.0, 0.033166103065013885, 0.3975182771682739, 0.0, 0.0, 0.0, 0.37502819299697876, 0.0, 0.0, 0.0, 0.0, 0.0, 0.0, 0.0, 0.0, 0.0, 0.4913361072540283, 0.0, 0.0, 0.0, 0.0, 0.0, 0.16899387538433075, 0.0, 2.0449862480163574, 0.007725663483142853, 0.0, 0.0, 0.0, 0.0, 0.0, 0.0, 0.0, 0.0, 0.03093457780778408, 0.0, 0.09315445274114609, 0.0, 0.2775830328464508, 0.0, 0.0, 0.0, 0.0, 0.41981858015060425, 0.0, 0.01693817414343357, 0.05413895100355148, 0.0, 0.0, 0.0, 0.02011824958026409, 0.0, 0.06689225137233734, 0.0, 0.0, 0.5463956594467163, 0.027307992801070213, 0.0, 1.2213565111160278, 0.031579308211803436, 0.10189487785100937, 0.0, 0.0, 0.09972016513347626, 0.0, 0.0, 0.0, 0.263141393661499, 0.0, 0.0, 0.0, 0.0, 0.7404903769493103, 0.0, 0.0, 0.0, 0.8562992811203003, 0.0, 0.11631815135478973, 0.02569623850286007, 0.0, 0.0, 0.0, 0.0, 0.0, 0.0, 0.2858244776725769, 0.0, 0.0, 0.0, 0.0, 1.029361605644226, 0.0, 0.0, 0.0, 0.06332133710384369, 0.0, 0.0, 0.0, 0.0, 0.01828513666987419, 0.0, 0.0, 0.0038206453900784254, 0.06641905009746552, 0.0, 0.0, 0.0, 0.0, 0.1758950650691986, 0.043264083564281464, 1.7468723058700562, 0.0, 0.0, 0.3554299771785736, 0.06860077381134033, 0.2812636196613312, 0.24876335263252258, 0.0, 0.0, 0.0, 0.0, 0.00542320404201746, 0.0, 0.0, 0.9560039639472961, 2.0655112266540527, 0.061347346752882004, 0.0, 0.0, 0.04731428995728493, 0.0, 0.0, 0.0, 0.0, 0.0, 0.0, 0.0, 0.0, 0.0, 0.0, 0.0, 0.0, 0.0, 0.0, 0.0, 0.683805525302887, 0.14251494407653809, 0.0, 0.0, 0.0, 0.0, 0.17282791435718536, 0.0, 0.0, 0.4874321520328522, 0.0, 0.0, 0.6839331388473511, 0.0, 0.0, 0.0, 0.0, 0.0, 0.023120809346437454, 0.0, 0.0, 0.0, 0.12574514746665955, 0.0, 0.0, 0.9033107757568359, 0.0, 0.0, 0.0, 0.0, 0.3006867468357086, 0.0, 0.0, 0.0, 0.0, 0.2672424614429474, 0.0, 0.0, 0.0, 0.0, 0.0, 0.0, 0.0, 0.0, 0.327035129070282, 0.0, 0.0, 0.0, 0.0, 0.0, 0.15184447169303894, 0.08892292529344559, 0.0, 0.0, 0.03727440536022186, 0.0, 0.0, 0.0, 0.0, 0.0, 0.7992286682128906, 0.08997973799705505, 0.0, 0.0, 0.0, 0.0, 0.042268749326467514, 0.0, 0.0, 0.0, 0.7562776803970337, 0.5097774267196655, 0.0, 0.0, 0.0, 0.045905593782663345, 0.0, 0.0, 0.0, 0.0, 0.0, 0.6204451322555542, 0.046632781624794006, 0.0, 0.0, 0.4298830032348633, 1.336940050125122, 0.2804097831249237, 0.0, 0.04728102311491966, 0.5613757371902466, 1.843949556350708, 0.0, 0.0, 0.010537156835198402, 0.21806700527668, 0.0, 0.7903507351875305, 0.1080009788274765, 0.021753672510385513, 0.0, 0.3372339606285095, 0.0, 0.0, 1.45531165599823, 0.0, 0.011824448592960835, 0.0, 0.400982528924942, 0.08651302754878998, 0.0, 0.0, 0.0, 0.0, 0.26662951707839966, 0.0, 0.0, 0.6073864698410034, 0.01151441689580679, 0.0, 0.0, 0.07378637045621872, 0.0, 0.0, 0.0, 0.0, 0.3226873278617859, 0.33237868547439575, 0.0, 0.5287795066833496, 0.0, 1.898011565208435, 0.0, 0.0, 0.16839125752449036, 0.4889422357082367, 0.0, 0.0, 0.0, 0.3411544859409332, 0.27146658301353455, 0.0, 0.12804214656352997, 0.02595837414264679, 0.0, 0.16826646029949188, 0.0, 0.0, 0.14142408967018127, 0.0, 0.0, 0.0, 0.0, 0.0, 0.0, 0.0, 0.0, 0.0, 0.02757905051112175, 0.5681996941566467, 0.0, 0.19827529788017273, 0.006575410719960928, 0.15391674637794495, 0.0, 0.022631866857409477, 0.0, 0.0, 0.17864163219928741, 1.8598830699920654, 0.0, 0.0, 0.0, 0.0, 0.0, 0.0, 1.4228870868682861, 0.0, 0.0, 0.0, 0.0, 0.0, 0.0, 0.8919069170951843, 0.050337325781583786, 0.0, 0.0, 0.0, 0.0, 0.28301912546157837, 0.0, 0.7420071363449097, 0.0, 0.0, 0.8226217031478882, 0.0, 0.9733843803405762, 0.0, 0.06668579578399658, 0.40742582082748413, 0.0, 0.0, 0.0, 0.9230380058288574, 0.0588642880320549, 0.0, 0.0, 0.0, 0.0, 0.0, 0.0, 0.0, 0.5686110258102417, 0.0, 0.0, 0.5501786470413208, 0.14100077748298645, 0.0, 0.0, 0.0, 0.0, 0.0, 0.0, 0.0, 0.0, 0.0, 0.0, 0.0, 0.0, 0.17033720016479492, 0.0, 0.0, 0.0, 0.0, 0.0, 1.206871747970581, 0.0, 0.0, 0.02639033831655979, 0.0, 0.0, 0.06966499984264374, 0.0, 0.0, 0.0, 0.0, 0.7988566160202026, 0.0, 0.0, 0.0, 0.0, 0.0, 0.6421407461166382, 0.0, 0.9874387979507446, 0.0, 0.0, 0.0, 0.0, 0.0, 0.0, 0.0, 0.0, 0.027662405744194984, 0.0, 0.014878569170832634, 0.0, 0.030141856521368027, 0.0, 0.0, 0.0, 0.3485604226589203, 0.0, 1.1479969024658203, 0.0, 0.0, 0.7755559682846069, 0.2879936099052429, 0.0, 0.0, 0.008076564408838749, 0.1398347020149231, 0.0, 0.0, 0.41900452971458435, 0.0, 0.0, 0.0, 0.0, 0.0, 0.0, 0.0, 0.0, 0.0, 0.0, 0.618780791759491, 0.0, 0.0, 0.0, 0.0, 0.0, 0.0, 0.0, 0.0, 0.0, 0.0, 0.0, 0.0, 0.0, 0.0, 1.8488476276397705, 0.36595505475997925, 0.3632051944732666, 0.01726829633116722, 0.006562345661222935, 0.0, 0.0, 0.0, 0.08758292347192764, 0.0, 0.0, 0.0, 0.4290944039821625, 0.0, 0.22089633345603943, 0.0, 0.0, 0.0, 0.11532089859247208, 0.0, 0.0, 0.0, 0.0, 0.0, 0.01550014317035675, 0.0, 0.0, 0.9238463640213013, 0.0, 0.0, 0.0, 0.0, 0.0, 0.0, 1.471021056175232, 0.0, 0.15606534481048584, 0.05879247188568115, 0.0, 0.11984143406152725, 0.0, 0.0, 0.0, 0.0, 0.0, 0.0, 0.0, 0.0, 0.06378068029880524, 0.06298230588436127, 0.0, 0.44345206022262573, 0.010242904536426067, 0.0, 0.0, 0.0, 0.7649639248847961, 1.1207497119903564, 0.5311654210090637, 0.0, 0.0, 0.03407830744981766, 0.0, 0.0, 0.0, 0.0, 0.0, 0.0, 0.0, 0.0, 0.0, 0.1288928985595703, 0.0, 0.0, 0.04737298563122749, 0.08507157117128372, 0.0, 0.0, 0.0, 0.0, 0.0, 0.0, 0.0, 0.0, 0.019229888916015625, 0.0, 0.0, 0.0, 0.0, 0.0, 0.0, 1.6185595989227295, 0.0, 0.0, 0.0, 0.0, 0.525563657283783, 0.0, 0.0, 0.055868733674287796, 0.0, 0.004087456036359072, 0.0, 0.0, 0.0, 0.0, 0.4564867913722992, 0.0, 0.0, 0.0, 0.04511183500289917, 0.0, 0.36302417516708374, 0.0, 0.0, 0.0, 0.0, 0.0, 0.05673226714134216, 0.0, 0.0, 0.06237659975886345, 0.0, 0.0, 0.014261250384151936, 0.0, 0.25443848967552185, 0.0, 0.0, 0.0, 0.0, 0.07657157629728317, 0.0, 0.0, 0.050630588084459305, 0.0, 0.0, 0.0, 1.201957106590271, 0.0, 0.14751926064491272, 0.0, 0.3440544605255127, 0.0, 0.0, 0.055352985858917236, 0.16117353737354279, 0.8604921102523804, 0.0, 0.0977005660533905, 0.0, 0.0, 0.0, 0.0, 0.10295802354812622, 0.0, 0.0, 0.0, 0.0, 0.05171430855989456, 0.0, 0.0, 0.17459236085414886, 0.0, 0.0, 0.0, 0.0, 0.29347872734069824, 0.0, 0.0, 0.0, 0.014400633051991463, 0.0, 0.0, 0.14906728267669678, 0.0, 0.0, 0.15226545929908752, 0.0, 0.022194936871528625, 0.2919209599494934, 0.3113158941268921, 0.0, 0.11320923268795013, 0.0, 0.06379421800374985, 0.22274193167686462, 0.0, 0.0, 1.8684135675430298, 0.0, 0.0, 0.0, 0.47242802381515503, 0.33489590883255005, 0.30310577154159546, 0.012397419661283493, 0.0, 0.0, 0.04274290055036545, 0.22537140548229218, 0.0, 0.5583314895629883, 0.0, 0.14856800436973572, 0.0, 0.0, 0.30738556385040283, 0.12115412950515747, 0.008090471848845482, 0.0, 0.3058614134788513, 0.0, 0.0, 0.0, 0.24638858437538147, 0.0, 0.0, 0.0, 0.0, 0.15027683973312378, 0.0, 0.0, 0.7439990639686584, 0.0, 0.17383693158626556, 0.01849851757287979, 0.0, 0.0, 0.0432969331741333, 0.0, 0.0, 0.0, 0.0, 0.0, 0.0, 0.0, 0.0, 0.0, 0.0, 0.9252437353134155, 0.0, 0.0, 0.01557911653071642, 0.0, 0.0, 1.3013217449188232, 0.0, 0.0, 0.0, 0.1405278593301773, 0.0, 0.0, 0.0272019412368536, 0.0, 0.03963882476091385, 0.0, 1.515740156173706, 0.01468878798186779, 0.0, 0.0, 0.6802901029586792, 0.0, 0.030539821833372116, 0.6815131902694702, 0.28212738037109375, 0.0, 0.0, 0.0, 0.0, 0.023835385218262672, 0.0, 0.0, 0.0, 0.0, 0.003380008041858673, 0.0, 0.1715048849582672, 0.0, 0.9783679842948914, 0.0, 0.0, 0.0, 0.0, 0.0, 0.0, 0.7118650078773499, 0.0, 0.0, 0.0763724148273468, 0.0, 0.1343342512845993, 0.0, 0.04249309003353119, 0.08793677389621735, 0.0, 0.0, 0.10096178948879242, 0.0, 0.0, 0.13796065747737885, 0.0, 0.0, 0.7533153295516968, 0.6845611333847046, 0.0, 0.0, 0.0, 0.0, 0.0, 0.0, 0.0, 0.2148415744304657, 0.0, 0.0, 0.5461663007736206, 0.10481102764606476, 0.0, 1.3939653635025024, 0.4521465301513672, 0.0, 0.0, 0.0, 0.0, 0.0, 0.9043458700180054, 0.0, 0.0, 0.0, 0.0, 0.0, 0.0, 0.18489795923233032, 0.0, 0.0, 0.0, 0.0, 0.0, 0.0, 0.0, 0.0, 0.011893345043063164, 0.0, 0.0, 0.0, 0.0, 0.0, 0.0, 0.0, 0.0, 0.0, 0.0, 0.0, 0.0, 0.03694199398159981, 0.0, 0.1838974952697754, 0.0, 1.731545090675354, 0.0, 0.0, 0.0, 0.2519102692604065, 0.0, 0.0, 0.03863535076379776, 0.0, 2.6863291263580322, 0.0, 0.14539238810539246, 0.0, 0.0, 0.1717875599861145, 0.0, 0.0, 0.0, 0.0, 0.0, 0.0, 0.0, 0.0, 0.0, 0.0, 0.0, 0.0, 0.0, 0.0, 0.05880174785852432, 0.2060299813747406, 0.0, 0.7972539663314819, 0.0, 0.0, 0.0, 0.009624834172427654, 0.7989710569381714, 0.0, 0.0, 0.0, 0.0, 0.0, 1.049871802330017, 0.0, 0.08957839757204056, 0.0, 0.0, 0.0, 0.6964769959449768, 0.0, 0.028730902820825577, 0.0, 0.007473538629710674, 0.0, 0.0, 0.08273430168628693, 0.07229143381118774, 0.0, 0.03177521005272865, 0.0, 0.0, 0.019510772079229355, 0.0, 0.0, 0.0, 0.0, 0.0, 0.0, 0.15765851736068726, 0.0, 0.09224043041467667, 0.0, 0.009468709118664265, 0.0, 0.0, 0.0, 0.0, 0.0, 0.0, 0.0, 0.009477201849222183, 0.059094302356243134, 0.0, 0.027688592672348022, 0.0, 0.45676106214523315, 0.20077213644981384, 0.145584374666214, 0.0, 0.29060670733451843, 0.0, 0.7063152194023132, 0.0, 0.001828408450819552, 0.08550123125314713, 0.0, 0.0, 0.0, 0.05826831981539726, 0.03723858669400215, 0.0, 0.0, 0.0, 0.03308459743857384, 0.0, 0.8600640296936035, 0.0, 0.0, 0.0, 0.0, 0.2832891345024109, 0.0, 0.0, 0.0, 0.0, 0.0, 0.0, 0.0, 0.0, 0.0, 0.0, 0.0, 0.0, 0.08480028063058853, 2.434779167175293, 0.22339048981666565, 0.0, 0.0, 0.0, 0.0, 0.33629655838012695, 1.3647493124008179, 0.0, 1.097985863685608, 0.43657025694847107, 0.0, 0.0, 0.0, 0.0, 0.0, 0.0, 0.048702485859394073, 0.017093559727072716, 0.0, 0.0, 0.05621574446558952, 0.0, 0.0, 0.0, 0.0, 0.0, 0.03113684058189392, 0.0, 0.0, 0.0, 0.029988348484039307, 0.0, 0.0, 0.0, 0.0, 0.0, 0.0, 0.0, 0.0, 0.030304526910185814, 0.0, 0.17915987968444824, 0.07329568266868591, 0.0, 0.0, 0.3198510408401489, 0.21175995469093323, 0.47420620918273926, 0.0, 0.0, 0.1496717482805252, 0.06870098412036896, 0.06473920494318008, 0.0, 0.3781754970550537, 0.0, 0.0, 0.0, 0.03941958770155907, 0.046856191009283066, 0.1076284870505333, 0.0, 0.0, 0.0, 0.0, 0.0, 0.0, 0.0, 0.0, 0.0, 0.0, 0.0, 0.0, 0.0, 0.0, 0.14336968958377838, 0.0, 0.0, 0.0, 0.15343379974365234, 0.008117703720927238, 0.0, 0.0, 0.0, 0.12132511287927628, 0.0, 1.5875840187072754, 0.0, 0.0, 0.0, 0.0, 0.0, 0.07565126568078995, 0.0, 0.0032415606547147036, 0.0, 0.5116733312606812, 0.0, 0.0, 0.03622322157025337, 0.0, 0.4788133203983307, 0.0, 0.0, 0.0, 0.0, 0.0, 0.0, 0.0, 0.7405281662940979, 0.0, 0.0831967368721962, 0.0, 0.0, 0.0, 0.08874206244945526, 0.0, 0.0, 0.0, 0.0, 0.025509420782327652, 0.30596572160720825, 0.0, 0.0, 0.0, 0.0, 0.0, 0.0, 0.0, 0.09029153734445572, 0.0, 0.019983995705842972, 0.0, 0.14181078970432281, 0.0, 0.07375769317150116, 0.1744416058063507, 0.0, 0.18597398698329926, 0.0, 0.0, 0.6007398962974548, 0.0, 0.0, 0.0, 0.0, 0.0, 0.0, 0.0, 0.0, 0.0, 0.0, 0.0, 0.0, 1.0858781337738037, 0.0, 0.018960438668727875, 0.0, 0.0, 0.5285165905952454, 1.7117465734481812, 0.0, 0.6142936944961548, 0.0, 0.0, 0.0, 0.0, 0.0, 0.0, 0.0, 0.7359496355056763, 0.0, 0.0, 0.0, 0.029383644461631775, 0.0, 0.05948833376169205, 0.0, 0.0, 0.0, 0.0, 0.0, 0.0, 0.0, 0.0, 0.0, 0.0, 0.008015196770429611, 0.0, 0.04412994161248207, 0.0, 0.0, 0.0, 0.0, 0.1503281146287918, 0.0, 0.0, 0.0, 0.0, 0.0, 2.0668044090270996, 0.04488765075802803, 0.0, 0.0, 0.0, 0.0, 0.0, 0.052583735436201096, 0.039982523769140244, 0.04947851225733757, 0.0, 0.0, 0.5371205806732178, 0.1947099268436432, 0.0, 0.0, 0.0, 0.4736688733100891, 1.6327075958251953, 0.0, 0.0, 0.0, 0.0, 0.0, 0.0, 0.0, 0.0, 0.9580849409103394, 0.0, 0.0, 0.8612915873527527, 0.0, 0.22593772411346436, 0.0, 0.0, 0.3199399709701538, 0.0593620166182518, 0.0, 0.0, 0.0, 0.7890815138816833, 0.0, 0.22058799862861633, 0.7688462138175964, 0.0, 0.0, 0.02993668243288994, 0.0525122694671154, 0.0, 0.0, 0.0, 0.0, 0.0, 0.0, 0.0, 0.0, 0.3476755917072296, 0.0, 0.1133652776479721, 0.0, 0.0, 0.4956241548061371, 0.0, 0.0, 0.0, 0.22433745861053467, 0.10301877558231354, 0.11471941322088242, 0.0, 0.0, 0.0, 0.0, 0.0, 0.23316574096679688, 0.274105429649353, 0.05477016046643257, 0.0, 0.0, 0.0, 0.0, 0.0, 0.06412044912576675, 0.0, 0.0, 0.0, 0.0, 0.28599876165390015, 0.0, 0.0, 0.0, 0.0, 0.0, 1.0964481830596924, 0.0, 0.0, 0.0, 0.5287346839904785, 1.42062246799469, 0.0, 0.39826616644859314, 0.0322076715528965, 0.0, 0.0, 0.7970288395881653, 0.04139375686645508, 0.0, 0.0, 0.559326171875, 0.6023110747337341, 0.0, 0.0, 0.0, 0.14247708022594452, 0.0, 0.0, 0.0, 0.0, 0.0, 0.0, 0.0, 0.0, 0.0, 0.0, 0.0, 0.0, 0.48148107528686523, 0.0, 0.0, 0.3438225984573364, 0.0, 0.0, 0.789997935295105, 0.0, 0.0, 0.0, 0.12230436503887177, 0.0, 0.0, 0.0, 0.0072623202577233315, 0.0, 0.19730308651924133, 0.0, 0.0, 0.10789799690246582, 0.0, 0.0, 0.0, 0.07226850092411041, 0.05462285131216049, 0.0, 0.0, 0.0, 0.0, 0.8191994428634644, 0.08447776734828949, 0.0, 0.0, 0.0, 0.5354923009872437, 0.0, 0.029177825897932053, 0.43273383378982544, 0.0, 1.7334486246109009, 0.0, 0.0, 1.4623279571533203, 0.0933651477098465, 0.0, 0.0, 0.031234275549650192, 0.0, 0.0, 0.0, 0.0, 0.6684232354164124, 0.0, 0.0, 0.0, 0.0, 0.0, 0.18069085478782654, 0.0, 0.05758316442370415, 0.0, 0.8932908177375793, 0.0, 0.0, 1.755181074142456, 0.13190989196300507, 0.0, 0.0, 0.0, 0.0, 0.0, 0.0, 0.0, 0.0, 0.048335738480091095, 0.0, 0.0, 0.0, 0.006845134310424328, 0.0, 0.14891496300697327, 0.0, 1.4239951372146606, 0.0, 0.0, 0.0, 0.0, 0.0, 0.0, 0.0, 0.0, 0.10171856731176376, 0.0, 0.0, 0.0, 0.38803428411483765, 0.0, 0.9706434011459351, 1.4956825971603394, 0.0, 0.0, 0.0, 0.0, 0.0, 0.031536176800727844, 0.0, 0.0, 0.0, 0.0, 0.0, 0.0, 0.0, 0.0, 0.0, 0.3531724512577057, 0.0, 0.0, 0.0, 0.0, 0.20298466086387634, 0.0, 0.0, 0.3700338304042816, 0.03034437634050846, 0.0, 0.0, 0.0, 0.0, 0.5851835012435913, 0.05774254724383354, 0.0, 0.09500154852867126, 0.0011440310627222061, 0.0, 0.04862663522362709, 0.0, 0.0, 0.0, 0.0, 0.0, 0.0, 0.013940228149294853, 0.0, 0.0, 0.5709714293479919, 0.0, 0.0, 0.0, 0.7223179936408997, 0.0, 0.0, 0.0, 0.0, 0.0, 0.0, 0.0, 0.3506337106227875, 0.0, 0.0, 0.0, 0.0, 0.9074431657791138, 0.6285797357559204, 0.0, 0.0, 0.0, 0.9942029118537903, 0.0, 0.0, 0.0, 0.0, 0.0, 0.0, 0.0, 0.0, 0.0, 0.0]\n"
          ],
          "name": "stdout"
        }
      ]
    },
    {
      "cell_type": "code",
      "metadata": {
        "id": "aPCYq-mpjgHc",
        "colab_type": "code",
        "colab": {
          "base_uri": "https://localhost:8080/",
          "height": 459
        },
        "outputId": "f0197b0d-d0a0-4727-90e8-fe29ca0ad94f"
      },
      "source": [
        "!wget http://www.arvindguptatoys.com/arvindgupta/rbi-comic.pdf\n",
        "# single example\n",
        "indicoio.pdf_extraction(\"rbi-comic.pdf\")"
      ],
      "execution_count": 79,
      "outputs": [
        {
          "output_type": "stream",
          "text": [
            "--2019-05-26 15:58:34--  http://www.arvindguptatoys.com/arvindgupta/rbi-comic.pdf\n",
            "Resolving www.arvindguptatoys.com (www.arvindguptatoys.com)... 146.66.94.13\n",
            "Connecting to www.arvindguptatoys.com (www.arvindguptatoys.com)|146.66.94.13|:80... connected.\n",
            "HTTP request sent, awaiting response... 200 OK\n",
            "Length: 6124866 (5.8M) [application/pdf]\n",
            "Saving to: ‘rbi-comic.pdf’\n",
            "\n",
            "rbi-comic.pdf       100%[===================>]   5.84M  3.13MB/s    in 1.9s    \n",
            "\n",
            "2019-05-26 15:58:38 (3.13 MB/s) - ‘rbi-comic.pdf’ saved [6124866/6124866]\n",
            "\n"
          ],
          "name": "stdout"
        },
        {
          "output_type": "execute_result",
          "data": {
            "text/plain": [
              "{'images': [],\n",
              " 'metadata': {'creationdate': '',\n",
              "  'creator': 'CorelDRAW Version 12.0',\n",
              "  'encrypted': 'no',\n",
              "  'file size': '6124866 bytes',\n",
              "  'form': 'none',\n",
              "  'moddate': '',\n",
              "  'optimized': 'yes',\n",
              "  'page size': '1190.55 x 841.89 pts (rotated 0 degrees)',\n",
              "  'pages': '10',\n",
              "  'pdf version': '1.3',\n",
              "  'producer': 'Corel PDF Engine Version 1.0.0.458',\n",
              "  'tagged': 'no',\n",
              "  'title': 'English Comics'},\n",
              " 'text': ''}"
            ]
          },
          "metadata": {
            "tags": []
          },
          "execution_count": 79
        }
      ]
    },
    {
      "cell_type": "code",
      "metadata": {
        "id": "88rm2mdfjgCm",
        "colab_type": "code",
        "colab": {}
      },
      "source": [
        ""
      ],
      "execution_count": 0,
      "outputs": []
    },
    {
      "cell_type": "code",
      "metadata": {
        "id": "gyWRqy8YjgBM",
        "colab_type": "code",
        "colab": {}
      },
      "source": [
        ""
      ],
      "execution_count": 0,
      "outputs": []
    },
    {
      "cell_type": "code",
      "metadata": {
        "id": "oqb6A_Kqjf_-",
        "colab_type": "code",
        "colab": {}
      },
      "source": [
        ""
      ],
      "execution_count": 0,
      "outputs": []
    },
    {
      "cell_type": "code",
      "metadata": {
        "id": "o9neBHWSjf-T",
        "colab_type": "code",
        "colab": {}
      },
      "source": [
        ""
      ],
      "execution_count": 0,
      "outputs": []
    },
    {
      "cell_type": "code",
      "metadata": {
        "id": "zZiro-I3jf7x",
        "colab_type": "code",
        "colab": {}
      },
      "source": [
        ""
      ],
      "execution_count": 0,
      "outputs": []
    },
    {
      "cell_type": "code",
      "metadata": {
        "id": "NSsCVMCccNWx",
        "colab_type": "code",
        "colab": {}
      },
      "source": [
        ""
      ],
      "execution_count": 0,
      "outputs": []
    }
  ]
}