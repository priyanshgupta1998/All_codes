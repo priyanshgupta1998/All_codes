{
  "nbformat": 4,
  "nbformat_minor": 0,
  "metadata": {
    "colab": {
      "name": "TensorFlow with GPU",
      "version": "0.3.2",
      "provenance": [],
      "collapsed_sections": [],
      "toc_visible": true,
      "include_colab_link": true
    },
    "kernelspec": {
      "name": "python3",
      "display_name": "Python 3"
    },
    "accelerator": "GPU"
  },
  "cells": [
    {
      "cell_type": "markdown",
      "metadata": {
        "id": "view-in-github",
        "colab_type": "text"
      },
      "source": [
        "<a href=\"https://colab.research.google.com/github/priyanshgupta1998/All_codes/blob/master/numpy3.ipynb\" target=\"_parent\"><img src=\"https://colab.research.google.com/assets/colab-badge.svg\" alt=\"Open In Colab\"/></a>"
      ]
    },
    {
      "metadata": {
        "id": "2z4D0koeI-21",
        "colab_type": "code",
        "colab": {}
      },
      "cell_type": "code",
      "source": [
        "import numpy as np"
      ],
      "execution_count": 0,
      "outputs": []
    },
    {
      "metadata": {
        "id": "dqoagyc8I-50",
        "colab_type": "code",
        "colab": {
          "base_uri": "https://localhost:8080/",
          "height": 306
        },
        "outputId": "826aad9e-01a7-4b17-fa7e-18b036cd56a6"
      },
      "cell_type": "code",
      "source": [
        "my_seqs = np.genfromtxt('/home/abc.txt',delimiter = '\\n' , dtype=str)\n",
        "my_seqs"
      ],
      "execution_count": 171,
      "outputs": [
        {
          "output_type": "execute_result",
          "data": {
            "text/plain": [
              "array(['iaorxj', 'mpmrvs', 'hjtlne', 'xhilxr', 'utyysh', 'qrroia',\n",
              "       'wkytrj', 'zqlasl', 'xxieuh', 'nvpxfp', 'btipyc', 'vrwhru',\n",
              "       'usysfz', 'jrwczb', 'shzose', 'kyyuyh', 'lkkyum', 'jcpvtm',\n",
              "       'oxjgmu', 'smwkax', 'laisab', 'aodbok', 'irorxb', 'kogxme',\n",
              "       'wpiugr', 'gvcndl', 'ernaye', 'adpzun', 'vnsokp', 'gsrlri',\n",
              "       'kssbhg', 'tmgxeu', 'aawipf', 'pjpbio', 'opifdp', 'jhxdjw',\n",
              "       'omsoba', 'veipnq', 'twswgi', 'zpptrc', 'giyndk', 'brbsvu',\n",
              "       'mcipfp', 'xrdnis', 'oxpdkr', 'bjtntx', 'qplwzb', 'pcukod',\n",
              "       'pmlbxj', 'cdxxdl', 'cibpic', 'zxrigd', 'auxmuy', 'rncyjx',\n",
              "       'lxpiph', 'vterjv', 'xfigeh', 'pkbeyc', 'dxutvx', 'qstjxu',\n",
              "       'gytpxe', 'klsuie', 'dcwvpk', 'ooqqkk', 'anhtwu', 'lnqjal',\n",
              "       'hufrhe', 'balhsy', 'updkvr', 'iujbui', 'kqkwok', 'fchwhz',\n",
              "       'tfxmzf', 'jsfcvz', 'xbdvaa', 'sudomk', 'exesre', 'ifbkis',\n",
              "       'dqyjqb', 'kxwfmv', 'xemmbx', 'lcuuja', 'ftlors', 'rxvayf',\n",
              "       'fqtaut', 'xcajwe', 'calpwg', 'ynqyme', 'bqprjw', 'fmpxto',\n",
              "       'cavauy', 'nzucbl', 'tnnahr', 'fhjrae', 'ycilvi', 'rhfwmg',\n",
              "       'cdbqgr', 'aictqk', 'xauudl', 'eifvso'], dtype='<U6')"
            ]
          },
          "metadata": {
            "tags": []
          },
          "execution_count": 171
        }
      ]
    },
    {
      "metadata": {
        "id": "QzCFKiYQI--C",
        "colab_type": "code",
        "colab": {
          "base_uri": "https://localhost:8080/",
          "height": 34
        },
        "outputId": "9647d35b-4667-4ed0-82cb-71459e1ec480"
      },
      "cell_type": "code",
      "source": [
        "my_seqs.size"
      ],
      "execution_count": 172,
      "outputs": [
        {
          "output_type": "execute_result",
          "data": {
            "text/plain": [
              "100"
            ]
          },
          "metadata": {
            "tags": []
          },
          "execution_count": 172
        }
      ]
    },
    {
      "metadata": {
        "id": "g2_HDVQKI_F9",
        "colab_type": "code",
        "colab": {
          "base_uri": "https://localhost:8080/",
          "height": 34
        },
        "outputId": "a9659309-63aa-433b-855a-b7ab62f12667"
      },
      "cell_type": "code",
      "source": [
        "my_seqs.shape"
      ],
      "execution_count": 173,
      "outputs": [
        {
          "output_type": "execute_result",
          "data": {
            "text/plain": [
              "(100,)"
            ]
          },
          "metadata": {
            "tags": []
          },
          "execution_count": 173
        }
      ]
    },
    {
      "metadata": {
        "id": "KYPM25aaI_LY",
        "colab_type": "code",
        "colab": {}
      },
      "cell_type": "code",
      "source": [
        "molecular_weight_dict = {'a':89.10,'b':90.10,'c':91.25,'d':92.68,'e':93.61,'f':94.12,'g':94.10,'h':95.41,\n",
        "    'i':96.58,'j':97.32,'k':98.65,'l':99.24,'m':100.24,'n':101.58,'o':102.59,'p':103.26,'q':104.97,\n",
        "    'r':105.64,'s':106.54,'t':107.85,'u':108.62,'v':109.41,'w':110.36,'x':111.76,'y':112.45,'z':113.15}"
      ],
      "execution_count": 0,
      "outputs": []
    },
    {
      "metadata": {
        "id": "AzHmIR0OI_VP",
        "colab_type": "code",
        "colab": {}
      },
      "cell_type": "code",
      "source": [
        "def calculate_molecular_weight(sequence):\n",
        "  mw = 0\n",
        "  for i in list(sequence):\n",
        "    mw += molecular_weight_dict[i]\n",
        "  return mw ,sequence"
      ],
      "execution_count": 0,
      "outputs": []
    },
    {
      "metadata": {
        "id": "DM1qk9RyI_ab",
        "colab_type": "code",
        "colab": {
          "base_uri": "https://localhost:8080/",
          "height": 34
        },
        "outputId": "a974043f-8297-47d7-f6d4-9eeb545f3d23"
      },
      "cell_type": "code",
      "source": [
        "NumpyMW = np.vectorize(calculate_molecular_weight)\n",
        "NumpyMW "
      ],
      "execution_count": 203,
      "outputs": [
        {
          "output_type": "execute_result",
          "data": {
            "text/plain": [
              "<numpy.lib.function_base.vectorize at 0x7fc89a2d8400>"
            ]
          },
          "metadata": {
            "tags": []
          },
          "execution_count": 203
        }
      ]
    },
    {
      "metadata": {
        "id": "XUoSKdfSI_ej",
        "colab_type": "code",
        "colab": {
          "base_uri": "https://localhost:8080/",
          "height": 238
        },
        "outputId": "67beed5a-f157-4a67-d495-8db52aa55e9c"
      },
      "cell_type": "code",
      "source": [
        "MWs ,var= NumpyMW(my_seqs)\n",
        "MWs"
      ],
      "execution_count": 204,
      "outputs": [
        {
          "output_type": "execute_result",
          "data": {
            "text/plain": [
              "array([602.99, 625.33, 595.01, 620.39, 643.32, 604.52, 632.27, 612.24,\n",
              "       617.74, 623.39, 601.49, 635.08, 641.42, 607.82, 617.84, 640.03,\n",
              "       617.85, 609.33, 614.63, 616.65, 570.66, 575.71, 612.31, 600.95,\n",
              "       618.56, 588.26, 595.99, 608.39, 622.03, 607.74, 591.34, 616.18,\n",
              "       582.52, 593.11, 592.49, 604.85, 591.16, 609.41, 625.79, 624.41,\n",
              "       596.04, 610.41, 588.71, 614.78, 614.58, 616.46, 621.08, 597.05,\n",
              "       601.92, 599.37, 569.02, 613.91, 630.79, 620.  , 609.51, 623.24,\n",
              "       585.58, 589.32, 642.08, 637.06, 623.03, 603.24, 605.61, 612.42,\n",
              "       612.92, 591.45, 592.81, 592.84, 618.26, 597.82, 613.87, 599.7 ,\n",
              "       621.24, 611.79, 582.15, 609.32, 604.77, 582.57, 602.49, 624.54,\n",
              "       607.71, 594.15, 615.98, 622.48, 612.51, 593.4 , 587.31, 625.3 ,\n",
              "       611.65, 619.82, 599.93, 603.94, 601.16, 575.2 , 605.51, 599.87,\n",
              "       578.74, 588.4 , 610.02, 602.85])"
            ]
          },
          "metadata": {
            "tags": []
          },
          "execution_count": 204
        }
      ]
    },
    {
      "metadata": {
        "id": "zt-WNi9aXVRv",
        "colab_type": "code",
        "colab": {
          "base_uri": "https://localhost:8080/",
          "height": 306
        },
        "outputId": "adedab27-f08c-495d-e2a3-72f43a25c08d"
      },
      "cell_type": "code",
      "source": [
        "var"
      ],
      "execution_count": 205,
      "outputs": [
        {
          "output_type": "execute_result",
          "data": {
            "text/plain": [
              "array(['iaorxj', 'mpmrvs', 'hjtlne', 'xhilxr', 'utyysh', 'qrroia',\n",
              "       'wkytrj', 'zqlasl', 'xxieuh', 'nvpxfp', 'btipyc', 'vrwhru',\n",
              "       'usysfz', 'jrwczb', 'shzose', 'kyyuyh', 'lkkyum', 'jcpvtm',\n",
              "       'oxjgmu', 'smwkax', 'laisab', 'aodbok', 'irorxb', 'kogxme',\n",
              "       'wpiugr', 'gvcndl', 'ernaye', 'adpzun', 'vnsokp', 'gsrlri',\n",
              "       'kssbhg', 'tmgxeu', 'aawipf', 'pjpbio', 'opifdp', 'jhxdjw',\n",
              "       'omsoba', 'veipnq', 'twswgi', 'zpptrc', 'giyndk', 'brbsvu',\n",
              "       'mcipfp', 'xrdnis', 'oxpdkr', 'bjtntx', 'qplwzb', 'pcukod',\n",
              "       'pmlbxj', 'cdxxdl', 'cibpic', 'zxrigd', 'auxmuy', 'rncyjx',\n",
              "       'lxpiph', 'vterjv', 'xfigeh', 'pkbeyc', 'dxutvx', 'qstjxu',\n",
              "       'gytpxe', 'klsuie', 'dcwvpk', 'ooqqkk', 'anhtwu', 'lnqjal',\n",
              "       'hufrhe', 'balhsy', 'updkvr', 'iujbui', 'kqkwok', 'fchwhz',\n",
              "       'tfxmzf', 'jsfcvz', 'xbdvaa', 'sudomk', 'exesre', 'ifbkis',\n",
              "       'dqyjqb', 'kxwfmv', 'xemmbx', 'lcuuja', 'ftlors', 'rxvayf',\n",
              "       'fqtaut', 'xcajwe', 'calpwg', 'ynqyme', 'bqprjw', 'fmpxto',\n",
              "       'cavauy', 'nzucbl', 'tnnahr', 'fhjrae', 'ycilvi', 'rhfwmg',\n",
              "       'cdbqgr', 'aictqk', 'xauudl', 'eifvso'], dtype='<U6')"
            ]
          },
          "metadata": {
            "tags": []
          },
          "execution_count": 205
        }
      ]
    },
    {
      "metadata": {
        "id": "r70cyWH0Z35u",
        "colab_type": "code",
        "colab": {
          "base_uri": "https://localhost:8080/",
          "height": 34
        },
        "outputId": "4b7fa2ee-285e-4dbb-bc3e-1a95b5122170"
      },
      "cell_type": "code",
      "source": [
        "MWs.size"
      ],
      "execution_count": 210,
      "outputs": [
        {
          "output_type": "execute_result",
          "data": {
            "text/plain": [
              "100"
            ]
          },
          "metadata": {
            "tags": []
          },
          "execution_count": 210
        }
      ]
    },
    {
      "metadata": {
        "id": "dmotvnRYZ_0b",
        "colab_type": "code",
        "colab": {
          "base_uri": "https://localhost:8080/",
          "height": 34
        },
        "outputId": "42d295c1-6f4e-479d-9e90-f8bda8635b6a"
      },
      "cell_type": "code",
      "source": [
        "print(\"Average MW: \" , np.mean(MWs))"
      ],
      "execution_count": 211,
      "outputs": [
        {
          "output_type": "stream",
          "text": [
            "Average MW:  607.5088\n"
          ],
          "name": "stdout"
        }
      ]
    },
    {
      "metadata": {
        "id": "qqKQKAQdgzM4",
        "colab_type": "code",
        "colab": {
          "base_uri": "https://localhost:8080/",
          "height": 34
        },
        "outputId": "f6b90a71-12bd-4e38-eff9-229554415f43"
      },
      "cell_type": "code",
      "source": [
        "print(\"standard deviation of  MW: \" , np.std(MWs))"
      ],
      "execution_count": 229,
      "outputs": [
        {
          "output_type": "stream",
          "text": [
            "standard deviation of  MW:  15.945472854700796\n"
          ],
          "name": "stdout"
        }
      ]
    },
    {
      "metadata": {
        "id": "8XthgNc0XoV3",
        "colab_type": "code",
        "colab": {
          "base_uri": "https://localhost:8080/",
          "height": 54
        },
        "outputId": "972b3b39-5df3-4166-b7a8-4589fb0c55fa"
      },
      "cell_type": "code",
      "source": [
        "k=[]\n",
        "for i in list(var):\n",
        "  k.append(i)\n",
        "print(k)"
      ],
      "execution_count": 209,
      "outputs": [
        {
          "output_type": "stream",
          "text": [
            "['iaorxj', 'mpmrvs', 'hjtlne', 'xhilxr', 'utyysh', 'qrroia', 'wkytrj', 'zqlasl', 'xxieuh', 'nvpxfp', 'btipyc', 'vrwhru', 'usysfz', 'jrwczb', 'shzose', 'kyyuyh', 'lkkyum', 'jcpvtm', 'oxjgmu', 'smwkax', 'laisab', 'aodbok', 'irorxb', 'kogxme', 'wpiugr', 'gvcndl', 'ernaye', 'adpzun', 'vnsokp', 'gsrlri', 'kssbhg', 'tmgxeu', 'aawipf', 'pjpbio', 'opifdp', 'jhxdjw', 'omsoba', 'veipnq', 'twswgi', 'zpptrc', 'giyndk', 'brbsvu', 'mcipfp', 'xrdnis', 'oxpdkr', 'bjtntx', 'qplwzb', 'pcukod', 'pmlbxj', 'cdxxdl', 'cibpic', 'zxrigd', 'auxmuy', 'rncyjx', 'lxpiph', 'vterjv', 'xfigeh', 'pkbeyc', 'dxutvx', 'qstjxu', 'gytpxe', 'klsuie', 'dcwvpk', 'ooqqkk', 'anhtwu', 'lnqjal', 'hufrhe', 'balhsy', 'updkvr', 'iujbui', 'kqkwok', 'fchwhz', 'tfxmzf', 'jsfcvz', 'xbdvaa', 'sudomk', 'exesre', 'ifbkis', 'dqyjqb', 'kxwfmv', 'xemmbx', 'lcuuja', 'ftlors', 'rxvayf', 'fqtaut', 'xcajwe', 'calpwg', 'ynqyme', 'bqprjw', 'fmpxto', 'cavauy', 'nzucbl', 'tnnahr', 'fhjrae', 'ycilvi', 'rhfwmg', 'cdbqgr', 'aictqk', 'xauudl', 'eifvso']\n"
          ],
          "name": "stdout"
        }
      ]
    },
    {
      "metadata": {
        "id": "0KDz52a-ZFDu",
        "colab_type": "code",
        "colab": {
          "base_uri": "https://localhost:8080/",
          "height": 34
        },
        "outputId": "0cf45de3-28e2-417e-da87-a157a6cc993a"
      },
      "cell_type": "code",
      "source": [
        "molecular_weight_dict['a']"
      ],
      "execution_count": 208,
      "outputs": [
        {
          "output_type": "execute_result",
          "data": {
            "text/plain": [
              "89.1"
            ]
          },
          "metadata": {
            "tags": []
          },
          "execution_count": 208
        }
      ]
    },
    {
      "metadata": {
        "id": "YCmFwe5oZ0hQ",
        "colab_type": "code",
        "colab": {}
      },
      "cell_type": "code",
      "source": [
        "k=[]\n",
        "v = list(var)\n",
        "for i in v:\n",
        "  #print(i)"
      ],
      "execution_count": 0,
      "outputs": []
    },
    {
      "metadata": {
        "id": "TSTpEmsrI_Ro",
        "colab_type": "code",
        "colab": {
          "base_uri": "https://localhost:8080/",
          "height": 54
        },
        "outputId": "92f2cceb-374d-4d99-cfb2-600d41fc799f"
      },
      "cell_type": "code",
      "source": [
        "p=[]\n",
        "v = list(var)\n",
        "for i in range(len(v)):\n",
        "  k=0\n",
        "  for j in v[i]:\n",
        "    k+=molecular_weight_dict[j]\n",
        "  p.append(k)\n",
        "print(p)"
      ],
      "execution_count": 227,
      "outputs": [
        {
          "output_type": "stream",
          "text": [
            "[602.99, 625.3299999999999, 595.01, 620.39, 643.3199999999999, 604.5200000000001, 632.27, 612.24, 617.74, 623.39, 601.49, 635.08, 641.42, 607.82, 617.84, 640.03, 617.8499999999999, 609.33, 614.63, 616.65, 570.66, 575.71, 612.3100000000001, 600.95, 618.56, 588.26, 595.9899999999999, 608.3900000000001, 622.03, 607.74, 591.34, 616.18, 582.52, 593.1099999999999, 592.49, 604.85, 591.1600000000001, 609.41, 625.7900000000001, 624.41, 596.04, 610.4100000000001, 588.71, 614.78, 614.58, 616.4599999999999, 621.08, 597.05, 601.9200000000001, 599.37, 569.02, 613.9100000000001, 630.7900000000001, 620.0, 609.51, 623.2399999999999, 585.5799999999999, 589.3199999999999, 642.0799999999999, 637.0600000000001, 623.03, 603.24, 605.61, 612.42, 612.9200000000001, 591.4499999999999, 592.81, 592.84, 618.26, 597.82, 613.87, 599.6999999999999, 621.24, 611.79, 582.1500000000001, 609.32, 604.77, 582.5699999999999, 602.49, 624.54, 607.71, 594.15, 615.9799999999999, 622.48, 612.51, 593.4, 587.31, 625.3, 611.65, 619.82, 599.9300000000001, 603.94, 601.16, 575.2, 605.51, 599.87, 578.74, 588.4, 610.02, 602.85]\n"
          ],
          "name": "stdout"
        }
      ]
    },
    {
      "metadata": {
        "id": "ugXGa-5JI_Co",
        "colab_type": "code",
        "colab": {
          "base_uri": "https://localhost:8080/",
          "height": 34
        },
        "outputId": "0ee560b6-7ded-4390-dbc6-6e7eef3680c2"
      },
      "cell_type": "code",
      "source": [
        "print(np.vectorize(my_seqs))   #throw the address of memory"
      ],
      "execution_count": 179,
      "outputs": [
        {
          "output_type": "stream",
          "text": [
            "<numpy.lib.function_base.vectorize object at 0x7fc89a28d8d0>\n"
          ],
          "name": "stdout"
        }
      ]
    },
    {
      "metadata": {
        "id": "ee2SbD3EI_A_",
        "colab_type": "code",
        "colab": {}
      },
      "cell_type": "code",
      "source": [
        ""
      ],
      "execution_count": 0,
      "outputs": []
    },
    {
      "metadata": {
        "id": "BfH7n_ahI-8g",
        "colab_type": "code",
        "colab": {}
      },
      "cell_type": "code",
      "source": [
        ""
      ],
      "execution_count": 0,
      "outputs": []
    }
  ]
}