{
  "nbformat": 4,
  "nbformat_minor": 0,
  "metadata": {
    "colab": {
      "name": "pandas_normalization.ipynb",
      "version": "0.3.2",
      "provenance": [],
      "collapsed_sections": [],
      "include_colab_link": true
    },
    "kernelspec": {
      "name": "python3",
      "display_name": "Python 3"
    },
    "accelerator": "TPU"
  },
  "cells": [
    {
      "cell_type": "markdown",
      "metadata": {
        "id": "view-in-github",
        "colab_type": "text"
      },
      "source": [
        "<a href=\"https://colab.research.google.com/github/priyanshgupta1998/All_codes/blob/master/pandas_normalization.ipynb\" target=\"_parent\"><img src=\"https://colab.research.google.com/assets/colab-badge.svg\" alt=\"Open In Colab\"/></a>"
      ]
    },
    {
      "cell_type": "markdown",
      "metadata": {
        "id": "bqLRy7UXkSEW",
        "colab_type": "text"
      },
      "source": [
        "\n",
        "\n",
        "---\n",
        "\n",
        "---\n",
        "\n",
        "\n",
        "\n",
        "---\n",
        "\n",
        "\n",
        "\n",
        "---\n",
        "\n",
        "\n",
        "\n",
        "\n",
        "\n",
        "---\n",
        "\n",
        "\n",
        "\n",
        "---\n",
        "\n",
        "\n",
        "\n",
        "---\n",
        "\n"
      ]
    },
    {
      "cell_type": "code",
      "metadata": {
        "id": "a3A3tBk_2gid",
        "colab_type": "code",
        "colab": {}
      },
      "source": [
        ""
      ],
      "execution_count": 0,
      "outputs": []
    },
    {
      "cell_type": "code",
      "metadata": {
        "id": "qCDlr-EGel71",
        "colab_type": "code",
        "colab": {}
      },
      "source": [
        "import numpy as np \n",
        "s = pd.DataFrame([49,48,47,46,45, 1, 2, 3, 4, 5] )\n",
        "s['1'] = \n",
        "s\n",
        "import random\n",
        "p=[]\n",
        "for i in range(10):\n",
        "    p.append(random.randint(0,100))\n",
        "s['4'] = p\n",
        "s.iloc[: , 2:4]"
      ],
      "execution_count": 0,
      "outputs": []
    },
    {
      "cell_type": "code",
      "metadata": {
        "id": "gPu6gz02qYe8",
        "colab_type": "code",
        "outputId": "c3d5028c-c88e-4214-e7b2-f0cf57550bc7",
        "colab": {
          "base_uri": "https://localhost:8080/",
          "height": 87
        }
      },
      "source": [
        "import numpy as np\n",
        "from sklearn.preprocessing import normalize\n",
        "\n",
        " # Values as floats or normalize raises a type error\n",
        "# 2D Matrix of 5 x 4 size\n",
        "X1 = np.array([\n",
        "              [1., 0., 0., 4., 15.],\n",
        "              [1., 0., 0., 3., 7.],\n",
        "              [0., 1., 0., 5., 9.],\n",
        "              [0., 0., 1., 4., 15.],\n",
        "                      ])\n",
        "\n",
        "\n",
        "X1[:, [3,4]]    # last two columns"
      ],
      "execution_count": 0,
      "outputs": [
        {
          "output_type": "execute_result",
          "data": {
            "text/plain": [
              "array([[ 4., 15.],\n",
              "       [ 3.,  7.],\n",
              "       [ 5.,  9.],\n",
              "       [ 4., 15.]])"
            ]
          },
          "metadata": {
            "tags": []
          },
          "execution_count": 36
        }
      ]
    },
    {
      "cell_type": "code",
      "metadata": {
        "id": "GSJyJ3tnqjw0",
        "colab_type": "code",
        "outputId": "3645f1d5-4fda-4224-9ca2-78a2376b37a2",
        "colab": {
          "base_uri": "https://localhost:8080/",
          "height": 87
        }
      },
      "source": [
        "#Normalize the last two columns and assign to a new numpy array, X2.\n",
        "X2 = normalize(X1[:, [3,4]], axis=0) #axis=0 for column-wise\n",
        "X2"
      ],
      "execution_count": 0,
      "outputs": [
        {
          "output_type": "execute_result",
          "data": {
            "text/plain": [
              "array([[0.49236596, 0.6228411 ],\n",
              "       [0.36927447, 0.29065918],\n",
              "       [0.61545745, 0.37370466],\n",
              "       [0.49236596, 0.6228411 ]])"
            ]
          },
          "metadata": {
            "tags": []
          },
          "execution_count": 38
        }
      ]
    },
    {
      "cell_type": "code",
      "metadata": {
        "id": "AcTW9UWVrSMR",
        "colab_type": "code",
        "outputId": "36510584-2b93-4885-80c5-ed91c043d5d4",
        "colab": {
          "base_uri": "https://localhost:8080/",
          "height": 87
        }
      },
      "source": [
        "#Now concatenate X1 and X2 for your desired output.\n",
        "np.concatenate(( X1[:,[0,1,2]], X2), axis=1)"
      ],
      "execution_count": 0,
      "outputs": [
        {
          "output_type": "execute_result",
          "data": {
            "text/plain": [
              "array([[1.        , 0.        , 0.        , 0.49236596, 0.6228411 ],\n",
              "       [1.        , 0.        , 0.        , 0.36927447, 0.29065918],\n",
              "       [0.        , 1.        , 0.        , 0.61545745, 0.37370466],\n",
              "       [0.        , 0.        , 1.        , 0.49236596, 0.6228411 ]])"
            ]
          },
          "metadata": {
            "tags": []
          },
          "execution_count": 39
        }
      ]
    }
  ]
}