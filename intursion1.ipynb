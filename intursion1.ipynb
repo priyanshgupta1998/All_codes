{
  "nbformat": 4,
  "nbformat_minor": 0,
  "metadata": {
    "colab": {
      "name": "TensorFlow_with_GPU (2).ipynb",
      "version": "0.3.2",
      "provenance": [],
      "collapsed_sections": [],
      "include_colab_link": true
    },
    "kernelspec": {
      "name": "python2",
      "display_name": "Python 2"
    },
    "accelerator": "GPU"
  },
  "cells": [
    {
      "cell_type": "markdown",
      "metadata": {
        "id": "view-in-github",
        "colab_type": "text"
      },
      "source": [
        "<a href=\"https://colab.research.google.com/github/priyanshgupta1998/All_codes/blob/master/intursion1.ipynb\" target=\"_parent\"><img src=\"https://colab.research.google.com/assets/colab-badge.svg\" alt=\"Open In Colab\"/></a>"
      ]
    },
    {
      "metadata": {
        "id": "-GbgkZjefpJn",
        "colab_type": "code",
        "colab": {}
      },
      "cell_type": "code",
      "source": [
        "## Preliminaries\n",
        "import numpy as np \n",
        "import matplotlib.pyplot as plt\n",
        "import pandas as pd\n",
        "import urllib\n",
        "import csv"
      ],
      "execution_count": 0,
      "outputs": []
    },
    {
      "metadata": {
        "id": "pSPX7CCafpHo",
        "colab_type": "code",
        "colab": {}
      },
      "cell_type": "code",
      "source": [
        "from sklearn import datasets, preprocessing, feature_extraction\n",
        "from sklearn import linear_model, svm, metrics, ensemble, tree\n",
        "from sklearn.decomposition import PCA"
      ],
      "execution_count": 0,
      "outputs": []
    },
    {
      "metadata": {
        "id": "XXkV79kPgzzA",
        "colab_type": "code",
        "colab": {}
      },
      "cell_type": "code",
      "source": [
        "names=['Duration', 'protocol_type', 'Service', 'Flag', 'src_bytes', 'dst_bytes', 'Land', 'wrong_fragment', 'Urgent', 'Hot', 'num_failed_logins', 'logged_in', 'num_compromised', 'root_shell', 'su_attempted', 'num_root', 'num_file_creations', 'num_shells', 'num_access_files', 'num_outbound_cmds', 'is_host_login', 'is_guest_login', 'Count', 'srv_count', 'serror_rate', 'srv_serror_rate', 'rerror_rate', 'srv_rerror_rate', 'same_srv_rate', 'diff_srv_rate', 'srv_diff_host_rate', 'dst_host_count', 'dst_host_srv_count', 'dst_host_same_srv_rate', 'dst_host_diff_srv_rate', 'dst_host_same_src_port_rate', 'dst_host_srv_diff_host_rate', 'dst_host_serror_rate', 'dst_host_srv_serror_rate', 'dst_host_rerror_rate', 'dst_host_srv_rerror_rate','Class']"
      ],
      "execution_count": 0,
      "outputs": []
    },
    {
      "metadata": {
        "id": "lI05zD47LwEO",
        "colab_type": "text"
      },
      "cell_type": "markdown",
      "source": [
        "#Train File"
      ]
    },
    {
      "metadata": {
        "id": "1Ov3d1jWgz2B",
        "colab_type": "code",
        "colab": {
          "base_uri": "https://localhost:8080/",
          "height": 119
        },
        "outputId": "088bc648-aef8-43db-f24c-4faa1b8c1146"
      },
      "cell_type": "code",
      "source": [
        "train_multiclass = pd.read_csv('/home/kddcup.data_10_percent_corrected.csv', quotechar=',', skipinitialspace=True , names=names)\n",
        "l = len(train_multiclass)\n",
        "print(train_multiclass.shape)\n",
        "train_multiclass['Class'].unique()"
      ],
      "execution_count": 105,
      "outputs": [
        {
          "output_type": "stream",
          "text": [
            "(494021, 42)\n"
          ],
          "name": "stdout"
        },
        {
          "output_type": "execute_result",
          "data": {
            "text/plain": [
              "array(['normal.', 'buffer_overflow.', 'loadmodule.', 'perl.', 'neptune.',\n",
              "       'smurf.', 'guess_passwd.', 'pod.', 'teardrop.', 'portsweep.',\n",
              "       'ipsweep.', 'land.', 'ftp_write.', 'back.', 'imap.', 'satan.',\n",
              "       'phf.', 'nmap.', 'multihop.', 'warezmaster.', 'warezclient.',\n",
              "       'spy.', 'rootkit.'], dtype=object)"
            ]
          },
          "metadata": {
            "tags": []
          },
          "execution_count": 105
        }
      ]
    },
    {
      "metadata": {
        "id": "Vm2bVOr3WJxh",
        "colab_type": "text"
      },
      "cell_type": "markdown",
      "source": [
        "ADD TWO CSV FILE TRAIN + TEST"
      ]
    },
    {
      "metadata": {
        "id": "2ww0ep8ca1H4",
        "colab_type": "code",
        "colab": {}
      },
      "cell_type": "code",
      "source": [
        "with open('/home/test.csv','r') as readFile:\n",
        "    reader = csv.reader(readFile)\n",
        "    lines = list(reader)\n",
        "lines.insert(0,'')\n",
        "with open('/home/kddcup.data_10_percent_corrected.csv','a') as writeFile:\n",
        "    writer = csv.writer(writeFile)\n",
        "    writer.writerows(lines)\n",
        "readFile.close()\n",
        "writeFile.close()"
      ],
      "execution_count": 0,
      "outputs": []
    },
    {
      "metadata": {
        "id": "LPxseKvYWGsq",
        "colab_type": "code",
        "colab": {
          "base_uri": "https://localhost:8080/",
          "height": 34
        },
        "outputId": "5230c902-d4bc-4b21-c7da-07025ca93cea"
      },
      "cell_type": "code",
      "source": [
        "len(train_multiclass)"
      ],
      "execution_count": 118,
      "outputs": [
        {
          "output_type": "execute_result",
          "data": {
            "text/plain": [
              "494050"
            ]
          },
          "metadata": {
            "tags": []
          },
          "execution_count": 118
        }
      ]
    },
    {
      "metadata": {
        "id": "deh2fFH1gz5T",
        "colab_type": "code",
        "colab": {}
      },
      "cell_type": "code",
      "source": [
        "train_multiclass.loc[(train_multiclass['Class'] =='smurf.')|(train_multiclass['Class'] =='neptune.') | (train_multiclass['Class'] =='back.') | (train_multiclass['Class'] =='teardrop.') |(train_multiclass['Class'] =='pod.')| (train_multiclass['Class']=='land.'),'Class'] = 'DOS_ATTACK'"
      ],
      "execution_count": 0,
      "outputs": []
    },
    {
      "metadata": {
        "id": "l4Jvzgtogz6y",
        "colab_type": "code",
        "colab": {}
      },
      "cell_type": "code",
      "source": [
        "train_multiclass.loc[(train_multiclass['Class'] =='satan.')|(train_multiclass['Class'] =='ipsweep.') | (train_multiclass['Class'] =='portsweep.') | (train_multiclass['Class'] =='nmap.'),'Class'] = 'probe'"
      ],
      "execution_count": 0,
      "outputs": []
    },
    {
      "metadata": {
        "id": "7T8WQE41gz8Y",
        "colab_type": "code",
        "colab": {}
      },
      "cell_type": "code",
      "source": [
        "train_multiclass.loc[(train_multiclass['Class'] =='spy.')|(train_multiclass['Class'] =='phf.')|(train_multiclass['Class'] =='multihop.')|(train_multiclass['Class'] =='ftp_write.') | (train_multiclass['Class'] =='imap.') | (train_multiclass['Class'] =='warezmaster.') |(train_multiclass['Class'] =='guess_passwd.')| (train_multiclass['Class']=='warezclient.'),'Class'] = 'r2l'"
      ],
      "execution_count": 0,
      "outputs": []
    },
    {
      "metadata": {
        "id": "F_4dm0TVgz-A",
        "colab_type": "code",
        "colab": {}
      },
      "cell_type": "code",
      "source": [
        "train_multiclass.loc[(train_multiclass['Class'] =='buffer_overflow.')|(train_multiclass['Class'] =='rootkit.') | (train_multiclass['Class'] =='loadmodule.') | (train_multiclass['Class'] =='perl.'),'Class']='u2r'"
      ],
      "execution_count": 0,
      "outputs": []
    },
    {
      "metadata": {
        "id": "KDDERrtWgz_p",
        "colab_type": "code",
        "colab": {}
      },
      "cell_type": "code",
      "source": [
        "train_multiclass.loc[(train_multiclass['Class'] =='normal.'),'Class'] = 'normal'"
      ],
      "execution_count": 0,
      "outputs": []
    },
    {
      "metadata": {
        "id": "EXINaBQwfTFI",
        "colab_type": "code",
        "outputId": "82d11b68-2cdd-4fbd-df8b-0ceac835e847",
        "colab": {
          "base_uri": "https://localhost:8080/",
          "height": 51
        }
      },
      "cell_type": "code",
      "source": [
        "attr_encoder = feature_extraction.DictVectorizer(sparse=False)\n",
        "attr_encoder"
      ],
      "execution_count": 134,
      "outputs": [
        {
          "output_type": "execute_result",
          "data": {
            "text/plain": [
              "DictVectorizer(dtype=<type 'numpy.float64'>, separator='=', sort=True,\n",
              "        sparse=False)"
            ]
          },
          "metadata": {
            "tags": []
          },
          "execution_count": 134
        }
      ]
    },
    {
      "metadata": {
        "id": "gN9JUY2YfTIP",
        "colab_type": "code",
        "outputId": "8f627a9c-c6a5-45a4-ad5f-ed7c2f3187b8",
        "colab": {
          "base_uri": "https://localhost:8080/",
          "height": 34
        }
      },
      "cell_type": "code",
      "source": [
        "label_encoder = preprocessing.LabelEncoder()\n",
        "label_encoder"
      ],
      "execution_count": 136,
      "outputs": [
        {
          "output_type": "execute_result",
          "data": {
            "text/plain": [
              "LabelEncoder()"
            ]
          },
          "metadata": {
            "tags": []
          },
          "execution_count": 136
        }
      ]
    },
    {
      "metadata": {
        "id": "67tVxcfnfTJw",
        "colab_type": "code",
        "outputId": "13898a15-7715-4b7c-a1a3-5e54c8696c81",
        "colab": {
          "base_uri": "https://localhost:8080/",
          "height": 34
        }
      },
      "cell_type": "code",
      "source": [
        "train_data_df_m = attr_encoder.fit_transform(train_multiclass.iloc[:,:-1].T.to_dict().values())\n",
        "np.shape(train_data_df_m)"
      ],
      "execution_count": 137,
      "outputs": [
        {
          "output_type": "execute_result",
          "data": {
            "text/plain": [
              "(494050, 118)"
            ]
          },
          "metadata": {
            "tags": []
          },
          "execution_count": 137
        }
      ]
    },
    {
      "metadata": {
        "id": "ckx6w4Z3fTMv",
        "colab_type": "code",
        "outputId": "dcd6e96d-eb5c-4154-de60-22fa7abb2bed",
        "colab": {
          "base_uri": "https://localhost:8080/",
          "height": 34
        }
      },
      "cell_type": "code",
      "source": [
        "train_target_df_m= label_encoder.fit_transform(train_multiclass.iloc[:,-1])  #prediction purose __>target_data\n",
        "np.shape(train_target_df_m)"
      ],
      "execution_count": 138,
      "outputs": [
        {
          "output_type": "execute_result",
          "data": {
            "text/plain": [
              "(494050,)"
            ]
          },
          "metadata": {
            "tags": []
          },
          "execution_count": 138
        }
      ]
    },
    {
      "metadata": {
        "id": "N0HLwJm5fTPx",
        "colab_type": "code",
        "colab": {}
      },
      "cell_type": "code",
      "source": [
        "train_data_decoded_m = pd.DataFrame(train_data_df_m)\n",
        "train_target_decoded_m = pd.DataFrame(train_target_df_m)"
      ],
      "execution_count": 0,
      "outputs": []
    },
    {
      "metadata": {
        "id": "WDbxEfs9fTS4",
        "colab_type": "code",
        "outputId": "55e1e1a1-f18a-4f23-cb1a-c4d1715fcc9c",
        "colab": {
          "base_uri": "https://localhost:8080/",
          "height": 51
        }
      },
      "cell_type": "code",
      "source": [
        "print(np.shape(train_data_decoded_m))\n",
        "print(np.shape(train_target_decoded_m))"
      ],
      "execution_count": 140,
      "outputs": [
        {
          "output_type": "stream",
          "text": [
            "(494050, 118)\n",
            "(494050, 1)\n"
          ],
          "name": "stdout"
        }
      ]
    },
    {
      "metadata": {
        "id": "AqEjbSstfTUp",
        "colab_type": "code",
        "colab": {}
      },
      "cell_type": "code",
      "source": [
        "#load some modules to help\n",
        "from mpl_toolkits.mplot3d import Axes3D\n",
        "from sklearn.decomposition import PCA"
      ],
      "execution_count": 0,
      "outputs": []
    },
    {
      "metadata": {
        "id": "gxdkV_sgfTWR",
        "colab_type": "code",
        "outputId": "685a0b59-697a-42c5-cdbc-bb6f4efddb43",
        "colab": {
          "base_uri": "https://localhost:8080/",
          "height": 34
        }
      },
      "cell_type": "code",
      "source": [
        "train_data_pca2 = PCA(n_components=29).fit_transform(train_data_decoded_m)\n",
        "train_data_pca_df2 = pd.DataFrame(train_data_pca2)\n",
        "np.shape(train_data_pca2)"
      ],
      "execution_count": 142,
      "outputs": [
        {
          "output_type": "execute_result",
          "data": {
            "text/plain": [
              "(494050, 29)"
            ]
          },
          "metadata": {
            "tags": []
          },
          "execution_count": 142
        }
      ]
    },
    {
      "metadata": {
        "id": "j_PpncBVfTZv",
        "colab_type": "code",
        "colab": {}
      },
      "cell_type": "code",
      "source": [
        "#Creating our scaler and applyting it to our dataset after feature reduction\n",
        "standard_scaler = preprocessing.StandardScaler()"
      ],
      "execution_count": 0,
      "outputs": []
    },
    {
      "metadata": {
        "id": "pKTyjRIyfTbK",
        "colab_type": "code",
        "outputId": "0c8ec6e4-37e5-4b31-ba77-6c70561d64dd",
        "colab": {
          "base_uri": "https://localhost:8080/",
          "height": 34
        }
      },
      "cell_type": "code",
      "source": [
        "train_ratio_standard_scaled_values2 = standard_scaler.fit_transform(train_data_pca_df2.values)\n",
        "train_data_scaled2=pd.DataFrame(train_ratio_standard_scaled_values2)\n",
        "np.shape(train_ratio_standard_scaled_values2)"
      ],
      "execution_count": 144,
      "outputs": [
        {
          "output_type": "execute_result",
          "data": {
            "text/plain": [
              "(494050, 29)"
            ]
          },
          "metadata": {
            "tags": []
          },
          "execution_count": 144
        }
      ]
    },
    {
      "metadata": {
        "id": "Bl5uXr1GjT-C",
        "colab_type": "code",
        "colab": {
          "base_uri": "https://localhost:8080/",
          "height": 119
        },
        "outputId": "90caffae-2f1a-4212-a514-e328893bacf3"
      },
      "cell_type": "code",
      "source": [
        "train_multiclass['Class'].value_counts()"
      ],
      "execution_count": 192,
      "outputs": [
        {
          "output_type": "execute_result",
          "data": {
            "text/plain": [
              "DOS_ATTACK    391468\n",
              "normal         97280\n",
              "probe           4111\n",
              "r2l             1134\n",
              "u2r               57\n",
              "Name: Class, dtype: int64"
            ]
          },
          "metadata": {
            "tags": []
          },
          "execution_count": 192
        }
      ]
    },
    {
      "metadata": {
        "id": "eLHdJ0hHLrKO",
        "colab_type": "text"
      },
      "cell_type": "markdown",
      "source": [
        "#classsifier"
      ]
    },
    {
      "metadata": {
        "id": "gR-9v5LPfTgJ",
        "colab_type": "code",
        "outputId": "f228c904-2a40-4260-ccb8-6be25b555bb4",
        "colab": {
          "base_uri": "https://localhost:8080/",
          "height": 85
        }
      },
      "cell_type": "code",
      "source": [
        "clf = svm.SVC(kernel='linear',class_weight=\"balanced\", max_iter=100000000)\n",
        "clf.fit(train_data_scaled2[0:l], train_target_decoded_m[0][0:l])"
      ],
      "execution_count": 152,
      "outputs": [
        {
          "output_type": "execute_result",
          "data": {
            "text/plain": [
              "SVC(C=1.0, cache_size=200, class_weight='balanced', coef0=0.0,\n",
              "  decision_function_shape='ovr', degree=3, gamma='auto_deprecated',\n",
              "  kernel='linear', max_iter=100000000, probability=False,\n",
              "  random_state=None, shrinking=True, tol=0.001, verbose=False)"
            ]
          },
          "metadata": {
            "tags": []
          },
          "execution_count": 152
        }
      ]
    },
    {
      "metadata": {
        "id": "ow9hljLFjYxU",
        "colab_type": "text"
      },
      "cell_type": "markdown",
      "source": [
        "#Prediction"
      ]
    },
    {
      "metadata": {
        "id": "SFk8ZzUZjl3H",
        "colab_type": "code",
        "colab": {
          "base_uri": "https://localhost:8080/",
          "height": 51
        },
        "outputId": "9b6af50e-1fe6-43b7-eda1-960c128f474b"
      },
      "cell_type": "code",
      "source": [
        "actual = train_target_decoded_m[0][l:]\n",
        "np.array(actual)"
      ],
      "execution_count": 154,
      "outputs": [
        {
          "output_type": "execute_result",
          "data": {
            "text/plain": [
              "array([1, 4, 4, 4, 0, 0, 3, 0, 0, 2, 2, 0, 3, 0, 3, 2, 3, 2, 3, 3, 3, 3,\n",
              "       4, 1, 4, 0, 0, 0, 0])"
            ]
          },
          "metadata": {
            "tags": []
          },
          "execution_count": 154
        }
      ]
    },
    {
      "metadata": {
        "id": "pQL2BZfdfTkQ",
        "colab_type": "code",
        "outputId": "66a41ef6-d17f-4f72-b034-05140341cf58",
        "colab": {
          "base_uri": "https://localhost:8080/",
          "height": 51
        }
      },
      "cell_type": "code",
      "source": [
        "pred = clf.predict(train_data_scaled2[l:]) \n",
        "np.array(pred)"
      ],
      "execution_count": 155,
      "outputs": [
        {
          "output_type": "execute_result",
          "data": {
            "text/plain": [
              "array([1, 4, 4, 4, 3, 0, 4, 0, 0, 2, 2, 0, 4, 0, 3, 2, 1, 2, 3, 3, 3, 3,\n",
              "       4, 1, 4, 0, 0, 0, 0])"
            ]
          },
          "metadata": {
            "tags": []
          },
          "execution_count": 155
        }
      ]
    },
    {
      "metadata": {
        "id": "_PhFdSvHpiwJ",
        "colab_type": "text"
      },
      "cell_type": "markdown",
      "source": [
        "#accuracy"
      ]
    },
    {
      "metadata": {
        "id": "nXnvFAIho3j2",
        "colab_type": "code",
        "colab": {
          "base_uri": "https://localhost:8080/",
          "height": 34
        },
        "outputId": "8fff0db8-959a-45e0-d314-0a100d025a2c"
      },
      "cell_type": "code",
      "source": [
        "# how much model is trained\n",
        "clf.score(train_data_scaled2[0:l], train_target_decoded_m[0][0:l])   "
      ],
      "execution_count": 181,
      "outputs": [
        {
          "output_type": "execute_result",
          "data": {
            "text/plain": [
              "0.9963503575758925"
            ]
          },
          "metadata": {
            "tags": []
          },
          "execution_count": 181
        }
      ]
    },
    {
      "metadata": {
        "id": "9sg14QpornJv",
        "colab_type": "code",
        "colab": {
          "base_uri": "https://localhost:8080/",
          "height": 34
        },
        "outputId": "bb493ea8-5a3f-434f-96c0-8c8cb8c8e455"
      },
      "cell_type": "code",
      "source": [
        "# calculate accuracy\n",
        "from sklearn import metrics\n",
        "print((metrics.accuracy_score(actual, pred))*100)   # accuracy of test dataset"
      ],
      "execution_count": 190,
      "outputs": [
        {
          "output_type": "stream",
          "text": [
            "86.20689655172413\n"
          ],
          "name": "stdout"
        }
      ]
    },
    {
      "metadata": {
        "id": "CA9mi25sv7Na",
        "colab_type": "code",
        "colab": {
          "base_uri": "https://localhost:8080/",
          "height": 510
        },
        "outputId": "37d993c1-c017-46cc-90af-889afb2c614b"
      },
      "cell_type": "code",
      "source": [
        "import time\n",
        "for i in pred:\n",
        "    if(i==0):\n",
        "        print(\"DOS_ATTACK\")\n",
        "    elif(i==1):\n",
        "        print(\"NORMAL\")\n",
        "    elif(i==2):\n",
        "        print(\"PROBE_ATTACK\")\n",
        "    elif(i==3):\n",
        "        print(\"R2L_ATTACK\")\n",
        "    else:\n",
        "        print(\"U2R_ATTACK\")"
      ],
      "execution_count": 195,
      "outputs": [
        {
          "output_type": "stream",
          "text": [
            "NORMAL\n",
            "U2R_ATTACK\n",
            "U2R_ATTACK\n",
            "U2R_ATTACK\n",
            "R2L_ATTACK\n",
            "DOS_ATTACK\n",
            "U2R_ATTACK\n",
            "DOS_ATTACK\n",
            "DOS_ATTACK\n",
            "PROBE_ATTACK\n",
            "PROBE_ATTACK\n",
            "DOS_ATTACK\n",
            "U2R_ATTACK\n",
            "DOS_ATTACK\n",
            "R2L_ATTACK\n",
            "PROBE_ATTACK\n",
            "NORMAL\n",
            "PROBE_ATTACK\n",
            "R2L_ATTACK\n",
            "R2L_ATTACK\n",
            "R2L_ATTACK\n",
            "R2L_ATTACK\n",
            "U2R_ATTACK\n",
            "NORMAL\n",
            "U2R_ATTACK\n",
            "DOS_ATTACK\n",
            "DOS_ATTACK\n",
            "DOS_ATTACK\n",
            "DOS_ATTACK\n"
          ],
          "name": "stdout"
        }
      ]
    },
    {
      "metadata": {
        "id": "TEJjROoJpgAZ",
        "colab_type": "text"
      },
      "cell_type": "markdown",
      "source": [
        "#visualization"
      ]
    },
    {
      "metadata": {
        "id": "gbcLsKARiEQp",
        "colab_type": "code",
        "colab": {
          "base_uri": "https://localhost:8080/",
          "height": 375
        },
        "outputId": "a62289ab-c387-408f-ae12-8f281a669211"
      },
      "cell_type": "code",
      "source": [
        "import matplotlib.pyplot as plt\n",
        "plt.subplot(121)\n",
        "plt.title('Actual')\n",
        "plt.plot(actual)\n",
        "plt.grid(False)\n",
        "\n",
        "\n",
        "\n",
        "plt.subplot(122)\n",
        "plt.title('prediction')\n",
        "plt.plot(pred)\n",
        "plt.grid(False)\n",
        "plt.show()"
      ],
      "execution_count": 179,
      "outputs": [
        {
          "output_type": "display_data",
          "data": {
            "image/png": "[encoded data removed]",
            "text/plain": [
              "<Figure size 576x396 with 2 Axes>"
            ]
          },
          "metadata": {
            "tags": []
          }
        }
      ]
    },
    {
      "metadata": {
        "id": "zx5WL75yiEOd",
        "colab_type": "code",
        "colab": {}
      },
      "cell_type": "code",
      "source": [
        ""
      ],
      "execution_count": 0,
      "outputs": []
    }
  ]
}