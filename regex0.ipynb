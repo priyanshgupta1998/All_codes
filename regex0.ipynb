{
  "nbformat": 4,
  "nbformat_minor": 0,
  "metadata": {
    "colab": {
      "name": "TensorFlow with GPU",
      "version": "0.3.2",
      "provenance": [],
      "collapsed_sections": [],
      "include_colab_link": true
    },
    "kernelspec": {
      "name": "python3",
      "display_name": "Python 3"
    },
    "accelerator": "GPU"
  },
  "cells": [
    {
      "cell_type": "markdown",
      "metadata": {
        "id": "view-in-github",
        "colab_type": "text"
      },
      "source": [
        "<a href=\"https://colab.research.google.com/github/priyanshgupta1998/All_codes/blob/master/regex0.ipynb\" target=\"_parent\"><img src=\"https://colab.research.google.com/assets/colab-badge.svg\" alt=\"Open In Colab\"/></a>"
      ]
    },
    {
      "metadata": {
        "id": "kbiW6V_JK2mn",
        "colab_type": "text"
      },
      "cell_type": "markdown",
      "source": [
        "#Code Substitution"
      ]
    },
    {
      "metadata": {
        "id": "7q9YQftjKDmg",
        "colab_type": "code",
        "colab": {
          "base_uri": "https://localhost:8080/",
          "height": 34
        },
        "outputId": "72744e2b-9c6a-4074-fc93-e2b2a3ea424e"
      },
      "cell_type": "code",
      "source": [
        "import re\n",
        "text = \"this example has no mistakes\"\n",
        "ftext= re.findall('[aeiou]',text)\n",
        "print(ftext)"
      ],
      "execution_count": 171,
      "outputs": [
        {
          "output_type": "stream",
          "text": [
            "['i', 'e', 'a', 'e', 'a', 'o', 'i', 'a', 'e']\n"
          ],
          "name": "stdout"
        }
      ]
    },
    {
      "metadata": {
        "id": "qNEI3Yx1Lf8Y",
        "colab_type": "text"
      },
      "cell_type": "markdown",
      "source": [
        "\n",
        "\n",
        "```\n",
        "text = re.sub(pldpattern , newpattern , text)\n",
        "```\n",
        "\n"
      ]
    },
    {
      "metadata": {
        "id": "oulPxKHKKDo4",
        "colab_type": "code",
        "colab": {
          "base_uri": "https://localhost:8080/",
          "height": 34
        },
        "outputId": "cafa2307-5c46-4aa4-b06e-054893ee9c18"
      },
      "cell_type": "code",
      "source": [
        "text = \"this example has no mistakes\"\n",
        "ftext= re.sub('[aeiou]','2',text)\n",
        "print(ftext)"
      ],
      "execution_count": 173,
      "outputs": [
        {
          "output_type": "stream",
          "text": [
            "th2s 2x2mpl2 h2s n2 m2st2k2s\n"
          ],
          "name": "stdout"
        }
      ]
    },
    {
      "metadata": {
        "id": "TG3yt9MZKDtZ",
        "colab_type": "code",
        "colab": {
          "base_uri": "https://localhost:8080/",
          "height": 34
        },
        "outputId": "f84146b0-8cc5-4a22-f3de-0e35df98a39c"
      },
      "cell_type": "code",
      "source": [
        "text = 'house'\n",
        "pattern = 'us'\n",
        "newpat = '1423'\n",
        "print(re.sub(pattern , newpat , text))"
      ],
      "execution_count": 174,
      "outputs": [
        {
          "output_type": "stream",
          "text": [
            "ho1423e\n"
          ],
          "name": "stdout"
        }
      ]
    },
    {
      "metadata": {
        "id": "ZsAMgp5yKDvY",
        "colab_type": "code",
        "colab": {
          "base_uri": "https://localhost:8080/",
          "height": 34
        },
        "outputId": "7d57158d-9262-441b-bbeb-242448dd3fa8"
      },
      "cell_type": "code",
      "source": [
        "text = 'this is not a good society.'\n",
        "pattern = 'not'\n",
        "newpat = ''     #deletion of substring.\n",
        "print(re.sub(pattern , newpat,text))"
      ],
      "execution_count": 176,
      "outputs": [
        {
          "output_type": "stream",
          "text": [
            "this is  a good society.\n"
          ],
          "name": "stdout"
        }
      ]
    },
    {
      "metadata": {
        "id": "86m2pvZQNvno",
        "colab_type": "text"
      },
      "cell_type": "markdown",
      "source": [
        "#deletion of spaces"
      ]
    },
    {
      "metadata": {
        "id": "UbqvnebeKDxe",
        "colab_type": "code",
        "colab": {
          "base_uri": "https://localhost:8080/",
          "height": 34
        },
        "outputId": "06f916ab-e04e-4b7c-8375-7802c8197b1a"
      },
      "cell_type": "code",
      "source": [
        "text = 'this is not a good society.'\n",
        "text = re.sub('\\s+','',text)\n",
        "print(text)"
      ],
      "execution_count": 178,
      "outputs": [
        {
          "output_type": "stream",
          "text": [
            "thisisnotagoodsociety.\n"
          ],
          "name": "stdout"
        }
      ]
    },
    {
      "metadata": {
        "id": "ZvkmKGPZSwJ5",
        "colab_type": "text"
      },
      "cell_type": "markdown",
      "source": [
        "Delete punctuation by adding with escape character(\\)."
      ]
    },
    {
      "metadata": {
        "id": "WkX1R8dkKD0W",
        "colab_type": "code",
        "colab": {
          "base_uri": "https://localhost:8080/",
          "height": 34
        },
        "outputId": "39fd90b8-9520-4197-e960-4b72fcf1f665"
      },
      "cell_type": "code",
      "source": [
        "text = 'this /\\ ! (kajal) is not @ a good s_ociety.'\n",
        "text = re.sub('[\\\\\\_\\@\\(\\)\\-\\.]','',text)\n",
        "print(text)"
      ],
      "execution_count": 182,
      "outputs": [
        {
          "output_type": "stream",
          "text": [
            "this / ! kajal is not  a good society\n"
          ],
          "name": "stdout"
        }
      ]
    },
    {
      "metadata": {
        "id": "39UTz9D6TR1s",
        "colab_type": "text"
      },
      "cell_type": "markdown",
      "source": [
        "\n",
        "\n",
        "```\n",
        "here r --> means raw string . if we don't use the escape character then r'\n",
        "is used with pattern .\n",
        "```\n",
        "\n"
      ]
    },
    {
      "metadata": {
        "id": "TQkOX_Y8KD4M",
        "colab_type": "code",
        "colab": {
          "base_uri": "https://localhost:8080/",
          "height": 34
        },
        "outputId": "95891e0d-bb9f-4ee4-eed5-1d651f05880f"
      },
      "cell_type": "code",
      "source": [
        "text = 'this /\\ ! (kajal) is not @ a good s_ociety.'\n",
        "text = re.sub(r'[\\_@()-.]','',text)\n",
        "print(text)"
      ],
      "execution_count": 183,
      "outputs": [
        {
          "output_type": "stream",
          "text": [
            "this /\\ ! kajal is not  a good society\n"
          ],
          "name": "stdout"
        }
      ]
    },
    {
      "metadata": {
        "id": "b-s7JKjjKD-y",
        "colab_type": "code",
        "colab": {
          "base_uri": "https://localhost:8080/",
          "height": 34
        },
        "outputId": "e87620a9-1ab6-4c10-da4d-11f0d6dbbc78"
      },
      "cell_type": "code",
      "source": [
        "text = 'this /\\ \\ \\ \\ \\ ! (kajal) is not @ a good s_ociety.'\n",
        "text = re.sub(r'[@@@]','',text)  #extra pattern will be removed itself by r.\n",
        "print(text)"
      ],
      "execution_count": 195,
      "outputs": [
        {
          "output_type": "stream",
          "text": [
            "this /\\ \\ \\ \\ \\ ! (kajal) is not  a good s_ociety.\n"
          ],
          "name": "stdout"
        }
      ]
    },
    {
      "metadata": {
        "id": "oxV2l8MKUcva",
        "colab_type": "code",
        "colab": {
          "base_uri": "https://localhost:8080/",
          "height": 34
        },
        "outputId": "11a4355f-f50e-4b22-a721-4ecb93dcf469"
      },
      "cell_type": "code",
      "source": [
        "text = 'this /\\ ! (kajal) is not @ a good s_ociety.'\n",
        "text = re.sub(r'[\\\\]','',text)\n",
        "print(text)"
      ],
      "execution_count": 190,
      "outputs": [
        {
          "output_type": "stream",
          "text": [
            "this / ! (kajal) is not @ a good s_ociety.\n"
          ],
          "name": "stdout"
        }
      ]
    },
    {
      "metadata": {
        "id": "cuqH1Q2BZTG4",
        "colab_type": "text"
      },
      "cell_type": "markdown",
      "source": [
        "#Swap months funciton"
      ]
    },
    {
      "metadata": {
        "id": "5u5JWtrvUcyi",
        "colab_type": "code",
        "colab": {}
      },
      "cell_type": "code",
      "source": [
        "text = 'next Mar or Dec u will come on May or Jan and November.'\n"
      ],
      "execution_count": 0,
      "outputs": []
    },
    {
      "metadata": {
        "id": "I55GL3uMbtbB",
        "colab_type": "code",
        "colab": {}
      },
      "cell_type": "code",
      "source": [
        "def swap_months(text):\n",
        "  months = ['January', 'February', 'March', 'April', 'May', 'June', 'July',\n",
        "              'August', 'September', 'October', 'November', 'December']\n",
        "  smonths = ['Jan', 'Feb', 'Mar', 'Apr', 'May', 'Jun', 'July',\n",
        "              'Aug', 'Sep', 'Oct', 'Nov', 'Dec']\n",
        "  for i in range(0,12):\n",
        "    pattern = smonths[i] + '\\W' \n",
        "    newpat = months[i] + ' '\n",
        "    text = re.sub(pattern , newpat ,text)\n",
        "  return text\n"
      ],
      "execution_count": 0,
      "outputs": []
    },
    {
      "metadata": {
        "id": "gEBPYOYObteT",
        "colab_type": "code",
        "colab": {
          "base_uri": "https://localhost:8080/",
          "height": 34
        },
        "outputId": "05182e98-f02d-4520-d020-a6ac40a415fb"
      },
      "cell_type": "code",
      "source": [
        "print(swap_months(text))"
      ],
      "execution_count": 222,
      "outputs": [
        {
          "output_type": "stream",
          "text": [
            "next March or December u will come on May or January and November.\n"
          ],
          "name": "stdout"
        }
      ]
    },
    {
      "metadata": {
        "id": "p-Xr8EHUeMO4",
        "colab_type": "text"
      },
      "cell_type": "markdown",
      "source": [
        "# Date substitution\n",
        "\n",
        "```\n",
        "r'(january)   \\s\n",
        "     (\\d{1,2})   \\,\\s    -->one digit or two digit \n",
        "      (\\d{4})'    -->4 digit\n",
        "```\n",
        "\n"
      ]
    },
    {
      "metadata": {
        "id": "2CVAzSSXbtiD",
        "colab_type": "code",
        "colab": {
          "base_uri": "https://localhost:8080/",
          "height": 34
        },
        "outputId": "26806ba2-aac3-4c7f-bd0d-296ea8e10212"
      },
      "cell_type": "code",
      "source": [
        "date = 'january 3, 1995'\n",
        "patten = r'(january)\\s(\\d{1,2})\\,\\s(\\d{4})'\n",
        "date = re.sub(patten , r'\\2 \\1 \\3',date)\n",
        "print(date)"
      ],
      "execution_count": 233,
      "outputs": [
        {
          "output_type": "stream",
          "text": [
            "3 january 1995\n"
          ],
          "name": "stdout"
        }
      ]
    },
    {
      "metadata": {
        "id": "u28ir9Q7mUbq",
        "colab_type": "text"
      },
      "cell_type": "markdown",
      "source": [
        "\n",
        "\n",
        "```\n",
        "  \\s*  -->more than one space in a string.\n",
        " (\\d+)    --> more than one digit.\n",
        "```\n",
        "\n"
      ]
    },
    {
      "metadata": {
        "id": "1pHbrvqAn38g",
        "colab_type": "text"
      },
      "cell_type": "markdown",
      "source": [
        "Another example"
      ]
    },
    {
      "metadata": {
        "id": "b95i9I0obtlw",
        "colab_type": "code",
        "colab": {
          "base_uri": "https://localhost:8080/",
          "height": 34
        },
        "outputId": "b7fe0029-92e2-43a7-90d4-f4a7a55b97bf"
      },
      "cell_type": "code",
      "source": [
        "date = '4 , november 1998'\n",
        "pat = r'(\\d+)\\s*\\,\\s*(november)\\s*'\n",
        "newpat = r'\\1-\\2-'\n",
        "date = re.sub(pat ,newpat , date)\n",
        "print(date)"
      ],
      "execution_count": 238,
      "outputs": [
        {
          "output_type": "stream",
          "text": [
            "4-november-1998\n"
          ],
          "name": "stdout"
        }
      ]
    },
    {
      "metadata": {
        "id": "etTh3E9OiiSa",
        "colab_type": "code",
        "colab": {}
      },
      "cell_type": "code",
      "source": [
        ""
      ],
      "execution_count": 0,
      "outputs": []
    },
    {
      "metadata": {
        "id": "uZmtuia9iiWf",
        "colab_type": "code",
        "colab": {}
      },
      "cell_type": "code",
      "source": [
        ""
      ],
      "execution_count": 0,
      "outputs": []
    },
    {
      "metadata": {
        "id": "UHFFqhKoiib_",
        "colab_type": "code",
        "colab": {}
      },
      "cell_type": "code",
      "source": [
        ""
      ],
      "execution_count": 0,
      "outputs": []
    },
    {
      "metadata": {
        "id": "xd0MajT3iifL",
        "colab_type": "code",
        "colab": {}
      },
      "cell_type": "code",
      "source": [
        ""
      ],
      "execution_count": 0,
      "outputs": []
    },
    {
      "metadata": {
        "id": "tLF1tkDUiiaK",
        "colab_type": "code",
        "colab": {}
      },
      "cell_type": "code",
      "source": [
        ""
      ],
      "execution_count": 0,
      "outputs": []
    }
  ]
}