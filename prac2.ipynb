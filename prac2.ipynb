{
  "nbformat": 4,
  "nbformat_minor": 0,
  "metadata": {
    "colab": {
      "name": "TensorFlow_with_GPU (8).ipynb",
      "version": "0.3.2",
      "provenance": [],
      "collapsed_sections": [],
      "include_colab_link": true
    },
    "kernelspec": {
      "name": "python3",
      "display_name": "Python 3"
    },
    "accelerator": "GPU"
  },
  "cells": [
    {
      "cell_type": "markdown",
      "metadata": {
        "id": "view-in-github",
        "colab_type": "text"
      },
      "source": [
        "<a href=\"https://colab.research.google.com/github/priyanshgupta1998/All_codes/blob/master/prac2.ipynb\" target=\"_parent\"><img src=\"https://colab.research.google.com/assets/colab-badge.svg\" alt=\"Open In Colab\"/></a>"
      ]
    },
    {
      "metadata": {
        "id": "P-CtMBm6uxkc",
        "colab_type": "code",
        "outputId": "8519c13b-b9ab-4027-8652-6df0ef6fe1b8",
        "colab": {
          "base_uri": "https://localhost:8080/",
          "height": 34
        }
      },
      "cell_type": "code",
      "source": [
        "print([\"re\"] * 3)"
      ],
      "execution_count": 0,
      "outputs": [
        {
          "output_type": "stream",
          "text": [
            "['re', 're', 're']\n"
          ],
          "name": "stdout"
        }
      ]
    },
    {
      "metadata": {
        "id": "pqvJTTMXp-1u",
        "colab_type": "code",
        "outputId": "b3c8413e-ecc8-493f-f4f7-61f7a586ec37",
        "colab": {
          "base_uri": "https://localhost:8080/",
          "height": 34
        }
      },
      "cell_type": "code",
      "source": [
        "make_list = [[]*4]*5\n",
        "make_list"
      ],
      "execution_count": 0,
      "outputs": [
        {
          "output_type": "execute_result",
          "data": {
            "text/plain": [
              "[[], [], [], [], []]"
            ]
          },
          "metadata": {
            "tags": []
          },
          "execution_count": 2
        }
      ]
    },
    {
      "metadata": {
        "id": "y4e-JfNsqAqh",
        "colab_type": "code",
        "outputId": "35855891-2b93-4ee8-b1d0-7542a7217309",
        "colab": {
          "base_uri": "https://localhost:8080/",
          "height": 68
        }
      },
      "cell_type": "code",
      "source": [
        "n = int(input())\n",
        "p = list(map(int , input().split()))\n",
        "p"
      ],
      "execution_count": 0,
      "outputs": [
        {
          "output_type": "stream",
          "text": [
            "3\n",
            " 2 1 3\n"
          ],
          "name": "stdout"
        },
        {
          "output_type": "execute_result",
          "data": {
            "text/plain": [
              "[2, 1, 3]"
            ]
          },
          "metadata": {
            "tags": []
          },
          "execution_count": 8
        }
      ]
    },
    {
      "metadata": {
        "id": "Lnk72GTXqAtY",
        "colab_type": "code",
        "colab": {}
      },
      "cell_type": "code",
      "source": [
        "for i in range(len(p)):\n",
        "  x=p[p[i]]\n",
        "  p[i] = x"
      ],
      "execution_count": 0,
      "outputs": []
    },
    {
      "metadata": {
        "id": "QHLJmfKjp-5V",
        "colab_type": "code",
        "outputId": "ec974f5e-08f8-45b1-fcaf-ba6900ed8628",
        "colab": {
          "base_uri": "https://localhost:8080/",
          "height": 119
        }
      },
      "cell_type": "code",
      "source": [
        "my_list = ['p','r','o','b','l','e','m']\n",
        "my_list.remove('p')\n",
        "\n",
        "# Output: ['r', 'o', 'b', 'l', 'e', 'm']\n",
        "print(my_list)\n",
        "\n",
        "# Output: 'o'\n",
        "print(my_list.pop(1))\n",
        "\n",
        "# Output: ['r', 'b', 'l', 'e', 'm']\n",
        "print(my_list)\n",
        "\n",
        "# Output: 'm'\n",
        "print(my_list.pop())\n",
        "\n",
        "# Output: ['r', 'b', 'l', 'e']\n",
        "print(my_list)\n",
        "\n",
        "my_list.clear()\n",
        "\n",
        "# Output: []\n",
        "print(my_list)"
      ],
      "execution_count": 0,
      "outputs": [
        {
          "output_type": "stream",
          "text": [
            "['r', 'o', 'b', 'l', 'e', 'm']\n",
            "o\n",
            "['r', 'b', 'l', 'e', 'm']\n",
            "m\n",
            "['r', 'b', 'l', 'e']\n",
            "[]\n"
          ],
          "name": "stdout"
        }
      ]
    },
    {
      "metadata": {
        "id": "5Y7eev0qp-79",
        "colab_type": "code",
        "outputId": "64663265-c8bb-431b-d5c8-71445f1b2be7",
        "colab": {
          "base_uri": "https://localhost:8080/",
          "height": 51
        }
      },
      "cell_type": "code",
      "source": [
        "l = list('1234')\n",
        "print(l)\n",
        "print(l[:0])"
      ],
      "execution_count": 0,
      "outputs": [
        {
          "output_type": "stream",
          "text": [
            "['1', '2', '3', '4']\n",
            "[]\n"
          ],
          "name": "stdout"
        }
      ]
    },
    {
      "metadata": {
        "id": "v9JhHyE3p_Ey",
        "colab_type": "code",
        "colab": {}
      },
      "cell_type": "code",
      "source": [
        ""
      ],
      "execution_count": 0,
      "outputs": []
    },
    {
      "metadata": {
        "id": "B_SrFERJ_Ucb",
        "colab_type": "code",
        "outputId": "0519bea7-81e7-43a5-91c9-e0e35e964ccb",
        "colab": {
          "base_uri": "https://localhost:8080/",
          "height": 34
        }
      },
      "cell_type": "code",
      "source": [
        "elements = list('213')\n",
        "elements[1:]"
      ],
      "execution_count": 0,
      "outputs": [
        {
          "output_type": "execute_result",
          "data": {
            "text/plain": [
              "['1', '3']"
            ]
          },
          "metadata": {
            "tags": []
          },
          "execution_count": 47
        }
      ]
    },
    {
      "metadata": {
        "id": "6znzKCGZp_He",
        "colab_type": "code",
        "outputId": "a625814c-4bcf-4e23-aa74-407e33b42035",
        "colab": {
          "base_uri": "https://localhost:8080/",
          "height": 119
        }
      },
      "cell_type": "code",
      "source": [
        "\n",
        "def permutation(lst):\n",
        "\tif len(lst) == 0: \n",
        "\t\treturn []\n",
        "\tif len(lst) == 1: \n",
        "\t\treturn [lst]\n",
        "\tl = []\n",
        "\tfor i in range(len(lst)): \n",
        "\t    m = lst[i] \n",
        "\t    remLst = lst[:i] + lst[i+1:] \n",
        "\t    for p in permutation(remLst): \n",
        "\t\t    l.append([m] + p) \n",
        "\treturn l\n",
        "data = list('213') \n",
        "for p in permutation(data): \n",
        "\tprint (p)\n"
      ],
      "execution_count": 0,
      "outputs": [
        {
          "output_type": "stream",
          "text": [
            "['2', '1', '3']\n",
            "['2', '3', '1']\n",
            "['1', '2', '3']\n",
            "['1', '3', '2']\n",
            "['3', '2', '1']\n",
            "['3', '1', '2']\n"
          ],
          "name": "stdout"
        }
      ]
    },
    {
      "metadata": {
        "id": "TjFGELSip_Kw",
        "colab_type": "code",
        "outputId": "cb6c89ef-f0d1-4645-da0e-a2d42b540988",
        "colab": {
          "base_uri": "https://localhost:8080/",
          "height": 34
        }
      },
      "cell_type": "code",
      "source": [
        "def all_perms(elements):\n",
        "    if len(elements) <=1:\n",
        "        yield elements   # provide the value to its caller function # and doesn't destroy the \n",
        "    else:\n",
        "        for perm in all_perms(elements[1:]):\n",
        "            for i in range(len(elements)):\n",
        "                yield perm[:i] + elements[0:1] + perm[i:]\n",
        "print(list(all_perms(list('213'))))  "
      ],
      "execution_count": 0,
      "outputs": [
        {
          "output_type": "stream",
          "text": [
            "[['2', '1', '3'], ['1', '2', '3'], ['1', '3', '2'], ['2', '3', '1'], ['3', '2', '1'], ['3', '1', '2']]\n"
          ],
          "name": "stdout"
        }
      ]
    },
    {
      "metadata": {
        "id": "qijKspl4p_Nf",
        "colab_type": "code",
        "colab": {
          "base_uri": "https://localhost:8080/",
          "height": 34
        },
        "outputId": "0908cf84-420e-4b11-d45e-69a8150a1d26"
      },
      "cell_type": "code",
      "source": [
        "#    1 Mile = 1.609344 Kilometers.\n",
        "l = [1 ,78,8,95,478,24,35,68,12,41]\n",
        "max(l)"
      ],
      "execution_count": 3,
      "outputs": [
        {
          "output_type": "execute_result",
          "data": {
            "text/plain": [
              "478"
            ]
          },
          "metadata": {
            "tags": []
          },
          "execution_count": 3
        }
      ]
    }
  ]
}