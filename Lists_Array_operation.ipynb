{
  "nbformat": 4,
  "nbformat_minor": 0,
  "metadata": {
    "colab": {
      "name": "TensorFlow with GPU",
      "version": "0.3.2",
      "provenance": [],
      "collapsed_sections": [],
      "include_colab_link": true
    },
    "kernelspec": {
      "display_name": "Python 3",
      "name": "python3"
    }
  },
  "cells": [
    {
      "cell_type": "markdown",
      "metadata": {
        "id": "view-in-github",
        "colab_type": "text"
      },
      "source": [
        "<a href=\"https://colab.research.google.com/github/priyanshgupta1998/All_codes/blob/master/Lists_Array_operation.ipynb\" target=\"_parent\"><img src=\"https://colab.research.google.com/assets/colab-badge.svg\" alt=\"Open In Colab\"/></a>"
      ]
    },
    {
      "metadata": {
        "id": "YhJDJjVySgjw",
        "colab_type": "text"
      },
      "cell_type": "markdown",
      "source": [
        "#Operation  with lists and arrays "
      ]
    },
    {
      "metadata": {
        "id": "hv0YRkO4TpZE",
        "colab_type": "code",
        "colab": {}
      },
      "cell_type": "code",
      "source": [
        "import math"
      ],
      "execution_count": 0,
      "outputs": []
    },
    {
      "metadata": {
        "id": "h_Zq5BT2Tph9",
        "colab_type": "code",
        "colab": {}
      },
      "cell_type": "code",
      "source": [
        "k = range(10)"
      ],
      "execution_count": 0,
      "outputs": []
    },
    {
      "metadata": {
        "id": "J397OPLaUvj6",
        "colab_type": "code",
        "colab": {}
      },
      "cell_type": "code",
      "source": [
        "l=len(k)"
      ],
      "execution_count": 0,
      "outputs": []
    },
    {
      "metadata": {
        "id": "ENQ-2I4BTpk-",
        "colab_type": "code",
        "colab": {
          "base_uri": "https://localhost:8080/",
          "height": 136
        },
        "outputId": "1f64f641-d627-4ce1-bc24-e742eeea030d"
      },
      "cell_type": "code",
      "source": [
        "print(k)\n",
        "print(len(k))\n",
        "print(k[:])\n",
        "print(k[:2])\n",
        "print(k[::2])\n",
        "print(k[1::2])\n",
        "print(k[1:8:2])"
      ],
      "execution_count": 11,
      "outputs": [
        {
          "output_type": "stream",
          "text": [
            "range(0, 10)\n",
            "10\n",
            "range(0, 10)\n",
            "range(0, 2)\n",
            "range(0, 10, 2)\n",
            "range(1, 10, 2)\n",
            "range(1, 8, 2)\n"
          ],
          "name": "stdout"
        }
      ]
    },
    {
      "metadata": {
        "id": "cRw0WZzKTppN",
        "colab_type": "code",
        "colab": {
          "base_uri": "https://localhost:8080/",
          "height": 119
        },
        "outputId": "f0296003-8c9d-49f0-d4f0-433d4eded382"
      },
      "cell_type": "code",
      "source": [
        "print(list(k))\n",
        "print(list(k[:]))\n",
        "print(list(k[:2]))\n",
        "print(list(k[::2]))\n",
        "print(list(k[1::2]))\n",
        "print(list(k[1:8:2]))"
      ],
      "execution_count": 10,
      "outputs": [
        {
          "output_type": "stream",
          "text": [
            "[0, 1, 2, 3, 4, 5, 6, 7, 8, 9]\n",
            "[0, 1, 2, 3, 4, 5, 6, 7, 8, 9]\n",
            "[0, 1]\n",
            "[0, 2, 4, 6, 8]\n",
            "[1, 3, 5, 7, 9]\n",
            "[1, 3, 5, 7]\n"
          ],
          "name": "stdout"
        }
      ]
    },
    {
      "metadata": {
        "id": "vYlTpvW8ffqZ",
        "colab_type": "code",
        "colab": {
          "base_uri": "https://localhost:8080/",
          "height": 34
        },
        "outputId": "367adf3c-f574-44a2-b6af-e23599dc9fb4"
      },
      "cell_type": "code",
      "source": [
        "arr = list(k[::2])\n",
        "for i in arr:\n",
        "  print(i , end=' ')"
      ],
      "execution_count": 34,
      "outputs": [
        {
          "output_type": "stream",
          "text": [
            "0 2 4 6 8 "
          ],
          "name": "stdout"
        }
      ]
    },
    {
      "metadata": {
        "id": "yZ9vx2B3f4Ps",
        "colab_type": "code",
        "colab": {
          "base_uri": "https://localhost:8080/",
          "height": 34
        },
        "outputId": "2c279464-09a0-4bca-dc58-ad7cf7339162"
      },
      "cell_type": "code",
      "source": [
        "arr = list(k[::2])\n",
        "for i in range(len(arr)):\n",
        "  print(arr[i] , end=' ')"
      ],
      "execution_count": 33,
      "outputs": [
        {
          "output_type": "stream",
          "text": [
            "0 2 4 6 8 "
          ],
          "name": "stdout"
        }
      ]
    },
    {
      "metadata": {
        "id": "Dx0MoinziVEc",
        "colab_type": "code",
        "colab": {
          "base_uri": "https://localhost:8080/",
          "height": 51
        },
        "outputId": "3a479dfb-ded3-4a77-cd34-4f00f95e0fad"
      },
      "cell_type": "code",
      "source": [
        "arr = list(k[::2])\n",
        "print(arr)\n",
        "del arr[2]\n",
        "print(arr)"
      ],
      "execution_count": 40,
      "outputs": [
        {
          "output_type": "stream",
          "text": [
            "[0, 2, 4, 6, 8]\n",
            "[0, 2, 6, 8]\n"
          ],
          "name": "stdout"
        }
      ]
    },
    {
      "metadata": {
        "id": "SdD0xJQEifK0",
        "colab_type": "code",
        "colab": {
          "base_uri": "https://localhost:8080/",
          "height": 51
        },
        "outputId": "e59c5dbd-2835-4c1f-bc3b-8dc2bdfb1765"
      },
      "cell_type": "code",
      "source": [
        "arr = list(k[::2])\n",
        "print(arr)\n",
        "del arr[4]\n",
        "del arr[0]\n",
        "print(arr)"
      ],
      "execution_count": 47,
      "outputs": [
        {
          "output_type": "stream",
          "text": [
            "[0, 2, 4, 6, 8]\n",
            "[2, 4, 6]\n"
          ],
          "name": "stdout"
        }
      ]
    },
    {
      "metadata": {
        "id": "XX4O5WPThYuT",
        "colab_type": "code",
        "colab": {
          "base_uri": "https://localhost:8080/",
          "height": 68
        },
        "outputId": "0e01d725-2de4-4c65-fa4b-a27ad96b5ccb"
      },
      "cell_type": "code",
      "source": [
        "arr = list(k[::2])\n",
        "print(arr)\n",
        "for i in range(2):  # loop will run 2 times  # and every time size of array is decreasing\n",
        "  del arr[3]\n",
        "  print(arr)"
      ],
      "execution_count": 51,
      "outputs": [
        {
          "output_type": "stream",
          "text": [
            "[0, 2, 4, 6, 8]\n",
            "[0, 2, 4, 8]\n",
            "[0, 2, 4]\n"
          ],
          "name": "stdout"
        }
      ]
    },
    {
      "metadata": {
        "id": "mqnX0TZqkAP6",
        "colab_type": "code",
        "colab": {
          "base_uri": "https://localhost:8080/",
          "height": 119
        },
        "outputId": "e15b77da-466f-4c78-f656-be63634deb14"
      },
      "cell_type": "code",
      "source": [
        "arr = list(k[::2])\n",
        "print(arr)\n",
        "for _ in range(len(arr)): \n",
        "  del arr[0]\n",
        "  print(arr)"
      ],
      "execution_count": 66,
      "outputs": [
        {
          "output_type": "stream",
          "text": [
            "[0, 2, 4, 6, 8]\n",
            "[2, 4, 6, 8]\n",
            "[4, 6, 8]\n",
            "[6, 8]\n",
            "[8]\n",
            "[]\n"
          ],
          "name": "stdout"
        }
      ]
    },
    {
      "metadata": {
        "id": "MHw-9ff2jLzh",
        "colab_type": "code",
        "colab": {
          "base_uri": "https://localhost:8080/",
          "height": 68
        },
        "outputId": "28400401-a9c6-417d-e810-b1deaa114a89"
      },
      "cell_type": "code",
      "source": [
        "arr = list(k[::2])\n",
        "print(len(k)-len(arr))\n",
        "for i in range(len(arr)):\n",
        "  del arr[0]\n",
        "print(len(k))\n",
        "print(len(arr))"
      ],
      "execution_count": 72,
      "outputs": [
        {
          "output_type": "stream",
          "text": [
            "5\n",
            "10\n",
            "0\n"
          ],
          "name": "stdout"
        }
      ]
    },
    {
      "metadata": {
        "id": "CAIaVYpn5wE8",
        "colab_type": "text"
      },
      "cell_type": "markdown",
      "source": [
        "**EXAMPLE 3:**"
      ]
    },
    {
      "metadata": {
        "id": "JERmsanhwc45",
        "colab_type": "code",
        "colab": {
          "base_uri": "https://localhost:8080/",
          "height": 68
        },
        "outputId": "1fb87d61-cf96-4a4c-a86c-e956700ba597"
      },
      "cell_type": "code",
      "source": [
        "s = range(10)\n",
        "l = len(list(s[::2]))\n",
        "print(s[4])\n",
        "print(type(s))\n",
        "print(list(s))"
      ],
      "execution_count": 87,
      "outputs": [
        {
          "output_type": "stream",
          "text": [
            "4\n",
            "<class 'range'>\n",
            "[0, 1, 2, 3, 4, 5, 6, 7, 8, 9]\n"
          ],
          "name": "stdout"
        }
      ]
    },
    {
      "metadata": {
        "id": "gydZAN2MQ54v",
        "colab_type": "code",
        "colab": {
          "base_uri": "https://localhost:8080/",
          "height": 34
        },
        "outputId": "7eb8b518-ea8d-43cf-e156-ef67d81b83c9"
      },
      "cell_type": "code",
      "source": [
        "mylist = range(10)\n",
        "l=len(mylist) / 2\n",
        "print(l)"
      ],
      "execution_count": 223,
      "outputs": [
        {
          "output_type": "stream",
          "text": [
            "5.0\n"
          ],
          "name": "stdout"
        }
      ]
    },
    {
      "metadata": {
        "id": "2dDgGbR_Qy87",
        "colab_type": "text"
      },
      "cell_type": "markdown",
      "source": [
        "# Lists"
      ]
    },
    {
      "metadata": {
        "id": "xjW-MxzKwcyq",
        "colab_type": "code",
        "colab": {
          "base_uri": "https://localhost:8080/",
          "height": 51
        },
        "outputId": "8c58a8ee-07e5-4772-b8c6-9387c5378b91"
      },
      "cell_type": "code",
      "source": [
        "a=[1,2,3]\n",
        "print(a.remove(2))\n",
        "a"
      ],
      "execution_count": 89,
      "outputs": [
        {
          "output_type": "stream",
          "text": [
            "None\n"
          ],
          "name": "stdout"
        },
        {
          "output_type": "execute_result",
          "data": {
            "text/plain": [
              "[1, 3]"
            ]
          },
          "metadata": {
            "tags": []
          },
          "execution_count": 89
        }
      ]
    },
    {
      "metadata": {
        "id": "QFW3MouwwcsS",
        "colab_type": "code",
        "colab": {
          "base_uri": "https://localhost:8080/",
          "height": 51
        },
        "outputId": "ac5a8cd8-0c09-4ed9-8705-6d3ed840f0b6"
      },
      "cell_type": "code",
      "source": [
        "a=[1,2,3]\n",
        "print(type(a))\n",
        "del a[1]\n",
        "a"
      ],
      "execution_count": 91,
      "outputs": [
        {
          "output_type": "stream",
          "text": [
            "<class 'list'>\n"
          ],
          "name": "stdout"
        },
        {
          "output_type": "execute_result",
          "data": {
            "text/plain": [
              "[1, 3]"
            ]
          },
          "metadata": {
            "tags": []
          },
          "execution_count": 91
        }
      ]
    },
    {
      "metadata": {
        "id": "Ho0pJFYYwcp_",
        "colab_type": "code",
        "colab": {
          "base_uri": "https://localhost:8080/",
          "height": 51
        },
        "outputId": "b7ba9eba-d990-46b4-c202-58c0fefb65f0"
      },
      "cell_type": "code",
      "source": [
        "a= [1,2,3]\n",
        "print(a.pop(1))  # it returns the element\n",
        "print(a)"
      ],
      "execution_count": 92,
      "outputs": [
        {
          "output_type": "stream",
          "text": [
            "2\n",
            "[1, 3]\n"
          ],
          "name": "stdout"
        }
      ]
    },
    {
      "metadata": {
        "id": "i11Nj7SOwcoO",
        "colab_type": "code",
        "colab": {
          "base_uri": "https://localhost:8080/",
          "height": 34
        },
        "outputId": "ee60cff6-a9ae-4f78-87d7-2bcfeeaf44da"
      },
      "cell_type": "code",
      "source": [
        "a = [0,2,2, 3, 2]\n",
        "a.remove(2)   # remove one element at a time\n",
        "a"
      ],
      "execution_count": 94,
      "outputs": [
        {
          "output_type": "execute_result",
          "data": {
            "text/plain": [
              "[0, 2, 3, 2]"
            ]
          },
          "metadata": {
            "tags": []
          },
          "execution_count": 94
        }
      ]
    },
    {
      "metadata": {
        "id": "qD8dFLnWwch_",
        "colab_type": "code",
        "colab": {
          "base_uri": "https://localhost:8080/",
          "height": 34
        },
        "outputId": "a02dba67-b1e1-40ce-e789-f0e8a1430755"
      },
      "cell_type": "code",
      "source": [
        "lst = [3, 2, 2, 1]   \n",
        "del lst[1:]     # delete the items from 1st index\n",
        "print(lst)"
      ],
      "execution_count": 95,
      "outputs": [
        {
          "output_type": "stream",
          "text": [
            "[3]\n"
          ],
          "name": "stdout"
        }
      ]
    },
    {
      "metadata": {
        "id": "nj7SnyEzzKbT",
        "colab_type": "code",
        "colab": {
          "base_uri": "https://localhost:8080/",
          "height": 51
        },
        "outputId": "af09e6da-f707-4725-de95-08204092043a"
      },
      "cell_type": "code",
      "source": [
        "lst = [3, 2, 2, 1,8,7,4,5]   \n",
        "print(lst[1:5])\n",
        "del lst[1:5]     # delete the items from 1st index  upto 4th index\n",
        "print(lst)"
      ],
      "execution_count": 97,
      "outputs": [
        {
          "output_type": "stream",
          "text": [
            "[2, 2, 1, 8]\n",
            "[3, 7, 4, 5]\n"
          ],
          "name": "stdout"
        }
      ]
    },
    {
      "metadata": {
        "id": "En4wGQgBzLdL",
        "colab_type": "code",
        "colab": {
          "base_uri": "https://localhost:8080/",
          "height": 34
        },
        "outputId": "e43adb5e-e0ea-484f-c3ec-6c6532beb384"
      },
      "cell_type": "code",
      "source": [
        "lst = [3, 2, 2, 1]\n",
        "del lst[10:]   # avoid the error\n",
        "lst"
      ],
      "execution_count": 98,
      "outputs": [
        {
          "output_type": "execute_result",
          "data": {
            "text/plain": [
              "[3, 2, 2, 1]"
            ]
          },
          "metadata": {
            "tags": []
          },
          "execution_count": 98
        }
      ]
    },
    {
      "metadata": {
        "id": "hTuhs93XzLZm",
        "colab_type": "code",
        "colab": {
          "base_uri": "https://localhost:8080/",
          "height": 51
        },
        "outputId": "38072321-6b96-48a6-b852-62a6633add4c"
      },
      "cell_type": "code",
      "source": [
        "a = [0, 2, 3, 2, 1, 4, 6, 5, 7]\n",
        "print(a.pop())     # remove from the end\n",
        "print(a)"
      ],
      "execution_count": 100,
      "outputs": [
        {
          "output_type": "stream",
          "text": [
            "7\n",
            "[0, 2, 3, 2, 1, 4, 6, 5]\n"
          ],
          "name": "stdout"
        }
      ]
    },
    {
      "metadata": {
        "id": "opkzbWnEzLX0",
        "colab_type": "code",
        "colab": {}
      },
      "cell_type": "code",
      "source": [
        "a = [0, 1, 4, 6, 5]\n",
        "del (a)     #delete the whole list \n",
        "# print(a)    # will give an error b'coz list is not present Now."
      ],
      "execution_count": 0,
      "outputs": []
    },
    {
      "metadata": {
        "id": "Xh3x1EEczLTv",
        "colab_type": "code",
        "colab": {
          "base_uri": "https://localhost:8080/",
          "height": 51
        },
        "outputId": "ac0e5d18-1a42-4de8-93ae-aea3b5007264"
      },
      "cell_type": "code",
      "source": [
        "list_ez=[1,2,3,4,5,6,7,8]\n",
        "print('original value : ',end=' ')\n",
        "for i in list_ez:\n",
        "  print(i,end=' ')\n",
        "print('')\n",
        "\n",
        "for i in list_ez:\n",
        "    if i%2==0:\n",
        "        list_ez.remove(i)\n",
        "print('after deletion remain values : ',end=' ')\n",
        "print(list_ez)"
      ],
      "execution_count": 120,
      "outputs": [
        {
          "output_type": "stream",
          "text": [
            "original value :  1 2 3 4 5 6 7 8 \n",
            "after deletion remain values :  [1, 3, 5, 7]\n"
          ],
          "name": "stdout"
        }
      ]
    },
    {
      "metadata": {
        "id": "M4D2zl7234tI",
        "colab_type": "text"
      },
      "cell_type": "markdown",
      "source": [
        "# Set() funtion "
      ]
    },
    {
      "metadata": {
        "id": "gcCaEa6C4Idv",
        "colab_type": "text"
      },
      "cell_type": "markdown",
      "source": [
        "**EXAMPLE 1:**"
      ]
    },
    {
      "metadata": {
        "id": "kPNfNBUXzLRK",
        "colab_type": "code",
        "colab": {
          "base_uri": "https://localhost:8080/",
          "height": 51
        },
        "outputId": "cd753924-109d-4ba7-c505-7da7abe91966"
      },
      "cell_type": "code",
      "source": [
        "print(range(10))\n",
        "print(set(range(10)))"
      ],
      "execution_count": 124,
      "outputs": [
        {
          "output_type": "stream",
          "text": [
            "range(0, 10)\n",
            "{0, 1, 2, 3, 4, 5, 6, 7, 8, 9}\n"
          ],
          "name": "stdout"
        }
      ]
    },
    {
      "metadata": {
        "id": "tqp5lbKi3aVk",
        "colab_type": "code",
        "colab": {
          "base_uri": "https://localhost:8080/",
          "height": 68
        },
        "outputId": "15175539-aa64-4a83-c011-0f1ee38bedaf"
      },
      "cell_type": "code",
      "source": [
        "se  = set(range(10))\n",
        "print(len(se))\n",
        "print(se.discard(11))\n",
        "print(se)"
      ],
      "execution_count": 127,
      "outputs": [
        {
          "output_type": "stream",
          "text": [
            "10\n",
            "None\n",
            "{0, 1, 2, 3, 4, 5, 6, 7, 8, 9}\n"
          ],
          "name": "stdout"
        }
      ]
    },
    {
      "metadata": {
        "id": "eNNfDFTOzLM3",
        "colab_type": "code",
        "colab": {
          "base_uri": "https://localhost:8080/",
          "height": 68
        },
        "outputId": "8d85f92d-7af1-46bf-9d4b-898bd43cdbd5"
      },
      "cell_type": "code",
      "source": [
        "se  = set(range(10))\n",
        "print(len(se))\n",
        "print(se.discard(8))\n",
        "print(se)"
      ],
      "execution_count": 128,
      "outputs": [
        {
          "output_type": "stream",
          "text": [
            "10\n",
            "None\n",
            "{0, 1, 2, 3, 4, 5, 6, 7, 9}\n"
          ],
          "name": "stdout"
        }
      ]
    },
    {
      "metadata": {
        "id": "s5nD1vqn4C5N",
        "colab_type": "text"
      },
      "cell_type": "markdown",
      "source": [
        "**EXAMPLE 2:**"
      ]
    },
    {
      "metadata": {
        "id": "1FdH9BvdzLJE",
        "colab_type": "code",
        "colab": {
          "base_uri": "https://localhost:8080/",
          "height": 51
        },
        "outputId": "d84afd36-7b61-4680-8353-38fbb0c75706"
      },
      "cell_type": "code",
      "source": [
        "sk = set([1,7,8,9,7,4,6,5])   # conver list to set() datatype\n",
        "print(type(sk))\n",
        "print(sk)  # set() is collection of ordered items and doesn't have any duplicate item."
      ],
      "execution_count": 137,
      "outputs": [
        {
          "output_type": "stream",
          "text": [
            "<class 'set'>\n",
            "{1, 4, 5, 6, 7, 8, 9}\n"
          ],
          "name": "stdout"
        }
      ]
    },
    {
      "metadata": {
        "id": "CfGUwv5MzLFq",
        "colab_type": "code",
        "colab": {
          "base_uri": "https://localhost:8080/",
          "height": 102
        },
        "outputId": "9507e923-4b2f-4d7f-8ee4-129718ceb5ec"
      },
      "cell_type": "code",
      "source": [
        "print(sk)\n",
        "print(len(sk))\n",
        "print(sk.discard(4))   # remove that item/value from the set \n",
        "print(len(sk))\n",
        "print(sk)"
      ],
      "execution_count": 138,
      "outputs": [
        {
          "output_type": "stream",
          "text": [
            "{1, 4, 5, 6, 7, 8, 9}\n",
            "7\n",
            "None\n",
            "6\n",
            "{1, 5, 6, 7, 8, 9}\n"
          ],
          "name": "stdout"
        }
      ]
    },
    {
      "metadata": {
        "id": "kAP_g-XN40hD",
        "colab_type": "code",
        "colab": {
          "base_uri": "https://localhost:8080/",
          "height": 34
        },
        "outputId": "be2c5598-03aa-426c-af2b-60c5f2e70052"
      },
      "cell_type": "code",
      "source": [
        "for i in sk:\n",
        "  print(i,end=' ')"
      ],
      "execution_count": 134,
      "outputs": [
        {
          "output_type": "stream",
          "text": [
            "1 5 6 7 8 9 "
          ],
          "name": "stdout"
        }
      ]
    },
    {
      "metadata": {
        "id": "UmbTCAVP8twd",
        "colab_type": "text"
      },
      "cell_type": "markdown",
      "source": [
        "#List operations"
      ]
    },
    {
      "metadata": {
        "id": "Mr8H93uH40fL",
        "colab_type": "code",
        "colab": {
          "base_uri": "https://localhost:8080/",
          "height": 34
        },
        "outputId": "520f7712-a6ae-44c4-8c0a-f22bf4c745fa"
      },
      "cell_type": "code",
      "source": [
        "lss = ['larry', 'curly', 'moe']\n",
        "lss.append('shemp')         ## append elem at end\n",
        "lss"
      ],
      "execution_count": 150,
      "outputs": [
        {
          "output_type": "execute_result",
          "data": {
            "text/plain": [
              "['larry', 'curly', 'moe', 'shemp']"
            ]
          },
          "metadata": {
            "tags": []
          },
          "execution_count": 150
        }
      ]
    },
    {
      "metadata": {
        "id": "zaJXnUN340dT",
        "colab_type": "code",
        "colab": {
          "base_uri": "https://localhost:8080/",
          "height": 51
        },
        "outputId": "2b4883db-dd6f-4883-9826-1cb3eb2bf388"
      },
      "cell_type": "code",
      "source": [
        "lss = ['larry', 'curly', 'moe']\n",
        "lss.insert(3, 'piyush')        ## insert elem at index 3   # take position as argument\n",
        "print(lss)\n",
        "lss.index('piyush')"
      ],
      "execution_count": 156,
      "outputs": [
        {
          "output_type": "stream",
          "text": [
            "['larry', 'curly', 'moe', 'piyush']\n"
          ],
          "name": "stdout"
        },
        {
          "output_type": "execute_result",
          "data": {
            "text/plain": [
              "3"
            ]
          },
          "metadata": {
            "tags": []
          },
          "execution_count": 156
        }
      ]
    },
    {
      "metadata": {
        "id": "y7XYmcy89Yi9",
        "colab_type": "code",
        "colab": {
          "base_uri": "https://localhost:8080/",
          "height": 51
        },
        "outputId": "8d5cd2ed-dc33-4351-d216-a20ed304bcc9"
      },
      "cell_type": "code",
      "source": [
        "lss = ['larry', 'curly', 'moe']\n",
        "lss.insert(4, 'piyush')        ## insert elem at index 4   # take position as argument\n",
        "print(lss)\n",
        "lss.index('piyush')"
      ],
      "execution_count": 158,
      "outputs": [
        {
          "output_type": "stream",
          "text": [
            "['larry', 'curly', 'moe', 'piyush']\n"
          ],
          "name": "stdout"
        },
        {
          "output_type": "execute_result",
          "data": {
            "text/plain": [
              "3"
            ]
          },
          "metadata": {
            "tags": []
          },
          "execution_count": 158
        }
      ]
    },
    {
      "metadata": {
        "id": "7jiGfzVC40bX",
        "colab_type": "code",
        "colab": {
          "base_uri": "https://localhost:8080/",
          "height": 34
        },
        "outputId": "93c09f14-1d81-40e5-94c1-9a3f35ad15e4"
      },
      "cell_type": "code",
      "source": [
        "lss = ['larry', 'curly', 'moe']\n",
        "lss.extend(['banana', 'grapes'])      # add the elements  at end of the list\n",
        "print(lss)"
      ],
      "execution_count": 159,
      "outputs": [
        {
          "output_type": "stream",
          "text": [
            "['larry', 'curly', 'moe', 'banana', 'grapes']\n"
          ],
          "name": "stdout"
        }
      ]
    },
    {
      "metadata": {
        "id": "V_Db8I9940ZV",
        "colab_type": "code",
        "colab": {
          "base_uri": "https://localhost:8080/",
          "height": 34
        },
        "outputId": "99b8894a-6faf-4971-8b24-1ca878d70e82"
      },
      "cell_type": "code",
      "source": [
        "lss.remove('curly')         ## search and remove that element\n",
        "print(lss)"
      ],
      "execution_count": 160,
      "outputs": [
        {
          "output_type": "stream",
          "text": [
            "['larry', 'moe', 'banana', 'grapes']\n"
          ],
          "name": "stdout"
        }
      ]
    },
    {
      "metadata": {
        "id": "5vSXfkK440Xf",
        "colab_type": "code",
        "colab": {
          "base_uri": "https://localhost:8080/",
          "height": 51
        },
        "outputId": "bb815a58-d031-4ce7-9c92-e460d16a01ee"
      },
      "cell_type": "code",
      "source": [
        "print(lss.pop(1)) # remove and returns the delteted element\n",
        "print(lss)"
      ],
      "execution_count": 161,
      "outputs": [
        {
          "output_type": "stream",
          "text": [
            "moe\n",
            "['larry', 'banana', 'grapes']\n"
          ],
          "name": "stdout"
        }
      ]
    },
    {
      "metadata": {
        "id": "tk6EAMzV40Va",
        "colab_type": "code",
        "colab": {
          "base_uri": "https://localhost:8080/",
          "height": 34
        },
        "outputId": "9659ad64-1aa5-41e1-8449-73c84a0cb1ed"
      },
      "cell_type": "code",
      "source": [
        " lss = [1, 2, 3,5,8,7]\n",
        "lss.append(4)    # append the value 4 ata the end\n",
        "lss"
      ],
      "execution_count": 162,
      "outputs": [
        {
          "output_type": "execute_result",
          "data": {
            "text/plain": [
              "[1, 2, 3, 5, 8, 7, 4]"
            ]
          },
          "metadata": {
            "tags": []
          },
          "execution_count": 162
        }
      ]
    },
    {
      "metadata": {
        "id": "EV_Tjzj240S_",
        "colab_type": "code",
        "colab": {
          "base_uri": "https://localhost:8080/",
          "height": 238
        },
        "outputId": "c487cfa2-977d-43ee-a923-78046c6843d8"
      },
      "cell_type": "code",
      "source": [
        "lss = ['a', 'b', 'c', 'd','e','f']\n",
        "print(lss[1:])\n",
        "\n",
        "print('')\n",
        "print(lss[:-1])   # all Print except the last element of the list\n",
        "\n",
        "print('')\n",
        "print(lss[1:-1]) \n",
        "\n",
        "print('')\n",
        "lss[0:2] = 'z'    ## replace ['a', 'b'] with ['z']\n",
        "print(lss)\n",
        "\n",
        "print('')\n",
        "lss.append([\"a\", \"true\"])       # append( )   method can  add only one item at a time\n",
        "print(lss)\n",
        "\n",
        "print('')\n",
        "lss.extend([\"yes\", \"No\"])      # extend() method\n",
        "print(lss) \n",
        "\n",
        "print('')\n",
        "lss = lss + [\"sure\"]   # merge two lists together\n",
        "print(lss)"
      ],
      "execution_count": 168,
      "outputs": [
        {
          "output_type": "stream",
          "text": [
            "['b', 'c', 'd', 'e', 'f']\n",
            "\n",
            "['a', 'b', 'c', 'd', 'e']\n",
            "\n",
            "['b', 'c', 'd', 'e']\n",
            "\n",
            "['z', 'c', 'd', 'e', 'f']\n",
            "\n",
            "['z', 'c', 'd', 'e', 'f', ['a', 'true']]\n",
            "\n",
            "['z', 'c', 'd', 'e', 'f', ['a', 'true'], 'yes', 'No']\n",
            "\n",
            "['z', 'c', 'd', 'e', 'f', ['a', 'true'], 'yes', 'No', 'sure']\n"
          ],
          "name": "stdout"
        }
      ]
    },
    {
      "metadata": {
        "id": "Lb2HF37I40PB",
        "colab_type": "code",
        "colab": {
          "base_uri": "https://localhost:8080/",
          "height": 34
        },
        "outputId": "1031f3b6-01aa-4d22-ca04-c25530ad9c41"
      },
      "cell_type": "code",
      "source": [
        "lss = ['a','b','v']\n",
        "print(lss*2)   # repeat all the elements 2 times inside a list"
      ],
      "execution_count": 169,
      "outputs": [
        {
          "output_type": "stream",
          "text": [
            "['a', 'b', 'v', 'a', 'b', 'v']\n"
          ],
          "name": "stdout"
        }
      ]
    },
    {
      "metadata": {
        "id": "T4XqlM-5DIkH",
        "colab_type": "code",
        "colab": {
          "base_uri": "https://localhost:8080/",
          "height": 51
        },
        "outputId": "a4c58181-3590-46de-89f3-0ca62771a92f"
      },
      "cell_type": "code",
      "source": [
        "lss = []\n",
        "print(type(lss))\n",
        "print(len(lss))"
      ],
      "execution_count": 176,
      "outputs": [
        {
          "output_type": "stream",
          "text": [
            "<class 'list'>\n",
            "0\n"
          ],
          "name": "stdout"
        }
      ]
    },
    {
      "metadata": {
        "id": "u2GOK1dyEatN",
        "colab_type": "text"
      },
      "cell_type": "markdown",
      "source": [
        "**Example 3:**"
      ]
    },
    {
      "metadata": {
        "id": "4Cxv-K8EDXFO",
        "colab_type": "code",
        "colab": {
          "base_uri": "https://localhost:8080/",
          "height": 51
        },
        "outputId": "4cef2ef9-61b9-4204-b782-2fe9c3c14644"
      },
      "cell_type": "code",
      "source": [
        "N = int(input())\n",
        "for i in range(N):\n",
        "  print(i,end=' ')"
      ],
      "execution_count": 178,
      "outputs": [
        {
          "output_type": "stream",
          "text": [
            "5\n",
            "0 1 2 3 4 "
          ],
          "name": "stdout"
        }
      ]
    },
    {
      "metadata": {
        "id": "hFhTysXQDhob",
        "colab_type": "code",
        "colab": {}
      },
      "cell_type": "code",
      "source": [
        "for i in range(N):\n",
        "  lss[i] = list(int(input()))"
      ],
      "execution_count": 0,
      "outputs": []
    },
    {
      "metadata": {
        "id": "Zw6sgcCFELsM",
        "colab_type": "code",
        "colab": {
          "base_uri": "https://localhost:8080/",
          "height": 119
        },
        "outputId": "6ffd773b-4393-4977-9bae-2525e551cbec"
      },
      "cell_type": "code",
      "source": [
        "for i in range(N):\n",
        "  print(list(str(int(input()))) , end=' ')\n",
        "  "
      ],
      "execution_count": 182,
      "outputs": [
        {
          "output_type": "stream",
          "text": [
            "5\n",
            "['5'] 3\n",
            "['3'] 6\n",
            "['6'] 8\n",
            "['8'] 9\n",
            "['9'] "
          ],
          "name": "stdout"
        }
      ]
    },
    {
      "metadata": {
        "id": "kgBpecxYCcRJ",
        "colab_type": "code",
        "colab": {
          "base_uri": "https://localhost:8080/",
          "height": 34
        },
        "outputId": "312dd182-1ae4-4622-8919-41dead766f41"
      },
      "cell_type": "code",
      "source": [
        "po = ['a','b','n','m']\n",
        "po[2] = '5'\n",
        "print(po)"
      ],
      "execution_count": 181,
      "outputs": [
        {
          "output_type": "stream",
          "text": [
            "['a', 'b', '5', 'm']\n"
          ],
          "name": "stdout"
        }
      ]
    },
    {
      "metadata": {
        "id": "dlcy3aCDE72k",
        "colab_type": "text"
      },
      "cell_type": "markdown",
      "source": [
        "**Important**"
      ]
    },
    {
      "metadata": {
        "id": "a1BUWCZGElW8",
        "colab_type": "code",
        "colab": {
          "base_uri": "https://localhost:8080/",
          "height": 34
        },
        "outputId": "98d965f0-2a95-448f-f0fe-b116ff3f468a"
      },
      "cell_type": "code",
      "source": [
        "jk = []\n",
        "jk += ['h']\n",
        "jk += ['f']\n",
        "print(jk)"
      ],
      "execution_count": 187,
      "outputs": [
        {
          "output_type": "stream",
          "text": [
            "['h', 'f']\n"
          ],
          "name": "stdout"
        }
      ]
    },
    {
      "metadata": {
        "id": "lk5F5JpECcNG",
        "colab_type": "code",
        "colab": {
          "base_uri": "https://localhost:8080/",
          "height": 136
        },
        "outputId": "fd2f9b27-5d54-40b4-dcd7-c49bdc78da5d"
      },
      "cell_type": "code",
      "source": [
        "arr = []\n",
        "N = int(input())\n",
        "for i in range(N):\n",
        "  arr += list(str(int(input())))\n",
        "  \n",
        "print(arr)"
      ],
      "execution_count": 190,
      "outputs": [
        {
          "output_type": "stream",
          "text": [
            "5\n",
            "4\n",
            "6\n",
            "8\n",
            "10\n",
            "7\n",
            "['4', '6', '8', '1', '0', '7']\n"
          ],
          "name": "stdout"
        }
      ]
    },
    {
      "metadata": {
        "id": "DhjdjBCSKa2e",
        "colab_type": "text"
      },
      "cell_type": "markdown",
      "source": [
        "# Remove the element from the given position"
      ]
    },
    {
      "metadata": {
        "id": "JP2cWkY5F_5W",
        "colab_type": "code",
        "colab": {
          "base_uri": "https://localhost:8080/",
          "height": 136
        },
        "outputId": "c7832feb-cc6e-4277-a726-769a8b9bbad9"
      },
      "cell_type": "code",
      "source": [
        "arr = []\n",
        "N = int(input())\n",
        "for i in range(N):\n",
        "  g =input() \n",
        "  arr.append(str(g)) \n",
        "\n",
        "  \n",
        "print(arr)\n"
      ],
      "execution_count": 207,
      "outputs": [
        {
          "output_type": "stream",
          "text": [
            "5\n",
            "4\n",
            "6\n",
            "8\n",
            "10\n",
            "7\n",
            "['4', '6', '8', '10', '7']\n"
          ],
          "name": "stdout"
        }
      ]
    },
    {
      "metadata": {
        "id": "JFcq9w1NKraa",
        "colab_type": "code",
        "colab": {
          "base_uri": "https://localhost:8080/",
          "height": 153
        },
        "outputId": "22d93b9a-79c0-4aa1-cdde-4b0b1fd6f1d4"
      },
      "cell_type": "code",
      "source": [
        "arr = []\n",
        "N = int(input(' Enter the No. of inputs : '))\n",
        "for i in range(N):\n",
        "  g =input('Enter the element : ') \n",
        "  arr.append(str(g))\n",
        "  \n",
        "pos = int(input('Enter the position : '))\n",
        "a=pos-1\n",
        "b=N-1\n",
        "for i in range(a,b):\n",
        "  arr[i] = arr[i+1]\n",
        "  \n",
        "for i in range(b):\n",
        "  print(arr[i] , end= ' ')  \n",
        "\n",
        "  \n",
        "#print(arr)"
      ],
      "execution_count": 213,
      "outputs": [
        {
          "output_type": "stream",
          "text": [
            " Enter the No. of inputs : 5\n",
            "Enter the element : 4\n",
            "Enter the element : 6\n",
            "Enter the element : 8\n",
            "Enter the element : 10\n",
            "Enter the element : 7\n",
            "Enter the position : 3\n",
            "4 6 10 7 "
          ],
          "name": "stdout"
        }
      ]
    },
    {
      "metadata": {
        "id": "dgJPb7zOHkR4",
        "colab_type": "code",
        "colab": {
          "base_uri": "https://localhost:8080/",
          "height": 85
        },
        "outputId": "1238f834-94a3-4e6c-f292-02467fad75ef"
      },
      "cell_type": "code",
      "source": [
        "j=0\n",
        "N = int(input())\n",
        "for i in range(N):\n",
        "  g =int(input())\n",
        "  j+=g\n",
        "print(j)"
      ],
      "execution_count": 194,
      "outputs": [
        {
          "output_type": "stream",
          "text": [
            "2\n",
            "10\n",
            "36\n",
            "46\n"
          ],
          "name": "stdout"
        }
      ]
    },
    {
      "metadata": {
        "id": "VCoDLjS1OQ3_",
        "colab_type": "text"
      },
      "cell_type": "markdown",
      "source": [
        "#Array\n",
        "\n",
        "\n",
        "\n",
        "```\n",
        " Array can be handled in python by module named “array“. They can be useful when we have to manipulate only a specific data type values.\n",
        "```\n",
        "\n",
        "**array(data type, value list) :- **\n",
        "\n",
        "\n",
        "![alt text](https://www.wikitechy.com/tutorials/python/img/python-images/datatypes.png)"
      ]
    },
    {
      "metadata": {
        "id": "jAoC6zJiOQYE",
        "colab_type": "code",
        "colab": {
          "base_uri": "https://localhost:8080/",
          "height": 119
        },
        "outputId": "720b6e1d-56d1-493b-cdc8-82a3c8dc82eb"
      },
      "cell_type": "code",
      "source": [
        "import array \n",
        "arr= array.array('i',[1, 2, 3, 5, 1])  # i stands for integer datatype\n",
        "for i in range (0,5): \n",
        "    print (arr[i],end=\" \")   \n",
        "print (\"\\r\") \n",
        "print (arr.pop(3))   # pass the position / index\n",
        "print(arr)\n",
        "arr.remove(1)  # pass the element value\n",
        "print(arr)\n",
        "print(arr.index(2)) \n",
        "\n",
        "arr.reverse() \n",
        "print(arr)"
      ],
      "execution_count": 221,
      "outputs": [
        {
          "output_type": "stream",
          "text": [
            "1 2 3 5 1 \r\n",
            "5\n",
            "array('i', [1, 2, 3, 1])\n",
            "array('i', [2, 3, 1])\n",
            "0\n",
            "array('i', [1, 3, 2])\n"
          ],
          "name": "stdout"
        }
      ]
    },
    {
      "metadata": {
        "id": "puw3OZ6GODx8",
        "colab_type": "text"
      },
      "cell_type": "markdown",
      "source": [
        "#END:"
      ]
    },
    {
      "metadata": {
        "id": "F6aSQapdTpct",
        "colab_type": "code",
        "colab": {}
      },
      "cell_type": "code",
      "source": [
        ""
      ],
      "execution_count": 0,
      "outputs": []
    }
  ]
}