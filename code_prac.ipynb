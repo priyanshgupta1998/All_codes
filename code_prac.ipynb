{
  "nbformat": 4,
  "nbformat_minor": 0,
  "metadata": {
    "colab": {
      "name": "TensorFlow with GPU",
      "version": "0.3.2",
      "provenance": [],
      "collapsed_sections": [],
      "toc_visible": true,
      "include_colab_link": true
    },
    "kernelspec": {
      "display_name": "Python 3",
      "name": "python3"
    }
  },
  "cells": [
    {
      "cell_type": "markdown",
      "metadata": {
        "id": "view-in-github",
        "colab_type": "text"
      },
      "source": [
        "<a href=\"https://colab.research.google.com/github/priyanshgupta1998/All_codes/blob/master/code_prac.ipynb\" target=\"_parent\"><img src=\"https://colab.research.google.com/assets/colab-badge.svg\" alt=\"Open In Colab\"/></a>"
      ]
    },
    {
      "metadata": {
        "id": "snD5YbU1vxjL",
        "colab_type": "code",
        "colab": {}
      },
      "cell_type": "code",
      "source": [
        "import numpy as np"
      ],
      "execution_count": 0,
      "outputs": []
    },
    {
      "metadata": {
        "id": "tk-AilXtwS4h",
        "colab_type": "text"
      },
      "cell_type": "markdown",
      "source": [
        "#linalg.det"
      ]
    },
    {
      "metadata": {
        "id": "gxQ3KpGivxmx",
        "colab_type": "code",
        "colab": {
          "base_uri": "https://localhost:8080/",
          "height": 34
        },
        "outputId": "bb58bebd-4bf3-443a-d736-add955ef0ee6"
      },
      "cell_type": "code",
      "source": [
        "a = [[1 , 2], [2, 1]]\n",
        "print(np.linalg.det(a))  #determinant"
      ],
      "execution_count": 31,
      "outputs": [
        {
          "output_type": "stream",
          "text": [
            "-2.9999999999999996\n"
          ],
          "name": "stdout"
        }
      ]
    },
    {
      "metadata": {
        "id": "UWB3X__3vxqd",
        "colab_type": "code",
        "colab": {
          "base_uri": "https://localhost:8080/",
          "height": 34
        },
        "outputId": "436b754c-f79b-4d06-989a-e4c9bd82f941"
      },
      "cell_type": "code",
      "source": [
        "print(np.linalg.det([[7 , 2], [8, 1]]))"
      ],
      "execution_count": 5,
      "outputs": [
        {
          "output_type": "stream",
          "text": [
            "-8.999999999999998\n"
          ],
          "name": "stdout"
        }
      ]
    },
    {
      "metadata": {
        "id": "9sEblVkQwQRT",
        "colab_type": "text"
      },
      "cell_type": "markdown",
      "source": [
        "#linalg.eig"
      ]
    },
    {
      "metadata": {
        "id": "bdvs04fZwkKJ",
        "colab_type": "text"
      },
      "cell_type": "markdown",
      "source": [
        "`The linalg.eig computes the eigenvalues and right eigenvectors of a square array`"
      ]
    },
    {
      "metadata": {
        "id": "d9c1fBCKvxt0",
        "colab_type": "code",
        "colab": {}
      },
      "cell_type": "code",
      "source": [
        "vals, vecs = np.linalg.eig([[1 , 2], [2, 1]])"
      ],
      "execution_count": 0,
      "outputs": []
    },
    {
      "metadata": {
        "id": "W4LHt-V6vxwh",
        "colab_type": "code",
        "colab": {
          "base_uri": "https://localhost:8080/",
          "height": 68
        },
        "outputId": "8a6dca75-5ccb-4fef-d347-c406cbbf8f0e"
      },
      "cell_type": "code",
      "source": [
        "print(vals)\n",
        "print(vecs)"
      ],
      "execution_count": 8,
      "outputs": [
        {
          "output_type": "stream",
          "text": [
            "[ 3. -1.]\n",
            "[[ 0.70710678 -0.70710678]\n",
            " [ 0.70710678  0.70710678]]\n"
          ],
          "name": "stdout"
        }
      ]
    },
    {
      "metadata": {
        "id": "xXNPbRLC0Kix",
        "colab_type": "text"
      },
      "cell_type": "markdown",
      "source": [
        "#linalg.inv"
      ]
    },
    {
      "metadata": {
        "id": "BOa0_c-G0Z75",
        "colab_type": "text"
      },
      "cell_type": "markdown",
      "source": [
        "\n",
        "\n",
        "```\n",
        "The linalg.inv tool computes the (multiplicative) inverse of a matrix.\n",
        "```\n",
        "\n"
      ]
    },
    {
      "metadata": {
        "id": "Epk-2ef30JEV",
        "colab_type": "code",
        "colab": {
          "base_uri": "https://localhost:8080/",
          "height": 51
        },
        "outputId": "483d19ae-4a83-42d3-ccf3-d926381426bb"
      },
      "cell_type": "code",
      "source": [
        "np.linalg.inv([[1 , 2], [2, 1]])"
      ],
      "execution_count": 10,
      "outputs": [
        {
          "output_type": "execute_result",
          "data": {
            "text/plain": [
              "array([[-0.33333333,  0.66666667],\n",
              "       [ 0.66666667, -0.33333333]])"
            ]
          },
          "metadata": {
            "tags": []
          },
          "execution_count": 10
        }
      ]
    },
    {
      "metadata": {
        "id": "-_LDXmR40JH1",
        "colab_type": "code",
        "colab": {}
      },
      "cell_type": "code",
      "source": [
        "a=[]\n",
        "N=2\n",
        "for row in range(N):\n",
        "  for column in range(N):\n",
        "        a[column]= 5\n",
        "\n",
        "print(a)"
      ],
      "execution_count": 0,
      "outputs": []
    },
    {
      "metadata": {
        "id": "uYd_HYgY0JOe",
        "colab_type": "code",
        "colab": {
          "base_uri": "https://localhost:8080/",
          "height": 34
        },
        "outputId": "2129c153-7d7a-4250-fe52-c65896dd010e"
      },
      "cell_type": "code",
      "source": [
        "def createMatrix(row, col,arr):\n",
        "    a = []\n",
        "    for i in range(row):\n",
        "        b = []\n",
        "        for j in range(col):\n",
        "            b.append(arr[row * i + j])\n",
        "        a.append(b)\n",
        "\n",
        "    return a\n",
        "\n",
        "arr = ['a','b','c','d','e','f','h','i','j']\n",
        "mat = createMatrix(3,3,arr)\n",
        "mat"
      ],
      "execution_count": 18,
      "outputs": [
        {
          "output_type": "execute_result",
          "data": {
            "text/plain": [
              "[['a', 'b', 'c'], ['d', 'e', 'f'], ['h', 'i', 'j']]"
            ]
          },
          "metadata": {
            "tags": []
          },
          "execution_count": 18
        }
      ]
    },
    {
      "metadata": {
        "id": "yQgFTKkf7T2i",
        "colab_type": "code",
        "colab": {}
      },
      "cell_type": "code",
      "source": [
        "def make_matrix(row,col,arr):\n",
        "  a=[]\n",
        "  for i in range(row):\n",
        "    b=[]\n",
        "    for j in range(col):\n",
        "      b.append(arr[j+row*i])\n",
        "    a.append(b)\n",
        "  return a"
      ],
      "execution_count": 0,
      "outputs": []
    },
    {
      "metadata": {
        "id": "5Tpv8MTq7T88",
        "colab_type": "code",
        "colab": {
          "base_uri": "https://localhost:8080/",
          "height": 34
        },
        "outputId": "6cdcdf20-4c42-4f2f-8ace-dbde90961ee7"
      },
      "cell_type": "code",
      "source": [
        "arr = [ 1,2,3,4,5,6,7,8,9,10,11,12,13,14,15,16]\n",
        "res = make_matrix(4,4,arr)\n",
        "print(res)"
      ],
      "execution_count": 25,
      "outputs": [
        {
          "output_type": "stream",
          "text": [
            "[[1, 2, 3, 4], [5, 6, 7, 8], [9, 10, 11, 12], [13, 14, 15, 16]]\n"
          ],
          "name": "stdout"
        }
      ]
    },
    {
      "metadata": {
        "id": "TmcAcA_x7UAp",
        "colab_type": "code",
        "colab": {
          "base_uri": "https://localhost:8080/",
          "height": 119
        },
        "outputId": "1766aaa3-9c59-4c10-c852-e9ad92196ae5"
      },
      "cell_type": "code",
      "source": [
        "N = int(input())\n",
        "a = []\n",
        "for i in range(N):\n",
        "  b= []\n",
        "  for j in range(N):\n",
        "    k = input()\n",
        "    b.append(k)\n",
        "  a.append(b)\n",
        "  \n"
      ],
      "execution_count": 30,
      "outputs": [
        {
          "output_type": "stream",
          "text": [
            "2\n",
            "5.6\n",
            "6.9\n",
            "8.2\n",
            "1.2\n",
            "[['5.6', '6.9'], ['8.2', '1.2']]\n"
          ],
          "name": "stdout"
        }
      ]
    },
    {
      "metadata": {
        "id": "ucMj2Mt67UGg",
        "colab_type": "code",
        "colab": {
          "base_uri": "https://localhost:8080/",
          "height": 119
        },
        "outputId": "ca5484e7-5d22-48bf-c06c-1bc9e3c9fcd1"
      },
      "cell_type": "code",
      "source": [
        "import numpy as np\n",
        "N = int(input())\n",
        "a = []\n",
        "for i in range(N):\n",
        "  b= []\n",
        "  for j in range(N):\n",
        "    k = input()\n",
        "    b.append(float(k))\n",
        "  a.append(b)\n",
        "a"
      ],
      "execution_count": 33,
      "outputs": [
        {
          "output_type": "stream",
          "text": [
            "2\n",
            "1.1\n",
            "1.1\n",
            ".1\n",
            "1.1\n"
          ],
          "name": "stdout"
        },
        {
          "output_type": "execute_result",
          "data": {
            "text/plain": [
              "[[1.1, 1.1], [0.1, 1.1]]"
            ]
          },
          "metadata": {
            "tags": []
          },
          "execution_count": 33
        }
      ]
    },
    {
      "metadata": {
        "id": "AxrQcbUB7UKK",
        "colab_type": "code",
        "colab": {}
      },
      "cell_type": "code",
      "source": [
        "n=5\n",
        "a[n]=input().split(\" \")"
      ],
      "execution_count": 0,
      "outputs": []
    },
    {
      "metadata": {
        "id": "un6MUxAV7UN4",
        "colab_type": "code",
        "colab": {
          "base_uri": "https://localhost:8080/",
          "height": 68
        },
        "outputId": "f24064e6-4f65-4efe-fe30-c1cb0947818b"
      },
      "cell_type": "code",
      "source": [
        "x = 'blue,red,green'\n",
        "a,b,c = x.split(',')\n",
        "\n",
        "print(a)\n",
        "print(b)\n",
        "print(c)"
      ],
      "execution_count": 42,
      "outputs": [
        {
          "output_type": "stream",
          "text": [
            "blue\n",
            "red\n",
            "green\n"
          ],
          "name": "stdout"
        }
      ]
    },
    {
      "metadata": {
        "id": "Hv4e7k9Q7UEv",
        "colab_type": "code",
        "colab": {
          "base_uri": "https://localhost:8080/",
          "height": 68
        },
        "outputId": "31a37e34-c1ae-4974-ffcc-431408c27101"
      },
      "cell_type": "code",
      "source": [
        "x = 'blue red green'\n",
        "a,b,c = x.split(' ')\n",
        "\n",
        "print(a)\n",
        "print(b)\n",
        "print(c)"
      ],
      "execution_count": 43,
      "outputs": [
        {
          "output_type": "stream",
          "text": [
            "blue\n",
            "red\n",
            "green\n"
          ],
          "name": "stdout"
        }
      ]
    },
    {
      "metadata": {
        "id": "cGEYesfK7T6z",
        "colab_type": "code",
        "colab": {
          "base_uri": "https://localhost:8080/",
          "height": 34
        },
        "outputId": "eb7280f0-c67d-4a48-c9cc-a9241ea8373c"
      },
      "cell_type": "code",
      "source": [
        "x = input()"
      ],
      "execution_count": 44,
      "outputs": [
        {
          "output_type": "stream",
          "text": [
            "I am a boy\n"
          ],
          "name": "stdout"
        }
      ]
    },
    {
      "metadata": {
        "id": "Ze00uEQy7Tz3",
        "colab_type": "code",
        "colab": {
          "base_uri": "https://localhost:8080/",
          "height": 85
        },
        "outputId": "26dd0ff3-5fac-4a4d-ff3a-bfe1a7785c22"
      },
      "cell_type": "code",
      "source": [
        "x,y,z = input().split(' ')\n",
        "print(x)\n",
        "print(y)\n",
        "print(z)"
      ],
      "execution_count": 45,
      "outputs": [
        {
          "output_type": "stream",
          "text": [
            "1 2 3\n",
            "1\n",
            "2\n",
            "3\n"
          ],
          "name": "stdout"
        }
      ]
    },
    {
      "metadata": {
        "id": "N_ucrz0g7TyP",
        "colab_type": "code",
        "colab": {
          "base_uri": "https://localhost:8080/",
          "height": 34
        },
        "outputId": "240d9735-17d9-4872-e03c-de6ae902d11e"
      },
      "cell_type": "code",
      "source": [
        "string = ' Wecome in India '\n",
        "string.split()"
      ],
      "execution_count": 46,
      "outputs": [
        {
          "output_type": "execute_result",
          "data": {
            "text/plain": [
              "['Wecome', 'in', 'India']"
            ]
          },
          "metadata": {
            "tags": []
          },
          "execution_count": 46
        }
      ]
    },
    {
      "metadata": {
        "id": "MUmFk3P87TwB",
        "colab_type": "code",
        "colab": {
          "base_uri": "https://localhost:8080/",
          "height": 34
        },
        "outputId": "53aba036-93e5-4c2f-c63e-60dccd527cb5"
      },
      "cell_type": "code",
      "source": [
        "string = ' Wecome in India '\n",
        "string.split(\" \")   # seperate the spaces."
      ],
      "execution_count": 50,
      "outputs": [
        {
          "output_type": "execute_result",
          "data": {
            "text/plain": [
              "['', 'Wecome', 'in', 'India', '']"
            ]
          },
          "metadata": {
            "tags": []
          },
          "execution_count": 50
        }
      ]
    },
    {
      "metadata": {
        "id": "oCtLoIAGA-16",
        "colab_type": "code",
        "colab": {}
      },
      "cell_type": "code",
      "source": [
        "import numpy\n",
        "n=int(input())\n",
        "a=numpy.array([input().split() for _ in range(n)],float)\n",
        "numpy.set_printoptions(legacy='1.13') #important   # for round up the floating value upto 2 digits\n",
        "print(numpy.linalg.det(a))"
      ],
      "execution_count": 0,
      "outputs": []
    },
    {
      "metadata": {
        "id": "7Cn3VBg_A_Bz",
        "colab_type": "code",
        "colab": {
          "base_uri": "https://localhost:8080/",
          "height": 51
        },
        "outputId": "e3056f79-7205-4fd5-c13f-70cc8eca9441"
      },
      "cell_type": "code",
      "source": [
        "nums =map(int, input().split())\n",
        "nums"
      ],
      "execution_count": 7,
      "outputs": [
        {
          "output_type": "stream",
          "text": [
            "1 2 3 4 5\n"
          ],
          "name": "stdout"
        },
        {
          "output_type": "execute_result",
          "data": {
            "text/plain": [
              "<map at 0x7f0410bdab70>"
            ]
          },
          "metadata": {
            "tags": []
          },
          "execution_count": 7
        }
      ]
    },
    {
      "metadata": {
        "id": "szkhFat_A_HI",
        "colab_type": "code",
        "colab": {
          "base_uri": "https://localhost:8080/",
          "height": 34
        },
        "outputId": "9b6882d1-5b4e-44a3-cca1-38c06c38b446"
      },
      "cell_type": "code",
      "source": [
        "list(nums)"
      ],
      "execution_count": 9,
      "outputs": [
        {
          "output_type": "execute_result",
          "data": {
            "text/plain": [
              "[]"
            ]
          },
          "metadata": {
            "tags": []
          },
          "execution_count": 9
        }
      ]
    },
    {
      "metadata": {
        "id": "mJ6Y_XHCINWj",
        "colab_type": "text"
      },
      "cell_type": "markdown",
      "source": [
        "tuple() is unchangeable/ immutable data type in python .  \n",
        "it can not be converted into list and vice-versa."
      ]
    },
    {
      "metadata": {
        "id": "q_4CAxDNA_Nk",
        "colab_type": "code",
        "colab": {
          "base_uri": "https://localhost:8080/",
          "height": 34
        },
        "outputId": "2a891216-01ea-4969-8c65-6c89c508ac77"
      },
      "cell_type": "code",
      "source": [
        "tuple(nums)"
      ],
      "execution_count": 8,
      "outputs": [
        {
          "output_type": "execute_result",
          "data": {
            "text/plain": [
              "(1, 2, 3, 4, 5)"
            ]
          },
          "metadata": {
            "tags": []
          },
          "execution_count": 8
        }
      ]
    },
    {
      "metadata": {
        "id": "0ubwtaNyLjEr",
        "colab_type": "text"
      },
      "cell_type": "markdown",
      "source": [
        "The poly tool returns the coefficients of a polynomial with the given sequence of roots."
      ]
    },
    {
      "metadata": {
        "id": "vKrOcjPyA_U5",
        "colab_type": "code",
        "colab": {
          "base_uri": "https://localhost:8080/",
          "height": 34
        },
        "outputId": "8fadd4a3-eff3-4623-b821-8a8f36424d3b"
      },
      "cell_type": "code",
      "source": [
        "import numpy\n",
        "numpy.poly([-1, 1, 1, 10]) "
      ],
      "execution_count": 12,
      "outputs": [
        {
          "output_type": "execute_result",
          "data": {
            "text/plain": [
              "array([  1., -11.,   9.,  11., -10.])"
            ]
          },
          "metadata": {
            "tags": []
          },
          "execution_count": 12
        }
      ]
    },
    {
      "metadata": {
        "id": "2obCVV8gL_Yd",
        "colab_type": "text"
      },
      "cell_type": "markdown",
      "source": [
        "#roots\n",
        "The roots tool returns the roots of a polynomial with the given coefficients."
      ]
    },
    {
      "metadata": {
        "id": "KOsc-k_IA_TA",
        "colab_type": "code",
        "colab": {
          "base_uri": "https://localhost:8080/",
          "height": 34
        },
        "outputId": "204201e0-4ee5-4896-a50c-3c301bbf3503"
      },
      "cell_type": "code",
      "source": [
        "numpy.roots([1, 0, -1])   "
      ],
      "execution_count": 13,
      "outputs": [
        {
          "output_type": "execute_result",
          "data": {
            "text/plain": [
              "array([-1.,  1.])"
            ]
          },
          "metadata": {
            "tags": []
          },
          "execution_count": 13
        }
      ]
    },
    {
      "metadata": {
        "id": "wB4n__IyPzN_",
        "colab_type": "text"
      },
      "cell_type": "markdown",
      "source": [
        "#polyval()\n",
        "The polyval tool evaluates the polynomial at specific position."
      ]
    },
    {
      "metadata": {
        "id": "WKq7NAcpA_FX",
        "colab_type": "code",
        "colab": {
          "base_uri": "https://localhost:8080/",
          "height": 34
        },
        "outputId": "ccaf831d-bc08-4497-b4b3-cf6c29a1a31b"
      },
      "cell_type": "code",
      "source": [
        "numpy.polyval([1, -2, 0, 2], 4) "
      ],
      "execution_count": 16,
      "outputs": [
        {
          "output_type": "execute_result",
          "data": {
            "text/plain": [
              "34"
            ]
          },
          "metadata": {
            "tags": []
          },
          "execution_count": 16
        }
      ]
    },
    {
      "metadata": {
        "id": "DumyNpJMW-z_",
        "colab_type": "text"
      },
      "cell_type": "markdown",
      "source": [
        "#set()  function\n",
        " \n",
        " python opration"
      ]
    },
    {
      "metadata": {
        "id": "B-BDDxlQA_AQ",
        "colab_type": "code",
        "colab": {
          "base_uri": "https://localhost:8080/",
          "height": 51
        },
        "outputId": "be4dc7c2-6f73-4729-cdc7-59e0c87eb9be"
      },
      "cell_type": "code",
      "source": [
        "people = {\"Jay\", \"Idrish\", \"Archil\"}\n",
        "vampires = {\"Karan\", \"Arjun\"}\n",
        "population = people.union(vampires)\n",
        "print(population)\n",
        "print(people|vampires)"
      ],
      "execution_count": 26,
      "outputs": [
        {
          "output_type": "stream",
          "text": [
            "{'Archil', 'Idrish', 'Jay', 'Arjun', 'Karan'}\n",
            "{'Archil', 'Idrish', 'Jay', 'Arjun', 'Karan'}\n"
          ],
          "name": "stdout"
        }
      ]
    },
    {
      "metadata": {
        "id": "9jj8K_8VA-98",
        "colab_type": "code",
        "colab": {
          "base_uri": "https://localhost:8080/",
          "height": 34
        },
        "outputId": "2d27f219-9e9c-4cb3-b369-197ebfe61955"
      },
      "cell_type": "code",
      "source": [
        "print(people.intersection(vampires))"
      ],
      "execution_count": 23,
      "outputs": [
        {
          "output_type": "stream",
          "text": [
            "set()\n"
          ],
          "name": "stdout"
        }
      ]
    },
    {
      "metadata": {
        "id": "KO9DJc--Xkkg",
        "colab_type": "code",
        "colab": {
          "base_uri": "https://localhost:8080/",
          "height": 34
        },
        "outputId": "ad4bb086-057f-41dd-f49a-5955b54b9565"
      },
      "cell_type": "code",
      "source": [
        "# difference(s) Method: \n",
        "safe = people.difference(vampires)\n",
        "print(safe)"
      ],
      "execution_count": 28,
      "outputs": [
        {
          "output_type": "stream",
          "text": [
            "{'Archil', 'Idrish', 'Jay'}\n"
          ],
          "name": "stdout"
        }
      ]
    },
    {
      "metadata": {
        "id": "MfbDdwyoXkil",
        "colab_type": "code",
        "colab": {
          "base_uri": "https://localhost:8080/",
          "height": 119
        },
        "outputId": "f270f878-d68b-401e-a146-da04210b0aaf"
      },
      "cell_type": "code",
      "source": [
        "A = {1,2 ,3, 5 ,6} \n",
        "B = {9 ,8, 5 ,6 ,3, 2, 1, 4, 7} \n",
        "print(A-B)\n",
        "print(A-B ==set())\n",
        "print ((A | B) == B)\n",
        "print((A | B)-B )\n",
        "print ((A | B)-B == set())\n",
        "print( A==(A&B))   # intersection"
      ],
      "execution_count": 35,
      "outputs": [
        {
          "output_type": "stream",
          "text": [
            "set()\n",
            "True\n",
            "True\n",
            "set()\n",
            "True\n",
            "True\n"
          ],
          "name": "stdout"
        }
      ]
    },
    {
      "metadata": {
        "id": "tJChiGsiXkgc",
        "colab_type": "code",
        "colab": {
          "base_uri": "https://localhost:8080/",
          "height": 34
        },
        "outputId": "dfb83be8-a468-4945-aa8b-664615c8df7a"
      },
      "cell_type": "code",
      "source": [
        "k = set(input().split())"
      ],
      "execution_count": 39,
      "outputs": [
        {
          "output_type": "stream",
          "text": [
            "1 2 4 5 6 79 7 8 93 1 4\n"
          ],
          "name": "stdout"
        }
      ]
    },
    {
      "metadata": {
        "id": "GRhvCtJyXkc7",
        "colab_type": "code",
        "colab": {
          "base_uri": "https://localhost:8080/",
          "height": 34
        },
        "outputId": "9d59c530-7613-4cd3-d4ce-cd3694630215"
      },
      "cell_type": "code",
      "source": [
        "k"
      ],
      "execution_count": 40,
      "outputs": [
        {
          "output_type": "execute_result",
          "data": {
            "text/plain": [
              "{'1', '2', '4', '5', '6', '7', '79', '8', '93'}"
            ]
          },
          "metadata": {
            "tags": []
          },
          "execution_count": 40
        }
      ]
    },
    {
      "metadata": {
        "id": "pXK74OLmXkVV",
        "colab_type": "code",
        "colab": {
          "base_uri": "https://localhost:8080/",
          "height": 51
        },
        "outputId": "ddf64231-2750-46bc-87bf-62adb0641329"
      },
      "cell_type": "code",
      "source": [
        "p = set((int , input().split()))\n",
        "print(p)"
      ],
      "execution_count": 48,
      "outputs": [
        {
          "output_type": "stream",
          "text": [
            "1 2 3 4 5 4 7 81 4 5 6 2 1 4 5 5 6 1 2\n"
          ],
          "name": "stdout"
        },
        {
          "output_type": "execute_result",
          "data": {
            "text/plain": [
              "<map at 0x7f0410b9c908>"
            ]
          },
          "metadata": {
            "tags": []
          },
          "execution_count": 48
        }
      ]
    },
    {
      "metadata": {
        "id": "oUKiRXyAXkPQ",
        "colab_type": "code",
        "colab": {
          "base_uri": "https://localhost:8080/",
          "height": 34
        },
        "outputId": "c6fb604f-6fa1-4b84-9426-01becf4e6d97"
      },
      "cell_type": "code",
      "source": [
        "list(p)"
      ],
      "execution_count": 46,
      "outputs": [
        {
          "output_type": "execute_result",
          "data": {
            "text/plain": [
              "[1, 2, 4, 5, 6, 79, 7, 8, 93, 1, 4]"
            ]
          },
          "metadata": {
            "tags": []
          },
          "execution_count": 46
        }
      ]
    },
    {
      "metadata": {
        "id": "FLY5a1qIA-5b",
        "colab_type": "code",
        "colab": {
          "base_uri": "https://localhost:8080/",
          "height": 34
        },
        "outputId": "31cdcfc9-cdd0-4999-fd78-238532f69e95"
      },
      "cell_type": "code",
      "source": [
        "set(p)"
      ],
      "execution_count": 49,
      "outputs": [
        {
          "output_type": "execute_result",
          "data": {
            "text/plain": [
              "{1, 2, 3, 4, 5, 6, 7, 81}"
            ]
          },
          "metadata": {
            "tags": []
          },
          "execution_count": 49
        }
      ]
    },
    {
      "metadata": {
        "id": "5otilivwVbVb",
        "colab_type": "code",
        "colab": {
          "base_uri": "https://localhost:8080/",
          "height": 136
        },
        "outputId": "3f189383-94d6-40cd-c2c5-1c6dad4792f9"
      },
      "cell_type": "code",
      "source": [
        "n =int(input())\n",
        "arr = [int(input()) for _ in range(n)]\n",
        "arr = set(arr)\n",
        "print(arr)"
      ],
      "execution_count": 53,
      "outputs": [
        {
          "output_type": "stream",
          "text": [
            "5\n",
            "1\n",
            "2\n",
            "3\n",
            "2\n",
            "1\n",
            "{1, 2, 3}\n"
          ],
          "name": "stdout"
        }
      ]
    },
    {
      "metadata": {
        "id": "ZgphfKk7Vbad",
        "colab_type": "code",
        "colab": {
          "base_uri": "https://localhost:8080/",
          "height": 34
        },
        "outputId": "9fcfa627-cb02-472f-bcd2-15793d5c1b8a"
      },
      "cell_type": "code",
      "source": [
        "a = set([1,8,9,7,3,6,4])\n",
        "print(a)"
      ],
      "execution_count": 56,
      "outputs": [
        {
          "output_type": "stream",
          "text": [
            "{1, 3, 4, 6, 7, 8, 9}\n"
          ],
          "name": "stdout"
        }
      ]
    },
    {
      "metadata": {
        "id": "TlKKDtSDVbff",
        "colab_type": "code",
        "colab": {
          "base_uri": "https://localhost:8080/",
          "height": 34
        },
        "outputId": "f766521a-3433-44cb-b173-6eeeacb315a0"
      },
      "cell_type": "code",
      "source": [
        "word = 'helloworld'\n",
        "set_opt = set(word) \n",
        "set_opt"
      ],
      "execution_count": 74,
      "outputs": [
        {
          "output_type": "execute_result",
          "data": {
            "text/plain": [
              "{'d', 'e', 'h', 'l', 'o', 'r', 'w'}"
            ]
          },
          "metadata": {
            "tags": []
          },
          "execution_count": 74
        }
      ]
    },
    {
      "metadata": {
        "id": "d0jJZJAOVbnY",
        "colab_type": "code",
        "colab": {
          "base_uri": "https://localhost:8080/",
          "height": 34
        },
        "outputId": "c7725751-ca8a-418a-eeea-9ed6010ea1e5"
      },
      "cell_type": "code",
      "source": [
        "addtion = set_opt.add('hacker')\n",
        "set_opt"
      ],
      "execution_count": 75,
      "outputs": [
        {
          "output_type": "execute_result",
          "data": {
            "text/plain": [
              "{'d', 'e', 'h', 'hacker', 'l', 'o', 'r', 'w'}"
            ]
          },
          "metadata": {
            "tags": []
          },
          "execution_count": 75
        }
      ]
    },
    {
      "metadata": {
        "id": "xbFDWZk2Vb3Z",
        "colab_type": "code",
        "colab": {}
      },
      "cell_type": "code",
      "source": [
        "\n",
        "n,m = input().split()\n",
        "n = int(n)\n",
        "m = int(m)\n",
        "\n",
        "like = 0   # at initial state \n",
        "dislike = 0  # at initial state \n",
        "arr = set(map(int,input().split()))\n",
        "A = set(map(int,input().split())) # like  = 1\n",
        "B = set(map(int,input().split()))  # dislike = -1\n",
        "\n",
        "for i in A.intersection(arr):\n",
        "    like = like +1\n",
        "for i in B.intersection(arr):\n",
        "    dislike = dislike -1\n",
        "print(like+dislike)     # total happiness\n",
        "\n",
        "#print(sum([(i in A) - (i in B) for i in arr]))\n",
        "\n"
      ],
      "execution_count": 0,
      "outputs": []
    },
    {
      "metadata": {
        "id": "iZDs7OvaVb8J",
        "colab_type": "code",
        "colab": {
          "base_uri": "https://localhost:8080/",
          "height": 34
        },
        "outputId": "9cb5fece-c4f5-478c-9267-ef958dc4e9ee"
      },
      "cell_type": "code",
      "source": [
        "s = set(\"Hacker\")\n",
        "s"
      ],
      "execution_count": 82,
      "outputs": [
        {
          "output_type": "execute_result",
          "data": {
            "text/plain": [
              "{'H', 'a', 'c', 'e', 'k', 'r'}"
            ]
          },
          "metadata": {
            "tags": []
          },
          "execution_count": 82
        }
      ]
    },
    {
      "metadata": {
        "id": "gpe7M4Gu6nC_",
        "colab_type": "code",
        "colab": {
          "base_uri": "https://localhost:8080/",
          "height": 34
        },
        "outputId": "c343f3d7-b317-424f-9fb6-3ced1004599b"
      },
      "cell_type": "code",
      "source": [
        "s.union(\"Rank\")"
      ],
      "execution_count": 84,
      "outputs": [
        {
          "output_type": "execute_result",
          "data": {
            "text/plain": [
              "{'H', 'R', 'a', 'c', 'e', 'k', 'n', 'r'}"
            ]
          },
          "metadata": {
            "tags": []
          },
          "execution_count": 84
        }
      ]
    },
    {
      "metadata": {
        "id": "do2jl3C-6nIR",
        "colab_type": "code",
        "colab": {
          "base_uri": "https://localhost:8080/",
          "height": 34
        },
        "outputId": "f7c42ca3-57b9-4a94-9d4a-85ced52ddc83"
      },
      "cell_type": "code",
      "source": [
        "list(enumerate(['R', 'k', 'a', 'n']))"
      ],
      "execution_count": 87,
      "outputs": [
        {
          "output_type": "execute_result",
          "data": {
            "text/plain": [
              "[(0, 'R'), (1, 'k'), (2, 'a'), (3, 'n')]"
            ]
          },
          "metadata": {
            "tags": []
          },
          "execution_count": 87
        }
      ]
    },
    {
      "metadata": {
        "id": "Y-v-x2J_VcPX",
        "colab_type": "code",
        "colab": {
          "base_uri": "https://localhost:8080/",
          "height": 187
        },
        "outputId": "eafa96a9-dd72-4f3a-e5ea-13646bf1f0e6"
      },
      "cell_type": "code",
      "source": [
        "for _ in range(5):\n",
        "  k = '{0}{1}'.format(*input().split())  # remove the single quote from of string\n",
        "  print(k)"
      ],
      "execution_count": 80,
      "outputs": [
        {
          "output_type": "stream",
          "text": [
            "hello 4\n",
            "hello4\n",
            "joker 4\n",
            "joker4\n",
            "rahul 4\n",
            "rahul4\n",
            "kolmal 4\n",
            "kolmal4\n",
            "priya 2\n",
            "priya2\n"
          ],
          "name": "stdout"
        }
      ]
    },
    {
      "metadata": {
        "id": "eD3naQ0OVcJu",
        "colab_type": "code",
        "colab": {}
      },
      "cell_type": "code",
      "source": [
        ""
      ],
      "execution_count": 0,
      "outputs": []
    },
    {
      "metadata": {
        "id": "-16GYiSgVcHh",
        "colab_type": "code",
        "colab": {}
      },
      "cell_type": "code",
      "source": [
        ""
      ],
      "execution_count": 0,
      "outputs": []
    },
    {
      "metadata": {
        "id": "vSvyeOu5VcFO",
        "colab_type": "code",
        "colab": {}
      },
      "cell_type": "code",
      "source": [
        ""
      ],
      "execution_count": 0,
      "outputs": []
    },
    {
      "metadata": {
        "id": "vfGpC0tXVcCN",
        "colab_type": "code",
        "colab": {}
      },
      "cell_type": "code",
      "source": [
        ""
      ],
      "execution_count": 0,
      "outputs": []
    },
    {
      "metadata": {
        "id": "PGmRkVTDVcAK",
        "colab_type": "code",
        "colab": {}
      },
      "cell_type": "code",
      "source": [
        ""
      ],
      "execution_count": 0,
      "outputs": []
    },
    {
      "metadata": {
        "id": "R1LWGDaIVb1L",
        "colab_type": "code",
        "colab": {}
      },
      "cell_type": "code",
      "source": [
        ""
      ],
      "execution_count": 0,
      "outputs": []
    },
    {
      "metadata": {
        "id": "CQfY1NwSVbzN",
        "colab_type": "code",
        "colab": {}
      },
      "cell_type": "code",
      "source": [
        ""
      ],
      "execution_count": 0,
      "outputs": []
    },
    {
      "metadata": {
        "id": "xImQYx5QVbtR",
        "colab_type": "code",
        "colab": {}
      },
      "cell_type": "code",
      "source": [
        ""
      ],
      "execution_count": 0,
      "outputs": []
    },
    {
      "metadata": {
        "id": "bK8K6HXHVbrb",
        "colab_type": "code",
        "colab": {}
      },
      "cell_type": "code",
      "source": [
        ""
      ],
      "execution_count": 0,
      "outputs": []
    },
    {
      "metadata": {
        "id": "FDIPZTjmVbks",
        "colab_type": "code",
        "colab": {}
      },
      "cell_type": "code",
      "source": [
        ""
      ],
      "execution_count": 0,
      "outputs": []
    }
  ]
}