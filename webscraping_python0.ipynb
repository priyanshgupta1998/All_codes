{
  "nbformat": 4,
  "nbformat_minor": 0,
  "metadata": {
    "colab": {
      "name": "TensorFlow with GPU",
      "version": "0.3.2",
      "provenance": [],
      "collapsed_sections": [],
      "toc_visible": true,
      "include_colab_link": true
    },
    "kernelspec": {
      "name": "python3",
      "display_name": "Python 3"
    },
    "accelerator": "GPU"
  },
  "cells": [
    {
      "cell_type": "markdown",
      "metadata": {
        "id": "view-in-github",
        "colab_type": "text"
      },
      "source": [
        "<a href=\"https://colab.research.google.com/github/priyanshgupta1998/All_codes/blob/master/webscraping_python0.ipynb\" target=\"_parent\"><img src=\"https://colab.research.google.com/assets/colab-badge.svg\" alt=\"Open In Colab\"/></a>"
      ]
    },
    {
      "metadata": {
        "id": "jpULeUEvDNtf",
        "colab_type": "code",
        "colab": {}
      },
      "cell_type": "code",
      "source": [
        "# !pip install html5lib\n",
        "# !pip install lxml"
      ],
      "execution_count": 0,
      "outputs": []
    },
    {
      "metadata": {
        "id": "00Dp0oC0DNwk",
        "colab_type": "code",
        "colab": {}
      },
      "cell_type": "code",
      "source": [
        "from bs4 import BeautifulSoup\n",
        "import requests\n",
        "import csv"
      ],
      "execution_count": 0,
      "outputs": []
    },
    {
      "metadata": {
        "id": "rL2y5sMdDN0D",
        "colab_type": "code",
        "colab": {
          "base_uri": "https://localhost:8080/",
          "height": 510
        },
        "outputId": "b04c8ef7-a9b0-4016-8932-38626943e2b0"
      },
      "cell_type": "code",
      "source": [
        "with open('/home/simple.html') as html_file:\n",
        "    soup = BeautifulSoup(html_file , 'lxml')   # grab the content from html_file\n",
        "    \n",
        "    \n",
        "print(soup)"
      ],
      "execution_count": 35,
      "outputs": [
        {
          "output_type": "stream",
          "text": [
            "<!DOCTYPE html>\n",
            "<html class=\"no-js\" lang=\"\">\n",
            "<head>\n",
            "<title>Test - A Sample Website</title>\n",
            "<meta charset=\"utf-8\"/>\n",
            "<link href=\"css/normalize.css\" rel=\"stylesheet\"/>\n",
            "<link href=\"css/main.css\" rel=\"stylesheet\"/>\n",
            "</head>\n",
            "<body>\n",
            "<h1 id=\"site_title\">Test Website</h1>\n",
            "<hr/>\n",
            "<div class=\"article\">\n",
            "<h2><a href=\"article_1.html\">Article 1 Headline</a></h2>\n",
            "<p>This is a summary of article 1</p>\n",
            "</div>\n",
            "<hr/>\n",
            "<div class=\"article\">\n",
            "<h2><a href=\"article_2.html\">Article 2 Headline</a></h2>\n",
            "<p>This is a summary of article 2</p>\n",
            "</div>\n",
            "<hr/>\n",
            "<div class=\"footer\">\n",
            "<p>Footer Information</p>\n",
            "</div>\n",
            "<script src=\"js/vendor/modernizr-3.5.0.min.js\"></script>\n",
            "<script src=\"js/plugins.js\"></script>\n",
            "<script src=\"js/main.js\"></script>\n",
            "</body>\n",
            "</html>\n"
          ],
          "name": "stdout"
        }
      ]
    },
    {
      "metadata": {
        "id": "WdHY2SbtDN4E",
        "colab_type": "code",
        "colab": {
          "base_uri": "https://localhost:8080/",
          "height": 867
        },
        "outputId": "0f03e015-b5e8-4cd5-ac33-6f9323bdb898"
      },
      "cell_type": "code",
      "source": [
        "print(soup.prettify())"
      ],
      "execution_count": 36,
      "outputs": [
        {
          "output_type": "stream",
          "text": [
            "<!DOCTYPE html>\n",
            "<html class=\"no-js\" lang=\"\">\n",
            " <head>\n",
            "  <title>\n",
            "   Test - A Sample Website\n",
            "  </title>\n",
            "  <meta charset=\"utf-8\"/>\n",
            "  <link href=\"css/normalize.css\" rel=\"stylesheet\"/>\n",
            "  <link href=\"css/main.css\" rel=\"stylesheet\"/>\n",
            " </head>\n",
            " <body>\n",
            "  <h1 id=\"site_title\">\n",
            "   Test Website\n",
            "  </h1>\n",
            "  <hr/>\n",
            "  <div class=\"article\">\n",
            "   <h2>\n",
            "    <a href=\"article_1.html\">\n",
            "     Article 1 Headline\n",
            "    </a>\n",
            "   </h2>\n",
            "   <p>\n",
            "    This is a summary of article 1\n",
            "   </p>\n",
            "  </div>\n",
            "  <hr/>\n",
            "  <div class=\"article\">\n",
            "   <h2>\n",
            "    <a href=\"article_2.html\">\n",
            "     Article 2 Headline\n",
            "    </a>\n",
            "   </h2>\n",
            "   <p>\n",
            "    This is a summary of article 2\n",
            "   </p>\n",
            "  </div>\n",
            "  <hr/>\n",
            "  <div class=\"footer\">\n",
            "   <p>\n",
            "    Footer Information\n",
            "   </p>\n",
            "  </div>\n",
            "  <script src=\"js/vendor/modernizr-3.5.0.min.js\">\n",
            "  </script>\n",
            "  <script src=\"js/plugins.js\">\n",
            "  </script>\n",
            "  <script src=\"js/main.js\">\n",
            "  </script>\n",
            " </body>\n",
            "</html>\n"
          ],
          "name": "stdout"
        }
      ]
    },
    {
      "metadata": {
        "id": "896Q5Dy_HFFs",
        "colab_type": "code",
        "colab": {
          "base_uri": "https://localhost:8080/",
          "height": 119
        },
        "outputId": "150efbae-58cf-46d2-e199-8d95ec2258c2"
      },
      "cell_type": "code",
      "source": [
        "soup.head"
      ],
      "execution_count": 37,
      "outputs": [
        {
          "output_type": "execute_result",
          "data": {
            "text/plain": [
              "<head>\n",
              "<title>Test - A Sample Website</title>\n",
              "<meta charset=\"utf-8\"/>\n",
              "<link href=\"css/normalize.css\" rel=\"stylesheet\"/>\n",
              "<link href=\"css/main.css\" rel=\"stylesheet\"/>\n",
              "</head>"
            ]
          },
          "metadata": {
            "tags": []
          },
          "execution_count": 37
        }
      ]
    },
    {
      "metadata": {
        "id": "APwG1_uHHFJd",
        "colab_type": "code",
        "colab": {
          "base_uri": "https://localhost:8080/",
          "height": 34
        },
        "outputId": "586e88d0-afa5-4877-fbfc-fc56ec1019fd"
      },
      "cell_type": "code",
      "source": [
        "print( soup.title)"
      ],
      "execution_count": 38,
      "outputs": [
        {
          "output_type": "stream",
          "text": [
            "<title>Test - A Sample Website</title>\n"
          ],
          "name": "stdout"
        }
      ]
    },
    {
      "metadata": {
        "id": "sOM5LdBrHFOK",
        "colab_type": "code",
        "colab": {
          "base_uri": "https://localhost:8080/",
          "height": 34
        },
        "outputId": "40103528-58f8-425a-c481-2e2e24b238b0"
      },
      "cell_type": "code",
      "source": [
        "print( soup.title.text)"
      ],
      "execution_count": 71,
      "outputs": [
        {
          "output_type": "stream",
          "text": [
            "Test - A Sample Website\n"
          ],
          "name": "stdout"
        }
      ]
    },
    {
      "metadata": {
        "id": "Hot3k4nvHFSE",
        "colab_type": "code",
        "colab": {
          "base_uri": "https://localhost:8080/",
          "height": 85
        },
        "outputId": "2073fa6c-abfc-4b99-ab38-df593dea4c2b"
      },
      "cell_type": "code",
      "source": [
        "print(soup.div)"
      ],
      "execution_count": 72,
      "outputs": [
        {
          "output_type": "stream",
          "text": [
            "<div class=\"article\">\n",
            "<h2><a href=\"article_1.html\">Article 1 Headline</a></h2>\n",
            "<p>This is a summary of article 1</p>\n",
            "</div>\n"
          ],
          "name": "stdout"
        }
      ]
    },
    {
      "metadata": {
        "id": "LQTa-LQZDN7H",
        "colab_type": "code",
        "colab": {
          "base_uri": "https://localhost:8080/",
          "height": 85
        },
        "outputId": "098180ef-ea49-4726-807f-abfdb971d018"
      },
      "cell_type": "code",
      "source": [
        "print(soup.find('div'))"
      ],
      "execution_count": 73,
      "outputs": [
        {
          "output_type": "stream",
          "text": [
            "<div class=\"article\">\n",
            "<h2><a href=\"article_1.html\">Article 1 Headline</a></h2>\n",
            "<p>This is a summary of article 1</p>\n",
            "</div>\n"
          ],
          "name": "stdout"
        }
      ]
    },
    {
      "metadata": {
        "id": "74te313eIW0E",
        "colab_type": "code",
        "colab": {
          "base_uri": "https://localhost:8080/",
          "height": 68
        },
        "outputId": "4bf3f5e0-a470-4d25-eca6-4a16d6556f73"
      },
      "cell_type": "code",
      "source": [
        "print(soup.find('div' , class_ = 'footer'))"
      ],
      "execution_count": 74,
      "outputs": [
        {
          "output_type": "stream",
          "text": [
            "<div class=\"footer\">\n",
            "<p>Footer Information</p>\n",
            "</div>\n"
          ],
          "name": "stdout"
        }
      ]
    },
    {
      "metadata": {
        "id": "GsmkbbNaIW2p",
        "colab_type": "code",
        "colab": {
          "base_uri": "https://localhost:8080/",
          "height": 85
        },
        "outputId": "969326f4-fb7a-4a7d-9e80-6924c8331c00"
      },
      "cell_type": "code",
      "source": [
        "art = soup.find('div' , class_ = 'article')\n",
        "art"
      ],
      "execution_count": 75,
      "outputs": [
        {
          "output_type": "execute_result",
          "data": {
            "text/plain": [
              "<div class=\"article\">\n",
              "<h2><a href=\"article_1.html\">Article 1 Headline</a></h2>\n",
              "<p>This is a summary of article 1</p>\n",
              "</div>"
            ]
          },
          "metadata": {
            "tags": []
          },
          "execution_count": 75
        }
      ]
    },
    {
      "metadata": {
        "id": "tQgGmuiSIW50",
        "colab_type": "code",
        "colab": {
          "base_uri": "https://localhost:8080/",
          "height": 34
        },
        "outputId": "aef73f58-79a4-482b-b8fe-12adae4ed3cf"
      },
      "cell_type": "code",
      "source": [
        "headline = art.h2.a.text\n",
        "headline"
      ],
      "execution_count": 76,
      "outputs": [
        {
          "output_type": "execute_result",
          "data": {
            "text/plain": [
              "'Article 1 Headline'"
            ]
          },
          "metadata": {
            "tags": []
          },
          "execution_count": 76
        }
      ]
    },
    {
      "metadata": {
        "id": "QMGqUVoBIW9V",
        "colab_type": "code",
        "colab": {
          "base_uri": "https://localhost:8080/",
          "height": 34
        },
        "outputId": "a5ea4c01-e8ff-4d93-dd35-bf120aee5ed4"
      },
      "cell_type": "code",
      "source": [
        "art.p.text"
      ],
      "execution_count": 77,
      "outputs": [
        {
          "output_type": "execute_result",
          "data": {
            "text/plain": [
              "'This is a summary of article 1'"
            ]
          },
          "metadata": {
            "tags": []
          },
          "execution_count": 77
        }
      ]
    },
    {
      "metadata": {
        "id": "2eoAAHA9KtHG",
        "colab_type": "code",
        "colab": {
          "base_uri": "https://localhost:8080/",
          "height": 136
        },
        "outputId": "8b05300a-2a6c-49ce-d12f-d221820104ad"
      },
      "cell_type": "code",
      "source": [
        "soup.find_all('div' , class_ = 'article')"
      ],
      "execution_count": 79,
      "outputs": [
        {
          "output_type": "execute_result",
          "data": {
            "text/plain": [
              "[<div class=\"article\">\n",
              " <h2><a href=\"article_1.html\">Article 1 Headline</a></h2>\n",
              " <p>This is a summary of article 1</p>\n",
              " </div>, <div class=\"article\">\n",
              " <h2><a href=\"article_2.html\">Article 2 Headline</a></h2>\n",
              " <p>This is a summary of article 2</p>\n",
              " </div>]"
            ]
          },
          "metadata": {
            "tags": []
          },
          "execution_count": 79
        }
      ]
    },
    {
      "metadata": {
        "id": "VzmcfZZ4IXG6",
        "colab_type": "code",
        "colab": {
          "base_uri": "https://localhost:8080/",
          "height": 85
        },
        "outputId": "71386976-e71d-4547-c944-388c91611104"
      },
      "cell_type": "code",
      "source": [
        "for article in soup.find_all('div' , class_ = 'article'):\n",
        "    headline = article.h2.a.text\n",
        "    print(headline)\n",
        "    summary = article.p.text\n",
        "    print(summary)"
      ],
      "execution_count": 81,
      "outputs": [
        {
          "output_type": "stream",
          "text": [
            "Article 1 Headline\n",
            "This is a summary of article 1\n",
            "Article 2 Headline\n",
            "This is a summary of article 2\n"
          ],
          "name": "stdout"
        }
      ]
    },
    {
      "metadata": {
        "id": "O0XsHtSqRKR3",
        "colab_type": "text"
      },
      "cell_type": "markdown",
      "source": [
        "#Example 2"
      ]
    },
    {
      "metadata": {
        "id": "h2FLrslEhIE_",
        "colab_type": "code",
        "colab": {
          "base_uri": "https://localhost:8080/",
          "height": 34
        },
        "outputId": "0580d3ad-23f2-488e-be70-ab95134ac8d7"
      },
      "cell_type": "code",
      "source": [
        "requests.get('http://coreyms.com')"
      ],
      "execution_count": 50,
      "outputs": [
        {
          "output_type": "execute_result",
          "data": {
            "text/plain": [
              "<Response [200]>"
            ]
          },
          "metadata": {
            "tags": []
          },
          "execution_count": 50
        }
      ]
    },
    {
      "metadata": {
        "id": "RQT8eBHIIXE8",
        "colab_type": "code",
        "colab": {}
      },
      "cell_type": "code",
      "source": [
        "source = requests.get('http://coreyms.com').text\n",
        "print(source)"
      ],
      "execution_count": 0,
      "outputs": []
    },
    {
      "metadata": {
        "id": "CgC_k2sSIXC7",
        "colab_type": "code",
        "colab": {}
      },
      "cell_type": "code",
      "source": [
        "soup = BeautifulSoup(source, 'lxml')\n",
        "print(soup.prettify())"
      ],
      "execution_count": 0,
      "outputs": []
    },
    {
      "metadata": {
        "id": "uVO7sz1FIXBH",
        "colab_type": "code",
        "colab": {}
      },
      "cell_type": "code",
      "source": [
        "article = soup.find('article')    # Pick up (grab) the article tag content\n",
        "print(article.prettify())"
      ],
      "execution_count": 0,
      "outputs": []
    },
    {
      "metadata": {
        "id": "tqLgxKSuIVE1",
        "colab_type": "code",
        "colab": {
          "base_uri": "https://localhost:8080/",
          "height": 34
        },
        "outputId": "2bc438a2-8cf4-4be7-db25-cce537280121"
      },
      "cell_type": "code",
      "source": [
        "headline = article.h2.a\n",
        "print(headline.text)"
      ],
      "execution_count": 10,
      "outputs": [
        {
          "output_type": "stream",
          "text": [
            "How to Send Emails Using Python – Plain Text, Adding Attachments, HTML Emails, and More\n"
          ],
          "name": "stdout"
        }
      ]
    },
    {
      "metadata": {
        "id": "UGmyfG2qIVJ2",
        "colab_type": "code",
        "colab": {
          "base_uri": "https://localhost:8080/",
          "height": 54
        },
        "outputId": "ca087007-7dfe-49fe-a25b-8b12d62748b4"
      },
      "cell_type": "code",
      "source": [
        "summary = article.find('div', class_='entry-content').p.text\n",
        "print(summary)"
      ],
      "execution_count": 11,
      "outputs": [
        {
          "output_type": "stream",
          "text": [
            "In this Python Programming Tutorial, we will be learning how to send emails. We’ll start with simple plain text emails and then learn how to construct more advanced messages. We will learn how to attach images, PDFs, create HTML messages, and more. Let’s get started…\n"
          ],
          "name": "stdout"
        }
      ]
    },
    {
      "metadata": {
        "id": "vmFXrv5aIVL-",
        "colab_type": "code",
        "colab": {
          "base_uri": "https://localhost:8080/",
          "height": 54
        },
        "outputId": "1cbc381e-f08c-4dd1-eef7-d654eabc0f15"
      },
      "cell_type": "code",
      "source": [
        "vid_src = article.find('iframe', class_='youtube-player')\n",
        "print(vid_src)"
      ],
      "execution_count": 12,
      "outputs": [
        {
          "output_type": "stream",
          "text": [
            "<iframe allowfullscreen=\"true\" class=\"youtube-player\" height=\"360\" src=\"https://www.youtube.com/embed/JRCJ6RtE3xU?version=3&amp;rel=1&amp;fs=1&amp;autohide=2&amp;showsearch=0&amp;showinfo=1&amp;iv_load_policy=1&amp;wmode=transparent\" style=\"border:0;\" type=\"text/html\" width=\"640\"></iframe>\n"
          ],
          "name": "stdout"
        }
      ]
    },
    {
      "metadata": {
        "id": "3SxY-LT4IVOV",
        "colab_type": "code",
        "colab": {
          "base_uri": "https://localhost:8080/",
          "height": 54
        },
        "outputId": "611e0804-eaa8-4c9d-f947-e83bc184effb"
      },
      "cell_type": "code",
      "source": [
        "vid_src = article.find('iframe', class_='youtube-player')['src']\n",
        "print(vid_src)"
      ],
      "execution_count": 13,
      "outputs": [
        {
          "output_type": "stream",
          "text": [
            "https://www.youtube.com/embed/JRCJ6RtE3xU?version=3&rel=1&fs=1&autohide=2&showsearch=0&showinfo=1&iv_load_policy=1&wmode=transparent\n"
          ],
          "name": "stdout"
        }
      ]
    },
    {
      "metadata": {
        "id": "5n_MPEysIVRy",
        "colab_type": "code",
        "colab": {
          "base_uri": "https://localhost:8080/",
          "height": 54
        },
        "outputId": "15512f3c-6a8c-484f-bf03-983709b9707a"
      },
      "cell_type": "code",
      "source": [
        "vid_id = vid_src.split('/')\n",
        "print(vid_id)"
      ],
      "execution_count": 14,
      "outputs": [
        {
          "output_type": "stream",
          "text": [
            "['https:', '', 'www.youtube.com', 'embed', 'JRCJ6RtE3xU?version=3&rel=1&fs=1&autohide=2&showsearch=0&showinfo=1&iv_load_policy=1&wmode=transparent']\n"
          ],
          "name": "stdout"
        }
      ]
    },
    {
      "metadata": {
        "id": "55vvUv2iIVV6",
        "colab_type": "code",
        "colab": {
          "base_uri": "https://localhost:8080/",
          "height": 34
        },
        "outputId": "5e874afc-b591-49cb-f752-afde13945386"
      },
      "cell_type": "code",
      "source": [
        "print(vid_id[4])"
      ],
      "execution_count": 15,
      "outputs": [
        {
          "output_type": "stream",
          "text": [
            "JRCJ6RtE3xU?version=3&rel=1&fs=1&autohide=2&showsearch=0&showinfo=1&iv_load_policy=1&wmode=transparent\n"
          ],
          "name": "stdout"
        }
      ]
    },
    {
      "metadata": {
        "id": "gdLkwFssIVa2",
        "colab_type": "code",
        "colab": {
          "base_uri": "https://localhost:8080/",
          "height": 54
        },
        "outputId": "3deb1638-4fff-4729-ef30-241727291cc6"
      },
      "cell_type": "code",
      "source": [
        "vid_id = vid_id[4].split('?')\n",
        "print(vid_id)"
      ],
      "execution_count": 17,
      "outputs": [
        {
          "output_type": "stream",
          "text": [
            "['JRCJ6RtE3xU', 'version=3&rel=1&fs=1&autohide=2&showsearch=0&showinfo=1&iv_load_policy=1&wmode=transparent']\n"
          ],
          "name": "stdout"
        }
      ]
    },
    {
      "metadata": {
        "id": "GWaW3KrzIVdY",
        "colab_type": "code",
        "colab": {
          "base_uri": "https://localhost:8080/",
          "height": 34
        },
        "outputId": "854643e1-5ed6-474a-eb96-50d9b15214c2"
      },
      "cell_type": "code",
      "source": [
        "print(vid_id[0])  # Vedio link ID"
      ],
      "execution_count": 18,
      "outputs": [
        {
          "output_type": "stream",
          "text": [
            "JRCJ6RtE3xU\n"
          ],
          "name": "stdout"
        }
      ]
    },
    {
      "metadata": {
        "id": "-MlP4wHMkNR-",
        "colab_type": "text"
      },
      "cell_type": "markdown",
      "source": [
        "**Create a new Youtube link **"
      ]
    },
    {
      "metadata": {
        "id": "MWVHkirdIViG",
        "colab_type": "code",
        "colab": {
          "base_uri": "https://localhost:8080/",
          "height": 34
        },
        "outputId": "cccc7cbe-d423-43ff-fe9e-c8a1dc624ff2"
      },
      "cell_type": "code",
      "source": [
        "yout_link = f'https://youtube.com/watch?v={vid_id[0]}'   # Formation of a new link\n",
        "print(yout_link)"
      ],
      "execution_count": 20,
      "outputs": [
        {
          "output_type": "stream",
          "text": [
            "https://youtube.com/watch?v=JRCJ6RtE3xU\n"
          ],
          "name": "stdout"
        }
      ]
    },
    {
      "metadata": {
        "id": "Abpgd0qlmt9X",
        "colab_type": "code",
        "colab": {
          "base_uri": "https://localhost:8080/",
          "height": 34
        },
        "outputId": "1af0e866-d49c-473f-cc10-db53e18e36cc"
      },
      "cell_type": "code",
      "source": [
        "csv_file = open('/home/cms_scrape.csv', 'w')\n",
        "csv_writer = csv.writer(csv_file)\n",
        "csv_writer.writerow(['headline', 'summary', 'vedio_id' , 'video_link'])"
      ],
      "execution_count": 53,
      "outputs": [
        {
          "output_type": "execute_result",
          "data": {
            "text/plain": [
              "38"
            ]
          },
          "metadata": {
            "tags": []
          },
          "execution_count": 53
        }
      ]
    },
    {
      "metadata": {
        "id": "VCmSvcdDIVnc",
        "colab_type": "code",
        "colab": {
          "base_uri": "https://localhost:8080/",
          "height": 527
        },
        "outputId": "39b00d58-0b7c-4cb0-885e-fd5e2b1c4a53"
      },
      "cell_type": "code",
      "source": [
        "for article in soup.find_all('article'):\n",
        "    headline = article.h2.a.text\n",
        "    summary = article.find('div', class_='entry-content').p.text\n",
        "    try:\n",
        "        vid_src = article.find('iframe', class_='youtube-player')['src']\n",
        "        vid_id = vid_src.split('/')[4]\n",
        "        vid_id = vid_id.split('?')[0]\n",
        "        print(vid_id)\n",
        "        yt_link = f'https://youtube.com/watch?v={vid_id}'\n",
        "    except Exception as e:\n",
        "        yt_link = None\n",
        "    print(yt_link)\n",
        "    print()\n",
        "    csv_writer.writerow([headline, summary,vid_id , yt_link])\n",
        "csv_file.close()"
      ],
      "execution_count": 54,
      "outputs": [
        {
          "output_type": "stream",
          "text": [
            "JRCJ6RtE3xU\n",
            "https://youtube.com/watch?v=JRCJ6RtE3xU\n",
            "\n",
            "a6fIbtFB46g\n",
            "https://youtube.com/watch?v=a6fIbtFB46g\n",
            "\n",
            "yqm6MBt-yfY\n",
            "https://youtube.com/watch?v=yqm6MBt-yfY\n",
            "\n",
            "tb8gHvYlCFs\n",
            "https://youtube.com/watch?v=tb8gHvYlCFs\n",
            "\n",
            "6DI_7Zja8Zc\n",
            "https://youtube.com/watch?v=6DI_7Zja8Zc\n",
            "\n",
            "kt3ZtW9MXhw\n",
            "https://youtube.com/watch?v=kt3ZtW9MXhw\n",
            "\n",
            "NhidVhNHfeU\n",
            "https://youtube.com/watch?v=NhidVhNHfeU\n",
            "\n",
            "Gdys9qPjuKs\n",
            "https://youtube.com/watch?v=Gdys9qPjuKs\n",
            "\n",
            "D2lwk1Ukgz0\n",
            "https://youtube.com/watch?v=D2lwk1Ukgz0\n",
            "\n",
            "LUFn-QVcmB8\n",
            "https://youtube.com/watch?v=LUFn-QVcmB8\n",
            "\n"
          ],
          "name": "stdout"
        }
      ]
    },
    {
      "metadata": {
        "id": "SKplZyeBIVqQ",
        "colab_type": "code",
        "colab": {}
      },
      "cell_type": "code",
      "source": [
        ""
      ],
      "execution_count": 0,
      "outputs": []
    },
    {
      "metadata": {
        "id": "MmqhzisfIVsx",
        "colab_type": "code",
        "colab": {}
      },
      "cell_type": "code",
      "source": [
        ""
      ],
      "execution_count": 0,
      "outputs": []
    },
    {
      "metadata": {
        "id": "CiywqvaRIVlQ",
        "colab_type": "code",
        "colab": {}
      },
      "cell_type": "code",
      "source": [
        ""
      ],
      "execution_count": 0,
      "outputs": []
    },
    {
      "metadata": {
        "id": "Rqsxfng5IVgO",
        "colab_type": "code",
        "colab": {}
      },
      "cell_type": "code",
      "source": [
        ""
      ],
      "execution_count": 0,
      "outputs": []
    },
    {
      "metadata": {
        "id": "FQSe0X-iIVZL",
        "colab_type": "code",
        "colab": {}
      },
      "cell_type": "code",
      "source": [
        ""
      ],
      "execution_count": 0,
      "outputs": []
    },
    {
      "metadata": {
        "id": "fOH-CmOFIVHX",
        "colab_type": "code",
        "colab": {}
      },
      "cell_type": "code",
      "source": [
        ""
      ],
      "execution_count": 0,
      "outputs": []
    },
    {
      "metadata": {
        "id": "sOThsMj5DN-E",
        "colab_type": "code",
        "colab": {}
      },
      "cell_type": "code",
      "source": [
        ""
      ],
      "execution_count": 0,
      "outputs": []
    },
    {
      "metadata": {
        "id": "nFvyF5dADN2T",
        "colab_type": "code",
        "colab": {}
      },
      "cell_type": "code",
      "source": [
        ""
      ],
      "execution_count": 0,
      "outputs": []
    }
  ]
}