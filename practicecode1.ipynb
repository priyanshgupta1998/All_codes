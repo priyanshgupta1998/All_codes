{
  "nbformat": 4,
  "nbformat_minor": 0,
  "metadata": {
    "colab": {
      "name": "TensorFlow with GPU",
      "version": "0.3.2",
      "provenance": [],
      "collapsed_sections": [],
      "toc_visible": true,
      "include_colab_link": true
    },
    "kernelspec": {
      "display_name": "Python 3",
      "name": "python3"
    }
  },
  "cells": [
    {
      "cell_type": "markdown",
      "metadata": {
        "id": "view-in-github",
        "colab_type": "text"
      },
      "source": [
        "<a href=\"https://colab.research.google.com/github/priyanshgupta1998/All_codes/blob/master/practicecode1.ipynb\" target=\"_parent\"><img src=\"https://colab.research.google.com/assets/colab-badge.svg\" alt=\"Open In Colab\"/></a>"
      ]
    },
    {
      "metadata": {
        "id": "0hoFD7F48O2X",
        "colab_type": "text"
      },
      "cell_type": "markdown",
      "source": [
        "#How do you find the missing number in a given integer array of 1 to 100?"
      ]
    },
    {
      "metadata": {
        "id": "QzUt7GlU8Ktw",
        "colab_type": "code",
        "colab": {
          "base_uri": "https://localhost:8080/",
          "height": 54
        },
        "outputId": "c410c3ed-c96c-4599-f527-60009a5a86f6"
      },
      "cell_type": "code",
      "source": [
        "k = list(range(1,101))\n",
        "print(k) # lsit pf 100 numbers "
      ],
      "execution_count": 89,
      "outputs": [
        {
          "output_type": "stream",
          "text": [
            "[1, 2, 3, 4, 5, 6, 7, 8, 9, 10, 11, 12, 13, 14, 15, 16, 17, 18, 19, 20, 21, 22, 23, 24, 25, 26, 27, 28, 29, 30, 31, 32, 33, 34, 35, 36, 37, 38, 39, 40, 41, 42, 43, 44, 45, 46, 47, 48, 49, 50, 51, 52, 53, 54, 55, 56, 57, 58, 59, 60, 61, 62, 63, 64, 65, 66, 67, 68, 69, 70, 71, 72, 73, 74, 75, 76, 77, 78, 79, 80, 81, 82, 83, 84, 85, 86, 87, 88, 89, 90, 91, 92, 93, 94, 95, 96, 97, 98, 99, 100]\n"
          ],
          "name": "stdout"
        }
      ]
    },
    {
      "metadata": {
        "id": "h7Fhdo5d8Kw5",
        "colab_type": "code",
        "colab": {
          "base_uri": "https://localhost:8080/",
          "height": 54
        },
        "outputId": "0e31ef4e-d350-48a9-825f-54e26f4c2330"
      },
      "cell_type": "code",
      "source": [
        "del k[9]\n",
        "print(k) # remove element 10 from the list to make a scenario"
      ],
      "execution_count": 90,
      "outputs": [
        {
          "output_type": "stream",
          "text": [
            "[1, 2, 3, 4, 5, 6, 7, 8, 9, 11, 12, 13, 14, 15, 16, 17, 18, 19, 20, 21, 22, 23, 24, 25, 26, 27, 28, 29, 30, 31, 32, 33, 34, 35, 36, 37, 38, 39, 40, 41, 42, 43, 44, 45, 46, 47, 48, 49, 50, 51, 52, 53, 54, 55, 56, 57, 58, 59, 60, 61, 62, 63, 64, 65, 66, 67, 68, 69, 70, 71, 72, 73, 74, 75, 76, 77, 78, 79, 80, 81, 82, 83, 84, 85, 86, 87, 88, 89, 90, 91, 92, 93, 94, 95, 96, 97, 98, 99, 100]\n"
          ],
          "name": "stdout"
        }
      ]
    },
    {
      "metadata": {
        "id": "XszFwAsLCTyv",
        "colab_type": "text"
      },
      "cell_type": "markdown",
      "source": [
        "\n",
        "\n",
        "```\n",
        "Assume:  \n",
        "Now we don't know which element is missing from the list so we have to find it out.\n",
        "```\n",
        "\n"
      ]
    },
    {
      "metadata": {
        "id": "YmPRDEvr8Kzm",
        "colab_type": "code",
        "colab": {
          "base_uri": "https://localhost:8080/",
          "height": 34
        },
        "outputId": "9ae7439b-143e-4bc0-8ac0-a767ce7d6bde"
      },
      "cell_type": "code",
      "source": [
        "l = len(k)\n",
        "res = sum(k)  # sum of all the elements from the given list \n",
        "total = int((l+1)*(l+2)/2)   # sum of all the elements from 1 to 100\n",
        "print(\" mising element is : \", end= '  ')\n",
        "print(total - res)"
      ],
      "execution_count": 93,
      "outputs": [
        {
          "output_type": "stream",
          "text": [
            " mising element is :   10\n"
          ],
          "name": "stdout"
        }
      ]
    },
    {
      "metadata": {
        "id": "UYWMoGRqDk6T",
        "colab_type": "text"
      },
      "cell_type": "markdown",
      "source": [
        "#Q. How do you find the duplicate number on a given integer array?"
      ]
    },
    {
      "metadata": {
        "id": "fRPYMnIqEHOH",
        "colab_type": "text"
      },
      "cell_type": "markdown",
      "source": [
        "**Method 1 **"
      ]
    },
    {
      "metadata": {
        "id": "rfTON4T08K3R",
        "colab_type": "code",
        "colab": {
          "base_uri": "https://localhost:8080/",
          "height": 34
        },
        "outputId": "345184fe-3e3e-4a6e-d14b-a3efec5690f0"
      },
      "cell_type": "code",
      "source": [
        "arr = [1,4,5,7,2,1,4,1,2,3,4,1,4]   # list with duplicate numbers \n",
        "l = len(arr)"
      ],
      "execution_count": 94,
      "outputs": [
        {
          "output_type": "execute_result",
          "data": {
            "text/plain": [
              "13"
            ]
          },
          "metadata": {
            "tags": []
          },
          "execution_count": 94
        }
      ]
    },
    {
      "metadata": {
        "id": "CQOXZyAj8K7G",
        "colab_type": "code",
        "colab": {
          "base_uri": "https://localhost:8080/",
          "height": 34
        },
        "outputId": "4283b50c-5066-4bab-fd80-bd49cf22e014"
      },
      "cell_type": "code",
      "source": [
        "import numpy as np \n",
        "arr_ = np.array(arr)\n",
        "arr_"
      ],
      "execution_count": 95,
      "outputs": [
        {
          "output_type": "execute_result",
          "data": {
            "text/plain": [
              "array([1, 4, 5, 7, 2, 1, 4, 1, 2, 3, 4, 1, 4])"
            ]
          },
          "metadata": {
            "tags": []
          },
          "execution_count": 95
        }
      ]
    },
    {
      "metadata": {
        "id": "P4h6PWuP8K-g",
        "colab_type": "code",
        "colab": {
          "base_uri": "https://localhost:8080/",
          "height": 34
        },
        "outputId": "11457129-40a9-494b-f4d1-533686fb61a0"
      },
      "cell_type": "code",
      "source": [
        "dup = np.unique(arr_)\n",
        "dup"
      ],
      "execution_count": 98,
      "outputs": [
        {
          "output_type": "execute_result",
          "data": {
            "text/plain": [
              "array([1, 2, 3, 4, 5, 7])"
            ]
          },
          "metadata": {
            "tags": []
          },
          "execution_count": 98
        }
      ]
    },
    {
      "metadata": {
        "id": "KTdZ_95uGh1u",
        "colab_type": "code",
        "colab": {}
      },
      "cell_type": "code",
      "source": [
        "l = len(list(dup))\n",
        "l_ = len(list(arr_))"
      ],
      "execution_count": 0,
      "outputs": []
    },
    {
      "metadata": {
        "id": "wU2SKJ168LC_",
        "colab_type": "code",
        "colab": {
          "base_uri": "https://localhost:8080/",
          "height": 119
        },
        "outputId": "fba9eebe-ce1f-4e9c-9242-ab35874dbc3b"
      },
      "cell_type": "code",
      "source": [
        "for i in range(l):\n",
        "  count = 0\n",
        "  for j in range(l_):\n",
        "    if arr_[j]==dup[i]:\n",
        "      count = count +1\n",
        "  print( str(dup[i]) + \" comes : \" + str(count) + \" times\")"
      ],
      "execution_count": 112,
      "outputs": [
        {
          "output_type": "stream",
          "text": [
            "1 comes : 4 times\n",
            "2 comes : 2 times\n",
            "3 comes : 1 times\n",
            "4 comes : 4 times\n",
            "5 comes : 1 times\n",
            "7 comes : 1 times\n"
          ],
          "name": "stdout"
        }
      ]
    },
    {
      "metadata": {
        "id": "EEheKpVZUKe-",
        "colab_type": "text"
      },
      "cell_type": "markdown",
      "source": [
        "**method 2**"
      ]
    },
    {
      "metadata": {
        "id": "drK6AW4aUquq",
        "colab_type": "code",
        "colab": {}
      },
      "cell_type": "code",
      "source": [
        "def repeat(arr , n):\n",
        "  for i in range(n):\n",
        "    if(arr[abs(arr[i])]>=0):\n",
        "      arr[abs(arr[i])] = -arr[abs(arr[i])]\n",
        "    else:\n",
        "      print(abs(arr[i]), end = \" \")"
      ],
      "execution_count": 0,
      "outputs": []
    },
    {
      "metadata": {
        "id": "w5UyqB7e8LHO",
        "colab_type": "code",
        "colab": {
          "base_uri": "https://localhost:8080/",
          "height": 34
        },
        "outputId": "d9ae6dd7-6610-425e-9ab2-b2ae1f06c3a6"
      },
      "cell_type": "code",
      "source": [
        "array = [1,4,5,7,2,1,4,1,2,3,4,1,4]   # list with duplicate numbers \n",
        "length = len(array)\n",
        "repeat(array , length)"
      ],
      "execution_count": 121,
      "outputs": [
        {
          "output_type": "stream",
          "text": [
            "1 4 1 2 4 1 4 "
          ],
          "name": "stdout"
        }
      ]
    },
    {
      "metadata": {
        "id": "YIAQqQvJWKA2",
        "colab_type": "text"
      },
      "cell_type": "markdown",
      "source": [
        "#Q. How are duplicates removed from an array without using any library?"
      ]
    },
    {
      "metadata": {
        "id": "oGDOpk65WVq1",
        "colab_type": "code",
        "colab": {}
      },
      "cell_type": "code",
      "source": [
        "def removed(arr , n):\n",
        "  a = []\n",
        "  for i in range(n):\n",
        "    if(arr[abs(arr[i])]>=0):\n",
        "      arr[abs(arr[i])] = -arr[abs(arr[i])]\n",
        "    else:\n",
        "      \n",
        "      \n",
        "array = [1,4,5,2,2,1,4,1,2,3,4,1,4]  \n",
        "length = len(array)\n",
        "a = removed(array , length)\n"
      ],
      "execution_count": 0,
      "outputs": []
    },
    {
      "metadata": {
        "id": "1be-9vEY8LRB",
        "colab_type": "code",
        "colab": {}
      },
      "cell_type": "code",
      "source": [
        ""
      ],
      "execution_count": 0,
      "outputs": []
    },
    {
      "metadata": {
        "id": "T33x3qtn8LF4",
        "colab_type": "code",
        "colab": {
          "base_uri": "https://localhost:8080/",
          "height": 34
        },
        "outputId": "894721c3-b8f0-46a6-e901-a305ef58b435"
      },
      "cell_type": "code",
      "source": [
        "n = 9\n",
        "english = [1,2,3,4,5,6,7,8,9]\n",
        "b = 9\n",
        "french = [10,1,2,3,11,21,55,6,8]\n",
        "for i in french:\n",
        "  if i in english:\n",
        "    continue\n",
        "  else:\n",
        "    english.append(i)\n",
        "print(english)"
      ],
      "execution_count": 165,
      "outputs": [
        {
          "output_type": "stream",
          "text": [
            "[1, 2, 3, 4, 5, 6, 7, 8, 9, 10, 11, 21, 55]\n"
          ],
          "name": "stdout"
        }
      ]
    },
    {
      "metadata": {
        "id": "6xv2MAC-8LBR",
        "colab_type": "code",
        "colab": {
          "base_uri": "https://localhost:8080/",
          "height": 51
        },
        "outputId": "4de7b7ae-1aaf-4db5-8c6e-21a6a9c1bd17"
      },
      "cell_type": "code",
      "source": [
        "n = 9\n",
        "english = set([1,2,3,4,5,6,7,8,9])\n",
        "b = 9\n",
        "l=set()\n",
        "french = set([10,1,2,3,11,21,55,6,8])\n",
        "for i in english.intersection(french):\n",
        "  l.add(i)\n",
        "print(l)"
      ],
      "execution_count": 168,
      "outputs": [
        {
          "output_type": "stream",
          "text": [
            "{1, 2, 3, 6, 8}\n",
            "{1, 2, 3, 6, 8}\n"
          ],
          "name": "stdout"
        }
      ]
    },
    {
      "metadata": {
        "id": "WwPOLNq58K14",
        "colab_type": "code",
        "colab": {
          "base_uri": "https://localhost:8080/",
          "height": 34
        },
        "outputId": "ebaa13cd-57dd-4efa-96ed-f14ebbb9c713"
      },
      "cell_type": "code",
      "source": [
        "s = set(\"Hacker\")\n",
        "print(s.difference(\"Rank\"))"
      ],
      "execution_count": 169,
      "outputs": [
        {
          "output_type": "stream",
          "text": [
            "{'H', 'e', 'c', 'r'}\n"
          ],
          "name": "stdout"
        }
      ]
    },
    {
      "metadata": {
        "id": "4n3k9So6prbJ",
        "colab_type": "code",
        "colab": {
          "base_uri": "https://localhost:8080/",
          "height": 34
        },
        "outputId": "9eef4388-a3ee-4402-dd0b-7745c51b4b23"
      },
      "cell_type": "code",
      "source": [
        "print((english|french))"
      ],
      "execution_count": 170,
      "outputs": [
        {
          "output_type": "stream",
          "text": [
            "{1, 2, 3, 4, 5, 6, 7, 8, 9, 10, 11, 21, 55}\n"
          ],
          "name": "stdout"
        }
      ]
    },
    {
      "metadata": {
        "id": "A4hxjTaQpr3D",
        "colab_type": "code",
        "colab": {
          "base_uri": "https://localhost:8080/",
          "height": 34
        },
        "outputId": "51847972-9c6a-4de3-a3db-06cd4f62cc41"
      },
      "cell_type": "code",
      "source": [
        "print(english.union(french))"
      ],
      "execution_count": 172,
      "outputs": [
        {
          "output_type": "stream",
          "text": [
            "{1, 2, 3, 4, 5, 6, 7, 8, 9, 10, 11, 21, 55}\n"
          ],
          "name": "stdout"
        }
      ]
    },
    {
      "metadata": {
        "id": "iOAGFuVZqbJj",
        "colab_type": "text"
      },
      "cell_type": "markdown",
      "source": [
        "#examples of set() function"
      ]
    },
    {
      "metadata": {
        "id": "doEjwSNdqr7q",
        "colab_type": "text"
      },
      "cell_type": "markdown",
      "source": [
        "#.update() or |="
      ]
    },
    {
      "metadata": {
        "id": "3O6X8SjIprzd",
        "colab_type": "code",
        "colab": {
          "base_uri": "https://localhost:8080/",
          "height": 34
        },
        "outputId": "32074005-30f5-4306-c5a2-0cbe990a934e"
      },
      "cell_type": "code",
      "source": [
        "H = set(\"Hacker\")\n",
        "R = set(\"Rank\")\n",
        "H.update(R)\n",
        "print(H)"
      ],
      "execution_count": 173,
      "outputs": [
        {
          "output_type": "stream",
          "text": [
            "{'e', 'r', 'n', 'H', 'R', 'c', 'a', 'k'}\n"
          ],
          "name": "stdout"
        }
      ]
    },
    {
      "metadata": {
        "id": "7g5gcWXOqw9S",
        "colab_type": "text"
      },
      "cell_type": "markdown",
      "source": [
        "#.intersection_update() or &="
      ]
    },
    {
      "metadata": {
        "id": "bk-xMJV0prxr",
        "colab_type": "code",
        "colab": {
          "base_uri": "https://localhost:8080/",
          "height": 51
        },
        "outputId": "65331673-db67-4ca9-9b07-de777ed7836c"
      },
      "cell_type": "code",
      "source": [
        "H = set(\"Hacker\")\n",
        "R = set(\"Rank\")\n",
        "H.intersection_update(R)\n",
        "print(H)\n",
        "print(H.intersection(R))"
      ],
      "execution_count": 175,
      "outputs": [
        {
          "output_type": "stream",
          "text": [
            "{'a', 'k'}\n",
            "{'a', 'k'}\n"
          ],
          "name": "stdout"
        }
      ]
    },
    {
      "metadata": {
        "id": "kt8O9Xxrprv3",
        "colab_type": "code",
        "colab": {
          "base_uri": "https://localhost:8080/",
          "height": 85
        },
        "outputId": "e2eb4b00-5052-444c-fdfa-37d465d88cd9"
      },
      "cell_type": "code",
      "source": [
        "arr = set([1, 2 ,3, 4, 5, 6, 7 ,8, 9, 10 ,11, 12 ,13 ,14 ,24 ,52])\n",
        "a = set([2 ,3, 5, 6 ,8 ,9, 1 ,4 ,7, 11])\n",
        "b = set([55, 66])\n",
        "c = set([22, 7 ,35 ,62 ,58])\n",
        "d = set([11, 22, 35 ,55 ,58, 62, 66])\n",
        "arr.intersection_update(a)\n",
        "print(arr)\n",
        "arr.update(b)\n",
        "print(arr)\n",
        "arr.symmetric_difference_update(c)  # delete common elements and after that add all the left elements\n",
        "print(arr)\n",
        "arr.difference_update(d)\n",
        "print(arr)\n"
      ],
      "execution_count": 178,
      "outputs": [
        {
          "output_type": "stream",
          "text": [
            "{1, 2, 3, 4, 5, 6, 7, 8, 9, 11}\n",
            "{1, 2, 3, 4, 5, 6, 7, 8, 9, 66, 11, 55}\n",
            "{1, 2, 3, 4, 5, 6, 8, 9, 66, 11, 35, 22, 55, 58, 62}\n",
            "{1, 2, 3, 4, 5, 6, 8, 9}\n"
          ],
          "name": "stdout"
        }
      ]
    },
    {
      "metadata": {
        "id": "rpjHaBFcprt6",
        "colab_type": "code",
        "colab": {}
      },
      "cell_type": "code",
      "source": [
        "\n",
        "n = 16\n",
        "A = set([1, 2 ,3, 4, 5, 6, 7 ,8, 9, 10 ,11, 12 ,13 ,14 ,24 ,52])\n",
        " \n",
        "eval('A.{0}({1})'.format(*input().split()+['']))\n",
        "print(A)"
      ],
      "execution_count": 0,
      "outputs": []
    },
    {
      "metadata": {
        "id": "AKN4rcGqprrM",
        "colab_type": "code",
        "colab": {
          "base_uri": "https://localhost:8080/",
          "height": 51
        },
        "outputId": "6de2d356-6924-4e95-f1b0-4130e0c20daf"
      },
      "cell_type": "code",
      "source": [
        " \n",
        "'{0}{1}'.format(*input().split()+[''])"
      ],
      "execution_count": 179,
      "outputs": [
        {
          "output_type": "stream",
          "text": [
            "1 2 5 3 4 5\n"
          ],
          "name": "stdout"
        },
        {
          "output_type": "execute_result",
          "data": {
            "text/plain": [
              "'12'"
            ]
          },
          "metadata": {
            "tags": []
          },
          "execution_count": 179
        }
      ]
    },
    {
      "metadata": {
        "id": "6PcuV8J7pro5",
        "colab_type": "code",
        "colab": {
          "base_uri": "https://localhost:8080/",
          "height": 51
        },
        "outputId": "2fde0ae6-6240-4029-8348-5e30f4b163f1"
      },
      "cell_type": "code",
      "source": [
        " \n",
        "'{0}{1}{3}'.format(*input().split()+[''])"
      ],
      "execution_count": 180,
      "outputs": [
        {
          "output_type": "stream",
          "text": [
            "1 2 5 3 4 5\n"
          ],
          "name": "stdout"
        },
        {
          "output_type": "execute_result",
          "data": {
            "text/plain": [
              "'123'"
            ]
          },
          "metadata": {
            "tags": []
          },
          "execution_count": 180
        }
      ]
    },
    {
      "metadata": {
        "id": "rob43-dzprmv",
        "colab_type": "code",
        "colab": {
          "base_uri": "https://localhost:8080/",
          "height": 51
        },
        "outputId": "8bd3fa9f-da95-4652-b208-fbd09ed3be5c"
      },
      "cell_type": "code",
      "source": [
        " K = input().split()\n",
        "'{0}{1}'.format(*K+[''])"
      ],
      "execution_count": 181,
      "outputs": [
        {
          "output_type": "stream",
          "text": [
            "1 2 5 3 4 5\n"
          ],
          "name": "stdout"
        },
        {
          "output_type": "execute_result",
          "data": {
            "text/plain": [
              "'12'"
            ]
          },
          "metadata": {
            "tags": []
          },
          "execution_count": 181
        }
      ]
    },
    {
      "metadata": {
        "id": "wUESdYhJy4je",
        "colab_type": "code",
        "colab": {
          "base_uri": "https://localhost:8080/",
          "height": 51
        },
        "outputId": "8e9fdb9d-35c6-4816-bdc7-9ca7e16ebfdd"
      },
      "cell_type": "code",
      "source": [
        "K = input().split()\n",
        "st = '{0}'.format(*K+[''])\n",
        "print(type(st))"
      ],
      "execution_count": 184,
      "outputs": [
        {
          "output_type": "stream",
          "text": [
            "update 5\n",
            "<class 'str'>\n"
          ],
          "name": "stdout"
        }
      ]
    },
    {
      "metadata": {
        "id": "WTOfFlPZzSRs",
        "colab_type": "code",
        "colab": {
          "base_uri": "https://localhost:8080/",
          "height": 34
        },
        "outputId": "894d73fd-b8a8-44ea-c459-cd609293a89a"
      },
      "cell_type": "code",
      "source": [
        "'{0}'.format(*st)"
      ],
      "execution_count": 186,
      "outputs": [
        {
          "output_type": "execute_result",
          "data": {
            "text/plain": [
              "'u'"
            ]
          },
          "metadata": {
            "tags": []
          },
          "execution_count": 186
        }
      ]
    },
    {
      "metadata": {
        "id": "eaWIBYvQprkl",
        "colab_type": "code",
        "colab": {}
      },
      "cell_type": "code",
      "source": [
        "K = input().split()\n",
        "lis = set([1,2,3,4,5])\n",
        "'{0}{2}'.format(*K+['']+lis)"
      ],
      "execution_count": 0,
      "outputs": []
    },
    {
      "metadata": {
        "id": "mO-TgqK7prit",
        "colab_type": "code",
        "colab": {
          "base_uri": "https://localhost:8080/",
          "height": 34
        },
        "outputId": "42a52cee-7f40-4e21-d7d7-712498e93aa8"
      },
      "cell_type": "code",
      "source": [
        "letter = 'priyansh'\n",
        "print(letter in ['a', 'e', 'i', 'o', 'u', 'y'])\n",
        "    "
      ],
      "execution_count": 190,
      "outputs": [
        {
          "output_type": "stream",
          "text": [
            "False\n"
          ],
          "name": "stdout"
        }
      ]
    },
    {
      "metadata": {
        "id": "Txnw6uLDprgi",
        "colab_type": "code",
        "colab": {
          "base_uri": "https://localhost:8080/",
          "height": 34
        },
        "outputId": "9dc4ed95-0b88-4f43-9874-74e6bde06f9c"
      },
      "cell_type": "code",
      "source": [
        "def is_vowel(letter):\n",
        "    return letter in ['a', 'e', 'i', 'o', 'u', 'y']\n",
        "  \n",
        "res= is_vowel('hacker')    # 'hacker' doesn't exist in function\n",
        "print(res)"
      ],
      "execution_count": 191,
      "outputs": [
        {
          "output_type": "stream",
          "text": [
            "False\n"
          ],
          "name": "stdout"
        }
      ]
    },
    {
      "metadata": {
        "id": "sdPehZqR0kc8",
        "colab_type": "code",
        "colab": {}
      },
      "cell_type": "code",
      "source": [
        "def is_vowel(letter):\n",
        "    return letter in ['a', 'e', 'i', 'o', 'u', 'y']\n",
        "\n",
        "def score_words(words):\n",
        "    score = 0\n",
        "    for word in words:\n",
        "        num_vowels = 0\n",
        "        for letter in word:\n",
        "            if is_vowel(letter):\n",
        "                num_vowels += 1\n",
        "        if num_vowels % 2 == 0:\n",
        "            score += 2\n",
        "        else:\n",
        "            ++score\n",
        "    return score"
      ],
      "execution_count": 0,
      "outputs": []
    },
    {
      "metadata": {
        "id": "YA5bz1m20kuI",
        "colab_type": "code",
        "colab": {
          "base_uri": "https://localhost:8080/",
          "height": 255
        },
        "outputId": "6f35410c-704a-46f4-d74e-d491e2397e53"
      },
      "cell_type": "code",
      "source": [
        "class EvenStream(object):\n",
        "    def __init__(self):\n",
        "        self.current = 0\n",
        "\n",
        "    def get_next(self):\n",
        "        to_return = self.current\n",
        "        self.current += 2\n",
        "        return to_return\n",
        "\n",
        "class OddStream(object):\n",
        "    def __init__(self):\n",
        "        self.current = 1\n",
        "\n",
        "    def get_next(self):\n",
        "        to_return = self.current\n",
        "        self.current += 2\n",
        "        return to_return\n",
        "\n",
        "def print_from_stream(n, stream=EvenStream()):\n",
        "    for _ in range(n):\n",
        "        print(stream.get_next())\n",
        "        \n",
        "\n",
        "\n",
        "\n",
        "\n",
        "queries = int(input())\n",
        "for _ in range(queries):\n",
        "    stream_name, n = input().split()\n",
        "    n = int(n)\n",
        "    if stream_name == \"even\":\n",
        "        print_from_stream(n)\n",
        "    else:\n",
        "        print_from_stream(n, OddStream())\n"
      ],
      "execution_count": 1,
      "outputs": [
        {
          "output_type": "stream",
          "text": [
            "3\n",
            "odd 2\n",
            "1\n",
            "3\n",
            "even 3\n",
            "0\n",
            "2\n",
            "4\n",
            "odd 5\n",
            "1\n",
            "3\n",
            "5\n",
            "7\n",
            "9\n"
          ],
          "name": "stdout"
        }
      ]
    },
    {
      "metadata": {
        "id": "ROxqfc2e0kq0",
        "colab_type": "code",
        "colab": {}
      },
      "cell_type": "code",
      "source": [
        ""
      ],
      "execution_count": 0,
      "outputs": []
    },
    {
      "metadata": {
        "id": "U00p3s2a0kpG",
        "colab_type": "code",
        "colab": {}
      },
      "cell_type": "code",
      "source": [
        ""
      ],
      "execution_count": 0,
      "outputs": []
    },
    {
      "metadata": {
        "id": "4h1AeClu0knG",
        "colab_type": "code",
        "colab": {}
      },
      "cell_type": "code",
      "source": [
        ""
      ],
      "execution_count": 0,
      "outputs": []
    },
    {
      "metadata": {
        "id": "WxxtOX9I0klX",
        "colab_type": "code",
        "colab": {}
      },
      "cell_type": "code",
      "source": [
        ""
      ],
      "execution_count": 0,
      "outputs": []
    },
    {
      "metadata": {
        "id": "YxG-Nmlm0kjX",
        "colab_type": "code",
        "colab": {}
      },
      "cell_type": "code",
      "source": [
        ""
      ],
      "execution_count": 0,
      "outputs": []
    },
    {
      "metadata": {
        "id": "FOnuJJva0kgv",
        "colab_type": "code",
        "colab": {}
      },
      "cell_type": "code",
      "source": [
        ""
      ],
      "execution_count": 0,
      "outputs": []
    },
    {
      "metadata": {
        "id": "aKIOriR_prYZ",
        "colab_type": "code",
        "colab": {}
      },
      "cell_type": "code",
      "source": [
        ""
      ],
      "execution_count": 0,
      "outputs": []
    }
  ]
}