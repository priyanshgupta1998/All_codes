{
  "nbformat": 4,
  "nbformat_minor": 0,
  "metadata": {
    "colab": {
      "name": "TensorFlow_with_GPU (9).ipynb",
      "version": "0.3.2",
      "provenance": [],
      "collapsed_sections": [],
      "include_colab_link": true
    },
    "kernelspec": {
      "display_name": "Python 3",
      "name": "python3"
    }
  },
  "cells": [
    {
      "cell_type": "markdown",
      "metadata": {
        "id": "view-in-github",
        "colab_type": "text"
      },
      "source": [
        "<a href=\"https://colab.research.google.com/github/priyanshgupta1998/All_codes/blob/master/all_practice.ipynb\" target=\"_parent\"><img src=\"https://colab.research.google.com/assets/colab-badge.svg\" alt=\"Open In Colab\"/></a>"
      ]
    },
    {
      "metadata": {
        "id": "0vcChLeNcj7j",
        "colab_type": "code",
        "colab": {}
      },
      "cell_type": "code",
      "source": [
        "from collections import defaultdict "
      ],
      "execution_count": 0,
      "outputs": []
    },
    {
      "metadata": {
        "id": "eRu6SRFmdTCK",
        "colab_type": "code",
        "outputId": "5dd3ad79-8f56-4b44-e1fd-89cf70a55b4e",
        "colab": {
          "base_uri": "https://localhost:8080/",
          "height": 34
        }
      },
      "cell_type": "code",
      "source": [
        "graph = defaultdict(list)   # make a combined data structure \n",
        "graph"
      ],
      "execution_count": 0,
      "outputs": [
        {
          "output_type": "execute_result",
          "data": {
            "text/plain": [
              "defaultdict(list, {})"
            ]
          },
          "metadata": {
            "tags": []
          },
          "execution_count": 2
        }
      ]
    },
    {
      "metadata": {
        "id": "iEBER17scv8U",
        "colab_type": "code",
        "colab": {}
      },
      "cell_type": "code",
      "source": [
        "def addEdge(graph,u,v):\n",
        "    graph[u].append(v)   # Append element by using list # AND THEN transer the element in the dictonary"
      ],
      "execution_count": 0,
      "outputs": []
    },
    {
      "metadata": {
        "id": "y7DbIUBQeYVr",
        "colab_type": "code",
        "colab": {}
      },
      "cell_type": "code",
      "source": [
        "addEdge(graph,1,4) \n",
        "addEdge(graph,4,5) \n",
        "addEdge(graph,6,2) \n",
        "addEdge(graph,3,6) \n",
        "addEdge(graph,4,2) \n",
        "\n",
        "# addEdge(graph,'a','c') \n",
        "# addEdge(graph,'b','c') \n",
        "# addEdge(graph,'b','e') \n",
        "# addEdge(graph,'c','d') "
      ],
      "execution_count": 0,
      "outputs": []
    },
    {
      "metadata": {
        "id": "QJDuNQZ3fPLM",
        "colab_type": "code",
        "outputId": "22fd1a99-5dd1-468c-c296-dbe1ff23bdf9",
        "colab": {
          "base_uri": "https://localhost:8080/",
          "height": 34
        }
      },
      "cell_type": "code",
      "source": [
        "graph"
      ],
      "execution_count": 0,
      "outputs": [
        {
          "output_type": "execute_result",
          "data": {
            "text/plain": [
              "defaultdict(list, {1: [4], 3: [6], 4: [5, 2], 6: [2]})"
            ]
          },
          "metadata": {
            "tags": []
          },
          "execution_count": 5
        }
      ]
    },
    {
      "metadata": {
        "id": "-Di4ZSMKPkDg",
        "colab_type": "code",
        "outputId": "745cb06e-3c0c-4858-da6e-636de3b5cdd3",
        "colab": {
          "base_uri": "https://localhost:8080/",
          "height": 34
        }
      },
      "cell_type": "code",
      "source": [
        "visited = [False]*(len(graph)) \n",
        "visited"
      ],
      "execution_count": 0,
      "outputs": [
        {
          "output_type": "execute_result",
          "data": {
            "text/plain": [
              "[False, False, False, False]"
            ]
          },
          "metadata": {
            "tags": []
          },
          "execution_count": 6
        }
      ]
    },
    {
      "metadata": {
        "id": "Zkl0zoNqP-xh",
        "colab_type": "code",
        "outputId": "26be7bfc-68f3-4818-b0db-9543075abe44",
        "colab": {
          "base_uri": "https://localhost:8080/",
          "height": 34
        }
      },
      "cell_type": "code",
      "source": [
        "graph[3]"
      ],
      "execution_count": 0,
      "outputs": [
        {
          "output_type": "execute_result",
          "data": {
            "text/plain": [
              "[6]"
            ]
          },
          "metadata": {
            "tags": []
          },
          "execution_count": 8
        }
      ]
    },
    {
      "metadata": {
        "id": "6xf_H2tSc1_C",
        "colab_type": "code",
        "colab": {}
      },
      "cell_type": "code",
      "source": [
        "def generate_edges(graph): \n",
        "    edges = [] \n",
        "    for node in graph: \n",
        "        for neighbour in graph[node]:\n",
        "            edges.append((node, neighbour)) \n",
        "    return edges"
      ],
      "execution_count": 0,
      "outputs": []
    },
    {
      "metadata": {
        "id": "te2oDVwteTPA",
        "colab_type": "code",
        "outputId": "dc5a5314-5fe0-41f0-9e29-962b90cd1b12",
        "colab": {
          "base_uri": "https://localhost:8080/",
          "height": 34
        }
      },
      "cell_type": "code",
      "source": [
        "generate_edges(graph)"
      ],
      "execution_count": 0,
      "outputs": [
        {
          "output_type": "execute_result",
          "data": {
            "text/plain": [
              "[(1, 4), (4, 5), (4, 2), (6, 2), (3, 6)]"
            ]
          },
          "metadata": {
            "tags": []
          },
          "execution_count": 51
        }
      ]
    },
    {
      "metadata": {
        "id": "qlHQk6zsckHW",
        "colab_type": "code",
        "outputId": "1258e9cb-6231-4e27-de6e-8715129ed22c",
        "colab": {
          "base_uri": "https://localhost:8080/",
          "height": 102
        }
      },
      "cell_type": "code",
      "source": [
        "l = generate_edges(graph)\n",
        "for i in range(len(l)):\n",
        "    r,k = l[i]\n",
        "    print(r,k)"
      ],
      "execution_count": 0,
      "outputs": [
        {
          "output_type": "stream",
          "text": [
            "1 4\n",
            "4 5\n",
            "4 2\n",
            "6 2\n",
            "3 6\n"
          ],
          "name": "stdout"
        }
      ]
    },
    {
      "metadata": {
        "id": "Tk6OBQjjckNS",
        "colab_type": "code",
        "colab": {}
      },
      "cell_type": "code",
      "source": [
        ""
      ],
      "execution_count": 0,
      "outputs": []
    },
    {
      "metadata": {
        "id": "EpdoH1U6ckK1",
        "colab_type": "code",
        "colab": {}
      },
      "cell_type": "code",
      "source": [
        ""
      ],
      "execution_count": 0,
      "outputs": []
    },
    {
      "metadata": {
        "id": "H0HuS1vkckEO",
        "colab_type": "code",
        "colab": {}
      },
      "cell_type": "code",
      "source": [
        ""
      ],
      "execution_count": 0,
      "outputs": []
    },
    {
      "metadata": {
        "id": "Hgr1CrSLcj_c",
        "colab_type": "code",
        "outputId": "d2840931-ff27-4d5b-a462-8c6720271d70",
        "colab": {
          "base_uri": "https://localhost:8080/",
          "height": 102
        }
      },
      "cell_type": "code",
      "source": [
        "from collections import defaultdict \n",
        "\n",
        "class Graph: \n",
        "\tdef __init__(self):  \n",
        "\t\tself.graph = defaultdict(list) \n",
        "\tdef addEdge(self,u,v): \n",
        "\t\tself.graph[u].append(v) \n",
        "\tdef DFSUtil(self,v,visited): \n",
        "\t\tvisited[v]= True\n",
        "\t\tprint(v)\n",
        "\t\tfor i in self.graph[v]: \n",
        "\t\t\tif visited[i] == False: \n",
        "\t\t\t\tself.DFSUtil(i, visited) \n",
        "\tdef DFS(self,v): \n",
        "\t\tvisited = [False]*(len(self.graph)) \n",
        "\t\tself.DFSUtil(v,visited) \n",
        "g = Graph() \n",
        "g.addEdge(0, 1) \n",
        "g.addEdge(0, 2) \n",
        "g.addEdge(1, 2) \n",
        "g.addEdge(2, 0) \n",
        "g.addEdge(2, 3) \n",
        "g.addEdge(3, 3) \n",
        "\n",
        "print (\"Following is DFS from (starting from vertex 2)\")\n",
        "g.DFS(2) "
      ],
      "execution_count": 0,
      "outputs": [
        {
          "output_type": "stream",
          "text": [
            "Following is DFS from (starting from vertex 2)\n",
            "2\n",
            "0\n",
            "1\n",
            "3\n"
          ],
          "name": "stdout"
        }
      ]
    },
    {
      "metadata": {
        "id": "TWvKHHhpZBMz",
        "colab_type": "code",
        "outputId": "cf3208ec-930e-4901-af8d-85056e63ad63",
        "colab": {
          "base_uri": "https://localhost:8080/",
          "height": 170
        }
      },
      "cell_type": "code",
      "source": [
        "l = [4 ,78,5,68,3,5,42,7,81,45,81]\n",
        "m = []\n",
        "for i in range(len(l)-2):\n",
        "    m.append([l[i],l[i+1],l[i+2]])\n",
        "m"
      ],
      "execution_count": 0,
      "outputs": [
        {
          "output_type": "execute_result",
          "data": {
            "text/plain": [
              "[[4, 78, 5],\n",
              " [78, 5, 68],\n",
              " [5, 68, 3],\n",
              " [68, 3, 5],\n",
              " [3, 5, 42],\n",
              " [5, 42, 7],\n",
              " [42, 7, 81],\n",
              " [7, 81, 45],\n",
              " [81, 45, 81]]"
            ]
          },
          "metadata": {
            "tags": []
          },
          "execution_count": 36
        }
      ]
    },
    {
      "metadata": {
        "id": "woHuTjULetyr",
        "colab_type": "code",
        "outputId": "431435ce-e7d0-4768-deec-495ab59413f6",
        "colab": {
          "base_uri": "https://localhost:8080/",
          "height": 170
        }
      },
      "cell_type": "code",
      "source": [
        "for i in range(len(m)):\n",
        "    print(m[i][0] + m[i][1])"
      ],
      "execution_count": 0,
      "outputs": [
        {
          "output_type": "stream",
          "text": [
            "82\n",
            "83\n",
            "73\n",
            "71\n",
            "8\n",
            "47\n",
            "49\n",
            "88\n",
            "126\n"
          ],
          "name": "stdout"
        }
      ]
    },
    {
      "metadata": {
        "id": "dnUE2d_dbTN8",
        "colab_type": "code",
        "colab": {}
      },
      "cell_type": "code",
      "source": [
        "o = []\n",
        "for i in range(len(m)):\n",
        "    o.append(m[i])\n",
        "o"
      ],
      "execution_count": 0,
      "outputs": []
    },
    {
      "metadata": {
        "id": "PF_DhmhVWoVo",
        "colab_type": "code",
        "outputId": "440a5e3c-f04b-4fc5-ae05-8677bdec63c9",
        "colab": {
          "base_uri": "https://localhost:8080/",
          "height": 34
        }
      },
      "cell_type": "code",
      "source": [
        "n = 4579\n",
        "l =list(map(int , str(n)))\n",
        "sum(l)"
      ],
      "execution_count": 0,
      "outputs": [
        {
          "output_type": "execute_result",
          "data": {
            "text/plain": [
              "25"
            ]
          },
          "metadata": {
            "tags": []
          },
          "execution_count": 49
        }
      ]
    },
    {
      "metadata": {
        "id": "hZUB4YuYpfN5",
        "colab_type": "code",
        "colab": {}
      },
      "cell_type": "code",
      "source": [
        "555555"
      ],
      "execution_count": 0,
      "outputs": []
    },
    {
      "metadata": {
        "id": "NwVb5dwqYrog",
        "colab_type": "code",
        "outputId": "1ee90889-a165-4b1e-966f-50a10c658d59",
        "colab": {
          "base_uri": "https://localhost:8080/",
          "height": 51
        }
      },
      "cell_type": "code",
      "source": [
        "import sys\n",
        "\n",
        "def onceInATram(x):\n",
        "    num = list(map(int , str(x)))\n",
        "    num1 = num[:3]\n",
        "    num2 = num[3:]\n",
        "    if(sum(num1)==sum(num2)):\n",
        "        return x\n",
        "    else:\n",
        "        return onceInATram(x+1)        \n",
        "\n",
        "if __name__ == \"__main__\":\n",
        "    x = int(input().strip())\n",
        "    result = onceInATram(x+1)\n",
        "    print(result)\n",
        "            "
      ],
      "execution_count": 0,
      "outputs": [
        {
          "output_type": "stream",
          "text": [
            "555555\n",
            "555564\n"
          ],
          "name": "stdout"
        }
      ]
    },
    {
      "metadata": {
        "id": "z87ge0sYztXj",
        "colab_type": "code",
        "outputId": "33c36c40-f03f-46ca-ab95-2677027f0fa2",
        "colab": {
          "base_uri": "https://localhost:8080/",
          "height": 34
        }
      },
      "cell_type": "code",
      "source": [
        "k = 'abcd'\n",
        "list(map(str , k))"
      ],
      "execution_count": 0,
      "outputs": [
        {
          "output_type": "execute_result",
          "data": {
            "text/plain": [
              "['a', 'b', 'c', 'd']"
            ]
          },
          "metadata": {
            "tags": []
          },
          "execution_count": 15
        }
      ]
    },
    {
      "metadata": {
        "id": "Q6QCMW8t1jRF",
        "colab_type": "code",
        "colab": {}
      },
      "cell_type": "code",
      "source": [
        "import sys\n",
        "\n",
        "if __name__ == \"__main__\":\n",
        "    n, q = input().strip().split(' ')\n",
        "    n, q = [int(n), int(q)]\n",
        "    arr = list(map(int, input().strip().split(' ')))\n",
        "    for a0 in range(q):\n",
        "        x, y = input().strip().split(' ')\n",
        "        x, y = [int(x), int(y)]\n",
        "        "
      ],
      "execution_count": 0,
      "outputs": []
    },
    {
      "metadata": {
        "id": "w4KChN5m7N2y",
        "colab_type": "code",
        "colab": {}
      },
      "cell_type": "code",
      "source": [
        "import sys\n",
        "\n",
        "if __name__ == \"__main__\":\n",
        "    n, k = input().strip().split(' ')\n",
        "    n, k = [int(k), int(k)]\n",
        "    x = list(map(str, input().strip().split(' ')))\n",
        "    m = []\n",
        "    for i in range(len(x)):\n",
        "        s=''\n",
        "        for j in range(i,len(x)):\n",
        "            s+=x[j]\n",
        "            m.append(list(map(str , s)))\n",
        "    for a0 in range(k):\n",
        "        p,q = input().strip().split(' ')\n",
        "        c1 = c2 = add = 0\n",
        "        if p in x and q in x:\n",
        "            for i in m:\n",
        "                if p in i:\n",
        "                    c1+=1\n",
        "                if q in i:\n",
        "                    c2+=1\n",
        "                if(c1==c2):\n",
        "                    add+=1\n",
        "            print(add)\n",
        "\n",
        "        if not p in x and not q in x:\n",
        "            print(len(m))\n"
      ],
      "execution_count": 0,
      "outputs": []
    },
    {
      "metadata": {
        "id": "skzcsMkG6zlK",
        "colab_type": "code",
        "colab": {}
      },
      "cell_type": "code",
      "source": [
        "40 10\n",
        "32 48 56 57 95 1 36 75 54 70 13 56 65 23 9 52 58 41 91 50 78 46 73 20 60 40 42 97 7 68 49 17 26 68 3 34 70 60 65 74\n",
        "42 92\n",
        "99 74\n",
        "45 52\n",
        "14 98\n",
        "71 22\n",
        "7 35\n",
        "85 74\n",
        "77 34\n",
        "70 45\n",
        "53 69\n",
        "list(map(str , s))"
      ],
      "execution_count": 0,
      "outputs": []
    },
    {
      "metadata": {
        "id": "_nUnsxcwBLVV",
        "colab_type": "code",
        "colab": {}
      },
      "cell_type": "code",
      "source": [
        "s= []\n",
        "k = [10]\n",
        "l=[20]\n",
        "s+k+l"
      ],
      "execution_count": 0,
      "outputs": []
    },
    {
      "metadata": {
        "id": "WJdyckSqCpFZ",
        "colab_type": "code",
        "outputId": "4c3c9dfd-fc92-418e-a9c2-408daafeb3c2",
        "colab": {
          "base_uri": "https://localhost:8080/",
          "height": 34
        }
      },
      "cell_type": "code",
      "source": [
        "l = 245\n",
        "[l] + [142]"
      ],
      "execution_count": 0,
      "outputs": [
        {
          "output_type": "execute_result",
          "data": {
            "text/plain": [
              "[245, 142]"
            ]
          },
          "metadata": {
            "tags": []
          },
          "execution_count": 66
        }
      ]
    },
    {
      "metadata": {
        "id": "N-IesuYizKsq",
        "colab_type": "code",
        "outputId": "c0aafcc8-4c26-46aa-98d7-635c4699192a",
        "colab": {
          "base_uri": "https://localhost:8080/",
          "height": 289
        }
      },
      "cell_type": "code",
      "source": [
        "import sys\n",
        "x = list(map(int, input().strip().split(' ')))\n",
        "\n",
        "m = []\n",
        "for i in range(len(x)):\n",
        "    s = []\n",
        "    for j in range(i,len(x)):\n",
        "        s+=[x[j]]\n",
        "        m.append(s)\n",
        "m\n",
        "\n",
        "# p,q = input().strip().split(' ')\n",
        "# c1 = c2 = add = 0\n",
        "# if p in x and q in x:\n",
        "#     for i in m:\n",
        "#         if p in i:\n",
        "#             c1+=1\n",
        "#         if q in i:\n",
        "#             c2+=1\n",
        "#         if(c1==c2):\n",
        "#             add+=1\n",
        "#     print(add)\n",
        "        \n",
        "# if not p in x and not q in x:\n",
        "#     print(len(m))\n",
        "#   10 20 30 40 50 "
      ],
      "execution_count": 0,
      "outputs": [
        {
          "output_type": "stream",
          "text": [
            "10 20 30 40 50\n"
          ],
          "name": "stdout"
        },
        {
          "output_type": "execute_result",
          "data": {
            "text/plain": [
              "[[10, 20, 30, 40, 50],\n",
              " [10, 20, 30, 40, 50],\n",
              " [10, 20, 30, 40, 50],\n",
              " [10, 20, 30, 40, 50],\n",
              " [10, 20, 30, 40, 50],\n",
              " [20, 30, 40, 50],\n",
              " [20, 30, 40, 50],\n",
              " [20, 30, 40, 50],\n",
              " [20, 30, 40, 50],\n",
              " [30, 40, 50],\n",
              " [30, 40, 50],\n",
              " [30, 40, 50],\n",
              " [40, 50],\n",
              " [40, 50],\n",
              " [50]]"
            ]
          },
          "metadata": {
            "tags": []
          },
          "execution_count": 67
        }
      ]
    },
    {
      "metadata": {
        "id": "1sfM9zwyDNix",
        "colab_type": "code",
        "outputId": "f57f13c8-fc25-436c-8bef-061670557596",
        "colab": {
          "base_uri": "https://localhost:8080/",
          "height": 289
        }
      },
      "cell_type": "code",
      "source": [
        "nums = list(map(str , input().split()))\n",
        "liss = []\n",
        "for i in range(len(nums)):\n",
        "    s = []\n",
        "    l =[]\n",
        "    for j in range(i,len(nums)):\n",
        "        l.append(nums[j])\n",
        "        s += l\n",
        "        l = []\n",
        "        \n",
        "\n",
        "        \n",
        "        \n",
        "        \n",
        "        \n",
        "#  10 20 30 40 50\n",
        "# 1 2 3 4 5 "
      ],
      "execution_count": 0,
      "outputs": [
        {
          "output_type": "stream",
          "text": [
            "10 20 30 40 50\n"
          ],
          "name": "stdout"
        },
        {
          "output_type": "execute_result",
          "data": {
            "text/plain": [
              "[['10'],\n",
              " ['20'],\n",
              " ['30'],\n",
              " ['40'],\n",
              " ['50'],\n",
              " ['20'],\n",
              " ['30'],\n",
              " ['40'],\n",
              " ['50'],\n",
              " ['30'],\n",
              " ['40'],\n",
              " ['50'],\n",
              " ['40'],\n",
              " ['50'],\n",
              " ['50']]"
            ]
          },
          "metadata": {
            "tags": []
          },
          "execution_count": 23
        }
      ]
    },
    {
      "metadata": {
        "id": "wCPIv5kHrG43",
        "colab_type": "code",
        "colab": {}
      },
      "cell_type": "code",
      "source": [
        ""
      ],
      "execution_count": 0,
      "outputs": []
    },
    {
      "metadata": {
        "id": "cT_DYpeVrG8I",
        "colab_type": "code",
        "colab": {}
      },
      "cell_type": "code",
      "source": [
        ""
      ],
      "execution_count": 0,
      "outputs": []
    },
    {
      "metadata": {
        "id": "AyRMsPgWrG0o",
        "colab_type": "code",
        "outputId": "29b0de70-2ef2-4fae-cc67-839166d5c2ed",
        "colab": {
          "base_uri": "https://localhost:8080/",
          "height": 54
        }
      },
      "cell_type": "code",
      "source": [
        "numslist = ['0', '1', '2', '3', '4', '5', '6', '7', '8', '9', '10', '11', '12',\n",
        "            '13', '14', '15', '16', '17', '18', '19', '20', '21', '22', '23',\n",
        "            '24', '25', '26', '27', '28', '29', '30', '31', '32', '33', '34',\n",
        "            '35', '36', '37', '38', '39', '40', '41', '42', '43', '44', '45',\n",
        "            '46', '47', '48', '49', '50', '51', '52', '53', '54', '55', '56',\n",
        "            '57', '58', '59', '60', '61', '62', '63', '64', '65', '66', '67',\n",
        "            '68', '69', '70', '71', '72', '73', '74', '75', '76', '77', '78',\n",
        "            '79', '80', '81', '82', '83', '84', '85', '86', '87', '88', '89',\n",
        "            '90', '91', '92', '93', '94', '95', '96', '97', '98', '99']\n",
        "\n",
        "dd={ str(i):i for i in range(10) }     # {\"0\":0,\"1\":1,...\"9\":9}\n",
        "rslt=[]\n",
        "for ns in numslist: \n",
        "    n=0 \n",
        "    for i in range(len(ns)): \n",
        "        n=10*n+dd[ns[i]]\n",
        "    rslt.append(n)\n",
        "    \n",
        "print(rslt)"
      ],
      "execution_count": 0,
      "outputs": [
        {
          "output_type": "stream",
          "text": [
            "[0, 1, 2, 3, 4, 5, 6, 7, 8, 9, 10, 11, 12, 13, 14, 15, 16, 17, 18, 19, 20, 21, 22, 23, 24, 25, 26, 27, 28, 29, 30, 31, 32, 33, 34, 35, 36, 37, 38, 39, 40, 41, 42, 43, 44, 45, 46, 47, 48, 49, 50, 51, 52, 53, 54, 55, 56, 57, 58, 59, 60, 61, 62, 63, 64, 65, 66, 67, 68, 69, 70, 71, 72, 73, 74, 75, 76, 77, 78, 79, 80, 81, 82, 83, 84, 85, 86, 87, 88, 89, 90, 91, 92, 93, 94, 95, 96, 97, 98, 99]\n"
          ],
          "name": "stdout"
        }
      ]
    },
    {
      "metadata": {
        "id": "Y1AOwZbLCH-q",
        "colab_type": "code",
        "colab": {}
      },
      "cell_type": "code",
      "source": [
        "77 -584 -902 -702 974 -137 -91 109 216 -467 741 -931 -134 -48 291 -6 -60 -479 -182 905 659 -629 259 -108 332 -738 -136 -474 -704 -967 68 -364 -268 442 728 664 -741 491 -383 827 -527 -494 940 -989 -842 640 -283"
      ],
      "execution_count": 0,
      "outputs": []
    },
    {
      "metadata": {
        "id": "s2hq8fwzBC9t",
        "colab_type": "code",
        "outputId": "6702a2e2-92f8-485a-9fed-0d772f8626ed",
        "colab": {
          "base_uri": "https://localhost:8080/",
          "height": 255
        }
      },
      "cell_type": "code",
      "source": [
        "N = int(input())\n",
        "A = list(map(int , input().split()))\n",
        "k = []\n",
        "print('\\n')\n",
        "for i in range(0 , N):\n",
        "    l=[]\n",
        "    add = 0\n",
        "    for j in range(i , N):\n",
        "        l.append(A[j])\n",
        "    if(len(l)//3!=0 and len(l)%3==0):\n",
        "        add = sum(l)\n",
        "    if(len(l)//3!=0 and len(l)%3!=0):\n",
        "        if(len(l)%3==1):\n",
        "            add = sum(l) - l[len(l)-1]\n",
        "        else:\n",
        "            add = sum(l) - (l[len(l)-1]+l[len(l)-2])\n",
        "    if (len(l)//3==0):\n",
        "        add = l[0]\n",
        "    print(add)"
      ],
      "execution_count": 0,
      "outputs": [
        {
          "output_type": "stream",
          "text": [
            "10\n",
            "2 1 3 9 2 4 -10 -9 1 3\n",
            "\n",
            "\n",
            "3\n",
            "4\n",
            "-1\n",
            "-3\n",
            "-9\n",
            "-15\n",
            "-18\n",
            "-5\n",
            "1\n",
            "3\n"
          ],
          "name": "stdout"
        }
      ]
    },
    {
      "metadata": {
        "id": "0p7Y3LgOBC77",
        "colab_type": "code",
        "outputId": "cecffde3-bd4c-43ee-9200-2ccfafa03bbd",
        "colab": {
          "base_uri": "https://localhost:8080/",
          "height": 68
        }
      },
      "cell_type": "code",
      "source": [
        "from math import floor,sqrt\n",
        "n = int(input())\n",
        "arr = [int(num) for num in input().split()]\n",
        "cost = []\n",
        "if n>1:\n",
        "\tcost.append(arr[0])\n",
        "i=1\n",
        "while i<n:\n",
        "\tcost.append(arr[i]+cost[i-1])\n",
        "\ti = i+1\n",
        "i=0\n",
        "max_special_sum = None\n",
        "while i < n:\n",
        "\tsteps = int(floor((sqrt(8*(n-i)+1)-1)/2))\n",
        "\tno_of_elements = steps*(steps+1)//2\n",
        "\tmaxi = cost[i+no_of_elements-1] - (0 if i==0 else cost[i-1])\n",
        "\tif max_special_sum is None or max_special_sum < maxi:\n",
        "\t\tmax_special_sum = maxi\n",
        "\ti = i+1\n",
        "print (max_special_sum if max_special_sum is not None else 0)"
      ],
      "execution_count": 0,
      "outputs": [
        {
          "output_type": "stream",
          "text": [
            "10\n",
            "2 1 3 9 2 4 -10 -9 1 3\n",
            "9\n"
          ],
          "name": "stdout"
        }
      ]
    },
    {
      "metadata": {
        "id": "eSf4nUsxBC6K",
        "colab_type": "code",
        "outputId": "df167ecf-95d4-414d-fc17-61b9611d5466",
        "colab": {
          "base_uri": "https://localhost:8080/",
          "height": 119
        }
      },
      "cell_type": "code",
      "source": [
        "arr= map(int, input().split())\n",
        "for i in arr:\n",
        "    print(i)"
      ],
      "execution_count": 0,
      "outputs": [
        {
          "output_type": "stream",
          "text": [
            "1 2 3 4 5\n",
            "1\n",
            "2\n",
            "3\n",
            "4\n",
            "5\n"
          ],
          "name": "stdout"
        }
      ]
    },
    {
      "metadata": {
        "id": "gHRIjAxLBC3N",
        "colab_type": "code",
        "colab": {}
      },
      "cell_type": "code",
      "source": [
        ""
      ],
      "execution_count": 0,
      "outputs": []
    },
    {
      "metadata": {
        "id": "CePdiGEqBCzY",
        "colab_type": "code",
        "colab": {}
      },
      "cell_type": "code",
      "source": [
        ""
      ],
      "execution_count": 0,
      "outputs": []
    }
  ]
}