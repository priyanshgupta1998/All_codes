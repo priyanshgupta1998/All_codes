{
  "nbformat": 4,
  "nbformat_minor": 0,
  "metadata": {
    "colab": {
      "name": "TensorFlow with GPU",
      "version": "0.3.2",
      "provenance": [],
      "collapsed_sections": [],
      "toc_visible": true,
      "include_colab_link": true
    },
    "kernelspec": {
      "name": "python3",
      "display_name": "Python 3"
    },
    "accelerator": "GPU"
  },
  "cells": [
    {
      "cell_type": "markdown",
      "metadata": {
        "id": "view-in-github",
        "colab_type": "text"
      },
      "source": [
        "<a href=\"https://colab.research.google.com/github/priyanshgupta1998/All_codes/blob/master/numpy0.ipynb\" target=\"_parent\"><img src=\"https://colab.research.google.com/assets/colab-badge.svg\" alt=\"Open In Colab\"/></a>"
      ]
    },
    {
      "metadata": {
        "id": "7mORAEqrw1le",
        "colab_type": "code",
        "colab": {}
      },
      "cell_type": "code",
      "source": [
        "import numpy as np\n",
        "create_array = np.array([[7,8,9],[4,5,6]])"
      ],
      "execution_count": 0,
      "outputs": []
    },
    {
      "metadata": {
        "id": "KXwJK4YCIYKs",
        "colab_type": "code",
        "colab": {
          "base_uri": "https://localhost:8080/",
          "height": 51
        },
        "outputId": "cc0b2a9d-1a9d-403c-f23b-4e9d3258cbe2"
      },
      "cell_type": "code",
      "source": [
        "print(create_array)"
      ],
      "execution_count": 55,
      "outputs": [
        {
          "output_type": "stream",
          "text": [
            "[[7 8 9]\n",
            " [4 5 6]]\n"
          ],
          "name": "stdout"
        }
      ]
    },
    {
      "metadata": {
        "id": "KdpxjILIIa95",
        "colab_type": "code",
        "colab": {
          "base_uri": "https://localhost:8080/",
          "height": 34
        },
        "outputId": "50a65cf4-ea92-4525-f1c4-8d01c49b2ea0"
      },
      "cell_type": "code",
      "source": [
        "r_array = create_array.reshape(1,6)\n",
        "print(r_array)"
      ],
      "execution_count": 59,
      "outputs": [
        {
          "output_type": "stream",
          "text": [
            "[[7 8 9 4 5 6]]\n"
          ],
          "name": "stdout"
        }
      ]
    },
    {
      "metadata": {
        "id": "OhkK8brJIbfe",
        "colab_type": "code",
        "colab": {
          "base_uri": "https://localhost:8080/",
          "height": 119
        },
        "outputId": "0d7bfebc-9fbc-4785-b94d-b71a2a477fb7"
      },
      "cell_type": "code",
      "source": [
        "r_array = create_array.reshape(6,1)\n",
        "print(r_array)"
      ],
      "execution_count": 60,
      "outputs": [
        {
          "output_type": "stream",
          "text": [
            "[[7]\n",
            " [8]\n",
            " [9]\n",
            " [4]\n",
            " [5]\n",
            " [6]]\n"
          ],
          "name": "stdout"
        }
      ]
    },
    {
      "metadata": {
        "id": "Kn5_I5p-Ibcc",
        "colab_type": "code",
        "colab": {
          "base_uri": "https://localhost:8080/",
          "height": 51
        },
        "outputId": "1a7de08b-de25-4e83-fa49-c4c2c9229cd1"
      },
      "cell_type": "code",
      "source": [
        "zero_mat = np.zeros([2,4])\n",
        "print(zero_mat)"
      ],
      "execution_count": 61,
      "outputs": [
        {
          "output_type": "stream",
          "text": [
            "[[0. 0. 0. 0.]\n",
            " [0. 0. 0. 0.]]\n"
          ],
          "name": "stdout"
        }
      ]
    },
    {
      "metadata": {
        "id": "lodmKGmqJSER",
        "colab_type": "code",
        "colab": {
          "base_uri": "https://localhost:8080/",
          "height": 51
        },
        "outputId": "0103fcf3-bf6e-477e-a284-a158326395de"
      },
      "cell_type": "code",
      "source": [
        "zero_mat = np.zeros([2,4],dtype =int)\n",
        "print(zero_mat)"
      ],
      "execution_count": 62,
      "outputs": [
        {
          "output_type": "stream",
          "text": [
            "[[0 0 0 0]\n",
            " [0 0 0 0]]\n"
          ],
          "name": "stdout"
        }
      ]
    },
    {
      "metadata": {
        "id": "GOkYXOkKJSLO",
        "colab_type": "code",
        "colab": {
          "base_uri": "https://localhost:8080/",
          "height": 51
        },
        "outputId": "da6dc67f-6e00-47e5-a456-fef129d48025"
      },
      "cell_type": "code",
      "source": [
        "one_mat = np.ones([2,4])\n",
        "print(one_mat)"
      ],
      "execution_count": 63,
      "outputs": [
        {
          "output_type": "stream",
          "text": [
            "[[1. 1. 1. 1.]\n",
            " [1. 1. 1. 1.]]\n"
          ],
          "name": "stdout"
        }
      ]
    },
    {
      "metadata": {
        "id": "I7v6y_92JSJH",
        "colab_type": "code",
        "colab": {
          "base_uri": "https://localhost:8080/",
          "height": 34
        },
        "outputId": "b79c655f-8ba1-4dfa-8b95-0a1f3dafdeea"
      },
      "cell_type": "code",
      "source": [
        "arr = np.array([1,2,3])\n",
        "print(arr)"
      ],
      "execution_count": 64,
      "outputs": [
        {
          "output_type": "stream",
          "text": [
            "[1 2 3]\n"
          ],
          "name": "stdout"
        }
      ]
    },
    {
      "metadata": {
        "id": "O52lEH4_KyhB",
        "colab_type": "code",
        "colab": {
          "base_uri": "https://localhost:8080/",
          "height": 34
        },
        "outputId": "02937d87-38b4-4081-89c2-20014206c0ba"
      },
      "cell_type": "code",
      "source": [
        "arr2 = np.append(arr,[4,6])\n",
        "print(arr2)"
      ],
      "execution_count": 66,
      "outputs": [
        {
          "output_type": "stream",
          "text": [
            "[1 2 3 4 6]\n"
          ],
          "name": "stdout"
        }
      ]
    },
    {
      "metadata": {
        "id": "6jEltK-3KyeE",
        "colab_type": "code",
        "colab": {
          "base_uri": "https://localhost:8080/",
          "height": 34
        },
        "outputId": "7ebc2efd-0832-447e-d34c-af219ab6b9ac"
      },
      "cell_type": "code",
      "source": [
        "arr3 = np.delete(arr , 1 )\n",
        "print(arr3)"
      ],
      "execution_count": 67,
      "outputs": [
        {
          "output_type": "stream",
          "text": [
            "[1 3]\n"
          ],
          "name": "stdout"
        }
      ]
    },
    {
      "metadata": {
        "id": "yOaktPawKybi",
        "colab_type": "code",
        "colab": {
          "base_uri": "https://localhost:8080/",
          "height": 34
        },
        "outputId": "4ab386d5-9778-4f5f-aa35-32f2a4e070e2"
      },
      "cell_type": "code",
      "source": [
        "arr4 = np.concatenate((arr , np.array([9,4])),axis = 0)\n",
        "print(arr4)"
      ],
      "execution_count": 72,
      "outputs": [
        {
          "output_type": "stream",
          "text": [
            "[1 2 3 9 4]\n"
          ],
          "name": "stdout"
        }
      ]
    },
    {
      "metadata": {
        "id": "HKgJPuw5MYxJ",
        "colab_type": "text"
      },
      "cell_type": "markdown",
      "source": [
        "#Now look  at some different properties of numpy"
      ]
    },
    {
      "metadata": {
        "id": "NXujNdLaKyX9",
        "colab_type": "code",
        "colab": {
          "base_uri": "https://localhost:8080/",
          "height": 34
        },
        "outputId": "b9fcac96-893a-47fc-ea5b-bbfd38a545db"
      },
      "cell_type": "code",
      "source": [
        "get_extended_np_array = np.arange(20)\n",
        "print(get_extended_np_array)"
      ],
      "execution_count": 76,
      "outputs": [
        {
          "output_type": "stream",
          "text": [
            "[ 0  1  2  3  4  5  6  7  8  9 10 11 12 13 14 15 16 17 18 19]\n"
          ],
          "name": "stdout"
        }
      ]
    },
    {
      "metadata": {
        "id": "Oxwu0B07KyVz",
        "colab_type": "code",
        "colab": {
          "base_uri": "https://localhost:8080/",
          "height": 34
        },
        "outputId": "6093d89a-0cfd-49fe-9ef8-7c9170ee782f"
      },
      "cell_type": "code",
      "source": [
        "print(get_extended_np_array[4:8])"
      ],
      "execution_count": 77,
      "outputs": [
        {
          "output_type": "stream",
          "text": [
            "[4 5 6 7]\n"
          ],
          "name": "stdout"
        }
      ]
    },
    {
      "metadata": {
        "id": "Wf8C9ah9KyTc",
        "colab_type": "code",
        "colab": {
          "base_uri": "https://localhost:8080/",
          "height": 51
        },
        "outputId": "4f3192fb-f903-42b3-d2bb-286a7807466d"
      },
      "cell_type": "code",
      "source": [
        "a2 = np.array([[1,2,3],[3,4,5],[4,5,6],[7,5,3]])\n",
        "print(a2[2:])"
      ],
      "execution_count": 81,
      "outputs": [
        {
          "output_type": "stream",
          "text": [
            "[[4 5 6]\n",
            " [7 5 3]]\n"
          ],
          "name": "stdout"
        }
      ]
    },
    {
      "metadata": {
        "id": "JWSR6zM3NPms",
        "colab_type": "code",
        "colab": {
          "base_uri": "https://localhost:8080/",
          "height": 68
        },
        "outputId": "a18060df-c501-4f36-ea55-af960a0944da"
      },
      "cell_type": "code",
      "source": [
        "print(a2[:3])  #excluding 3 "
      ],
      "execution_count": 82,
      "outputs": [
        {
          "output_type": "stream",
          "text": [
            "[[1 2 3]\n",
            " [3 4 5]\n",
            " [4 5 6]]\n"
          ],
          "name": "stdout"
        }
      ]
    },
    {
      "metadata": {
        "id": "94cK6pOaNPjw",
        "colab_type": "code",
        "colab": {
          "base_uri": "https://localhost:8080/",
          "height": 68
        },
        "outputId": "fa0ed6eb-1292-4b4c-b8e2-34f3bb13c018"
      },
      "cell_type": "code",
      "source": [
        "print(a2[:4])"
      ],
      "execution_count": 80,
      "outputs": [
        {
          "output_type": "stream",
          "text": [
            "[[1 2 3]\n",
            " [3 4 5]\n",
            " [4 5 6]]\n"
          ],
          "name": "stdout"
        }
      ]
    },
    {
      "metadata": {
        "id": "EEssKvs8NPgT",
        "colab_type": "code",
        "colab": {}
      },
      "cell_type": "code",
      "source": [
        ""
      ],
      "execution_count": 0,
      "outputs": []
    }
  ]
}