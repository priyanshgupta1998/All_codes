{
  "nbformat": 4,
  "nbformat_minor": 0,
  "metadata": {
    "colab": {
      "name": "TensorFlow with GPU",
      "version": "0.3.2",
      "provenance": [],
      "collapsed_sections": [],
      "toc_visible": true,
      "include_colab_link": true
    },
    "kernelspec": {
      "display_name": "Python 3",
      "name": "python3"
    }
  },
  "cells": [
    {
      "cell_type": "markdown",
      "metadata": {
        "id": "view-in-github",
        "colab_type": "text"
      },
      "source": [
        "<a href=\"https://colab.research.google.com/github/priyanshgupta1998/All_codes/blob/master/Reshape_with_numpy0.ipynb\" target=\"_parent\"><img src=\"https://colab.research.google.com/assets/colab-badge.svg\" alt=\"Open In Colab\"/></a>"
      ]
    },
    {
      "metadata": {
        "id": "Badf-w5oGGh4",
        "colab_type": "text"
      },
      "cell_type": "markdown",
      "source": [
        "#Reshape funtiuon with Numpy"
      ]
    },
    {
      "metadata": {
        "id": "hVPF7GaeaadH",
        "colab_type": "text"
      },
      "cell_type": "markdown",
      "source": [
        "**convert One dimentional array into two-dimentional array or multi-dimentional array , we use a funtion called -->reshape**"
      ]
    },
    {
      "metadata": {
        "id": "cwvMWSlY3pON",
        "colab_type": "text"
      },
      "cell_type": "markdown",
      "source": [
        "By using 'reshape' function we create a new view of the existing array but with different dimensions"
      ]
    },
    {
      "metadata": {
        "id": "oNaNdAKma3OQ",
        "colab_type": "text"
      },
      "cell_type": "markdown",
      "source": [
        "\n",
        "\n",
        "```\n",
        "Reshape funcion takes 3 arguments \n",
        "1.) No. of Blocks of the data ,which we want to create\n",
        "2.) No. of Rows , you want to have\n",
        "3.) NO. of columns ,which we want in each block of the data\n",
        "```\n",
        "\n"
      ]
    },
    {
      "metadata": {
        "id": "JdyEll9bbnKI",
        "colab_type": "text"
      },
      "cell_type": "markdown",
      "source": [
        "\n",
        "\n",
        "```\n",
        "But if we don't specify , then it will create 1 block of the data (By default)\n",
        "```\n",
        "\n"
      ]
    },
    {
      "metadata": {
        "id": "rRWyJhl1b3NZ",
        "colab_type": "text"
      },
      "cell_type": "markdown",
      "source": [
        "Let's create one dimentional array"
      ]
    },
    {
      "metadata": {
        "id": "RA4H97XyZ2l-",
        "colab_type": "code",
        "colab": {}
      },
      "cell_type": "code",
      "source": [
        "import numpy as np"
      ],
      "execution_count": 0,
      "outputs": []
    },
    {
      "metadata": {
        "id": "uY6RB0ZJZ4oo",
        "colab_type": "code",
        "colab": {
          "base_uri": "https://localhost:8080/",
          "height": 34
        },
        "outputId": "6858a9b7-2ecf-4862-b3dd-7a6fb5a6194d"
      },
      "cell_type": "code",
      "source": [
        "arr1 = np.arange(0,12)\n",
        "arr1"
      ],
      "execution_count": 60,
      "outputs": [
        {
          "output_type": "execute_result",
          "data": {
            "text/plain": [
              "array([ 0,  1,  2,  3,  4,  5,  6,  7,  8,  9, 10, 11])"
            ]
          },
          "metadata": {
            "tags": []
          },
          "execution_count": 60
        }
      ]
    },
    {
      "metadata": {
        "id": "63_oGby11xQk",
        "colab_type": "text"
      },
      "cell_type": "markdown",
      "source": [
        "Now we will create one block of data , which has 3 rows and 4 columns"
      ]
    },
    {
      "metadata": {
        "id": "m4oYC9vpZ4rG",
        "colab_type": "code",
        "colab": {
          "base_uri": "https://localhost:8080/",
          "height": 68
        },
        "outputId": "1f4d720f-d79e-4fee-c0c3-156c1197903f"
      },
      "cell_type": "code",
      "source": [
        "arr2 = arr1.reshape(3,4)  # convert arr1 to two-dimensinal array of 3 rows and 4 columns\n",
        "arr2"
      ],
      "execution_count": 61,
      "outputs": [
        {
          "output_type": "execute_result",
          "data": {
            "text/plain": [
              "array([[ 0,  1,  2,  3],\n",
              "       [ 4,  5,  6,  7],\n",
              "       [ 8,  9, 10, 11]])"
            ]
          },
          "metadata": {
            "tags": []
          },
          "execution_count": 61
        }
      ]
    },
    {
      "metadata": {
        "id": "X3Rq-Hgl1Qkr",
        "colab_type": "text"
      },
      "cell_type": "markdown",
      "source": [
        "Now we will create two blocks of data , where each of block has 2 rows and 3 columns"
      ]
    },
    {
      "metadata": {
        "id": "Hp58LaG4Z4t1",
        "colab_type": "code",
        "colab": {
          "base_uri": "https://localhost:8080/",
          "height": 102
        },
        "outputId": "55c3076c-0706-44e6-f126-d5479bcba0c5"
      },
      "cell_type": "code",
      "source": [
        "arr3 = arr1.reshape(2,2,3)    # 3-dimentional array\n",
        "arr3"
      ],
      "execution_count": 54,
      "outputs": [
        {
          "output_type": "execute_result",
          "data": {
            "text/plain": [
              "array([[[ 0,  1,  2],\n",
              "        [ 3,  4,  5]],\n",
              "\n",
              "       [[ 6,  7,  8],\n",
              "        [ 9, 10, 11]]])"
            ]
          },
          "metadata": {
            "tags": []
          },
          "execution_count": 54
        }
      ]
    },
    {
      "metadata": {
        "id": "52DeZEGS2CSr",
        "colab_type": "text"
      },
      "cell_type": "markdown",
      "source": [
        "Now we will create three blocks of data , where each of block has 2 rows and 2 columns"
      ]
    },
    {
      "metadata": {
        "id": "S3selHR9Z4wv",
        "colab_type": "code",
        "colab": {
          "base_uri": "https://localhost:8080/",
          "height": 153
        },
        "outputId": "95fc88b5-52b9-44d7-f203-0bdc6f2c5198"
      },
      "cell_type": "code",
      "source": [
        "arr4 = arr1.reshape(3,2,2)   #multidimentonal 3d array\n",
        "arr4 "
      ],
      "execution_count": 55,
      "outputs": [
        {
          "output_type": "execute_result",
          "data": {
            "text/plain": [
              "array([[[ 0,  1],\n",
              "        [ 2,  3]],\n",
              "\n",
              "       [[ 4,  5],\n",
              "        [ 6,  7]],\n",
              "\n",
              "       [[ 8,  9],\n",
              "        [10, 11]]])"
            ]
          },
          "metadata": {
            "tags": []
          },
          "execution_count": 55
        }
      ]
    },
    {
      "metadata": {
        "id": "0tPm7cnw23rN",
        "colab_type": "text"
      },
      "cell_type": "markdown",
      "source": [
        "\n",
        "\n",
        "```\n",
        "Whitout creating an one dimentional array we can directly create two dimentional array by using 'reshape' function with arange function.\n",
        "```\n",
        "\n"
      ]
    },
    {
      "metadata": {
        "id": "t5wskMR2D3XJ",
        "colab_type": "code",
        "colab": {
          "base_uri": "https://localhost:8080/",
          "height": 34
        },
        "outputId": "bb032486-1ad0-4d0d-aec9-5a89eeb2c220"
      },
      "cell_type": "code",
      "source": [
        "arr4.shape"
      ],
      "execution_count": 68,
      "outputs": [
        {
          "output_type": "execute_result",
          "data": {
            "text/plain": [
              "(3, 2, 2)"
            ]
          },
          "metadata": {
            "tags": []
          },
          "execution_count": 68
        }
      ]
    },
    {
      "metadata": {
        "id": "U99sh-d4Z2qR",
        "colab_type": "code",
        "colab": {
          "base_uri": "https://localhost:8080/",
          "height": 68
        },
        "outputId": "b32d67dc-fdc2-4969-c327-59d419b78384"
      },
      "cell_type": "code",
      "source": [
        "arr5 = np.arange(0,9).reshape(3,3)  #2dimentional array \n",
        "arr5 "
      ],
      "execution_count": 56,
      "outputs": [
        {
          "output_type": "execute_result",
          "data": {
            "text/plain": [
              "array([[0, 1, 2],\n",
              "       [3, 4, 5],\n",
              "       [6, 7, 8]])"
            ]
          },
          "metadata": {
            "tags": []
          },
          "execution_count": 56
        }
      ]
    },
    {
      "metadata": {
        "id": "ETNQ247m3-qU",
        "colab_type": "text"
      },
      "cell_type": "markdown",
      "source": [
        "#Shape Funtion"
      ]
    },
    {
      "metadata": {
        "id": "gLFV2_oS4Dav",
        "colab_type": "text"
      },
      "cell_type": "markdown",
      "source": [
        "\n",
        "\n",
        "```\n",
        "Shape funtion is useful we want to change the dimensions of the existing array without creating a new array . So we can modify the dimension of the existing array.\n",
        "```\n",
        "\n"
      ]
    },
    {
      "metadata": {
        "id": "jZ-oTP3WZ2s1",
        "colab_type": "code",
        "colab": {
          "base_uri": "https://localhost:8080/",
          "height": 34
        },
        "outputId": "76e9695f-361e-46f5-8ed7-8043df7eb1e8"
      },
      "cell_type": "code",
      "source": [
        "arr1.shape   # one dimensional with 1 row and 12 columns"
      ],
      "execution_count": 62,
      "outputs": [
        {
          "output_type": "execute_result",
          "data": {
            "text/plain": [
              "(12,)"
            ]
          },
          "metadata": {
            "tags": []
          },
          "execution_count": 62
        }
      ]
    },
    {
      "metadata": {
        "id": "FrcdMaKhZ2vy",
        "colab_type": "code",
        "colab": {
          "base_uri": "https://localhost:8080/",
          "height": 34
        },
        "outputId": "b68cb2b6-60bf-4890-fe01-96bf0d39da8c"
      },
      "cell_type": "code",
      "source": [
        "arr1.shape=[3,4]\n",
        "arr1.shape"
      ],
      "execution_count": 63,
      "outputs": [
        {
          "output_type": "execute_result",
          "data": {
            "text/plain": [
              "(3, 4)"
            ]
          },
          "metadata": {
            "tags": []
          },
          "execution_count": 63
        }
      ]
    },
    {
      "metadata": {
        "id": "rx7ularZZ2zM",
        "colab_type": "code",
        "colab": {
          "base_uri": "https://localhost:8080/",
          "height": 68
        },
        "outputId": "e1c2674b-46b8-4ffa-f378-6a217edde4d1"
      },
      "cell_type": "code",
      "source": [
        "arr1"
      ],
      "execution_count": 64,
      "outputs": [
        {
          "output_type": "execute_result",
          "data": {
            "text/plain": [
              "array([[ 0,  1,  2,  3],\n",
              "       [ 4,  5,  6,  7],\n",
              "       [ 8,  9, 10, 11]])"
            ]
          },
          "metadata": {
            "tags": []
          },
          "execution_count": 64
        }
      ]
    },
    {
      "metadata": {
        "id": "5uWAgsGbCn6C",
        "colab_type": "text"
      },
      "cell_type": "markdown",
      "source": [
        "#Another Example"
      ]
    },
    {
      "metadata": {
        "id": "RccyYYJLZ21z",
        "colab_type": "code",
        "colab": {
          "base_uri": "https://localhost:8080/",
          "height": 34
        },
        "outputId": "79c01407-db56-4b43-ea88-0aa26274b551"
      },
      "cell_type": "code",
      "source": [
        "a = np.array([1,2,3]) #one dimensional array \n",
        "a"
      ],
      "execution_count": 67,
      "outputs": [
        {
          "output_type": "execute_result",
          "data": {
            "text/plain": [
              "array([1, 2, 3])"
            ]
          },
          "metadata": {
            "tags": []
          },
          "execution_count": 67
        }
      ]
    },
    {
      "metadata": {
        "id": "f0BTSCM7Z27s",
        "colab_type": "code",
        "colab": {
          "base_uri": "https://localhost:8080/",
          "height": 34
        },
        "outputId": "f43eed91-9458-40fd-aa79-20bb73b4d853"
      },
      "cell_type": "code",
      "source": [
        "np.shape(a)"
      ],
      "execution_count": 66,
      "outputs": [
        {
          "output_type": "execute_result",
          "data": {
            "text/plain": [
              "(3,)"
            ]
          },
          "metadata": {
            "tags": []
          },
          "execution_count": 66
        }
      ]
    },
    {
      "metadata": {
        "id": "hwyblpdvZ2-d",
        "colab_type": "code",
        "colab": {
          "base_uri": "https://localhost:8080/",
          "height": 102
        },
        "outputId": "61deea38-677d-4538-8d08-942e21d9d74d"
      },
      "cell_type": "code",
      "source": [
        "a3d = np.array([[[1,2,3,4],[1,2,3,4]],[[1,2,3,4],[1,2,3,4]]])\n",
        "a3d"
      ],
      "execution_count": 72,
      "outputs": [
        {
          "output_type": "execute_result",
          "data": {
            "text/plain": [
              "array([[[1, 2, 3, 4],\n",
              "        [1, 2, 3, 4]],\n",
              "\n",
              "       [[1, 2, 3, 4],\n",
              "        [1, 2, 3, 4]]])"
            ]
          },
          "metadata": {
            "tags": []
          },
          "execution_count": 72
        }
      ]
    },
    {
      "metadata": {
        "id": "8wZuMQyzZ3Bf",
        "colab_type": "code",
        "colab": {
          "base_uri": "https://localhost:8080/",
          "height": 34
        },
        "outputId": "9a6a80c0-2fc9-4f1e-da47-58e395a90f90"
      },
      "cell_type": "code",
      "source": [
        "a3d.shape  #2 blocks and each of blocks has 2 rows and 4 columns"
      ],
      "execution_count": 73,
      "outputs": [
        {
          "output_type": "execute_result",
          "data": {
            "text/plain": [
              "(2, 2, 4)"
            ]
          },
          "metadata": {
            "tags": []
          },
          "execution_count": 73
        }
      ]
    },
    {
      "metadata": {
        "id": "uFSP_I_IZ3Hh",
        "colab_type": "code",
        "colab": {
          "base_uri": "https://localhost:8080/",
          "height": 34
        },
        "outputId": "3694fa3f-cfb3-4b26-a075-92ab3bf32510"
      },
      "cell_type": "code",
      "source": [
        "np.shape(a3d)"
      ],
      "execution_count": 74,
      "outputs": [
        {
          "output_type": "execute_result",
          "data": {
            "text/plain": [
              "(2, 2, 4)"
            ]
          },
          "metadata": {
            "tags": []
          },
          "execution_count": 74
        }
      ]
    },
    {
      "metadata": {
        "id": "oYjJjWOfZ3Lj",
        "colab_type": "code",
        "colab": {
          "base_uri": "https://localhost:8080/",
          "height": 34
        },
        "outputId": "6939cca1-27ad-421e-f05d-a99ff21212da"
      },
      "cell_type": "code",
      "source": [
        "k = np.array([1,2,3,4])  #1-d array\n",
        "k"
      ],
      "execution_count": 75,
      "outputs": [
        {
          "output_type": "execute_result",
          "data": {
            "text/plain": [
              "array([1, 2, 3, 4])"
            ]
          },
          "metadata": {
            "tags": []
          },
          "execution_count": 75
        }
      ]
    },
    {
      "metadata": {
        "id": "GcBrwvUeZ3Tz",
        "colab_type": "code",
        "colab": {
          "base_uri": "https://localhost:8080/",
          "height": 51
        },
        "outputId": "2ccdd57a-2f06-4036-baf8-e6ffdbc55fde"
      },
      "cell_type": "code",
      "source": [
        "b = np.reshape(k,(2,2))  # 2-d array\n",
        "b"
      ],
      "execution_count": 76,
      "outputs": [
        {
          "output_type": "execute_result",
          "data": {
            "text/plain": [
              "array([[1, 2],\n",
              "       [3, 4]])"
            ]
          },
          "metadata": {
            "tags": []
          },
          "execution_count": 76
        }
      ]
    },
    {
      "metadata": {
        "id": "WxDOtk9oZ3Yi",
        "colab_type": "code",
        "colab": {
          "base_uri": "https://localhost:8080/",
          "height": 85
        },
        "outputId": "efa52a1e-02d5-4cd2-a41c-0b8ff849dad2"
      },
      "cell_type": "code",
      "source": [
        "b.shape = [4,1]  #2-d array with 14 rows and 1 column\n",
        "b"
      ],
      "execution_count": 77,
      "outputs": [
        {
          "output_type": "execute_result",
          "data": {
            "text/plain": [
              "array([[1],\n",
              "       [2],\n",
              "       [3],\n",
              "       [4]])"
            ]
          },
          "metadata": {
            "tags": []
          },
          "execution_count": 77
        }
      ]
    },
    {
      "metadata": {
        "id": "B0IWTwp9Z3W8",
        "colab_type": "code",
        "colab": {
          "base_uri": "https://localhost:8080/",
          "height": 51
        },
        "outputId": "2d742521-66e8-4384-85cd-33885a13772b"
      },
      "cell_type": "code",
      "source": [
        "b = k.reshape((2,2))\n",
        "b"
      ],
      "execution_count": 80,
      "outputs": [
        {
          "output_type": "execute_result",
          "data": {
            "text/plain": [
              "array([[1, 2],\n",
              "       [3, 4]])"
            ]
          },
          "metadata": {
            "tags": []
          },
          "execution_count": 80
        }
      ]
    },
    {
      "metadata": {
        "id": "Ivnuv_tWZ3R4",
        "colab_type": "code",
        "colab": {}
      },
      "cell_type": "code",
      "source": [
        ""
      ],
      "execution_count": 0,
      "outputs": []
    },
    {
      "metadata": {
        "id": "J3OhsBzIZ3Ox",
        "colab_type": "code",
        "colab": {}
      },
      "cell_type": "code",
      "source": [
        ""
      ],
      "execution_count": 0,
      "outputs": []
    },
    {
      "metadata": {
        "id": "nCueREnhZ26A",
        "colab_type": "code",
        "colab": {}
      },
      "cell_type": "code",
      "source": [
        ""
      ],
      "execution_count": 0,
      "outputs": []
    },
    {
      "metadata": {
        "id": "FXFGujG7Z24d",
        "colab_type": "code",
        "colab": {}
      },
      "cell_type": "code",
      "source": [
        ""
      ],
      "execution_count": 0,
      "outputs": []
    }
  ]
}